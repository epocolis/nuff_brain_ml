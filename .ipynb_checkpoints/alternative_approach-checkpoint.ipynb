{
 "cells": [
  {
   "cell_type": "code",
   "execution_count": 288,
   "metadata": {},
   "outputs": [
    {
     "name": "stdout",
     "output_type": "stream",
     "text": [
      "Requirement already satisfied: matplotlib in /opt/homebrew/Caskroom/miniforge/base/lib/python3.9/site-packages (3.5.1)\n",
      "Requirement already satisfied: numpy>=1.17 in /opt/homebrew/Caskroom/miniforge/base/lib/python3.9/site-packages (from matplotlib) (1.22.1)\n",
      "Requirement already satisfied: pyparsing>=2.2.1 in /opt/homebrew/Caskroom/miniforge/base/lib/python3.9/site-packages (from matplotlib) (3.0.7)\n",
      "Requirement already satisfied: packaging>=20.0 in /opt/homebrew/Caskroom/miniforge/base/lib/python3.9/site-packages (from matplotlib) (21.3)\n",
      "Requirement already satisfied: pillow>=6.2.0 in /opt/homebrew/Caskroom/miniforge/base/lib/python3.9/site-packages (from matplotlib) (9.0.0)\n",
      "Requirement already satisfied: kiwisolver>=1.0.1 in /opt/homebrew/Caskroom/miniforge/base/lib/python3.9/site-packages (from matplotlib) (1.3.2)\n",
      "Requirement already satisfied: python-dateutil>=2.7 in /opt/homebrew/Caskroom/miniforge/base/lib/python3.9/site-packages (from matplotlib) (2.8.2)\n",
      "Requirement already satisfied: fonttools>=4.22.0 in /opt/homebrew/Caskroom/miniforge/base/lib/python3.9/site-packages (from matplotlib) (4.29.0)\n",
      "Requirement already satisfied: cycler>=0.10 in /opt/homebrew/Caskroom/miniforge/base/lib/python3.9/site-packages (from matplotlib) (0.11.0)\n",
      "Requirement already satisfied: six>=1.5 in /opt/homebrew/Caskroom/miniforge/base/lib/python3.9/site-packages (from python-dateutil>=2.7->matplotlib) (1.16.0)\n",
      "Requirement already satisfied: seaborn in /opt/homebrew/Caskroom/miniforge/base/lib/python3.9/site-packages (0.11.2)\n",
      "Requirement already satisfied: numpy>=1.15 in /opt/homebrew/Caskroom/miniforge/base/lib/python3.9/site-packages (from seaborn) (1.22.1)\n",
      "Requirement already satisfied: pandas>=0.23 in /opt/homebrew/Caskroom/miniforge/base/lib/python3.9/site-packages (from seaborn) (1.4.0)\n",
      "Requirement already satisfied: scipy>=1.0 in /opt/homebrew/Caskroom/miniforge/base/lib/python3.9/site-packages (from seaborn) (1.7.3)\n",
      "Requirement already satisfied: matplotlib>=2.2 in /opt/homebrew/Caskroom/miniforge/base/lib/python3.9/site-packages (from seaborn) (3.5.1)\n",
      "Requirement already satisfied: packaging>=20.0 in /opt/homebrew/Caskroom/miniforge/base/lib/python3.9/site-packages (from matplotlib>=2.2->seaborn) (21.3)\n",
      "Requirement already satisfied: pillow>=6.2.0 in /opt/homebrew/Caskroom/miniforge/base/lib/python3.9/site-packages (from matplotlib>=2.2->seaborn) (9.0.0)\n",
      "Requirement already satisfied: cycler>=0.10 in /opt/homebrew/Caskroom/miniforge/base/lib/python3.9/site-packages (from matplotlib>=2.2->seaborn) (0.11.0)\n",
      "Requirement already satisfied: fonttools>=4.22.0 in /opt/homebrew/Caskroom/miniforge/base/lib/python3.9/site-packages (from matplotlib>=2.2->seaborn) (4.29.0)\n",
      "Requirement already satisfied: kiwisolver>=1.0.1 in /opt/homebrew/Caskroom/miniforge/base/lib/python3.9/site-packages (from matplotlib>=2.2->seaborn) (1.3.2)\n",
      "Requirement already satisfied: pyparsing>=2.2.1 in /opt/homebrew/Caskroom/miniforge/base/lib/python3.9/site-packages (from matplotlib>=2.2->seaborn) (3.0.7)\n",
      "Requirement already satisfied: python-dateutil>=2.7 in /opt/homebrew/Caskroom/miniforge/base/lib/python3.9/site-packages (from matplotlib>=2.2->seaborn) (2.8.2)\n",
      "Requirement already satisfied: pytz>=2020.1 in /opt/homebrew/Caskroom/miniforge/base/lib/python3.9/site-packages (from pandas>=0.23->seaborn) (2021.3)\n",
      "Requirement already satisfied: six>=1.5 in /opt/homebrew/Caskroom/miniforge/base/lib/python3.9/site-packages (from python-dateutil>=2.7->matplotlib>=2.2->seaborn) (1.16.0)\n"
     ]
    }
   ],
   "source": [
    "!pip install matplotlib\n",
    "!pip install seaborn"
   ]
  },
  {
   "cell_type": "markdown",
   "metadata": {
    "id": "SsK70HKKtGEk"
   },
   "source": [
    "## Welcome to Week 0!\n",
    "\n",
    "Live sessions during this course will be oriented primarily around:\n",
    "\n",
    "1.   Lecture\n",
    "2.   Programming in [Jupyter notebooks](https://jupyter.org/) like the one you're in now.\n",
    "\n",
    "We will release notebooks on Mondays. Before lecture, you should download the .ipynb file, and open it either locally on your own machine or in Google Colab. It's a good idea to skim the notebook to get a sense for what it covers, but **don't start working on it before lecture**--the idea is for you to starting working on these **in class** (with the instructors and, more importantly, with your classmates).\n",
    "\n",
    "---\n",
    "\n",
    "This week we have some warm-up excercises to go through so that we can all practice using notebooks and some other tools that will be used throughout the course.\n",
    "\n",
    "*   Google Colab is a tool for editing and running Jupyter notebooks using Google's infrastructure. For most of you, using Colab to edit and run notebooks will make your life easier, especially after week 5 of the course.\n",
    "*   We're asking you to do Week 0's assignment (this one) in Colab, but after today you **aren't required to use it**.\n"
   ]
  },
  {
   "cell_type": "markdown",
   "metadata": {
    "id": "EEmebwjevCxD"
   },
   "source": [
    "### Task 1 -- Open File in Google Colab\n",
    "\n",
    "1. Download the .ipynb file released in Canvas.\n",
    "2. Make a folder in Google Drive where you can put content for the course and upload the .ipynb file to your Google Drive folder\n",
    "3. Install Google Colaboratory:\n",
    "    * Right click on the .ipynb file and go to \"Connect more apps\" (you can skip this if you already see \"Google Colaboratory\"\n",
    "    * Search for \"Colaboratory\" and click Install.\n",
    "4. Now if you click on the file it should open in Google colab."
   ]
  },
  {
   "cell_type": "markdown",
   "metadata": {
    "id": "8zoACTydJwZ1"
   },
   "source": [
    "### Task 2 -- Open csv File in Google Colab\n",
    "\n",
    "There are [several ways to do this](https://colab.research.google.com/notebooks/io.ipynb#scrollTo=c2W5A2px3doP), but just follow along below.\n",
    "\n",
    "> *Note: If you run this file locally rather than in Google Colab, you can just load in the data as follows:*\n",
    "> \n",
    "> ```\n",
    "> import pandas as pd\n",
    "> data = pd.read_csv('time_series_covid_19_confirmed.csv')\n",
    "> ```\n",
    "\n",
    "1. Download the data file from Canvas (this week the data is `time_series_covid_19_confirmed.csv`)."
   ]
  },
  {
   "cell_type": "markdown",
   "metadata": {
    "id": "3wy5VMcvJwZ2"
   },
   "source": [
    "2. Import pandas, which we'll be using to wrangle .csv files."
   ]
  },
  {
   "cell_type": "code",
   "execution_count": 289,
   "metadata": {
    "id": "0y-Hy-cPL-pH"
   },
   "outputs": [],
   "source": [
    "import pandas as pd"
   ]
  },
  {
   "cell_type": "markdown",
   "metadata": {
    "id": "rmBPUvjoLDg3"
   },
   "source": [
    "3. Upload the time_series_covid_19_confirmed.csv file to Google drive."
   ]
  },
  {
   "cell_type": "markdown",
   "metadata": {
    "id": "MTY8AqyVJwZ4"
   },
   "source": [
    "4. We will be using the google colab package for managing the drive. Run the following line and grant the permissions requested."
   ]
  },
  {
   "cell_type": "code",
   "execution_count": 291,
   "metadata": {
    "id": "YGSmXXALJwZ5"
   },
   "outputs": [
    {
     "name": "stdout",
     "output_type": "stream",
     "text": [
      "It looks like you are not running this on google collab\n"
     ]
    }
   ],
   "source": [
    "try:\n",
    "    from google.colab import drive\n",
    "except: \n",
    "    print(\"It looks like you are not running this on google collab\")"
   ]
  },
  {
   "cell_type": "markdown",
   "metadata": {
    "id": "tRiXIlu4JwZ7"
   },
   "source": [
    "5. Run the following code to mount your Google Drive at the location */content/drive* on the virtual machine running this notebook. You will have access to all the files in your Google Drive."
   ]
  },
  {
   "cell_type": "code",
   "execution_count": 292,
   "metadata": {
    "colab": {
     "base_uri": "https://localhost:8080/"
    },
    "id": "Mqah54vN8CVB",
    "outputId": "46dd1a3e-d071-499d-c53b-15e016bdcfc8"
   },
   "outputs": [
    {
     "name": "stdout",
     "output_type": "stream",
     "text": [
      "It looks like you are not running this on google collab, this will only work on google collab\n"
     ]
    }
   ],
   "source": [
    "try: \n",
    "    drive.mount('/content/drive')\n",
    "except: \n",
    "    print(\"It looks like you are not running this on google collab, this will only work on google collab\")"
   ]
  },
  {
   "cell_type": "markdown",
   "metadata": {
    "id": "r_nFd-8lJwZ8"
   },
   "source": [
    "6. Edit filepath to be the path to the csv file. In my case, it's located in Google Drive in a folder called fourthbrain.\n",
    "7. Run the following line to load the data into a Pandas DataFrame."
   ]
  },
  {
   "cell_type": "code",
   "execution_count": 293,
   "metadata": {
    "colab": {
     "base_uri": "https://localhost:8080/",
     "height": 297
    },
    "id": "sRi98Qrk97eR",
    "outputId": "82f19aea-280e-4213-d8bd-83d919de0ceb"
   },
   "outputs": [],
   "source": [
    "filepath = \"time_series_covid_19_confirmed.csv\"\n",
    "data = pd.read_csv(filepath)"
   ]
  },
  {
   "cell_type": "markdown",
   "metadata": {
    "id": "ijhzFI68JwZ9"
   },
   "source": [
    "8. Verify that the data is loaded in correctly by running data.head() to see the first few rows of the DataFrame."
   ]
  },
  {
   "cell_type": "code",
   "execution_count": 294,
   "metadata": {
    "id": "uozIqWfbJwZ9"
   },
   "outputs": [
    {
     "data": {
      "text/html": [
       "<div>\n",
       "<style scoped>\n",
       "    .dataframe tbody tr th:only-of-type {\n",
       "        vertical-align: middle;\n",
       "    }\n",
       "\n",
       "    .dataframe tbody tr th {\n",
       "        vertical-align: top;\n",
       "    }\n",
       "\n",
       "    .dataframe thead th {\n",
       "        text-align: right;\n",
       "    }\n",
       "</style>\n",
       "<table border=\"1\" class=\"dataframe\">\n",
       "  <thead>\n",
       "    <tr style=\"text-align: right;\">\n",
       "      <th></th>\n",
       "      <th>Province/State</th>\n",
       "      <th>Country/Region</th>\n",
       "      <th>Lat</th>\n",
       "      <th>Long</th>\n",
       "      <th>1/22/20</th>\n",
       "      <th>1/23/20</th>\n",
       "      <th>1/24/20</th>\n",
       "      <th>1/25/20</th>\n",
       "      <th>1/26/20</th>\n",
       "      <th>1/27/20</th>\n",
       "      <th>...</th>\n",
       "      <th>8/20/20</th>\n",
       "      <th>8/21/20</th>\n",
       "      <th>8/22/20</th>\n",
       "      <th>8/23/20</th>\n",
       "      <th>8/24/20</th>\n",
       "      <th>8/25/20</th>\n",
       "      <th>8/26/20</th>\n",
       "      <th>8/27/20</th>\n",
       "      <th>8/28/20</th>\n",
       "      <th>8/29/20</th>\n",
       "    </tr>\n",
       "  </thead>\n",
       "  <tbody>\n",
       "    <tr>\n",
       "      <th>0</th>\n",
       "      <td>NaN</td>\n",
       "      <td>Afghanistan</td>\n",
       "      <td>33.93911</td>\n",
       "      <td>67.709953</td>\n",
       "      <td>0</td>\n",
       "      <td>0</td>\n",
       "      <td>0</td>\n",
       "      <td>0</td>\n",
       "      <td>0</td>\n",
       "      <td>0</td>\n",
       "      <td>...</td>\n",
       "      <td>37856</td>\n",
       "      <td>37894</td>\n",
       "      <td>37953</td>\n",
       "      <td>37999</td>\n",
       "      <td>38054</td>\n",
       "      <td>38070</td>\n",
       "      <td>38113</td>\n",
       "      <td>38129</td>\n",
       "      <td>38140</td>\n",
       "      <td>38143</td>\n",
       "    </tr>\n",
       "    <tr>\n",
       "      <th>1</th>\n",
       "      <td>NaN</td>\n",
       "      <td>Albania</td>\n",
       "      <td>41.15330</td>\n",
       "      <td>20.168300</td>\n",
       "      <td>0</td>\n",
       "      <td>0</td>\n",
       "      <td>0</td>\n",
       "      <td>0</td>\n",
       "      <td>0</td>\n",
       "      <td>0</td>\n",
       "      <td>...</td>\n",
       "      <td>7967</td>\n",
       "      <td>8119</td>\n",
       "      <td>8275</td>\n",
       "      <td>8427</td>\n",
       "      <td>8605</td>\n",
       "      <td>8759</td>\n",
       "      <td>8927</td>\n",
       "      <td>9083</td>\n",
       "      <td>9195</td>\n",
       "      <td>9279</td>\n",
       "    </tr>\n",
       "    <tr>\n",
       "      <th>2</th>\n",
       "      <td>NaN</td>\n",
       "      <td>Algeria</td>\n",
       "      <td>28.03390</td>\n",
       "      <td>1.659600</td>\n",
       "      <td>0</td>\n",
       "      <td>0</td>\n",
       "      <td>0</td>\n",
       "      <td>0</td>\n",
       "      <td>0</td>\n",
       "      <td>0</td>\n",
       "      <td>...</td>\n",
       "      <td>40258</td>\n",
       "      <td>40667</td>\n",
       "      <td>41068</td>\n",
       "      <td>41460</td>\n",
       "      <td>41858</td>\n",
       "      <td>42228</td>\n",
       "      <td>42619</td>\n",
       "      <td>43016</td>\n",
       "      <td>43403</td>\n",
       "      <td>43781</td>\n",
       "    </tr>\n",
       "    <tr>\n",
       "      <th>3</th>\n",
       "      <td>NaN</td>\n",
       "      <td>Andorra</td>\n",
       "      <td>42.50630</td>\n",
       "      <td>1.521800</td>\n",
       "      <td>0</td>\n",
       "      <td>0</td>\n",
       "      <td>0</td>\n",
       "      <td>0</td>\n",
       "      <td>0</td>\n",
       "      <td>0</td>\n",
       "      <td>...</td>\n",
       "      <td>1024</td>\n",
       "      <td>1045</td>\n",
       "      <td>1045</td>\n",
       "      <td>1045</td>\n",
       "      <td>1060</td>\n",
       "      <td>1060</td>\n",
       "      <td>1098</td>\n",
       "      <td>1098</td>\n",
       "      <td>1124</td>\n",
       "      <td>1124</td>\n",
       "    </tr>\n",
       "    <tr>\n",
       "      <th>4</th>\n",
       "      <td>NaN</td>\n",
       "      <td>Angola</td>\n",
       "      <td>-11.20270</td>\n",
       "      <td>17.873900</td>\n",
       "      <td>0</td>\n",
       "      <td>0</td>\n",
       "      <td>0</td>\n",
       "      <td>0</td>\n",
       "      <td>0</td>\n",
       "      <td>0</td>\n",
       "      <td>...</td>\n",
       "      <td>2044</td>\n",
       "      <td>2068</td>\n",
       "      <td>2134</td>\n",
       "      <td>2171</td>\n",
       "      <td>2222</td>\n",
       "      <td>2283</td>\n",
       "      <td>2332</td>\n",
       "      <td>2415</td>\n",
       "      <td>2471</td>\n",
       "      <td>2551</td>\n",
       "    </tr>\n",
       "  </tbody>\n",
       "</table>\n",
       "<p>5 rows × 225 columns</p>\n",
       "</div>"
      ],
      "text/plain": [
       "  Province/State Country/Region       Lat       Long  1/22/20  1/23/20  \\\n",
       "0            NaN    Afghanistan  33.93911  67.709953        0        0   \n",
       "1            NaN        Albania  41.15330  20.168300        0        0   \n",
       "2            NaN        Algeria  28.03390   1.659600        0        0   \n",
       "3            NaN        Andorra  42.50630   1.521800        0        0   \n",
       "4            NaN         Angola -11.20270  17.873900        0        0   \n",
       "\n",
       "   1/24/20  1/25/20  1/26/20  1/27/20  ...  8/20/20  8/21/20  8/22/20  \\\n",
       "0        0        0        0        0  ...    37856    37894    37953   \n",
       "1        0        0        0        0  ...     7967     8119     8275   \n",
       "2        0        0        0        0  ...    40258    40667    41068   \n",
       "3        0        0        0        0  ...     1024     1045     1045   \n",
       "4        0        0        0        0  ...     2044     2068     2134   \n",
       "\n",
       "   8/23/20  8/24/20  8/25/20  8/26/20  8/27/20  8/28/20  8/29/20  \n",
       "0    37999    38054    38070    38113    38129    38140    38143  \n",
       "1     8427     8605     8759     8927     9083     9195     9279  \n",
       "2    41460    41858    42228    42619    43016    43403    43781  \n",
       "3     1045     1060     1060     1098     1098     1124     1124  \n",
       "4     2171     2222     2283     2332     2415     2471     2551  \n",
       "\n",
       "[5 rows x 225 columns]"
      ]
     },
     "execution_count": 294,
     "metadata": {},
     "output_type": "execute_result"
    }
   ],
   "source": [
    "data.head()"
   ]
  },
  {
   "cell_type": "markdown",
   "metadata": {
    "id": "KuKdLYyKPaEf"
   },
   "source": [
    "### Task 3 -- Get familiar with the data"
   ]
  },
  {
   "cell_type": "markdown",
   "metadata": {
    "id": "oHk1Yre-JwZ-"
   },
   "source": [
    "1. We will be using matplotlib, so start by importing it."
   ]
  },
  {
   "cell_type": "code",
   "execution_count": 295,
   "metadata": {
    "id": "GsmBMe9c5tjm"
   },
   "outputs": [],
   "source": [
    "from matplotlib import pyplot as plt"
   ]
  },
  {
   "cell_type": "markdown",
   "metadata": {
    "id": "F0BdG5NfJwZ_"
   },
   "source": [
    "2. Look at the first 5 rows of the DataFrame with `data.head()`"
   ]
  },
  {
   "cell_type": "code",
   "execution_count": 296,
   "metadata": {
    "colab": {
     "base_uri": "https://localhost:8080/",
     "height": 297
    },
    "id": "qSqsKMSJQDDN",
    "outputId": "f056b9d8-43ad-4589-c45f-8f8be1ba6a5a"
   },
   "outputs": [
    {
     "data": {
      "text/html": [
       "<div>\n",
       "<style scoped>\n",
       "    .dataframe tbody tr th:only-of-type {\n",
       "        vertical-align: middle;\n",
       "    }\n",
       "\n",
       "    .dataframe tbody tr th {\n",
       "        vertical-align: top;\n",
       "    }\n",
       "\n",
       "    .dataframe thead th {\n",
       "        text-align: right;\n",
       "    }\n",
       "</style>\n",
       "<table border=\"1\" class=\"dataframe\">\n",
       "  <thead>\n",
       "    <tr style=\"text-align: right;\">\n",
       "      <th></th>\n",
       "      <th>Province/State</th>\n",
       "      <th>Country/Region</th>\n",
       "      <th>Lat</th>\n",
       "      <th>Long</th>\n",
       "      <th>1/22/20</th>\n",
       "      <th>1/23/20</th>\n",
       "      <th>1/24/20</th>\n",
       "      <th>1/25/20</th>\n",
       "      <th>1/26/20</th>\n",
       "      <th>1/27/20</th>\n",
       "      <th>...</th>\n",
       "      <th>8/20/20</th>\n",
       "      <th>8/21/20</th>\n",
       "      <th>8/22/20</th>\n",
       "      <th>8/23/20</th>\n",
       "      <th>8/24/20</th>\n",
       "      <th>8/25/20</th>\n",
       "      <th>8/26/20</th>\n",
       "      <th>8/27/20</th>\n",
       "      <th>8/28/20</th>\n",
       "      <th>8/29/20</th>\n",
       "    </tr>\n",
       "  </thead>\n",
       "  <tbody>\n",
       "    <tr>\n",
       "      <th>0</th>\n",
       "      <td>NaN</td>\n",
       "      <td>Afghanistan</td>\n",
       "      <td>33.93911</td>\n",
       "      <td>67.709953</td>\n",
       "      <td>0</td>\n",
       "      <td>0</td>\n",
       "      <td>0</td>\n",
       "      <td>0</td>\n",
       "      <td>0</td>\n",
       "      <td>0</td>\n",
       "      <td>...</td>\n",
       "      <td>37856</td>\n",
       "      <td>37894</td>\n",
       "      <td>37953</td>\n",
       "      <td>37999</td>\n",
       "      <td>38054</td>\n",
       "      <td>38070</td>\n",
       "      <td>38113</td>\n",
       "      <td>38129</td>\n",
       "      <td>38140</td>\n",
       "      <td>38143</td>\n",
       "    </tr>\n",
       "    <tr>\n",
       "      <th>1</th>\n",
       "      <td>NaN</td>\n",
       "      <td>Albania</td>\n",
       "      <td>41.15330</td>\n",
       "      <td>20.168300</td>\n",
       "      <td>0</td>\n",
       "      <td>0</td>\n",
       "      <td>0</td>\n",
       "      <td>0</td>\n",
       "      <td>0</td>\n",
       "      <td>0</td>\n",
       "      <td>...</td>\n",
       "      <td>7967</td>\n",
       "      <td>8119</td>\n",
       "      <td>8275</td>\n",
       "      <td>8427</td>\n",
       "      <td>8605</td>\n",
       "      <td>8759</td>\n",
       "      <td>8927</td>\n",
       "      <td>9083</td>\n",
       "      <td>9195</td>\n",
       "      <td>9279</td>\n",
       "    </tr>\n",
       "    <tr>\n",
       "      <th>2</th>\n",
       "      <td>NaN</td>\n",
       "      <td>Algeria</td>\n",
       "      <td>28.03390</td>\n",
       "      <td>1.659600</td>\n",
       "      <td>0</td>\n",
       "      <td>0</td>\n",
       "      <td>0</td>\n",
       "      <td>0</td>\n",
       "      <td>0</td>\n",
       "      <td>0</td>\n",
       "      <td>...</td>\n",
       "      <td>40258</td>\n",
       "      <td>40667</td>\n",
       "      <td>41068</td>\n",
       "      <td>41460</td>\n",
       "      <td>41858</td>\n",
       "      <td>42228</td>\n",
       "      <td>42619</td>\n",
       "      <td>43016</td>\n",
       "      <td>43403</td>\n",
       "      <td>43781</td>\n",
       "    </tr>\n",
       "    <tr>\n",
       "      <th>3</th>\n",
       "      <td>NaN</td>\n",
       "      <td>Andorra</td>\n",
       "      <td>42.50630</td>\n",
       "      <td>1.521800</td>\n",
       "      <td>0</td>\n",
       "      <td>0</td>\n",
       "      <td>0</td>\n",
       "      <td>0</td>\n",
       "      <td>0</td>\n",
       "      <td>0</td>\n",
       "      <td>...</td>\n",
       "      <td>1024</td>\n",
       "      <td>1045</td>\n",
       "      <td>1045</td>\n",
       "      <td>1045</td>\n",
       "      <td>1060</td>\n",
       "      <td>1060</td>\n",
       "      <td>1098</td>\n",
       "      <td>1098</td>\n",
       "      <td>1124</td>\n",
       "      <td>1124</td>\n",
       "    </tr>\n",
       "    <tr>\n",
       "      <th>4</th>\n",
       "      <td>NaN</td>\n",
       "      <td>Angola</td>\n",
       "      <td>-11.20270</td>\n",
       "      <td>17.873900</td>\n",
       "      <td>0</td>\n",
       "      <td>0</td>\n",
       "      <td>0</td>\n",
       "      <td>0</td>\n",
       "      <td>0</td>\n",
       "      <td>0</td>\n",
       "      <td>...</td>\n",
       "      <td>2044</td>\n",
       "      <td>2068</td>\n",
       "      <td>2134</td>\n",
       "      <td>2171</td>\n",
       "      <td>2222</td>\n",
       "      <td>2283</td>\n",
       "      <td>2332</td>\n",
       "      <td>2415</td>\n",
       "      <td>2471</td>\n",
       "      <td>2551</td>\n",
       "    </tr>\n",
       "  </tbody>\n",
       "</table>\n",
       "<p>5 rows × 225 columns</p>\n",
       "</div>"
      ],
      "text/plain": [
       "  Province/State Country/Region       Lat       Long  1/22/20  1/23/20  \\\n",
       "0            NaN    Afghanistan  33.93911  67.709953        0        0   \n",
       "1            NaN        Albania  41.15330  20.168300        0        0   \n",
       "2            NaN        Algeria  28.03390   1.659600        0        0   \n",
       "3            NaN        Andorra  42.50630   1.521800        0        0   \n",
       "4            NaN         Angola -11.20270  17.873900        0        0   \n",
       "\n",
       "   1/24/20  1/25/20  1/26/20  1/27/20  ...  8/20/20  8/21/20  8/22/20  \\\n",
       "0        0        0        0        0  ...    37856    37894    37953   \n",
       "1        0        0        0        0  ...     7967     8119     8275   \n",
       "2        0        0        0        0  ...    40258    40667    41068   \n",
       "3        0        0        0        0  ...     1024     1045     1045   \n",
       "4        0        0        0        0  ...     2044     2068     2134   \n",
       "\n",
       "   8/23/20  8/24/20  8/25/20  8/26/20  8/27/20  8/28/20  8/29/20  \n",
       "0    37999    38054    38070    38113    38129    38140    38143  \n",
       "1     8427     8605     8759     8927     9083     9195     9279  \n",
       "2    41460    41858    42228    42619    43016    43403    43781  \n",
       "3     1045     1060     1060     1098     1098     1124     1124  \n",
       "4     2171     2222     2283     2332     2415     2471     2551  \n",
       "\n",
       "[5 rows x 225 columns]"
      ]
     },
     "execution_count": 296,
     "metadata": {},
     "output_type": "execute_result"
    }
   ],
   "source": [
    "# [YOUR CODE HERE]\n",
    "data.head(5)"
   ]
  },
  {
   "cell_type": "markdown",
   "metadata": {
    "id": "W_5ZRPZ2JwZ_"
   },
   "source": [
    "3. Look at the data to get an idea of what it is and then write a few sentences describing what you notice about the data."
   ]
  },
  {
   "cell_type": "code",
   "execution_count": null,
   "metadata": {},
   "outputs": [],
   "source": [
    "*[YOUR RESPONSE HERE]*"
   ]
  },
  {
   "cell_type": "markdown",
   "metadata": {},
   "source": [
    "The following function provides info about the structure of the data "
   ]
  },
  {
   "cell_type": "markdown",
   "metadata": {},
   "source": [
    "Number of Unique Country/Region in the dataset  is 188"
   ]
  },
  {
   "cell_type": "code",
   "execution_count": 334,
   "metadata": {},
   "outputs": [
    {
     "data": {
      "text/plain": [
       "array(['Afghanistan', 'Albania', 'Algeria', 'Andorra', 'Angola',\n",
       "       'Antigua and Barbuda', 'Argentina', 'Armenia', 'Australia',\n",
       "       'Austria', 'Azerbaijan', 'Bahamas', 'Bahrain', 'Bangladesh',\n",
       "       'Barbados', 'Belarus', 'Belgium', 'Belize', 'Benin', 'Bhutan',\n",
       "       'Bolivia', 'Bosnia and Herzegovina', 'Botswana', 'Brazil',\n",
       "       'Brunei', 'Bulgaria', 'Burkina Faso', 'Burma', 'Burundi',\n",
       "       'Cabo Verde', 'Cambodia', 'Cameroon', 'Canada',\n",
       "       'Central African Republic', 'Chad', 'Chile', 'China', 'Colombia',\n",
       "       'Comoros', 'Congo (Brazzaville)', 'Congo (Kinshasa)', 'Costa Rica',\n",
       "       \"Cote d'Ivoire\", 'Croatia', 'Cuba', 'Cyprus', 'Czechia', 'Denmark',\n",
       "       'Diamond Princess', 'Djibouti', 'Dominica', 'Dominican Republic',\n",
       "       'Ecuador', 'Egypt', 'El Salvador', 'Equatorial Guinea', 'Eritrea',\n",
       "       'Estonia', 'Eswatini', 'Ethiopia', 'Fiji', 'Finland', 'France',\n",
       "       'Gabon', 'Gambia', 'Georgia', 'Germany', 'Ghana', 'Greece',\n",
       "       'Grenada', 'Guatemala', 'Guinea', 'Guinea-Bissau', 'Guyana',\n",
       "       'Haiti', 'Holy See', 'Honduras', 'Hungary', 'Iceland', 'India',\n",
       "       'Indonesia', 'Iran', 'Iraq', 'Ireland', 'Israel', 'Italy',\n",
       "       'Jamaica', 'Japan', 'Jordan', 'Kazakhstan', 'Kenya',\n",
       "       'Korea, South', 'Kosovo', 'Kuwait', 'Kyrgyzstan', 'Laos', 'Latvia',\n",
       "       'Lebanon', 'Lesotho', 'Liberia', 'Libya', 'Liechtenstein',\n",
       "       'Lithuania', 'Luxembourg', 'MS Zaandam', 'Madagascar', 'Malawi',\n",
       "       'Malaysia', 'Maldives', 'Mali', 'Malta', 'Mauritania', 'Mauritius',\n",
       "       'Mexico', 'Moldova', 'Monaco', 'Mongolia', 'Montenegro', 'Morocco',\n",
       "       'Mozambique', 'Namibia', 'Nepal', 'Netherlands', 'New Zealand',\n",
       "       'Nicaragua', 'Niger', 'Nigeria', 'North Macedonia', 'Norway',\n",
       "       'Oman', 'Pakistan', 'Panama', 'Papua New Guinea', 'Paraguay',\n",
       "       'Peru', 'Philippines', 'Poland', 'Portugal', 'Qatar', 'Romania',\n",
       "       'Russia', 'Rwanda', 'Saint Kitts and Nevis', 'Saint Lucia',\n",
       "       'Saint Vincent and the Grenadines', 'San Marino',\n",
       "       'Sao Tome and Principe', 'Saudi Arabia', 'Senegal', 'Serbia',\n",
       "       'Seychelles', 'Sierra Leone', 'Singapore', 'Slovakia', 'Slovenia',\n",
       "       'Somalia', 'South Africa', 'South Sudan', 'Spain', 'Sri Lanka',\n",
       "       'Sudan', 'Suriname', 'Sweden', 'Switzerland', 'Syria', 'Taiwan*',\n",
       "       'Tajikistan', 'Tanzania', 'Thailand', 'Timor-Leste', 'Togo',\n",
       "       'Trinidad and Tobago', 'Tunisia', 'Turkey', 'US', 'Uganda',\n",
       "       'Ukraine', 'United Arab Emirates', 'United Kingdom', 'Uruguay',\n",
       "       'Uzbekistan', 'Venezuela', 'Vietnam', 'West Bank and Gaza',\n",
       "       'Western Sahara', 'Yemen', 'Zambia', 'Zimbabwe'], dtype=object)"
      ]
     },
     "execution_count": 334,
     "metadata": {},
     "output_type": "execute_result"
    }
   ],
   "source": [
    "data[\"Country/Region\"].unique()"
   ]
  },
  {
   "cell_type": "code",
   "execution_count": 336,
   "metadata": {},
   "outputs": [
    {
     "data": {
      "text/plain": [
       "China             33\n",
       "Canada            14\n",
       "United Kingdom    11\n",
       "France            11\n",
       "Australia          8\n",
       "                  ..\n",
       "Greece             1\n",
       "Grenada            1\n",
       "Guatemala          1\n",
       "Guinea             1\n",
       "Zimbabwe           1\n",
       "Name: Country/Region, Length: 188, dtype: int64"
      ]
     },
     "execution_count": 336,
     "metadata": {},
     "output_type": "execute_result"
    }
   ],
   "source": [
    "data[\"Country/Region\"].value_counts()"
   ]
  },
  {
   "cell_type": "code",
   "execution_count": 327,
   "metadata": {},
   "outputs": [
    {
     "name": "stdout",
     "output_type": "stream",
     "text": [
      "<class 'pandas.core.frame.DataFrame'>\n",
      "RangeIndex: 266 entries, 0 to 265\n",
      "Columns: 225 entries, Province/State to 8/29/20\n",
      "dtypes: float64(2), int64(221), object(2)\n",
      "memory usage: 467.7+ KB\n"
     ]
    }
   ],
   "source": [
    "data.info()"
   ]
  },
  {
   "cell_type": "markdown",
   "metadata": {},
   "source": [
    "- Number of rows: 266 \n",
    "- Number of columns: 225 \n"
   ]
  },
  {
   "cell_type": "markdown",
   "metadata": {},
   "source": [
    "The following function provide summary descriptive statistics about the data "
   ]
  },
  {
   "cell_type": "code",
   "execution_count": 297,
   "metadata": {},
   "outputs": [
    {
     "data": {
      "text/html": [
       "<div>\n",
       "<style scoped>\n",
       "    .dataframe tbody tr th:only-of-type {\n",
       "        vertical-align: middle;\n",
       "    }\n",
       "\n",
       "    .dataframe tbody tr th {\n",
       "        vertical-align: top;\n",
       "    }\n",
       "\n",
       "    .dataframe thead th {\n",
       "        text-align: right;\n",
       "    }\n",
       "</style>\n",
       "<table border=\"1\" class=\"dataframe\">\n",
       "  <thead>\n",
       "    <tr style=\"text-align: right;\">\n",
       "      <th></th>\n",
       "      <th>Lat</th>\n",
       "      <th>Long</th>\n",
       "      <th>1/22/20</th>\n",
       "      <th>1/23/20</th>\n",
       "      <th>1/24/20</th>\n",
       "      <th>1/25/20</th>\n",
       "      <th>1/26/20</th>\n",
       "      <th>1/27/20</th>\n",
       "      <th>1/28/20</th>\n",
       "      <th>1/29/20</th>\n",
       "      <th>...</th>\n",
       "      <th>8/20/20</th>\n",
       "      <th>8/21/20</th>\n",
       "      <th>8/22/20</th>\n",
       "      <th>8/23/20</th>\n",
       "      <th>8/24/20</th>\n",
       "      <th>8/25/20</th>\n",
       "      <th>8/26/20</th>\n",
       "      <th>8/27/20</th>\n",
       "      <th>8/28/20</th>\n",
       "      <th>8/29/20</th>\n",
       "    </tr>\n",
       "  </thead>\n",
       "  <tbody>\n",
       "    <tr>\n",
       "      <th>count</th>\n",
       "      <td>266.000000</td>\n",
       "      <td>266.000000</td>\n",
       "      <td>266.000000</td>\n",
       "      <td>266.000000</td>\n",
       "      <td>266.000000</td>\n",
       "      <td>266.000000</td>\n",
       "      <td>266.000000</td>\n",
       "      <td>266.000000</td>\n",
       "      <td>266.000000</td>\n",
       "      <td>266.000000</td>\n",
       "      <td>...</td>\n",
       "      <td>2.660000e+02</td>\n",
       "      <td>2.660000e+02</td>\n",
       "      <td>2.660000e+02</td>\n",
       "      <td>2.660000e+02</td>\n",
       "      <td>2.660000e+02</td>\n",
       "      <td>2.660000e+02</td>\n",
       "      <td>2.660000e+02</td>\n",
       "      <td>2.660000e+02</td>\n",
       "      <td>2.660000e+02</td>\n",
       "      <td>2.660000e+02</td>\n",
       "    </tr>\n",
       "    <tr>\n",
       "      <th>mean</th>\n",
       "      <td>21.076624</td>\n",
       "      <td>22.829441</td>\n",
       "      <td>2.086466</td>\n",
       "      <td>2.458647</td>\n",
       "      <td>3.537594</td>\n",
       "      <td>5.390977</td>\n",
       "      <td>7.962406</td>\n",
       "      <td>11.003759</td>\n",
       "      <td>20.969925</td>\n",
       "      <td>23.180451</td>\n",
       "      <td>...</td>\n",
       "      <td>8.524560e+04</td>\n",
       "      <td>8.626335e+04</td>\n",
       "      <td>8.722006e+04</td>\n",
       "      <td>8.803567e+04</td>\n",
       "      <td>8.888655e+04</td>\n",
       "      <td>8.979638e+04</td>\n",
       "      <td>9.087815e+04</td>\n",
       "      <td>9.192740e+04</td>\n",
       "      <td>9.298665e+04</td>\n",
       "      <td>9.397164e+04</td>\n",
       "    </tr>\n",
       "    <tr>\n",
       "      <th>std</th>\n",
       "      <td>24.904600</td>\n",
       "      <td>70.191330</td>\n",
       "      <td>27.279200</td>\n",
       "      <td>27.377862</td>\n",
       "      <td>34.083035</td>\n",
       "      <td>47.434934</td>\n",
       "      <td>66.289178</td>\n",
       "      <td>89.313757</td>\n",
       "      <td>219.187744</td>\n",
       "      <td>220.524977</td>\n",
       "      <td>...</td>\n",
       "      <td>4.488150e+05</td>\n",
       "      <td>4.538117e+05</td>\n",
       "      <td>4.591257e+05</td>\n",
       "      <td>4.630888e+05</td>\n",
       "      <td>4.670401e+05</td>\n",
       "      <td>4.717422e+05</td>\n",
       "      <td>4.774629e+05</td>\n",
       "      <td>4.829942e+05</td>\n",
       "      <td>4.885157e+05</td>\n",
       "      <td>4.940581e+05</td>\n",
       "    </tr>\n",
       "    <tr>\n",
       "      <th>min</th>\n",
       "      <td>-51.796300</td>\n",
       "      <td>-135.000000</td>\n",
       "      <td>0.000000</td>\n",
       "      <td>0.000000</td>\n",
       "      <td>0.000000</td>\n",
       "      <td>0.000000</td>\n",
       "      <td>0.000000</td>\n",
       "      <td>0.000000</td>\n",
       "      <td>0.000000</td>\n",
       "      <td>0.000000</td>\n",
       "      <td>...</td>\n",
       "      <td>0.000000e+00</td>\n",
       "      <td>0.000000e+00</td>\n",
       "      <td>0.000000e+00</td>\n",
       "      <td>0.000000e+00</td>\n",
       "      <td>0.000000e+00</td>\n",
       "      <td>0.000000e+00</td>\n",
       "      <td>0.000000e+00</td>\n",
       "      <td>0.000000e+00</td>\n",
       "      <td>0.000000e+00</td>\n",
       "      <td>0.000000e+00</td>\n",
       "    </tr>\n",
       "    <tr>\n",
       "      <th>25%</th>\n",
       "      <td>6.677575</td>\n",
       "      <td>-15.277675</td>\n",
       "      <td>0.000000</td>\n",
       "      <td>0.000000</td>\n",
       "      <td>0.000000</td>\n",
       "      <td>0.000000</td>\n",
       "      <td>0.000000</td>\n",
       "      <td>0.000000</td>\n",
       "      <td>0.000000</td>\n",
       "      <td>0.000000</td>\n",
       "      <td>...</td>\n",
       "      <td>3.587500e+02</td>\n",
       "      <td>3.602500e+02</td>\n",
       "      <td>3.690000e+02</td>\n",
       "      <td>3.870000e+02</td>\n",
       "      <td>4.027500e+02</td>\n",
       "      <td>4.087500e+02</td>\n",
       "      <td>4.175000e+02</td>\n",
       "      <td>4.225000e+02</td>\n",
       "      <td>4.357500e+02</td>\n",
       "      <td>4.442500e+02</td>\n",
       "    </tr>\n",
       "    <tr>\n",
       "      <th>50%</th>\n",
       "      <td>22.820850</td>\n",
       "      <td>20.921188</td>\n",
       "      <td>0.000000</td>\n",
       "      <td>0.000000</td>\n",
       "      <td>0.000000</td>\n",
       "      <td>0.000000</td>\n",
       "      <td>0.000000</td>\n",
       "      <td>0.000000</td>\n",
       "      <td>0.000000</td>\n",
       "      <td>0.000000</td>\n",
       "      <td>...</td>\n",
       "      <td>2.447500e+03</td>\n",
       "      <td>2.467000e+03</td>\n",
       "      <td>2.467000e+03</td>\n",
       "      <td>2.567000e+03</td>\n",
       "      <td>2.544500e+03</td>\n",
       "      <td>2.596500e+03</td>\n",
       "      <td>2.616000e+03</td>\n",
       "      <td>2.704500e+03</td>\n",
       "      <td>2.746000e+03</td>\n",
       "      <td>2.795500e+03</td>\n",
       "    </tr>\n",
       "    <tr>\n",
       "      <th>75%</th>\n",
       "      <td>41.143200</td>\n",
       "      <td>77.913685</td>\n",
       "      <td>0.000000</td>\n",
       "      <td>0.000000</td>\n",
       "      <td>0.000000</td>\n",
       "      <td>0.000000</td>\n",
       "      <td>0.000000</td>\n",
       "      <td>0.000000</td>\n",
       "      <td>0.000000</td>\n",
       "      <td>0.000000</td>\n",
       "      <td>...</td>\n",
       "      <td>2.915275e+04</td>\n",
       "      <td>2.972225e+04</td>\n",
       "      <td>2.988800e+04</td>\n",
       "      <td>2.998500e+04</td>\n",
       "      <td>3.006450e+04</td>\n",
       "      <td>3.016525e+04</td>\n",
       "      <td>3.032125e+04</td>\n",
       "      <td>3.043750e+04</td>\n",
       "      <td>3.054975e+04</td>\n",
       "      <td>3.064150e+04</td>\n",
       "    </tr>\n",
       "    <tr>\n",
       "      <th>max</th>\n",
       "      <td>71.706900</td>\n",
       "      <td>178.065000</td>\n",
       "      <td>444.000000</td>\n",
       "      <td>444.000000</td>\n",
       "      <td>549.000000</td>\n",
       "      <td>761.000000</td>\n",
       "      <td>1058.000000</td>\n",
       "      <td>1423.000000</td>\n",
       "      <td>3554.000000</td>\n",
       "      <td>3554.000000</td>\n",
       "      <td>...</td>\n",
       "      <td>5.573847e+06</td>\n",
       "      <td>5.622470e+06</td>\n",
       "      <td>5.667070e+06</td>\n",
       "      <td>5.701645e+06</td>\n",
       "      <td>5.739536e+06</td>\n",
       "      <td>5.777710e+06</td>\n",
       "      <td>5.821819e+06</td>\n",
       "      <td>5.867785e+06</td>\n",
       "      <td>5.913941e+06</td>\n",
       "      <td>5.961094e+06</td>\n",
       "    </tr>\n",
       "  </tbody>\n",
       "</table>\n",
       "<p>8 rows × 223 columns</p>\n",
       "</div>"
      ],
      "text/plain": [
       "              Lat        Long     1/22/20     1/23/20     1/24/20     1/25/20  \\\n",
       "count  266.000000  266.000000  266.000000  266.000000  266.000000  266.000000   \n",
       "mean    21.076624   22.829441    2.086466    2.458647    3.537594    5.390977   \n",
       "std     24.904600   70.191330   27.279200   27.377862   34.083035   47.434934   \n",
       "min    -51.796300 -135.000000    0.000000    0.000000    0.000000    0.000000   \n",
       "25%      6.677575  -15.277675    0.000000    0.000000    0.000000    0.000000   \n",
       "50%     22.820850   20.921188    0.000000    0.000000    0.000000    0.000000   \n",
       "75%     41.143200   77.913685    0.000000    0.000000    0.000000    0.000000   \n",
       "max     71.706900  178.065000  444.000000  444.000000  549.000000  761.000000   \n",
       "\n",
       "           1/26/20      1/27/20      1/28/20      1/29/20  ...       8/20/20  \\\n",
       "count   266.000000   266.000000   266.000000   266.000000  ...  2.660000e+02   \n",
       "mean      7.962406    11.003759    20.969925    23.180451  ...  8.524560e+04   \n",
       "std      66.289178    89.313757   219.187744   220.524977  ...  4.488150e+05   \n",
       "min       0.000000     0.000000     0.000000     0.000000  ...  0.000000e+00   \n",
       "25%       0.000000     0.000000     0.000000     0.000000  ...  3.587500e+02   \n",
       "50%       0.000000     0.000000     0.000000     0.000000  ...  2.447500e+03   \n",
       "75%       0.000000     0.000000     0.000000     0.000000  ...  2.915275e+04   \n",
       "max    1058.000000  1423.000000  3554.000000  3554.000000  ...  5.573847e+06   \n",
       "\n",
       "            8/21/20       8/22/20       8/23/20       8/24/20       8/25/20  \\\n",
       "count  2.660000e+02  2.660000e+02  2.660000e+02  2.660000e+02  2.660000e+02   \n",
       "mean   8.626335e+04  8.722006e+04  8.803567e+04  8.888655e+04  8.979638e+04   \n",
       "std    4.538117e+05  4.591257e+05  4.630888e+05  4.670401e+05  4.717422e+05   \n",
       "min    0.000000e+00  0.000000e+00  0.000000e+00  0.000000e+00  0.000000e+00   \n",
       "25%    3.602500e+02  3.690000e+02  3.870000e+02  4.027500e+02  4.087500e+02   \n",
       "50%    2.467000e+03  2.467000e+03  2.567000e+03  2.544500e+03  2.596500e+03   \n",
       "75%    2.972225e+04  2.988800e+04  2.998500e+04  3.006450e+04  3.016525e+04   \n",
       "max    5.622470e+06  5.667070e+06  5.701645e+06  5.739536e+06  5.777710e+06   \n",
       "\n",
       "            8/26/20       8/27/20       8/28/20       8/29/20  \n",
       "count  2.660000e+02  2.660000e+02  2.660000e+02  2.660000e+02  \n",
       "mean   9.087815e+04  9.192740e+04  9.298665e+04  9.397164e+04  \n",
       "std    4.774629e+05  4.829942e+05  4.885157e+05  4.940581e+05  \n",
       "min    0.000000e+00  0.000000e+00  0.000000e+00  0.000000e+00  \n",
       "25%    4.175000e+02  4.225000e+02  4.357500e+02  4.442500e+02  \n",
       "50%    2.616000e+03  2.704500e+03  2.746000e+03  2.795500e+03  \n",
       "75%    3.032125e+04  3.043750e+04  3.054975e+04  3.064150e+04  \n",
       "max    5.821819e+06  5.867785e+06  5.913941e+06  5.961094e+06  \n",
       "\n",
       "[8 rows x 223 columns]"
      ]
     },
     "execution_count": 297,
     "metadata": {},
     "output_type": "execute_result"
    }
   ],
   "source": [
    "data.describe()"
   ]
  },
  {
   "cell_type": "markdown",
   "metadata": {},
   "source": [
    "Based on the output of the function below: \n",
    "we have the following counts: \n",
    "\n",
    "- Province/State     81\n",
    "- Country/Region    266\n",
    "- Lat               266\n",
    "- Long              266\n",
    "- 1/22/20           266\n",
    "                 ... \n",
    "- 8/25/20           266\n",
    "- 8/26/20           266\n",
    "- 8/27/20           266\n",
    "- 8/28/20           266\n",
    "- 8/29/20           266"
   ]
  },
  {
   "cell_type": "code",
   "execution_count": 302,
   "metadata": {},
   "outputs": [
    {
     "data": {
      "text/plain": [
       "Province/State     81\n",
       "Country/Region    266\n",
       "Lat               266\n",
       "Long              266\n",
       "1/22/20           266\n",
       "                 ... \n",
       "8/25/20           266\n",
       "8/26/20           266\n",
       "8/27/20           266\n",
       "8/28/20           266\n",
       "8/29/20           266\n",
       "Length: 225, dtype: int64"
      ]
     },
     "execution_count": 302,
     "metadata": {},
     "output_type": "execute_result"
    }
   ],
   "source": [
    "data.count()"
   ]
  },
  {
   "cell_type": "markdown",
   "metadata": {
    "id": "MSnM-cLkJwaA"
   },
   "source": [
    "4. Notice that the data includes country level data as well as province/state level data. Let's only include rows that don't have provinces or states. Use the `.isna()` method on the `Province/State` column to determine these rows and subset to only include the rows without a Province/State.\n",
    "\n",
    "  Verify that the result of the `head()` method is what's expected."
   ]
  },
  {
   "cell_type": "code",
   "execution_count": 304,
   "metadata": {
    "colab": {
     "base_uri": "https://localhost:8080/",
     "height": 534
    },
    "id": "CsJerxYFuiXz",
    "outputId": "36476364-caa5-4d33-a2df-b64666ab932f"
   },
   "outputs": [
    {
     "data": {
      "text/html": [
       "<div>\n",
       "<style scoped>\n",
       "    .dataframe tbody tr th:only-of-type {\n",
       "        vertical-align: middle;\n",
       "    }\n",
       "\n",
       "    .dataframe tbody tr th {\n",
       "        vertical-align: top;\n",
       "    }\n",
       "\n",
       "    .dataframe thead th {\n",
       "        text-align: right;\n",
       "    }\n",
       "</style>\n",
       "<table border=\"1\" class=\"dataframe\">\n",
       "  <thead>\n",
       "    <tr style=\"text-align: right;\">\n",
       "      <th></th>\n",
       "      <th>Province/State</th>\n",
       "      <th>Country/Region</th>\n",
       "      <th>Lat</th>\n",
       "      <th>Long</th>\n",
       "      <th>1/22/20</th>\n",
       "      <th>1/23/20</th>\n",
       "      <th>1/24/20</th>\n",
       "      <th>1/25/20</th>\n",
       "      <th>1/26/20</th>\n",
       "      <th>1/27/20</th>\n",
       "      <th>...</th>\n",
       "      <th>8/20/20</th>\n",
       "      <th>8/21/20</th>\n",
       "      <th>8/22/20</th>\n",
       "      <th>8/23/20</th>\n",
       "      <th>8/24/20</th>\n",
       "      <th>8/25/20</th>\n",
       "      <th>8/26/20</th>\n",
       "      <th>8/27/20</th>\n",
       "      <th>8/28/20</th>\n",
       "      <th>8/29/20</th>\n",
       "    </tr>\n",
       "  </thead>\n",
       "  <tbody>\n",
       "    <tr>\n",
       "      <th>0</th>\n",
       "      <td>NaN</td>\n",
       "      <td>Afghanistan</td>\n",
       "      <td>33.93911</td>\n",
       "      <td>67.709953</td>\n",
       "      <td>0</td>\n",
       "      <td>0</td>\n",
       "      <td>0</td>\n",
       "      <td>0</td>\n",
       "      <td>0</td>\n",
       "      <td>0</td>\n",
       "      <td>...</td>\n",
       "      <td>37856</td>\n",
       "      <td>37894</td>\n",
       "      <td>37953</td>\n",
       "      <td>37999</td>\n",
       "      <td>38054</td>\n",
       "      <td>38070</td>\n",
       "      <td>38113</td>\n",
       "      <td>38129</td>\n",
       "      <td>38140</td>\n",
       "      <td>38143</td>\n",
       "    </tr>\n",
       "    <tr>\n",
       "      <th>1</th>\n",
       "      <td>NaN</td>\n",
       "      <td>Albania</td>\n",
       "      <td>41.15330</td>\n",
       "      <td>20.168300</td>\n",
       "      <td>0</td>\n",
       "      <td>0</td>\n",
       "      <td>0</td>\n",
       "      <td>0</td>\n",
       "      <td>0</td>\n",
       "      <td>0</td>\n",
       "      <td>...</td>\n",
       "      <td>7967</td>\n",
       "      <td>8119</td>\n",
       "      <td>8275</td>\n",
       "      <td>8427</td>\n",
       "      <td>8605</td>\n",
       "      <td>8759</td>\n",
       "      <td>8927</td>\n",
       "      <td>9083</td>\n",
       "      <td>9195</td>\n",
       "      <td>9279</td>\n",
       "    </tr>\n",
       "    <tr>\n",
       "      <th>2</th>\n",
       "      <td>NaN</td>\n",
       "      <td>Algeria</td>\n",
       "      <td>28.03390</td>\n",
       "      <td>1.659600</td>\n",
       "      <td>0</td>\n",
       "      <td>0</td>\n",
       "      <td>0</td>\n",
       "      <td>0</td>\n",
       "      <td>0</td>\n",
       "      <td>0</td>\n",
       "      <td>...</td>\n",
       "      <td>40258</td>\n",
       "      <td>40667</td>\n",
       "      <td>41068</td>\n",
       "      <td>41460</td>\n",
       "      <td>41858</td>\n",
       "      <td>42228</td>\n",
       "      <td>42619</td>\n",
       "      <td>43016</td>\n",
       "      <td>43403</td>\n",
       "      <td>43781</td>\n",
       "    </tr>\n",
       "    <tr>\n",
       "      <th>3</th>\n",
       "      <td>NaN</td>\n",
       "      <td>Andorra</td>\n",
       "      <td>42.50630</td>\n",
       "      <td>1.521800</td>\n",
       "      <td>0</td>\n",
       "      <td>0</td>\n",
       "      <td>0</td>\n",
       "      <td>0</td>\n",
       "      <td>0</td>\n",
       "      <td>0</td>\n",
       "      <td>...</td>\n",
       "      <td>1024</td>\n",
       "      <td>1045</td>\n",
       "      <td>1045</td>\n",
       "      <td>1045</td>\n",
       "      <td>1060</td>\n",
       "      <td>1060</td>\n",
       "      <td>1098</td>\n",
       "      <td>1098</td>\n",
       "      <td>1124</td>\n",
       "      <td>1124</td>\n",
       "    </tr>\n",
       "    <tr>\n",
       "      <th>4</th>\n",
       "      <td>NaN</td>\n",
       "      <td>Angola</td>\n",
       "      <td>-11.20270</td>\n",
       "      <td>17.873900</td>\n",
       "      <td>0</td>\n",
       "      <td>0</td>\n",
       "      <td>0</td>\n",
       "      <td>0</td>\n",
       "      <td>0</td>\n",
       "      <td>0</td>\n",
       "      <td>...</td>\n",
       "      <td>2044</td>\n",
       "      <td>2068</td>\n",
       "      <td>2134</td>\n",
       "      <td>2171</td>\n",
       "      <td>2222</td>\n",
       "      <td>2283</td>\n",
       "      <td>2332</td>\n",
       "      <td>2415</td>\n",
       "      <td>2471</td>\n",
       "      <td>2551</td>\n",
       "    </tr>\n",
       "  </tbody>\n",
       "</table>\n",
       "<p>5 rows × 225 columns</p>\n",
       "</div>"
      ],
      "text/plain": [
       "  Province/State Country/Region       Lat       Long  1/22/20  1/23/20  \\\n",
       "0            NaN    Afghanistan  33.93911  67.709953        0        0   \n",
       "1            NaN        Albania  41.15330  20.168300        0        0   \n",
       "2            NaN        Algeria  28.03390   1.659600        0        0   \n",
       "3            NaN        Andorra  42.50630   1.521800        0        0   \n",
       "4            NaN         Angola -11.20270  17.873900        0        0   \n",
       "\n",
       "   1/24/20  1/25/20  1/26/20  1/27/20  ...  8/20/20  8/21/20  8/22/20  \\\n",
       "0        0        0        0        0  ...    37856    37894    37953   \n",
       "1        0        0        0        0  ...     7967     8119     8275   \n",
       "2        0        0        0        0  ...    40258    40667    41068   \n",
       "3        0        0        0        0  ...     1024     1045     1045   \n",
       "4        0        0        0        0  ...     2044     2068     2134   \n",
       "\n",
       "   8/23/20  8/24/20  8/25/20  8/26/20  8/27/20  8/28/20  8/29/20  \n",
       "0    37999    38054    38070    38113    38129    38140    38143  \n",
       "1     8427     8605     8759     8927     9083     9195     9279  \n",
       "2    41460    41858    42228    42619    43016    43403    43781  \n",
       "3     1045     1060     1060     1098     1098     1124     1124  \n",
       "4     2171     2222     2283     2332     2415     2471     2551  \n",
       "\n",
       "[5 rows x 225 columns]"
      ]
     },
     "execution_count": 304,
     "metadata": {},
     "output_type": "execute_result"
    }
   ],
   "source": [
    "mask = data[\"Province/State\"].isna()\n",
    "data_countries = data[mask] # [YOUR CODE HERE]\n",
    "data_countries.head()"
   ]
  },
  {
   "cell_type": "markdown",
   "metadata": {
    "id": "4xGg2DvOJwaA"
   },
   "source": [
    "5. Use the `.set_index()` method to set the index to be the `Country/Region` column. This will make acccessing the data by country easier. Use the `inplace=True` attribute to modify the existing DataFrame rather than creating a new one.\n",
    "\n",
    "  Verify that the result of the `head()` method is what's expected."
   ]
  },
  {
   "cell_type": "code",
   "execution_count": 305,
   "metadata": {
    "colab": {
     "base_uri": "https://localhost:8080/",
     "height": 328
    },
    "id": "3PiJaSZrJwaA",
    "outputId": "3a7a79a2-7df0-4970-9569-1268faa583fb"
   },
   "outputs": [
    {
     "data": {
      "text/html": [
       "<div>\n",
       "<style scoped>\n",
       "    .dataframe tbody tr th:only-of-type {\n",
       "        vertical-align: middle;\n",
       "    }\n",
       "\n",
       "    .dataframe tbody tr th {\n",
       "        vertical-align: top;\n",
       "    }\n",
       "\n",
       "    .dataframe thead th {\n",
       "        text-align: right;\n",
       "    }\n",
       "</style>\n",
       "<table border=\"1\" class=\"dataframe\">\n",
       "  <thead>\n",
       "    <tr style=\"text-align: right;\">\n",
       "      <th></th>\n",
       "      <th>Province/State</th>\n",
       "      <th>Lat</th>\n",
       "      <th>Long</th>\n",
       "      <th>1/22/20</th>\n",
       "      <th>1/23/20</th>\n",
       "      <th>1/24/20</th>\n",
       "      <th>1/25/20</th>\n",
       "      <th>1/26/20</th>\n",
       "      <th>1/27/20</th>\n",
       "      <th>1/28/20</th>\n",
       "      <th>...</th>\n",
       "      <th>8/20/20</th>\n",
       "      <th>8/21/20</th>\n",
       "      <th>8/22/20</th>\n",
       "      <th>8/23/20</th>\n",
       "      <th>8/24/20</th>\n",
       "      <th>8/25/20</th>\n",
       "      <th>8/26/20</th>\n",
       "      <th>8/27/20</th>\n",
       "      <th>8/28/20</th>\n",
       "      <th>8/29/20</th>\n",
       "    </tr>\n",
       "    <tr>\n",
       "      <th>Country/Region</th>\n",
       "      <th></th>\n",
       "      <th></th>\n",
       "      <th></th>\n",
       "      <th></th>\n",
       "      <th></th>\n",
       "      <th></th>\n",
       "      <th></th>\n",
       "      <th></th>\n",
       "      <th></th>\n",
       "      <th></th>\n",
       "      <th></th>\n",
       "      <th></th>\n",
       "      <th></th>\n",
       "      <th></th>\n",
       "      <th></th>\n",
       "      <th></th>\n",
       "      <th></th>\n",
       "      <th></th>\n",
       "      <th></th>\n",
       "      <th></th>\n",
       "      <th></th>\n",
       "    </tr>\n",
       "  </thead>\n",
       "  <tbody>\n",
       "    <tr>\n",
       "      <th>Afghanistan</th>\n",
       "      <td>NaN</td>\n",
       "      <td>33.93911</td>\n",
       "      <td>67.709953</td>\n",
       "      <td>0</td>\n",
       "      <td>0</td>\n",
       "      <td>0</td>\n",
       "      <td>0</td>\n",
       "      <td>0</td>\n",
       "      <td>0</td>\n",
       "      <td>0</td>\n",
       "      <td>...</td>\n",
       "      <td>37856</td>\n",
       "      <td>37894</td>\n",
       "      <td>37953</td>\n",
       "      <td>37999</td>\n",
       "      <td>38054</td>\n",
       "      <td>38070</td>\n",
       "      <td>38113</td>\n",
       "      <td>38129</td>\n",
       "      <td>38140</td>\n",
       "      <td>38143</td>\n",
       "    </tr>\n",
       "    <tr>\n",
       "      <th>Albania</th>\n",
       "      <td>NaN</td>\n",
       "      <td>41.15330</td>\n",
       "      <td>20.168300</td>\n",
       "      <td>0</td>\n",
       "      <td>0</td>\n",
       "      <td>0</td>\n",
       "      <td>0</td>\n",
       "      <td>0</td>\n",
       "      <td>0</td>\n",
       "      <td>0</td>\n",
       "      <td>...</td>\n",
       "      <td>7967</td>\n",
       "      <td>8119</td>\n",
       "      <td>8275</td>\n",
       "      <td>8427</td>\n",
       "      <td>8605</td>\n",
       "      <td>8759</td>\n",
       "      <td>8927</td>\n",
       "      <td>9083</td>\n",
       "      <td>9195</td>\n",
       "      <td>9279</td>\n",
       "    </tr>\n",
       "    <tr>\n",
       "      <th>Algeria</th>\n",
       "      <td>NaN</td>\n",
       "      <td>28.03390</td>\n",
       "      <td>1.659600</td>\n",
       "      <td>0</td>\n",
       "      <td>0</td>\n",
       "      <td>0</td>\n",
       "      <td>0</td>\n",
       "      <td>0</td>\n",
       "      <td>0</td>\n",
       "      <td>0</td>\n",
       "      <td>...</td>\n",
       "      <td>40258</td>\n",
       "      <td>40667</td>\n",
       "      <td>41068</td>\n",
       "      <td>41460</td>\n",
       "      <td>41858</td>\n",
       "      <td>42228</td>\n",
       "      <td>42619</td>\n",
       "      <td>43016</td>\n",
       "      <td>43403</td>\n",
       "      <td>43781</td>\n",
       "    </tr>\n",
       "    <tr>\n",
       "      <th>Andorra</th>\n",
       "      <td>NaN</td>\n",
       "      <td>42.50630</td>\n",
       "      <td>1.521800</td>\n",
       "      <td>0</td>\n",
       "      <td>0</td>\n",
       "      <td>0</td>\n",
       "      <td>0</td>\n",
       "      <td>0</td>\n",
       "      <td>0</td>\n",
       "      <td>0</td>\n",
       "      <td>...</td>\n",
       "      <td>1024</td>\n",
       "      <td>1045</td>\n",
       "      <td>1045</td>\n",
       "      <td>1045</td>\n",
       "      <td>1060</td>\n",
       "      <td>1060</td>\n",
       "      <td>1098</td>\n",
       "      <td>1098</td>\n",
       "      <td>1124</td>\n",
       "      <td>1124</td>\n",
       "    </tr>\n",
       "    <tr>\n",
       "      <th>Angola</th>\n",
       "      <td>NaN</td>\n",
       "      <td>-11.20270</td>\n",
       "      <td>17.873900</td>\n",
       "      <td>0</td>\n",
       "      <td>0</td>\n",
       "      <td>0</td>\n",
       "      <td>0</td>\n",
       "      <td>0</td>\n",
       "      <td>0</td>\n",
       "      <td>0</td>\n",
       "      <td>...</td>\n",
       "      <td>2044</td>\n",
       "      <td>2068</td>\n",
       "      <td>2134</td>\n",
       "      <td>2171</td>\n",
       "      <td>2222</td>\n",
       "      <td>2283</td>\n",
       "      <td>2332</td>\n",
       "      <td>2415</td>\n",
       "      <td>2471</td>\n",
       "      <td>2551</td>\n",
       "    </tr>\n",
       "  </tbody>\n",
       "</table>\n",
       "<p>5 rows × 224 columns</p>\n",
       "</div>"
      ],
      "text/plain": [
       "               Province/State       Lat       Long  1/22/20  1/23/20  1/24/20  \\\n",
       "Country/Region                                                                  \n",
       "Afghanistan               NaN  33.93911  67.709953        0        0        0   \n",
       "Albania                   NaN  41.15330  20.168300        0        0        0   \n",
       "Algeria                   NaN  28.03390   1.659600        0        0        0   \n",
       "Andorra                   NaN  42.50630   1.521800        0        0        0   \n",
       "Angola                    NaN -11.20270  17.873900        0        0        0   \n",
       "\n",
       "                1/25/20  1/26/20  1/27/20  1/28/20  ...  8/20/20  8/21/20  \\\n",
       "Country/Region                                      ...                     \n",
       "Afghanistan           0        0        0        0  ...    37856    37894   \n",
       "Albania               0        0        0        0  ...     7967     8119   \n",
       "Algeria               0        0        0        0  ...    40258    40667   \n",
       "Andorra               0        0        0        0  ...     1024     1045   \n",
       "Angola                0        0        0        0  ...     2044     2068   \n",
       "\n",
       "                8/22/20  8/23/20  8/24/20  8/25/20  8/26/20  8/27/20  8/28/20  \\\n",
       "Country/Region                                                                  \n",
       "Afghanistan       37953    37999    38054    38070    38113    38129    38140   \n",
       "Albania            8275     8427     8605     8759     8927     9083     9195   \n",
       "Algeria           41068    41460    41858    42228    42619    43016    43403   \n",
       "Andorra            1045     1045     1060     1060     1098     1098     1124   \n",
       "Angola             2134     2171     2222     2283     2332     2415     2471   \n",
       "\n",
       "                8/29/20  \n",
       "Country/Region           \n",
       "Afghanistan       38143  \n",
       "Albania            9279  \n",
       "Algeria           43781  \n",
       "Andorra            1124  \n",
       "Angola             2551  \n",
       "\n",
       "[5 rows x 224 columns]"
      ]
     },
     "execution_count": 305,
     "metadata": {},
     "output_type": "execute_result"
    }
   ],
   "source": [
    "# [YOUR CODE HERE]\n",
    "data_countries.set_index(\"Country/Region\", inplace=True)\n",
    "\n",
    "data_countries.head()"
   ]
  },
  {
   "cell_type": "markdown",
   "metadata": {
    "id": "GQ0HMQcHuTLk"
   },
   "source": [
    "6. Subsample the data so that it only includes the first 100 days. Hint: Use `iloc`\n",
    "\n",
    "  Verify that the result of the `head()` method is what's expected."
   ]
  },
  {
   "cell_type": "code",
   "execution_count": 314,
   "metadata": {
    "colab": {
     "base_uri": "https://localhost:8080/",
     "height": 328
    },
    "id": "wIgLJC0eUtyI",
    "outputId": "e07eaeb9-b1ac-4ad3-ff3a-abe1a2da5ecc"
   },
   "outputs": [
    {
     "data": {
      "text/html": [
       "<div>\n",
       "<style scoped>\n",
       "    .dataframe tbody tr th:only-of-type {\n",
       "        vertical-align: middle;\n",
       "    }\n",
       "\n",
       "    .dataframe tbody tr th {\n",
       "        vertical-align: top;\n",
       "    }\n",
       "\n",
       "    .dataframe thead th {\n",
       "        text-align: right;\n",
       "    }\n",
       "</style>\n",
       "<table border=\"1\" class=\"dataframe\">\n",
       "  <thead>\n",
       "    <tr style=\"text-align: right;\">\n",
       "      <th></th>\n",
       "      <th>Province/State</th>\n",
       "      <th>Lat</th>\n",
       "      <th>Long</th>\n",
       "      <th>1/22/20</th>\n",
       "      <th>1/23/20</th>\n",
       "      <th>1/24/20</th>\n",
       "      <th>1/25/20</th>\n",
       "      <th>1/26/20</th>\n",
       "      <th>1/27/20</th>\n",
       "      <th>1/28/20</th>\n",
       "      <th>...</th>\n",
       "      <th>4/21/20</th>\n",
       "      <th>4/22/20</th>\n",
       "      <th>4/23/20</th>\n",
       "      <th>4/24/20</th>\n",
       "      <th>4/25/20</th>\n",
       "      <th>4/26/20</th>\n",
       "      <th>4/27/20</th>\n",
       "      <th>4/28/20</th>\n",
       "      <th>4/29/20</th>\n",
       "      <th>4/30/20</th>\n",
       "    </tr>\n",
       "    <tr>\n",
       "      <th>Country/Region</th>\n",
       "      <th></th>\n",
       "      <th></th>\n",
       "      <th></th>\n",
       "      <th></th>\n",
       "      <th></th>\n",
       "      <th></th>\n",
       "      <th></th>\n",
       "      <th></th>\n",
       "      <th></th>\n",
       "      <th></th>\n",
       "      <th></th>\n",
       "      <th></th>\n",
       "      <th></th>\n",
       "      <th></th>\n",
       "      <th></th>\n",
       "      <th></th>\n",
       "      <th></th>\n",
       "      <th></th>\n",
       "      <th></th>\n",
       "      <th></th>\n",
       "      <th></th>\n",
       "    </tr>\n",
       "  </thead>\n",
       "  <tbody>\n",
       "    <tr>\n",
       "      <th>Afghanistan</th>\n",
       "      <td>NaN</td>\n",
       "      <td>33.93911</td>\n",
       "      <td>67.709953</td>\n",
       "      <td>0</td>\n",
       "      <td>0</td>\n",
       "      <td>0</td>\n",
       "      <td>0</td>\n",
       "      <td>0</td>\n",
       "      <td>0</td>\n",
       "      <td>0</td>\n",
       "      <td>...</td>\n",
       "      <td>1092</td>\n",
       "      <td>1176</td>\n",
       "      <td>1279</td>\n",
       "      <td>1351</td>\n",
       "      <td>1463</td>\n",
       "      <td>1531</td>\n",
       "      <td>1703</td>\n",
       "      <td>1828</td>\n",
       "      <td>1939</td>\n",
       "      <td>2171</td>\n",
       "    </tr>\n",
       "    <tr>\n",
       "      <th>Albania</th>\n",
       "      <td>NaN</td>\n",
       "      <td>41.15330</td>\n",
       "      <td>20.168300</td>\n",
       "      <td>0</td>\n",
       "      <td>0</td>\n",
       "      <td>0</td>\n",
       "      <td>0</td>\n",
       "      <td>0</td>\n",
       "      <td>0</td>\n",
       "      <td>0</td>\n",
       "      <td>...</td>\n",
       "      <td>609</td>\n",
       "      <td>634</td>\n",
       "      <td>663</td>\n",
       "      <td>678</td>\n",
       "      <td>712</td>\n",
       "      <td>726</td>\n",
       "      <td>736</td>\n",
       "      <td>750</td>\n",
       "      <td>766</td>\n",
       "      <td>773</td>\n",
       "    </tr>\n",
       "    <tr>\n",
       "      <th>Algeria</th>\n",
       "      <td>NaN</td>\n",
       "      <td>28.03390</td>\n",
       "      <td>1.659600</td>\n",
       "      <td>0</td>\n",
       "      <td>0</td>\n",
       "      <td>0</td>\n",
       "      <td>0</td>\n",
       "      <td>0</td>\n",
       "      <td>0</td>\n",
       "      <td>0</td>\n",
       "      <td>...</td>\n",
       "      <td>2811</td>\n",
       "      <td>2910</td>\n",
       "      <td>3007</td>\n",
       "      <td>3127</td>\n",
       "      <td>3256</td>\n",
       "      <td>3382</td>\n",
       "      <td>3517</td>\n",
       "      <td>3649</td>\n",
       "      <td>3848</td>\n",
       "      <td>4006</td>\n",
       "    </tr>\n",
       "    <tr>\n",
       "      <th>Andorra</th>\n",
       "      <td>NaN</td>\n",
       "      <td>42.50630</td>\n",
       "      <td>1.521800</td>\n",
       "      <td>0</td>\n",
       "      <td>0</td>\n",
       "      <td>0</td>\n",
       "      <td>0</td>\n",
       "      <td>0</td>\n",
       "      <td>0</td>\n",
       "      <td>0</td>\n",
       "      <td>...</td>\n",
       "      <td>717</td>\n",
       "      <td>723</td>\n",
       "      <td>723</td>\n",
       "      <td>731</td>\n",
       "      <td>738</td>\n",
       "      <td>738</td>\n",
       "      <td>743</td>\n",
       "      <td>743</td>\n",
       "      <td>743</td>\n",
       "      <td>745</td>\n",
       "    </tr>\n",
       "    <tr>\n",
       "      <th>Angola</th>\n",
       "      <td>NaN</td>\n",
       "      <td>-11.20270</td>\n",
       "      <td>17.873900</td>\n",
       "      <td>0</td>\n",
       "      <td>0</td>\n",
       "      <td>0</td>\n",
       "      <td>0</td>\n",
       "      <td>0</td>\n",
       "      <td>0</td>\n",
       "      <td>0</td>\n",
       "      <td>...</td>\n",
       "      <td>24</td>\n",
       "      <td>25</td>\n",
       "      <td>25</td>\n",
       "      <td>25</td>\n",
       "      <td>25</td>\n",
       "      <td>26</td>\n",
       "      <td>27</td>\n",
       "      <td>27</td>\n",
       "      <td>27</td>\n",
       "      <td>27</td>\n",
       "    </tr>\n",
       "  </tbody>\n",
       "</table>\n",
       "<p>5 rows × 103 columns</p>\n",
       "</div>"
      ],
      "text/plain": [
       "               Province/State       Lat       Long  1/22/20  1/23/20  1/24/20  \\\n",
       "Country/Region                                                                  \n",
       "Afghanistan               NaN  33.93911  67.709953        0        0        0   \n",
       "Albania                   NaN  41.15330  20.168300        0        0        0   \n",
       "Algeria                   NaN  28.03390   1.659600        0        0        0   \n",
       "Andorra                   NaN  42.50630   1.521800        0        0        0   \n",
       "Angola                    NaN -11.20270  17.873900        0        0        0   \n",
       "\n",
       "                1/25/20  1/26/20  1/27/20  1/28/20  ...  4/21/20  4/22/20  \\\n",
       "Country/Region                                      ...                     \n",
       "Afghanistan           0        0        0        0  ...     1092     1176   \n",
       "Albania               0        0        0        0  ...      609      634   \n",
       "Algeria               0        0        0        0  ...     2811     2910   \n",
       "Andorra               0        0        0        0  ...      717      723   \n",
       "Angola                0        0        0        0  ...       24       25   \n",
       "\n",
       "                4/23/20  4/24/20  4/25/20  4/26/20  4/27/20  4/28/20  4/29/20  \\\n",
       "Country/Region                                                                  \n",
       "Afghanistan        1279     1351     1463     1531     1703     1828     1939   \n",
       "Albania             663      678      712      726      736      750      766   \n",
       "Algeria            3007     3127     3256     3382     3517     3649     3848   \n",
       "Andorra             723      731      738      738      743      743      743   \n",
       "Angola               25       25       25       26       27       27       27   \n",
       "\n",
       "                4/30/20  \n",
       "Country/Region           \n",
       "Afghanistan        2171  \n",
       "Albania             773  \n",
       "Algeria            4006  \n",
       "Andorra             745  \n",
       "Angola               27  \n",
       "\n",
       "[5 rows x 103 columns]"
      ]
     },
     "execution_count": 314,
     "metadata": {},
     "output_type": "execute_result"
    }
   ],
   "source": [
    "data_subsampled = data_countries.iloc[:,0 : 103]# [YOUR CODE HERE]\n",
    "data_subsampled.head()"
   ]
  },
  {
   "cell_type": "markdown",
   "metadata": {
    "id": "guuejIPnJwaB"
   },
   "source": [
    "7. We can drop the `Province/State` column since we are no longer using it.\n",
    "\n",
    "  Here, `axis=1` is referring to dropping a column rather than dropping a row.\n",
    "  \n",
    "  Look at the result of the `head()` method to verify that it's what's expected."
   ]
  },
  {
   "cell_type": "code",
   "execution_count": 16,
   "metadata": {
    "colab": {
     "base_uri": "https://localhost:8080/",
     "height": 328
    },
    "id": "nq43q_-EJwaB",
    "outputId": "328c8773-e309-4a57-f42d-7d6defa93059"
   },
   "outputs": [
    {
     "data": {
      "text/html": [
       "<div>\n",
       "<style scoped>\n",
       "    .dataframe tbody tr th:only-of-type {\n",
       "        vertical-align: middle;\n",
       "    }\n",
       "\n",
       "    .dataframe tbody tr th {\n",
       "        vertical-align: top;\n",
       "    }\n",
       "\n",
       "    .dataframe thead th {\n",
       "        text-align: right;\n",
       "    }\n",
       "</style>\n",
       "<table border=\"1\" class=\"dataframe\">\n",
       "  <thead>\n",
       "    <tr style=\"text-align: right;\">\n",
       "      <th></th>\n",
       "      <th>Lat</th>\n",
       "      <th>Long</th>\n",
       "      <th>1/22/20</th>\n",
       "      <th>1/23/20</th>\n",
       "      <th>1/24/20</th>\n",
       "      <th>1/25/20</th>\n",
       "      <th>1/26/20</th>\n",
       "      <th>1/27/20</th>\n",
       "      <th>1/28/20</th>\n",
       "      <th>1/29/20</th>\n",
       "      <th>...</th>\n",
       "      <th>4/20/20</th>\n",
       "      <th>4/21/20</th>\n",
       "      <th>4/22/20</th>\n",
       "      <th>4/23/20</th>\n",
       "      <th>4/24/20</th>\n",
       "      <th>4/25/20</th>\n",
       "      <th>4/26/20</th>\n",
       "      <th>4/27/20</th>\n",
       "      <th>4/28/20</th>\n",
       "      <th>4/29/20</th>\n",
       "    </tr>\n",
       "    <tr>\n",
       "      <th>Country/Region</th>\n",
       "      <th></th>\n",
       "      <th></th>\n",
       "      <th></th>\n",
       "      <th></th>\n",
       "      <th></th>\n",
       "      <th></th>\n",
       "      <th></th>\n",
       "      <th></th>\n",
       "      <th></th>\n",
       "      <th></th>\n",
       "      <th></th>\n",
       "      <th></th>\n",
       "      <th></th>\n",
       "      <th></th>\n",
       "      <th></th>\n",
       "      <th></th>\n",
       "      <th></th>\n",
       "      <th></th>\n",
       "      <th></th>\n",
       "      <th></th>\n",
       "      <th></th>\n",
       "    </tr>\n",
       "  </thead>\n",
       "  <tbody>\n",
       "    <tr>\n",
       "      <th>Afghanistan</th>\n",
       "      <td>33.93911</td>\n",
       "      <td>67.709953</td>\n",
       "      <td>0</td>\n",
       "      <td>0</td>\n",
       "      <td>0</td>\n",
       "      <td>0</td>\n",
       "      <td>0</td>\n",
       "      <td>0</td>\n",
       "      <td>0</td>\n",
       "      <td>0</td>\n",
       "      <td>...</td>\n",
       "      <td>1026</td>\n",
       "      <td>1092</td>\n",
       "      <td>1176</td>\n",
       "      <td>1279</td>\n",
       "      <td>1351</td>\n",
       "      <td>1463</td>\n",
       "      <td>1531</td>\n",
       "      <td>1703</td>\n",
       "      <td>1828</td>\n",
       "      <td>1939</td>\n",
       "    </tr>\n",
       "    <tr>\n",
       "      <th>Albania</th>\n",
       "      <td>41.15330</td>\n",
       "      <td>20.168300</td>\n",
       "      <td>0</td>\n",
       "      <td>0</td>\n",
       "      <td>0</td>\n",
       "      <td>0</td>\n",
       "      <td>0</td>\n",
       "      <td>0</td>\n",
       "      <td>0</td>\n",
       "      <td>0</td>\n",
       "      <td>...</td>\n",
       "      <td>584</td>\n",
       "      <td>609</td>\n",
       "      <td>634</td>\n",
       "      <td>663</td>\n",
       "      <td>678</td>\n",
       "      <td>712</td>\n",
       "      <td>726</td>\n",
       "      <td>736</td>\n",
       "      <td>750</td>\n",
       "      <td>766</td>\n",
       "    </tr>\n",
       "    <tr>\n",
       "      <th>Algeria</th>\n",
       "      <td>28.03390</td>\n",
       "      <td>1.659600</td>\n",
       "      <td>0</td>\n",
       "      <td>0</td>\n",
       "      <td>0</td>\n",
       "      <td>0</td>\n",
       "      <td>0</td>\n",
       "      <td>0</td>\n",
       "      <td>0</td>\n",
       "      <td>0</td>\n",
       "      <td>...</td>\n",
       "      <td>2718</td>\n",
       "      <td>2811</td>\n",
       "      <td>2910</td>\n",
       "      <td>3007</td>\n",
       "      <td>3127</td>\n",
       "      <td>3256</td>\n",
       "      <td>3382</td>\n",
       "      <td>3517</td>\n",
       "      <td>3649</td>\n",
       "      <td>3848</td>\n",
       "    </tr>\n",
       "    <tr>\n",
       "      <th>Andorra</th>\n",
       "      <td>42.50630</td>\n",
       "      <td>1.521800</td>\n",
       "      <td>0</td>\n",
       "      <td>0</td>\n",
       "      <td>0</td>\n",
       "      <td>0</td>\n",
       "      <td>0</td>\n",
       "      <td>0</td>\n",
       "      <td>0</td>\n",
       "      <td>0</td>\n",
       "      <td>...</td>\n",
       "      <td>717</td>\n",
       "      <td>717</td>\n",
       "      <td>723</td>\n",
       "      <td>723</td>\n",
       "      <td>731</td>\n",
       "      <td>738</td>\n",
       "      <td>738</td>\n",
       "      <td>743</td>\n",
       "      <td>743</td>\n",
       "      <td>743</td>\n",
       "    </tr>\n",
       "    <tr>\n",
       "      <th>Angola</th>\n",
       "      <td>-11.20270</td>\n",
       "      <td>17.873900</td>\n",
       "      <td>0</td>\n",
       "      <td>0</td>\n",
       "      <td>0</td>\n",
       "      <td>0</td>\n",
       "      <td>0</td>\n",
       "      <td>0</td>\n",
       "      <td>0</td>\n",
       "      <td>0</td>\n",
       "      <td>...</td>\n",
       "      <td>24</td>\n",
       "      <td>24</td>\n",
       "      <td>25</td>\n",
       "      <td>25</td>\n",
       "      <td>25</td>\n",
       "      <td>25</td>\n",
       "      <td>26</td>\n",
       "      <td>27</td>\n",
       "      <td>27</td>\n",
       "      <td>27</td>\n",
       "    </tr>\n",
       "  </tbody>\n",
       "</table>\n",
       "<p>5 rows × 101 columns</p>\n",
       "</div>"
      ],
      "text/plain": [
       "                     Lat       Long  1/22/20  1/23/20  1/24/20  1/25/20  \\\n",
       "Country/Region                                                            \n",
       "Afghanistan     33.93911  67.709953        0        0        0        0   \n",
       "Albania         41.15330  20.168300        0        0        0        0   \n",
       "Algeria         28.03390   1.659600        0        0        0        0   \n",
       "Andorra         42.50630   1.521800        0        0        0        0   \n",
       "Angola         -11.20270  17.873900        0        0        0        0   \n",
       "\n",
       "                1/26/20  1/27/20  1/28/20  1/29/20  ...  4/20/20  4/21/20  \\\n",
       "Country/Region                                      ...                     \n",
       "Afghanistan           0        0        0        0  ...     1026     1092   \n",
       "Albania               0        0        0        0  ...      584      609   \n",
       "Algeria               0        0        0        0  ...     2718     2811   \n",
       "Andorra               0        0        0        0  ...      717      717   \n",
       "Angola                0        0        0        0  ...       24       24   \n",
       "\n",
       "                4/22/20  4/23/20  4/24/20  4/25/20  4/26/20  4/27/20  4/28/20  \\\n",
       "Country/Region                                                                  \n",
       "Afghanistan        1176     1279     1351     1463     1531     1703     1828   \n",
       "Albania             634      663      678      712      726      736      750   \n",
       "Algeria            2910     3007     3127     3256     3382     3517     3649   \n",
       "Andorra             723      723      731      738      738      743      743   \n",
       "Angola               25       25       25       25       26       27       27   \n",
       "\n",
       "                4/29/20  \n",
       "Country/Region           \n",
       "Afghanistan        1939  \n",
       "Albania             766  \n",
       "Algeria            3848  \n",
       "Andorra             743  \n",
       "Angola               27  \n",
       "\n",
       "[5 rows x 101 columns]"
      ]
     },
     "execution_count": 16,
     "metadata": {},
     "output_type": "execute_result"
    }
   ],
   "source": [
    "data_subsampled.drop([\"Province/State\"], axis=1, inplace=True)\n",
    "data_subsampled.head()"
   ]
  },
  {
   "cell_type": "markdown",
   "metadata": {
    "id": "cA8uf1WYJwaB"
   },
   "source": [
    "8. What is the size of your subsampled dataset? (Use `shape`)"
   ]
  },
  {
   "cell_type": "code",
   "execution_count": 17,
   "metadata": {
    "colab": {
     "base_uri": "https://localhost:8080/"
    },
    "id": "PXH8SCEAJwaB",
    "outputId": "735bad56-0c68-4b87-e9cd-6ff327272d0f"
   },
   "outputs": [
    {
     "data": {
      "text/plain": [
       "(185, 101)"
      ]
     },
     "execution_count": 17,
     "metadata": {},
     "output_type": "execute_result"
    }
   ],
   "source": [
    "# [YOUR CODE HERE]\n",
    "data_subsampled.shape"
   ]
  },
  {
   "cell_type": "markdown",
   "metadata": {
    "id": "WF3qSqfazYwj"
   },
   "source": [
    "9. Choose 5 countries and plot infections vs the number of days after January 22, 2020.\n",
    "\n",
    "  To get the row of a country by name, do `data_subsampled.loc['Angola']`."
   ]
  },
  {
   "cell_type": "code",
   "execution_count": 92,
   "metadata": {},
   "outputs": [],
   "source": [
    "import seaborn as sns\n",
    "import numpy as np"
   ]
  },
  {
   "cell_type": "code",
   "execution_count": 285,
   "metadata": {
    "colab": {
     "base_uri": "https://localhost:8080/",
     "height": 198
    },
    "id": "3PdoAfP7UxiD",
    "outputId": "8b6059dc-ab8f-4bd6-fbdb-0af18f45c2e1"
   },
   "outputs": [
    {
     "name": "stdout",
     "output_type": "stream",
     "text": [
      "(495, 5)\n"
     ]
    },
    {
     "data": {
      "image/png": "[encoded data removed]",
      "text/plain": [
       "<Figure size 576x720 with 1 Axes>"
      ]
     },
     "metadata": {},
     "output_type": "display_data"
    }
   ],
   "source": [
    "# [YOUR CODE HERE]\n",
    "d = data_subsampled.loc[[\"Albania\", \"Algeria\",\"Andorra\",\"Angola\", \"Afghanistan\"]].reset_index()\n",
    "d = d.melt(id_vars=[\"Country/Region\", \"Lat\", \"Long\"], var_name='Date', value_name=\"Infections\")\n",
    "print(d.shape)\n",
    "d[\"Date\"] = pd.to_datetime(d[\"Date\"])\n",
    "filtered_df = d.loc[(d['Date'] >= '2020-01-22')]\n",
    "filtered_df['days_epoc'] = (filtered_df['Date'] - filtered_df.Date.min() ).dt.days\n",
    "masks = filtered_df['Infections'] > 1\n",
    "filtered_df = filtered_df[masks]\n",
    "filtered_df[\"log_infections\"] =  np.log2(filtered_df['Infections'])\n",
    "sns.scatterplot(x = \"days_epoc\", y = \"Infections\",data = filtered_df, hue=\"Country/Region\"); \n",
    "plt.xticks(rotation = 25); "
   ]
  },
  {
   "cell_type": "markdown",
   "metadata": {
    "id": "Qgfa8HxD3xxw"
   },
   "source": [
    "### Task 4 -- Set up a regression problem based on latitude, longitude, and date\n",
    "\n",
    "Now we're going to see if the combination of latitude, longitude, and date can be used to accurately predict the number of infections in this dataset.\n",
    "\n",
    "1. We will be creating two matrices $\\mathbf{X}$ and $\\mathbf{Y}$, where $\\mathbf{X}$ holds the `[lat, long, date]` data and $\\mathbf{Y}$ holds the `infection` data. $\\mathbf{X}$ will have shape $k \\times 3$ and $\\mathbf{Y}$ should have shape $k \\times 1$. What is the value $k$, based on the size of the subsample from the full dataset that we've taken?\n"
   ]
  },
  {
   "cell_type": "code",
   "execution_count": 115,
   "metadata": {},
   "outputs": [
    {
     "data": {
      "text/plain": [
       "(185, 101)"
      ]
     },
     "execution_count": 115,
     "metadata": {},
     "output_type": "execute_result"
    }
   ],
   "source": [
    "data_subsampled.shape"
   ]
  },
  {
   "cell_type": "markdown",
   "metadata": {
    "id": "OxrDIMsfVL2h"
   },
   "source": [
    "*k = 185*"
   ]
  },
  {
   "cell_type": "markdown",
   "metadata": {
    "id": "rqhXwmgVJwaC"
   },
   "source": [
    "2. It will be easier to work with the data if we do a transformation using the `.melt()` method."
   ]
  },
  {
   "cell_type": "code",
   "execution_count": 110,
   "metadata": {
    "id": "t431xwxqJwaC"
   },
   "outputs": [
    {
     "data": {
      "text/html": [
       "<div>\n",
       "<style scoped>\n",
       "    .dataframe tbody tr th:only-of-type {\n",
       "        vertical-align: middle;\n",
       "    }\n",
       "\n",
       "    .dataframe tbody tr th {\n",
       "        vertical-align: top;\n",
       "    }\n",
       "\n",
       "    .dataframe thead th {\n",
       "        text-align: right;\n",
       "    }\n",
       "</style>\n",
       "<table border=\"1\" class=\"dataframe\">\n",
       "  <thead>\n",
       "    <tr style=\"text-align: right;\">\n",
       "      <th></th>\n",
       "      <th>Country/Region</th>\n",
       "      <th>Lat</th>\n",
       "      <th>Long</th>\n",
       "      <th>Date</th>\n",
       "      <th>Covid Cases</th>\n",
       "    </tr>\n",
       "  </thead>\n",
       "  <tbody>\n",
       "    <tr>\n",
       "      <th>0</th>\n",
       "      <td>Afghanistan</td>\n",
       "      <td>33.93911</td>\n",
       "      <td>67.709953</td>\n",
       "      <td>1/22/20</td>\n",
       "      <td>0</td>\n",
       "    </tr>\n",
       "    <tr>\n",
       "      <th>1</th>\n",
       "      <td>Albania</td>\n",
       "      <td>41.15330</td>\n",
       "      <td>20.168300</td>\n",
       "      <td>1/22/20</td>\n",
       "      <td>0</td>\n",
       "    </tr>\n",
       "    <tr>\n",
       "      <th>2</th>\n",
       "      <td>Algeria</td>\n",
       "      <td>28.03390</td>\n",
       "      <td>1.659600</td>\n",
       "      <td>1/22/20</td>\n",
       "      <td>0</td>\n",
       "    </tr>\n",
       "    <tr>\n",
       "      <th>3</th>\n",
       "      <td>Andorra</td>\n",
       "      <td>42.50630</td>\n",
       "      <td>1.521800</td>\n",
       "      <td>1/22/20</td>\n",
       "      <td>0</td>\n",
       "    </tr>\n",
       "    <tr>\n",
       "      <th>4</th>\n",
       "      <td>Angola</td>\n",
       "      <td>-11.20270</td>\n",
       "      <td>17.873900</td>\n",
       "      <td>1/22/20</td>\n",
       "      <td>0</td>\n",
       "    </tr>\n",
       "  </tbody>\n",
       "</table>\n",
       "</div>"
      ],
      "text/plain": [
       "  Country/Region       Lat       Long     Date  Covid Cases\n",
       "0    Afghanistan  33.93911  67.709953  1/22/20            0\n",
       "1        Albania  41.15330  20.168300  1/22/20            0\n",
       "2        Algeria  28.03390   1.659600  1/22/20            0\n",
       "3        Andorra  42.50630   1.521800  1/22/20            0\n",
       "4         Angola -11.20270  17.873900  1/22/20            0"
      ]
     },
     "execution_count": 110,
     "metadata": {},
     "output_type": "execute_result"
    }
   ],
   "source": [
    "d_r = data_subsampled.reset_index()\n",
    "data_transformed = d_r.melt(id_vars=[\"Country/Region\", \"Lat\", \"Long\"], var_name='Date', value_name=\"Covid Cases\")\n",
    "data_transformed.head()"
   ]
  },
  {
   "cell_type": "markdown",
   "metadata": {
    "id": "cY79Epr_JwaD"
   },
   "source": [
    "3. Looking at the result of `data_transformed.head()`, what did the `.melt()` transformation do?"
   ]
  },
  {
   "cell_type": "markdown",
   "metadata": {
    "id": "_1_NObO6JwaD"
   },
   "source": [
    "The algorithm below states concisely what the .melt() do \n",
    "```   \n",
    "   for each row:\n",
    "     get Lat, Long, dates = [(Date label 1: Covid Cases value 1), ....., (Date label N: Covid Cases value N)]\n",
    "     header = \"Lat, Long, Date, Covid Cases\"\n",
    "     print(header)\n",
    "     for each date_pair in dates \n",
    "         create a row \n",
    "           Date = date_pair[0]\n",
    "           Covid Cases = date_pair[1]\n",
    "           row = [Lat, Long , Date ,Covid Cases] \n",
    "           print(row)\n",
    "```           "
   ]
  },
  {
   "cell_type": "markdown",
   "metadata": {
    "id": "Dq6qjM9AJwaD"
   },
   "source": [
    "4. Instead of the data, we will want to work with `Days since January 22, 2020`, so let's add that column. Pandas has some slick ways of working dates, so we're taking advantage of that to get what we want."
   ]
  },
  {
   "cell_type": "code",
   "execution_count": 116,
   "metadata": {
    "id": "QOWpAvuTJwaD"
   },
   "outputs": [
    {
     "data": {
      "text/html": [
       "<div>\n",
       "<style scoped>\n",
       "    .dataframe tbody tr th:only-of-type {\n",
       "        vertical-align: middle;\n",
       "    }\n",
       "\n",
       "    .dataframe tbody tr th {\n",
       "        vertical-align: top;\n",
       "    }\n",
       "\n",
       "    .dataframe thead th {\n",
       "        text-align: right;\n",
       "    }\n",
       "</style>\n",
       "<table border=\"1\" class=\"dataframe\">\n",
       "  <thead>\n",
       "    <tr style=\"text-align: right;\">\n",
       "      <th></th>\n",
       "      <th>Country/Region</th>\n",
       "      <th>Lat</th>\n",
       "      <th>Long</th>\n",
       "      <th>Date</th>\n",
       "      <th>Covid Cases</th>\n",
       "      <th>Num Days</th>\n",
       "    </tr>\n",
       "  </thead>\n",
       "  <tbody>\n",
       "    <tr>\n",
       "      <th>0</th>\n",
       "      <td>Afghanistan</td>\n",
       "      <td>33.93911</td>\n",
       "      <td>67.709953</td>\n",
       "      <td>1/22/20</td>\n",
       "      <td>0</td>\n",
       "      <td>0</td>\n",
       "    </tr>\n",
       "    <tr>\n",
       "      <th>1</th>\n",
       "      <td>Albania</td>\n",
       "      <td>41.15330</td>\n",
       "      <td>20.168300</td>\n",
       "      <td>1/22/20</td>\n",
       "      <td>0</td>\n",
       "      <td>0</td>\n",
       "    </tr>\n",
       "    <tr>\n",
       "      <th>2</th>\n",
       "      <td>Algeria</td>\n",
       "      <td>28.03390</td>\n",
       "      <td>1.659600</td>\n",
       "      <td>1/22/20</td>\n",
       "      <td>0</td>\n",
       "      <td>0</td>\n",
       "    </tr>\n",
       "    <tr>\n",
       "      <th>3</th>\n",
       "      <td>Andorra</td>\n",
       "      <td>42.50630</td>\n",
       "      <td>1.521800</td>\n",
       "      <td>1/22/20</td>\n",
       "      <td>0</td>\n",
       "      <td>0</td>\n",
       "    </tr>\n",
       "    <tr>\n",
       "      <th>4</th>\n",
       "      <td>Angola</td>\n",
       "      <td>-11.20270</td>\n",
       "      <td>17.873900</td>\n",
       "      <td>1/22/20</td>\n",
       "      <td>0</td>\n",
       "      <td>0</td>\n",
       "    </tr>\n",
       "  </tbody>\n",
       "</table>\n",
       "</div>"
      ],
      "text/plain": [
       "  Country/Region       Lat       Long     Date  Covid Cases  Num Days\n",
       "0    Afghanistan  33.93911  67.709953  1/22/20            0         0\n",
       "1        Albania  41.15330  20.168300  1/22/20            0         0\n",
       "2        Algeria  28.03390   1.659600  1/22/20            0         0\n",
       "3        Andorra  42.50630   1.521800  1/22/20            0         0\n",
       "4         Angola -11.20270  17.873900  1/22/20            0         0"
      ]
     },
     "execution_count": 116,
     "metadata": {},
     "output_type": "execute_result"
    }
   ],
   "source": [
    "from datetime import datetime\n",
    "date_series = pd.to_datetime(data_transformed['Date'])\n",
    "data_transformed['Num Days'] = (date_series - date_series[0]).dt.days\n",
    "data_transformed.head()"
   ]
  },
  {
   "cell_type": "markdown",
   "metadata": {
    "id": "9BY1rMHeVRUd"
   },
   "source": [
    "5. Now we're ready to create the matrices $\\mathbf{X}$ and $\\mathbf{Y}$ below by selecting the appropriate data from the `data_transformed` DataFrame.\n",
    "\n",
    "  Make sure to do `.values` to convert the data to numpy arrays rather than Pandas objects."
   ]
  },
  {
   "cell_type": "code",
   "execution_count": 124,
   "metadata": {},
   "outputs": [
    {
     "data": {
      "text/plain": [
       "array([ 0,  0,  0, ...,  6, 97, 32])"
      ]
     },
     "execution_count": 124,
     "metadata": {},
     "output_type": "execute_result"
    }
   ],
   "source": [
    "data_transformed.iloc[:, 4].values"
   ]
  },
  {
   "cell_type": "code",
   "execution_count": 139,
   "metadata": {},
   "outputs": [
    {
     "data": {
      "text/html": [
       "<div>\n",
       "<style scoped>\n",
       "    .dataframe tbody tr th:only-of-type {\n",
       "        vertical-align: middle;\n",
       "    }\n",
       "\n",
       "    .dataframe tbody tr th {\n",
       "        vertical-align: top;\n",
       "    }\n",
       "\n",
       "    .dataframe thead th {\n",
       "        text-align: right;\n",
       "    }\n",
       "</style>\n",
       "<table border=\"1\" class=\"dataframe\">\n",
       "  <thead>\n",
       "    <tr style=\"text-align: right;\">\n",
       "      <th></th>\n",
       "      <th>Country/Region</th>\n",
       "      <th>Lat</th>\n",
       "      <th>Long</th>\n",
       "      <th>Date</th>\n",
       "      <th>Covid Cases</th>\n",
       "      <th>Num Days</th>\n",
       "    </tr>\n",
       "  </thead>\n",
       "  <tbody>\n",
       "    <tr>\n",
       "      <th>0</th>\n",
       "      <td>Afghanistan</td>\n",
       "      <td>33.939110</td>\n",
       "      <td>67.709953</td>\n",
       "      <td>1/22/20</td>\n",
       "      <td>0</td>\n",
       "      <td>0</td>\n",
       "    </tr>\n",
       "    <tr>\n",
       "      <th>1</th>\n",
       "      <td>Albania</td>\n",
       "      <td>41.153300</td>\n",
       "      <td>20.168300</td>\n",
       "      <td>1/22/20</td>\n",
       "      <td>0</td>\n",
       "      <td>0</td>\n",
       "    </tr>\n",
       "    <tr>\n",
       "      <th>2</th>\n",
       "      <td>Algeria</td>\n",
       "      <td>28.033900</td>\n",
       "      <td>1.659600</td>\n",
       "      <td>1/22/20</td>\n",
       "      <td>0</td>\n",
       "      <td>0</td>\n",
       "    </tr>\n",
       "    <tr>\n",
       "      <th>3</th>\n",
       "      <td>Andorra</td>\n",
       "      <td>42.506300</td>\n",
       "      <td>1.521800</td>\n",
       "      <td>1/22/20</td>\n",
       "      <td>0</td>\n",
       "      <td>0</td>\n",
       "    </tr>\n",
       "    <tr>\n",
       "      <th>4</th>\n",
       "      <td>Angola</td>\n",
       "      <td>-11.202700</td>\n",
       "      <td>17.873900</td>\n",
       "      <td>1/22/20</td>\n",
       "      <td>0</td>\n",
       "      <td>0</td>\n",
       "    </tr>\n",
       "    <tr>\n",
       "      <th>...</th>\n",
       "      <td>...</td>\n",
       "      <td>...</td>\n",
       "      <td>...</td>\n",
       "      <td>...</td>\n",
       "      <td>...</td>\n",
       "      <td>...</td>\n",
       "    </tr>\n",
       "    <tr>\n",
       "      <th>18310</th>\n",
       "      <td>West Bank and Gaza</td>\n",
       "      <td>31.952200</td>\n",
       "      <td>35.233200</td>\n",
       "      <td>4/29/20</td>\n",
       "      <td>344</td>\n",
       "      <td>98</td>\n",
       "    </tr>\n",
       "    <tr>\n",
       "      <th>18311</th>\n",
       "      <td>Western Sahara</td>\n",
       "      <td>24.215500</td>\n",
       "      <td>-12.885800</td>\n",
       "      <td>4/29/20</td>\n",
       "      <td>6</td>\n",
       "      <td>98</td>\n",
       "    </tr>\n",
       "    <tr>\n",
       "      <th>18312</th>\n",
       "      <td>Yemen</td>\n",
       "      <td>15.552727</td>\n",
       "      <td>48.516388</td>\n",
       "      <td>4/29/20</td>\n",
       "      <td>6</td>\n",
       "      <td>98</td>\n",
       "    </tr>\n",
       "    <tr>\n",
       "      <th>18313</th>\n",
       "      <td>Zambia</td>\n",
       "      <td>-13.133897</td>\n",
       "      <td>27.849332</td>\n",
       "      <td>4/29/20</td>\n",
       "      <td>97</td>\n",
       "      <td>98</td>\n",
       "    </tr>\n",
       "    <tr>\n",
       "      <th>18314</th>\n",
       "      <td>Zimbabwe</td>\n",
       "      <td>-19.015438</td>\n",
       "      <td>29.154857</td>\n",
       "      <td>4/29/20</td>\n",
       "      <td>32</td>\n",
       "      <td>98</td>\n",
       "    </tr>\n",
       "  </tbody>\n",
       "</table>\n",
       "<p>18315 rows × 6 columns</p>\n",
       "</div>"
      ],
      "text/plain": [
       "           Country/Region        Lat       Long     Date  Covid Cases  \\\n",
       "0             Afghanistan  33.939110  67.709953  1/22/20            0   \n",
       "1                 Albania  41.153300  20.168300  1/22/20            0   \n",
       "2                 Algeria  28.033900   1.659600  1/22/20            0   \n",
       "3                 Andorra  42.506300   1.521800  1/22/20            0   \n",
       "4                  Angola -11.202700  17.873900  1/22/20            0   \n",
       "...                   ...        ...        ...      ...          ...   \n",
       "18310  West Bank and Gaza  31.952200  35.233200  4/29/20          344   \n",
       "18311      Western Sahara  24.215500 -12.885800  4/29/20            6   \n",
       "18312               Yemen  15.552727  48.516388  4/29/20            6   \n",
       "18313              Zambia -13.133897  27.849332  4/29/20           97   \n",
       "18314            Zimbabwe -19.015438  29.154857  4/29/20           32   \n",
       "\n",
       "       Num Days  \n",
       "0             0  \n",
       "1             0  \n",
       "2             0  \n",
       "3             0  \n",
       "4             0  \n",
       "...         ...  \n",
       "18310        98  \n",
       "18311        98  \n",
       "18312        98  \n",
       "18313        98  \n",
       "18314        98  \n",
       "\n",
       "[18315 rows x 6 columns]"
      ]
     },
     "execution_count": 139,
     "metadata": {},
     "output_type": "execute_result"
    }
   ],
   "source": [
    "data_transformed"
   ]
  },
  {
   "cell_type": "code",
   "execution_count": 140,
   "metadata": {},
   "outputs": [
    {
     "data": {
      "text/html": [
       "<div>\n",
       "<style scoped>\n",
       "    .dataframe tbody tr th:only-of-type {\n",
       "        vertical-align: middle;\n",
       "    }\n",
       "\n",
       "    .dataframe tbody tr th {\n",
       "        vertical-align: top;\n",
       "    }\n",
       "\n",
       "    .dataframe thead th {\n",
       "        text-align: right;\n",
       "    }\n",
       "</style>\n",
       "<table border=\"1\" class=\"dataframe\">\n",
       "  <thead>\n",
       "    <tr style=\"text-align: right;\">\n",
       "      <th></th>\n",
       "      <th>Country/Region</th>\n",
       "      <th>Lat</th>\n",
       "      <th>Long</th>\n",
       "      <th>Covid Cases</th>\n",
       "      <th>Num Days</th>\n",
       "    </tr>\n",
       "  </thead>\n",
       "  <tbody>\n",
       "    <tr>\n",
       "      <th>0</th>\n",
       "      <td>Afghanistan</td>\n",
       "      <td>33.939110</td>\n",
       "      <td>67.709953</td>\n",
       "      <td>0</td>\n",
       "      <td>0</td>\n",
       "    </tr>\n",
       "    <tr>\n",
       "      <th>1</th>\n",
       "      <td>Albania</td>\n",
       "      <td>41.153300</td>\n",
       "      <td>20.168300</td>\n",
       "      <td>0</td>\n",
       "      <td>0</td>\n",
       "    </tr>\n",
       "    <tr>\n",
       "      <th>2</th>\n",
       "      <td>Algeria</td>\n",
       "      <td>28.033900</td>\n",
       "      <td>1.659600</td>\n",
       "      <td>0</td>\n",
       "      <td>0</td>\n",
       "    </tr>\n",
       "    <tr>\n",
       "      <th>3</th>\n",
       "      <td>Andorra</td>\n",
       "      <td>42.506300</td>\n",
       "      <td>1.521800</td>\n",
       "      <td>0</td>\n",
       "      <td>0</td>\n",
       "    </tr>\n",
       "    <tr>\n",
       "      <th>4</th>\n",
       "      <td>Angola</td>\n",
       "      <td>-11.202700</td>\n",
       "      <td>17.873900</td>\n",
       "      <td>0</td>\n",
       "      <td>0</td>\n",
       "    </tr>\n",
       "    <tr>\n",
       "      <th>...</th>\n",
       "      <td>...</td>\n",
       "      <td>...</td>\n",
       "      <td>...</td>\n",
       "      <td>...</td>\n",
       "      <td>...</td>\n",
       "    </tr>\n",
       "    <tr>\n",
       "      <th>18310</th>\n",
       "      <td>West Bank and Gaza</td>\n",
       "      <td>31.952200</td>\n",
       "      <td>35.233200</td>\n",
       "      <td>344</td>\n",
       "      <td>98</td>\n",
       "    </tr>\n",
       "    <tr>\n",
       "      <th>18311</th>\n",
       "      <td>Western Sahara</td>\n",
       "      <td>24.215500</td>\n",
       "      <td>-12.885800</td>\n",
       "      <td>6</td>\n",
       "      <td>98</td>\n",
       "    </tr>\n",
       "    <tr>\n",
       "      <th>18312</th>\n",
       "      <td>Yemen</td>\n",
       "      <td>15.552727</td>\n",
       "      <td>48.516388</td>\n",
       "      <td>6</td>\n",
       "      <td>98</td>\n",
       "    </tr>\n",
       "    <tr>\n",
       "      <th>18313</th>\n",
       "      <td>Zambia</td>\n",
       "      <td>-13.133897</td>\n",
       "      <td>27.849332</td>\n",
       "      <td>97</td>\n",
       "      <td>98</td>\n",
       "    </tr>\n",
       "    <tr>\n",
       "      <th>18314</th>\n",
       "      <td>Zimbabwe</td>\n",
       "      <td>-19.015438</td>\n",
       "      <td>29.154857</td>\n",
       "      <td>32</td>\n",
       "      <td>98</td>\n",
       "    </tr>\n",
       "  </tbody>\n",
       "</table>\n",
       "<p>18315 rows × 5 columns</p>\n",
       "</div>"
      ],
      "text/plain": [
       "           Country/Region        Lat       Long  Covid Cases  Num Days\n",
       "0             Afghanistan  33.939110  67.709953            0         0\n",
       "1                 Albania  41.153300  20.168300            0         0\n",
       "2                 Algeria  28.033900   1.659600            0         0\n",
       "3                 Andorra  42.506300   1.521800            0         0\n",
       "4                  Angola -11.202700  17.873900            0         0\n",
       "...                   ...        ...        ...          ...       ...\n",
       "18310  West Bank and Gaza  31.952200  35.233200          344        98\n",
       "18311      Western Sahara  24.215500 -12.885800            6        98\n",
       "18312               Yemen  15.552727  48.516388            6        98\n",
       "18313              Zambia -13.133897  27.849332           97        98\n",
       "18314            Zimbabwe -19.015438  29.154857           32        98\n",
       "\n",
       "[18315 rows x 5 columns]"
      ]
     },
     "execution_count": 140,
     "metadata": {},
     "output_type": "execute_result"
    }
   ],
   "source": [
    "# get num days column \n",
    "data_transformed.drop([\"Date\"], axis=1)"
   ]
  },
  {
   "cell_type": "code",
   "execution_count": null,
   "metadata": {},
   "outputs": [],
   "source": [
    "#Note: We are trying to find a relationship between the covid cases in 4 seperate countries, I dont think there is \n",
    "#relationship between the entities,"
   ]
  },
  {
   "cell_type": "code",
   "execution_count": 286,
   "metadata": {
    "id": "GRmAGoFsVafv"
   },
   "outputs": [],
   "source": [
    "X = data_transformed[[\"Lat\",\"Long\",\"Num Days\"]].values # [YOUR CODE HERE]\n",
    "Y = data_transformed[[\"Covid Cases\"]].values # [YOUR CODE HERE]"
   ]
  },
  {
   "cell_type": "markdown",
   "metadata": {
    "id": "qVL18ajK9iZd"
   },
   "source": [
    "6. The following code will make a plot for each of the 3 independent variables (latitude, longitude, and date). Each plot shoes the variable on the x axis and the number of infections on the y axis."
   ]
  },
  {
   "cell_type": "code",
   "execution_count": 287,
   "metadata": {
    "id": "e_eW0gHA-NEN"
   },
   "outputs": [
    {
     "data": {
      "image/png": "[encoded data removed]",
      "text/plain": [
       "<Figure size 1200x400 with 3 Axes>"
      ]
     },
     "metadata": {},
     "output_type": "display_data"
    }
   ],
   "source": [
    "plt.figure(figsize=(12, 4), dpi=100)\n",
    "for i, variable in enumerate(['Latitude', 'Longitude', 'Days since January 22, 2020']):\n",
    "  ax = plt.subplot(1, 3, i + 1)\n",
    "  ax.scatter(X[:, i], Y, s=10)\n",
    "  ax.set_xlabel(variable)\n",
    "  ax.set_ylabel('Number of infections')\n",
    "plt.tight_layout(w_pad=3)"
   ]
  },
  {
   "cell_type": "code",
   "execution_count": 348,
   "metadata": {},
   "outputs": [],
   "source": [
    "# Lets see what happen when we look at individual countries\n",
    "X = data_transformed[[\"Num Days\"]].values # [YOUR CODE HERE]\n",
    "Y = data_transformed[[\"Covid Cases\"]].values # [YOUR CODE HERE]"
   ]
  },
  {
   "cell_type": "code",
   "execution_count": 349,
   "metadata": {},
   "outputs": [
    {
     "data": {
      "image/png": "[encoded data removed]",
      "text/plain": [
       "<Figure size 1200x400 with 1 Axes>"
      ]
     },
     "metadata": {},
     "output_type": "display_data"
    }
   ],
   "source": [
    "plt.figure(figsize=(12, 4), dpi=100)\n",
    "for i, variable in enumerate(['Days since January 22, 2020']):\n",
    "  ax = plt.subplot(1, 3, i + 1)\n",
    "  ax.scatter(X[:, i], Y, s=10)\n",
    "  ax.set_xlabel(variable)\n",
    "  ax.set_ylabel('Number of infections')\n",
    "plt.tight_layout(w_pad=3)"
   ]
  },
  {
   "cell_type": "markdown",
   "metadata": {
    "id": "A7ffGAgn__nd"
   },
   "source": [
    "7. Discuss with your classmates in your breakout room what you notice about this data. Are there other ways you might try to visualize it to uncover some structure? Does this data look like a good candidate for fitting a linear model?"
   ]
  },
  {
   "cell_type": "markdown",
   "metadata": {
    "id": "5RjXMMq8JwaG"
   },
   "source": [
    "*[YOUR ANSWER HERE]*\n",
    "When we mades plots that included all the 4 countries data, the visualization did not uncover much structure. However plotting the data for each country seperately gave better insight into the structure of the data"
   ]
  },
  {
   "cell_type": "markdown",
   "metadata": {
    "id": "0HQMSndiBCQA"
   },
   "source": [
    "8. Now split the data randomly into training and test sets. Make the training set 70% of the data and the test set the remaining 30%. You could do this manually, but we'll use the `train_test_split` function from the machine learning library [scikit-learn](https://scikit-learn.org/stable/). We use a random state so that every time you run the code you'll get the same result which makes it easier to test our code.\n",
    "\n",
    "    The line should look like:\n",
    "    ```\n",
    "    X_train, X_test, Y_train, Y_test = train_test_split(<FILL IN HERE>, random_state=10)\n",
    "    ```\n",
    "    \n",
    "    Read the [documentation](https://scikit-learn.org/stable/modules/generated/sklearn.model_selection.train_test_split.html) to determine what parameters to pass `train_test_split`."
   ]
  },
  {
   "cell_type": "code",
   "execution_count": 350,
   "metadata": {
    "id": "1d9l2gD4Bwlp"
   },
   "outputs": [],
   "source": [
    "from sklearn.model_selection import train_test_split\n",
    "from sklearn.preprocessing import StandardScaler\n",
    "\n",
    "X_train, X_test, Y_train, Y_test = train_test_split(X,Y, test_size=0.30, random_state=10)"
   ]
  },
  {
   "cell_type": "markdown",
   "metadata": {
    "id": "b2MhYn0HJwaH"
   },
   "source": [
    "### Task 5 -- Apply a linear regression model to the data\n",
    "\n",
    "We'll be using scikit-learn's `LinearRegression` module. In the week's material, you'll learn how to do a linear regression manually, but for now let's use scikit-learn's implementation."
   ]
  },
  {
   "cell_type": "markdown",
   "metadata": {
    "id": "R0Go8-_LJwaH"
   },
   "source": [
    "1. Import the `LinearRegression` module."
   ]
  },
  {
   "cell_type": "code",
   "execution_count": 351,
   "metadata": {
    "id": "3krHLg7dJwaH"
   },
   "outputs": [],
   "source": [
    "from sklearn.linear_model import LinearRegression"
   ]
  },
  {
   "cell_type": "markdown",
   "metadata": {
    "id": "vkXcgUmDJwaH"
   },
   "source": [
    "2. Build a `LinearRegression` model for our data. You will need run the `lin_regression.fit()` method passing it the training set (`X_train` and `Y_train`). Take a look at the scikit-learn documentation for [LinearRegression](https://scikit-learn.org/stable/modules/generated/sklearn.linear_model.LinearRegression.html) for more details."
   ]
  },
  {
   "cell_type": "code",
   "execution_count": 352,
   "metadata": {
    "id": "v3XUccakJwaH"
   },
   "outputs": [
    {
     "name": "stdout",
     "output_type": "stream",
     "text": [
      "The regression coefficients are:  [[148.30634985]]\n",
      "The intercept is [-3808.86364975]\n"
     ]
    }
   ],
   "source": [
    "lin_regression = LinearRegression()\n",
    "\n",
    "# [YOUR CODE HERE]\n",
    "lin_regression.fit(X_train, Y_train)\n",
    "\n",
    "print(\"The regression coefficients are: \", lin_regression.coef_)\n",
    "print(\"The intercept is\", lin_regression.intercept_)"
   ]
  },
  {
   "cell_type": "markdown",
   "metadata": {
    "id": "kwqv9nxtJwaH"
   },
   "source": [
    "3. Use the `.predict()` method of the `lin_regression` object to generate predictions of the test data."
   ]
  },
  {
   "cell_type": "code",
   "execution_count": 353,
   "metadata": {
    "id": "Y8bQ24-RJwaH"
   },
   "outputs": [],
   "source": [
    "Y_pred = lin_regression.predict(X_test) # [YOUR CODE HERE]"
   ]
  },
  {
   "cell_type": "markdown",
   "metadata": {
    "id": "P26cbmAiJwaI"
   },
   "source": [
    "4. What is the MSE? Use scikit-learn's `mean_squared_error` function to find out. You'll need to compare the `Y_pred` with `Y_test`."
   ]
  },
  {
   "cell_type": "code",
   "execution_count": 354,
   "metadata": {
    "id": "jqL09QroJwaI"
   },
   "outputs": [
    {
     "data": {
      "text/plain": [
       "884175921.449587"
      ]
     },
     "execution_count": 354,
     "metadata": {},
     "output_type": "execute_result"
    }
   ],
   "source": [
    "from sklearn.metrics import mean_squared_error\n",
    "\n",
    "# [YOUR CODE HERE]\n",
    "mean_squared_error(Y_test, Y_pred)"
   ]
  },
  {
   "cell_type": "markdown",
   "metadata": {
    "id": "1RXrrcCAJwaI"
   },
   "source": [
    "5. You can also calculate the R^2 value by using the `score()` method of `lin_regression`. Make sure to pass it the test arrays (and not the train ones!)"
   ]
  },
  {
   "cell_type": "code",
   "execution_count": 355,
   "metadata": {
    "id": "LnVcGJVvJwaI"
   },
   "outputs": [
    {
     "data": {
      "text/plain": [
       "0.020240445988603528"
      ]
     },
     "execution_count": 355,
     "metadata": {},
     "output_type": "execute_result"
    }
   ],
   "source": [
    "# [YOUR CODE HERE]\n",
    "lin_regression.score(X_test, Y_test)"
   ]
  },
  {
   "cell_type": "markdown",
   "metadata": {
    "id": "qH5SZjxBDnR-"
   },
   "source": [
    "### Task 6 -- Apply a polynomial regression of degree 2 to this data"
   ]
  },
  {
   "cell_type": "markdown",
   "metadata": {
    "id": "1tZq9YwSEKY2"
   },
   "source": [
    "To see if we can improve on the accuracy, we're going to try adding polynomial features. We can do this with the `PolynomialFeatures` module.\n",
    "\n",
    "1. Import the module we'll be using."
   ]
  },
  {
   "cell_type": "code",
   "execution_count": 356,
   "metadata": {
    "id": "C2OvjhEsEGzT"
   },
   "outputs": [],
   "source": [
    "from sklearn.preprocessing import PolynomialFeatures"
   ]
  },
  {
   "cell_type": "markdown",
   "metadata": {
    "id": "3kTQyEgkJwaI"
   },
   "source": [
    "2. We'll use `degree=2` which means we'll include new features that are our old features squared as well as the combinations of the features (e.g. $ab$). How many new features will this add?\n",
    "\n",
    "  Note: it will also include an additional constant feature."
   ]
  },
  {
   "cell_type": "markdown",
   "metadata": {
    "id": "BHn-AlKVJwaJ"
   },
   "source": [
    "*[YOUR ANSWER HERE]*\n",
    "There will be six additional features\n",
    "7 : $Constant=1.00, Lat^2, Long^2, Num_Days^2, Lat Long, Lat Num Days, Long Num Days$ "
   ]
  },
  {
   "cell_type": "markdown",
   "metadata": {
    "id": "TxX7VFc0JwaJ"
   },
   "source": [
    "3. We use the `PolynomialFeatures` module to add the new features. See the result of the shape of the new test set. Is it what you expected? If not, go back and see which features you missed."
   ]
  },
  {
   "cell_type": "code",
   "execution_count": 357,
   "metadata": {
    "id": "mGr3ZKRiJwaK"
   },
   "outputs": [
    {
     "name": "stdout",
     "output_type": "stream",
     "text": [
      "New shape of test data= (5495, 21)\n"
     ]
    },
    {
     "data": {
      "text/plain": [
       "array([1.00000000e+00, 6.80000000e+01, 4.62400000e+03, 3.14432000e+05,\n",
       "       2.13813760e+07, 1.45393357e+09, 9.88674826e+10, 6.72298882e+12,\n",
       "       4.57163240e+14, 3.10871003e+16, 2.11392282e+18, 1.43746752e+20,\n",
       "       9.77477912e+21, 6.64684980e+23, 4.51985787e+25, 3.07350335e+27,\n",
       "       2.08998228e+29, 1.42118795e+31, 9.66407805e+32, 6.57157307e+34,\n",
       "       4.46866969e+36])"
      ]
     },
     "execution_count": 357,
     "metadata": {},
     "output_type": "execute_result"
    }
   ],
   "source": [
    "poly_features = PolynomialFeatures(degree=20)\n",
    "X_train_poly = poly_features.fit_transform(X_train)\n",
    "X_test_poly = poly_features.transform(X_test)\n",
    "print(\"New shape of test data=\", X_test_poly.shape)\n",
    "X_train_poly[2] "
   ]
  },
  {
   "cell_type": "markdown",
   "metadata": {
    "id": "Kk77L19nJwaL"
   },
   "source": [
    "4. Use the new `X_train_poly` and `Y_train_poly` build a linear regression model and get the MSE and R^2 values like you did above."
   ]
  },
  {
   "cell_type": "code",
   "execution_count": 358,
   "metadata": {
    "id": "U1IEL9X1Fd26"
   },
   "outputs": [
    {
     "name": "stdout",
     "output_type": "stream",
     "text": [
      "mean_squared_error:881479656.1748743\n",
      "score:0.02322819039439772\n"
     ]
    }
   ],
   "source": [
    "# [YOUR CODE HERE]\n",
    "lin_regression.fit(X_train_poly,Y_train)\n",
    "Y_preds_poly = lin_regression.predict(X_test_poly)\n",
    "print(f\"mean_squared_error:{mean_squared_error(Y_test, Y_preds_poly)}\")\n",
    "print(f\"score:{lin_regression.score(X_test_poly,Y_test)}\")"
   ]
  },
  {
   "cell_type": "code",
   "execution_count": 359,
   "metadata": {},
   "outputs": [
    {
     "data": {
      "text/plain": [
       "<matplotlib.collections.PathCollection at 0x17b0d4e50>"
      ]
     },
     "execution_count": 359,
     "metadata": {},
     "output_type": "execute_result"
    },
    {
     "data": {
      "image/png": "[encoded data removed]",
      "text/plain": [
       "<Figure size 576x720 with 1 Axes>"
      ]
     },
     "metadata": {},
     "output_type": "display_data"
    }
   ],
   "source": [
    "plt.scatter(X_test, Y_test, color=\"black\")\n",
    "plt.scatter(X_test, Y_preds_poly, color=\"blue\", linewidth=3)"
   ]
  },
  {
   "cell_type": "markdown",
   "metadata": {
    "id": "XwAPJKIiJwaL"
   },
   "source": [
    "5. How does the score of this model that uses polynomial features compare to the linear model above?"
   ]
  },
  {
   "cell_type": "markdown",
   "metadata": {
    "id": "0OpP1MbCJwaL"
   },
   "source": [
    "*[YOUR ANSWER HERE]*\n",
    "\n",
    "Both Models were terrible, using polynomial features did not improve the quality of the model"
   ]
  },
  {
   "cell_type": "markdown",
   "metadata": {
    "id": "bsXZU4MbJGWe"
   },
   "source": [
    "### Task 7 -- Run an experiment identifying the degree of the best-fitting polynomial regression\n",
    "\n",
    "1. Your job is now to repeat the fitting and prediction steps above, but for polyomials of all orders from 1 to 20. For each fit, compute and save the mean squared error of the predictions."
   ]
  },
  {
   "cell_type": "code",
   "execution_count": 360,
   "metadata": {
    "id": "SivORAMXKM40"
   },
   "outputs": [],
   "source": [
    "\n",
    "def fit_and_score(parameters):\n",
    "    eval_results = {}\n",
    "    X_train = parameters[\"X_train\"]\n",
    "    Y_train = parameters[\"Y_train\"]\n",
    "    Y_test  = parameters[\"Y_test\"]\n",
    "    X_test  =  parameters[\"X_test\"]\n",
    "    degree  = parameters[\"degree\"]\n",
    "    \n",
    "    lin_regression = LinearRegression()\n",
    "    poly_features = PolynomialFeatures(degree=degree)\n",
    "    X_train_poly = poly_features.fit_transform(X_train)\n",
    "    X_test_poly = poly_features.transform(X_test)\n",
    "    lin_regression.fit(X_train_poly,Y_train)\n",
    "    Y_preds_poly = lin_regression.predict(X_test_poly)\n",
    "        \n",
    "    eval_results[\"score\"] = lin_regression.score(X_test_poly,Y_test)\n",
    "    eval_results[\"mean_squared_error\"] = mean_squared_error(Y_test, Y_preds_poly)\n",
    "    eval_results[\"degree\"] = parameters[\"degree\"]\n",
    "    return eval_results, Y_preds_poly, degree\n",
    "    "
   ]
  },
  {
   "cell_type": "code",
   "execution_count": 361,
   "metadata": {},
   "outputs": [],
   "source": [
    "parameters = {}\n",
    "parameters[\"X_train\"] = X_train\n",
    "parameters[\"Y_train\"] = Y_train\n",
    "parameters[\"Y_test\"]  =  Y_test \n",
    "parameters[\"X_test\"]  =  X_test\n",
    "preds_dict = {}\n",
    "results = [] \n",
    "for degree in range(1,21): \n",
    "    parameters[\"degree\"] = degree\n",
    "    eval_results, preds, degree = fit_and_score(parameters)\n",
    "    results.append(eval_results)\n",
    "    preds_dict[degree] = preds"
   ]
  },
  {
   "cell_type": "code",
   "execution_count": 362,
   "metadata": {},
   "outputs": [
    {
     "data": {
      "image/png": "[encoded data removed]",
      "text/plain": [
       "<Figure size 720x720 with 2 Axes>"
      ]
     },
     "metadata": {},
     "output_type": "display_data"
    }
   ],
   "source": [
    "results_df = pd.DataFrame(results)\n",
    "results_df.head()\n",
    "plt.style.use('ggplot')\n",
    "sns.set(rc={\"figure.figsize\":(10, 10)})\n",
    "fig = plt.figure()\n",
    "fig.subplots_adjust(hspace=0.4, wspace=0.4)\n",
    "ax = fig.add_subplot(2, 2, 1)\n",
    "sns.lineplot(x='degree', y='score',data=results_df, ax=ax)\n",
    "ax = fig.add_subplot(2, 2, 2)\n",
    "sns.lineplot(x='degree', y='mean_squared_error',data=results_df, ax=ax)\n",
    "plt.show()"
   ]
  },
  {
   "cell_type": "markdown",
   "metadata": {},
   "source": [
    "From the above chart we can see that 3th order polynomial gives the best model, the chart below shows how well the this model fits the Test data"
   ]
  },
  {
   "cell_type": "code",
   "execution_count": 363,
   "metadata": {},
   "outputs": [
    {
     "data": {
      "text/plain": [
       "<matplotlib.collections.PathCollection at 0x17b105e20>"
      ]
     },
     "execution_count": 363,
     "metadata": {},
     "output_type": "execute_result"
    },
    {
     "data": {
      "image/png": "[encoded data removed]",
      "text/plain": [
       "<Figure size 576x720 with 1 Axes>"
      ]
     },
     "metadata": {},
     "output_type": "display_data"
    }
   ],
   "source": [
    "sns.set(rc={\"figure.figsize\":(8, 10)})\n",
    "Y_preds = preds_dict[5] \n",
    "plt.scatter(X_test, Y_test, color=\"green\")\n",
    "plt.scatter(X_test, Y_preds, color=\"red\", linewidth=3)"
   ]
  },
  {
   "cell_type": "markdown",
   "metadata": {
    "id": "8oEn4sGXLFbC"
   },
   "source": [
    "2. Report the polynomial order that resulted in the best fit. Does this number make sense? Do you think the regression has produced a good model for the data? Discuss with your classmates."
   ]
  },
  {
   "cell_type": "markdown",
   "metadata": {
    "id": "_-amjD5XJwaL"
   },
   "source": [
    "*[YOUR ANSWER HERE]*\n",
    "This approach did not create a good model for the data. A better apprach would be to create a seperate model for each country as shown in the included alternative_approach.ipynb notebook."
   ]
  },
  {
   "cell_type": "code",
   "execution_count": null,
   "metadata": {},
   "outputs": [],
   "source": []
  }
 ],
 "metadata": {
  "colab": {
   "collapsed_sections": [],
   "name": "week0_liveassignment.ipynb",
   "provenance": []
  },
  "kernelspec": {
   "display_name": "Python 3 (ipykernel)",
   "language": "python",
   "name": "python3"
  },
  "language_info": {
   "codemirror_mode": {
    "name": "ipython",
    "version": 3
   },
   "file_extension": ".py",
   "mimetype": "text/x-python",
   "name": "python",
   "nbconvert_exporter": "python",
   "pygments_lexer": "ipython3",
   "version": "3.9.7"
  }
 },
 "nbformat": 4,
 "nbformat_minor": 4
}
