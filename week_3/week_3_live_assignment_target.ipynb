{
 "cells": [
  {
   "cell_type": "code",
   "execution_count": 5,
   "metadata": {},
   "outputs": [],
   "source": [
    "from IPython.core.interactiveshell import InteractiveShell\n",
    "InteractiveShell.ast_node_interactivity = 'all'\n",
    "\n",
    "import numpy as np\n",
    "\n",
    "from sklearn.cluster import KMeans\n",
    "import matplotlib.pyplot as plt\n",
    "plt.style.use('Solarize_Light2')\n",
    "\n",
    "from sklearn.preprocessing import StandardScaler"
   ]
  },
  {
   "cell_type": "markdown",
   "metadata": {
    "id": "1ggXLdNuAGoi"
   },
   "source": [
    "## Today you are a Machine Learning Engineer at the Department of Business Intelligence at Target Cosmetics!\n",
    "This work relies on processed data from Kaggle https://www.kaggle.com/mkechinov/ecommerce-events-history-in-cosmetics-shop\n",
    "\n",
    "This work is motivated by the publication https://arxiv.org/pdf/2010.02503.pdf and https://arxiv.org/pdf/2102.01625.pdf\n",
    "\n",
    "This data is similar to the Ecommerce data we looked at last week, but for cosmetics retail. Also, the data indicating time-of-day, day-of-week, month, and year of the purchase have been converted to one-hot representations of these categories.\n",
    "\n",
    "Our objective in this notebook will be to discover some structure in this data by applying some of the **unsupervised learning** methods covered in class this week.\n",
    "\n",
    "You have access to 250,000 user-journeys and you have been asked to:\n",
    "1. Find patterns among customer purchasing behaviors to identify categories of customers, i.e. how many categories of customers are there based on their purchasing behavior?\n",
    "2. Visually inspect the customer categories to identify the distinctive categories and their most important features."
   ]
  },
  {
   "cell_type": "markdown",
   "metadata": {
    "id": "EOeCwyxypaFz"
   },
   "source": [
    "## Task 1: Load in the data"
   ]
  },
  {
   "cell_type": "markdown",
   "metadata": {
    "id": "3XAWWl-t1Qr-"
   },
   "source": [
    "If running in Google Colab, run this first:"
   ]
  },
  {
   "cell_type": "code",
   "execution_count": null,
   "metadata": {
    "id": "udBEolpnuWxO"
   },
   "outputs": [],
   "source": [
    "from google.colab import drive\n",
    "drive.mount('/content/drive')"
   ]
  },
  {
   "cell_type": "markdown",
   "metadata": {},
   "source": [
    "1. Import pandas (nickname `pd`) and use `pd.read_csv()` to read in the `Cosmetics_data_2019.csv` dataset, saving it as `df`. Look at the first few rows with the `.head()` method.\n",
    "\n",
    "    Look at the data to get a basic understanding of the dataset."
   ]
  },
  {
   "cell_type": "code",
   "execution_count": 6,
   "metadata": {
    "executionInfo": {
     "elapsed": 3,
     "status": "ok",
     "timestamp": 1628789344778,
     "user": {
      "displayName": "Spencer Kent",
      "photoUrl": "",
      "userId": "07841346171340846448"
     },
     "user_tz": 360
    },
    "id": "jnRNgZ6gxHwm"
   },
   "outputs": [
    {
     "data": {
      "text/html": [
       "<div>\n",
       "<style scoped>\n",
       "    .dataframe tbody tr th:only-of-type {\n",
       "        vertical-align: middle;\n",
       "    }\n",
       "\n",
       "    .dataframe tbody tr th {\n",
       "        vertical-align: top;\n",
       "    }\n",
       "\n",
       "    .dataframe thead th {\n",
       "        text-align: right;\n",
       "    }\n",
       "</style>\n",
       "<table border=\"1\" class=\"dataframe\">\n",
       "  <thead>\n",
       "    <tr style=\"text-align: right;\">\n",
       "      <th></th>\n",
       "      <th>user_id</th>\n",
       "      <th>product_id</th>\n",
       "      <th>NumOfEventsInJourney</th>\n",
       "      <th>NumSessions</th>\n",
       "      <th>interactionTime</th>\n",
       "      <th>maxPrice</th>\n",
       "      <th>minPrice</th>\n",
       "      <th>NumCart</th>\n",
       "      <th>NumView</th>\n",
       "      <th>NumRemove</th>\n",
       "      <th>...</th>\n",
       "      <th>Nov</th>\n",
       "      <th>Dec</th>\n",
       "      <th>Afternoon</th>\n",
       "      <th>Dawn</th>\n",
       "      <th>EarlyMorning</th>\n",
       "      <th>Evening</th>\n",
       "      <th>Morning</th>\n",
       "      <th>Night</th>\n",
       "      <th>Noon</th>\n",
       "      <th>Purchase</th>\n",
       "    </tr>\n",
       "  </thead>\n",
       "  <tbody>\n",
       "    <tr>\n",
       "      <th>0</th>\n",
       "      <td>537190108</td>\n",
       "      <td>27762</td>\n",
       "      <td>2</td>\n",
       "      <td>2</td>\n",
       "      <td>4749</td>\n",
       "      <td>19.03</td>\n",
       "      <td>19.03</td>\n",
       "      <td>0</td>\n",
       "      <td>1</td>\n",
       "      <td>1</td>\n",
       "      <td>...</td>\n",
       "      <td>1</td>\n",
       "      <td>0</td>\n",
       "      <td>0</td>\n",
       "      <td>0</td>\n",
       "      <td>0</td>\n",
       "      <td>0</td>\n",
       "      <td>1</td>\n",
       "      <td>0</td>\n",
       "      <td>0</td>\n",
       "      <td>0</td>\n",
       "    </tr>\n",
       "    <tr>\n",
       "      <th>1</th>\n",
       "      <td>577668451</td>\n",
       "      <td>5865119</td>\n",
       "      <td>1</td>\n",
       "      <td>1</td>\n",
       "      <td>0</td>\n",
       "      <td>4.60</td>\n",
       "      <td>4.60</td>\n",
       "      <td>0</td>\n",
       "      <td>1</td>\n",
       "      <td>0</td>\n",
       "      <td>...</td>\n",
       "      <td>1</td>\n",
       "      <td>0</td>\n",
       "      <td>1</td>\n",
       "      <td>0</td>\n",
       "      <td>0</td>\n",
       "      <td>0</td>\n",
       "      <td>0</td>\n",
       "      <td>0</td>\n",
       "      <td>0</td>\n",
       "      <td>0</td>\n",
       "    </tr>\n",
       "    <tr>\n",
       "      <th>2</th>\n",
       "      <td>607369766</td>\n",
       "      <td>5922121</td>\n",
       "      <td>1</td>\n",
       "      <td>1</td>\n",
       "      <td>0</td>\n",
       "      <td>35.71</td>\n",
       "      <td>35.71</td>\n",
       "      <td>0</td>\n",
       "      <td>1</td>\n",
       "      <td>0</td>\n",
       "      <td>...</td>\n",
       "      <td>0</td>\n",
       "      <td>0</td>\n",
       "      <td>0</td>\n",
       "      <td>0</td>\n",
       "      <td>0</td>\n",
       "      <td>1</td>\n",
       "      <td>0</td>\n",
       "      <td>0</td>\n",
       "      <td>0</td>\n",
       "      <td>0</td>\n",
       "    </tr>\n",
       "    <tr>\n",
       "      <th>3</th>\n",
       "      <td>572456715</td>\n",
       "      <td>5723529</td>\n",
       "      <td>1</td>\n",
       "      <td>1</td>\n",
       "      <td>0</td>\n",
       "      <td>2.94</td>\n",
       "      <td>2.94</td>\n",
       "      <td>1</td>\n",
       "      <td>0</td>\n",
       "      <td>0</td>\n",
       "      <td>...</td>\n",
       "      <td>1</td>\n",
       "      <td>0</td>\n",
       "      <td>0</td>\n",
       "      <td>0</td>\n",
       "      <td>1</td>\n",
       "      <td>0</td>\n",
       "      <td>0</td>\n",
       "      <td>0</td>\n",
       "      <td>0</td>\n",
       "      <td>0</td>\n",
       "    </tr>\n",
       "    <tr>\n",
       "      <th>4</th>\n",
       "      <td>566667766</td>\n",
       "      <td>5823646</td>\n",
       "      <td>1</td>\n",
       "      <td>1</td>\n",
       "      <td>0</td>\n",
       "      <td>5.22</td>\n",
       "      <td>5.22</td>\n",
       "      <td>0</td>\n",
       "      <td>1</td>\n",
       "      <td>0</td>\n",
       "      <td>...</td>\n",
       "      <td>0</td>\n",
       "      <td>0</td>\n",
       "      <td>0</td>\n",
       "      <td>0</td>\n",
       "      <td>0</td>\n",
       "      <td>1</td>\n",
       "      <td>0</td>\n",
       "      <td>0</td>\n",
       "      <td>0</td>\n",
       "      <td>0</td>\n",
       "    </tr>\n",
       "  </tbody>\n",
       "</table>\n",
       "<p>5 rows × 36 columns</p>\n",
       "</div>"
      ],
      "text/plain": [
       "     user_id  product_id  NumOfEventsInJourney  NumSessions  interactionTime  \\\n",
       "0  537190108       27762                     2            2             4749   \n",
       "1  577668451     5865119                     1            1                0   \n",
       "2  607369766     5922121                     1            1                0   \n",
       "3  572456715     5723529                     1            1                0   \n",
       "4  566667766     5823646                     1            1                0   \n",
       "\n",
       "   maxPrice  minPrice  NumCart  NumView  NumRemove  ...  Nov  Dec  Afternoon  \\\n",
       "0     19.03     19.03        0        1          1  ...    1    0          0   \n",
       "1      4.60      4.60        0        1          0  ...    1    0          1   \n",
       "2     35.71     35.71        0        1          0  ...    0    0          0   \n",
       "3      2.94      2.94        1        0          0  ...    1    0          0   \n",
       "4      5.22      5.22        0        1          0  ...    0    0          0   \n",
       "\n",
       "   Dawn  EarlyMorning  Evening  Morning  Night  Noon  Purchase  \n",
       "0     0             0        0        1      0     0         0  \n",
       "1     0             0        0        0      0     0         0  \n",
       "2     0             0        1        0      0     0         0  \n",
       "3     0             1        0        0      0     0         0  \n",
       "4     0             0        1        0      0     0         0  \n",
       "\n",
       "[5 rows x 36 columns]"
      ]
     },
     "execution_count": 6,
     "metadata": {},
     "output_type": "execute_result"
    }
   ],
   "source": [
    "# [YOUR CODE HERE]\n",
    "import pandas as pd \n",
    "data_df = pd.read_csv(\"Cosmetics_data_2019.csv\")\n",
    "data_df.head()"
   ]
  },
  {
   "cell_type": "markdown",
   "metadata": {},
   "source": [
    "2. What percentage of interactions (rows) result in a purchase?\n",
    "\n",
    "    Do people mostly buy what they look at or do they do a lot of \"window shopping\" (shopping around without buying)?"
   ]
  },
  {
   "cell_type": "code",
   "execution_count": 7,
   "metadata": {},
   "outputs": [
    {
     "name": "stdout",
     "output_type": "stream",
     "text": [
      "The percentage of interaction that resulted in a sale were 12.0684%\n"
     ]
    }
   ],
   "source": [
    "# [YOUR CODE HERE]\n",
    "percentage_purchase_interaction = data_df[[\"Purchase\"]].value_counts(normalize= True)[1]*100\n",
    "print(f\"The percentage of interaction that resulted in a sale were {percentage_purchase_interaction}%\") "
   ]
  },
  {
   "cell_type": "markdown",
   "metadata": {},
   "source": [
    "3. Drop `'user_id'` and `'product_id'` from the DataFrame. We don't be using these columns.\n",
    "\n",
    "    Use the `.head()` method to verify that the DataFrame has been updated."
   ]
  },
  {
   "cell_type": "code",
   "execution_count": 8,
   "metadata": {},
   "outputs": [
    {
     "data": {
      "text/html": [
       "<div>\n",
       "<style scoped>\n",
       "    .dataframe tbody tr th:only-of-type {\n",
       "        vertical-align: middle;\n",
       "    }\n",
       "\n",
       "    .dataframe tbody tr th {\n",
       "        vertical-align: top;\n",
       "    }\n",
       "\n",
       "    .dataframe thead th {\n",
       "        text-align: right;\n",
       "    }\n",
       "</style>\n",
       "<table border=\"1\" class=\"dataframe\">\n",
       "  <thead>\n",
       "    <tr style=\"text-align: right;\">\n",
       "      <th></th>\n",
       "      <th>NumOfEventsInJourney</th>\n",
       "      <th>NumSessions</th>\n",
       "      <th>interactionTime</th>\n",
       "      <th>maxPrice</th>\n",
       "      <th>minPrice</th>\n",
       "      <th>NumCart</th>\n",
       "      <th>NumView</th>\n",
       "      <th>NumRemove</th>\n",
       "      <th>InsessionCart</th>\n",
       "      <th>InsessionView</th>\n",
       "      <th>...</th>\n",
       "      <th>Nov</th>\n",
       "      <th>Dec</th>\n",
       "      <th>Afternoon</th>\n",
       "      <th>Dawn</th>\n",
       "      <th>EarlyMorning</th>\n",
       "      <th>Evening</th>\n",
       "      <th>Morning</th>\n",
       "      <th>Night</th>\n",
       "      <th>Noon</th>\n",
       "      <th>Purchase</th>\n",
       "    </tr>\n",
       "  </thead>\n",
       "  <tbody>\n",
       "    <tr>\n",
       "      <th>0</th>\n",
       "      <td>2</td>\n",
       "      <td>2</td>\n",
       "      <td>4749</td>\n",
       "      <td>19.03</td>\n",
       "      <td>19.03</td>\n",
       "      <td>0</td>\n",
       "      <td>1</td>\n",
       "      <td>1</td>\n",
       "      <td>1</td>\n",
       "      <td>2</td>\n",
       "      <td>...</td>\n",
       "      <td>1</td>\n",
       "      <td>0</td>\n",
       "      <td>0</td>\n",
       "      <td>0</td>\n",
       "      <td>0</td>\n",
       "      <td>0</td>\n",
       "      <td>1</td>\n",
       "      <td>0</td>\n",
       "      <td>0</td>\n",
       "      <td>0</td>\n",
       "    </tr>\n",
       "    <tr>\n",
       "      <th>1</th>\n",
       "      <td>1</td>\n",
       "      <td>1</td>\n",
       "      <td>0</td>\n",
       "      <td>4.60</td>\n",
       "      <td>4.60</td>\n",
       "      <td>0</td>\n",
       "      <td>1</td>\n",
       "      <td>0</td>\n",
       "      <td>0</td>\n",
       "      <td>1</td>\n",
       "      <td>...</td>\n",
       "      <td>1</td>\n",
       "      <td>0</td>\n",
       "      <td>1</td>\n",
       "      <td>0</td>\n",
       "      <td>0</td>\n",
       "      <td>0</td>\n",
       "      <td>0</td>\n",
       "      <td>0</td>\n",
       "      <td>0</td>\n",
       "      <td>0</td>\n",
       "    </tr>\n",
       "    <tr>\n",
       "      <th>2</th>\n",
       "      <td>1</td>\n",
       "      <td>1</td>\n",
       "      <td>0</td>\n",
       "      <td>35.71</td>\n",
       "      <td>35.71</td>\n",
       "      <td>0</td>\n",
       "      <td>1</td>\n",
       "      <td>0</td>\n",
       "      <td>0</td>\n",
       "      <td>1</td>\n",
       "      <td>...</td>\n",
       "      <td>0</td>\n",
       "      <td>0</td>\n",
       "      <td>0</td>\n",
       "      <td>0</td>\n",
       "      <td>0</td>\n",
       "      <td>1</td>\n",
       "      <td>0</td>\n",
       "      <td>0</td>\n",
       "      <td>0</td>\n",
       "      <td>0</td>\n",
       "    </tr>\n",
       "    <tr>\n",
       "      <th>3</th>\n",
       "      <td>1</td>\n",
       "      <td>1</td>\n",
       "      <td>0</td>\n",
       "      <td>2.94</td>\n",
       "      <td>2.94</td>\n",
       "      <td>1</td>\n",
       "      <td>0</td>\n",
       "      <td>0</td>\n",
       "      <td>13</td>\n",
       "      <td>13</td>\n",
       "      <td>...</td>\n",
       "      <td>1</td>\n",
       "      <td>0</td>\n",
       "      <td>0</td>\n",
       "      <td>0</td>\n",
       "      <td>1</td>\n",
       "      <td>0</td>\n",
       "      <td>0</td>\n",
       "      <td>0</td>\n",
       "      <td>0</td>\n",
       "      <td>0</td>\n",
       "    </tr>\n",
       "    <tr>\n",
       "      <th>4</th>\n",
       "      <td>1</td>\n",
       "      <td>1</td>\n",
       "      <td>0</td>\n",
       "      <td>5.22</td>\n",
       "      <td>5.22</td>\n",
       "      <td>0</td>\n",
       "      <td>1</td>\n",
       "      <td>0</td>\n",
       "      <td>0</td>\n",
       "      <td>3</td>\n",
       "      <td>...</td>\n",
       "      <td>0</td>\n",
       "      <td>0</td>\n",
       "      <td>0</td>\n",
       "      <td>0</td>\n",
       "      <td>0</td>\n",
       "      <td>1</td>\n",
       "      <td>0</td>\n",
       "      <td>0</td>\n",
       "      <td>0</td>\n",
       "      <td>0</td>\n",
       "    </tr>\n",
       "  </tbody>\n",
       "</table>\n",
       "<p>5 rows × 34 columns</p>\n",
       "</div>"
      ],
      "text/plain": [
       "   NumOfEventsInJourney  NumSessions  interactionTime  maxPrice  minPrice  \\\n",
       "0                     2            2             4749     19.03     19.03   \n",
       "1                     1            1                0      4.60      4.60   \n",
       "2                     1            1                0     35.71     35.71   \n",
       "3                     1            1                0      2.94      2.94   \n",
       "4                     1            1                0      5.22      5.22   \n",
       "\n",
       "   NumCart  NumView  NumRemove  InsessionCart  InsessionView  ...  Nov  Dec  \\\n",
       "0        0        1          1              1              2  ...    1    0   \n",
       "1        0        1          0              0              1  ...    1    0   \n",
       "2        0        1          0              0              1  ...    0    0   \n",
       "3        1        0          0             13             13  ...    1    0   \n",
       "4        0        1          0              0              3  ...    0    0   \n",
       "\n",
       "   Afternoon  Dawn  EarlyMorning  Evening  Morning  Night  Noon  Purchase  \n",
       "0          0     0             0        0        1      0     0         0  \n",
       "1          1     0             0        0        0      0     0         0  \n",
       "2          0     0             0        1        0      0     0         0  \n",
       "3          0     0             1        0        0      0     0         0  \n",
       "4          0     0             0        1        0      0     0         0  \n",
       "\n",
       "[5 rows x 34 columns]"
      ]
     },
     "execution_count": 8,
     "metadata": {},
     "output_type": "execute_result"
    }
   ],
   "source": [
    "# [YOUR CODE HERE]\n",
    "data_df_v2 = data_df.drop([\"user_id\", \"product_id\"], axis=1)\n",
    "data_df_v2.head()"
   ]
  },
  {
   "cell_type": "markdown",
   "metadata": {
    "id": "RP7Y8J7dm6lW"
   },
   "source": [
    "4. Create a matrix of features (AKA the \"design matrix\") `X` from every column in the DataFrame except for `Purchase` since it's like a label. We will be doing an unsupervised task, so will only use the features, though we'll keep the `Purchase` column in the DataFrame so we can use it for some analysis at the end."
   ]
  },
  {
   "cell_type": "code",
   "execution_count": 9,
   "metadata": {},
   "outputs": [
    {
     "data": {
      "text/plain": [
       "(250000, 34)"
      ]
     },
     "execution_count": 9,
     "metadata": {},
     "output_type": "execute_result"
    },
    {
     "data": {
      "text/plain": [
       "(250000, 33)"
      ]
     },
     "execution_count": 9,
     "metadata": {},
     "output_type": "execute_result"
    },
    {
     "data": {
      "text/plain": [
       "(250000, 33)"
      ]
     },
     "execution_count": 9,
     "metadata": {},
     "output_type": "execute_result"
    }
   ],
   "source": [
    "# [YOUR CODE HERE]\n",
    "data_df_v2.shape\n",
    "data_df_v3 = data_df_v2.loc[:, ~data_df_v2.columns.isin(['Purchase'])]\n",
    "data_df_v3.shape\n",
    "X = np.array(data_df_v3.values)\n",
    "X.shape"
   ]
  },
  {
   "cell_type": "code",
   "execution_count": 10,
   "metadata": {},
   "outputs": [
    {
     "data": {
      "text/plain": [
       "(250000, 33)"
      ]
     },
     "execution_count": 10,
     "metadata": {},
     "output_type": "execute_result"
    }
   ],
   "source": [
    "## Need to scale the data \n",
    "X_scaled = StandardScaler().fit_transform(X)\n",
    "X_scaled.shape"
   ]
  },
  {
   "cell_type": "markdown",
   "metadata": {
    "id": "qRuVLj0lAGpT"
   },
   "source": [
    "## Task 2: Apply dimensionality reduction and K-means clustering\n",
    "\n",
    "We're going to do two main things in this task: \n",
    "  * Apply dimensionality reduction to `X`.\n",
    "    - First we'll try PCA, reducing the number of features down to **5**\n",
    "    - Then we'll also try t-SNE. t-SNE is a lot slower than PCA so we'll have you run t-SNE on a smaller subsample of the data, and we'll use 3 instead of 5 output features.\n",
    "  * Apply K-means clustering on the dimensionality-reduced data, using different values of \"K\". This is one way of assessing the quality of the dimensionality reduction. We'll summarize all this information in a single plot, the \"Elbow\" plot."
   ]
  },
  {
   "cell_type": "markdown",
   "metadata": {
    "id": "WIG5CclFvlLO"
   },
   "source": [
    "1. Use the sklearn `PCA` module you've imported above to produce `X_reduced_PCA`, a version of the data in `X` has been dimensionality-reduced by PCA. Use 5 PCA components, so `X_reduced_PCA` should have 5 columns.\n",
    "\n",
    "    Look at the shape of `X_reduced_PCA` to verify it's the correct size."
   ]
  },
  {
   "cell_type": "code",
   "execution_count": 11,
   "metadata": {
    "colab": {
     "base_uri": "https://localhost:8080/"
    },
    "executionInfo": {
     "elapsed": 899,
     "status": "ok",
     "timestamp": 1628783431814,
     "user": {
      "displayName": "Spencer Kent",
      "photoUrl": "",
      "userId": "07841346171340846448"
     },
     "user_tz": 360
    },
    "id": "9Y9DVVG9AGpU",
    "outputId": "5d34d61e-cf29-43d3-a962-aeff097bfd14"
   },
   "outputs": [
    {
     "data": {
      "text/plain": [
       "(250000, 5)"
      ]
     },
     "execution_count": 11,
     "metadata": {},
     "output_type": "execute_result"
    }
   ],
   "source": [
    "from sklearn.decomposition import PCA\n",
    "\n",
    "# [YOUR CODE HERE]\n",
    "X_reduced_PCA = PCA(n_components = 5).fit_transform(X_scaled) \n",
    "X_reduced_PCA.shape"
   ]
  },
  {
   "cell_type": "markdown",
   "metadata": {
    "id": "gDX2qLQE8QB2"
   },
   "source": [
    "2. Now do dimensionality reduction with t-SNE. You can use the [TSNE module](https://scikit-learn.org/stable/modules/generated/sklearn.manifold.TSNE.html) in `sklearn.manifold`\n",
    "\n",
    "    Certain implementations of t-SNE can be slow, including scikit-learn's, so just fit it on the first 10000 samples of your data. Also, pick n_components=3 and perplexity=20. This can take a little while, be patient :)\n",
    "\n",
    "    Save the t-SNE-reduced version of your data as `X_reduced_tSNE`"
   ]
  },
  {
   "cell_type": "code",
   "execution_count": 12,
   "metadata": {
    "id": "IuGJg2UPAGpZ"
   },
   "outputs": [
    {
     "name": "stderr",
     "output_type": "stream",
     "text": [
      "/opt/homebrew/Caskroom/miniforge/base/envs/FOURTHBRAIN-AI/lib/python3.8/site-packages/sklearn/manifold/_t_sne.py:780: FutureWarning: The default initialization in TSNE will change from 'random' to 'pca' in 1.2.\n",
      "  warnings.warn(\n",
      "/opt/homebrew/Caskroom/miniforge/base/envs/FOURTHBRAIN-AI/lib/python3.8/site-packages/sklearn/manifold/_t_sne.py:790: FutureWarning: The default learning rate in TSNE will change from 200.0 to 'auto' in 1.2.\n",
      "  warnings.warn(\n"
     ]
    },
    {
     "data": {
      "text/plain": [
       "array([[-12.981782  , -21.518301  ,   6.6880236 ],\n",
       "       [ -8.041433  ,  -6.355704  ,  -8.514429  ],\n",
       "       [ -1.672391  ,  21.201136  ,   6.404304  ],\n",
       "       ...,\n",
       "       [  7.1620464 ,  -0.73573095,   0.73666817],\n",
       "       [ 15.649241  ,   5.188018  ,   6.2530413 ],\n",
       "       [  9.759465  ,  -0.40293938,  -3.0755947 ]], dtype=float32)"
      ]
     },
     "execution_count": 12,
     "metadata": {},
     "output_type": "execute_result"
    }
   ],
   "source": [
    "from sklearn.manifold import TSNE\n",
    "\n",
    "# [YOUR CODE HERE]\n",
    "RS = 123\n",
    "x_subset = X[: 10000, :]\n",
    "X_reduced_tSNE = TSNE(random_state=RS, n_components=3, perplexity=20).fit_transform(x_subset)\n",
    "X_reduced_tSNE"
   ]
  },
  {
   "cell_type": "markdown",
   "metadata": {},
   "source": [
    "Now we'll use the [KMeans module](https://scikit-learn.org/stable/modules/generated/sklearn.cluster.KMeans.html?highlight=kmeans#sklearn.cluster.KMeans) in sklearn.cluster, to fit Kmeans clusterings of the data. We'll use an elbow plot to determine the optimal value of $k$.\n",
    "\n",
    "3. First we'll do a $k$-means of the PCA-reduced data.\n",
    "\n",
    "    We don't know the best value of $k$ (the number of clusters) *a priori*, so we'll try all values of $k$ from 1 and 10.\n",
    "\n",
    "    Build a $k$-means model for each value from 1 to 21 and save the sum of squared distances for each $k$-means value. You can get the sum of squared distances with the `inertia_` attribute.\n",
    "    \n",
    "    Plot the `inertia_` values to find the \"elbow\"."
   ]
  },
  {
   "cell_type": "code",
   "execution_count": 13,
   "metadata": {},
   "outputs": [],
   "source": [
    "def plot_chart(x, y): \n",
    "    plt.figure(figsize=(6, 4))\n",
    "    plt.plot(x, y)\n",
    "  \n",
    "   \n",
    "def compute_model_inertia(X, number_clusters): \n",
    "    model = KMeans(n_clusters = number_clusters)\n",
    "    model.fit(X)\n",
    "    return model.inertia_ "
   ]
  },
  {
   "cell_type": "code",
   "execution_count": 14,
   "metadata": {
    "id": "gsFpQiEkAGpX"
   },
   "outputs": [
    {
     "data": {
      "image/png": "[encoded data removed]",
      "text/plain": [
       "<Figure size 432x288 with 1 Axes>"
      ]
     },
     "metadata": {},
     "output_type": "display_data"
    }
   ],
   "source": [
    "# [YOUR CODE HERE]\n",
    "X = X_reduced_PCA\n",
    "model_inertias = [compute_model_inertia(X, number_of_clusters) for number_of_clusters in range(1, 21)] \n",
    "plot_chart(range(1,21), model_inertias)"
   ]
  },
  {
   "cell_type": "markdown",
   "metadata": {},
   "source": [
    "4. Make a similar elbow plot for $k$-means for the t-SNE-reduced data."
   ]
  },
  {
   "cell_type": "code",
   "execution_count": 15,
   "metadata": {
    "id": "ZRwEni6yACrE"
   },
   "outputs": [
    {
     "data": {
      "image/png": "[encoded data removed]",
      "text/plain": [
       "<Figure size 432x288 with 1 Axes>"
      ]
     },
     "metadata": {},
     "output_type": "display_data"
    }
   ],
   "source": [
    "# [YOUR CODE HERE]\n",
    "X = X_reduced_tSNE\n",
    "model_inertias = [compute_model_inertia(X, number_of_clusters) for number_of_clusters in range(1, 21)] \n",
    "plot_chart(range(1,21), model_inertias)\n"
   ]
  },
  {
   "cell_type": "markdown",
   "metadata": {
    "id": "VFHtdkZSBu01"
   },
   "source": [
    "5. Discuss with your breakout room partners what you can learn from these Elbow plots."
   ]
  },
  {
   "cell_type": "markdown",
   "metadata": {
    "id": "0IxaAYc863u1"
   },
   "source": [
    "6. Use the eblow plot to pick a value of $k$ to use for $k$-means on the PCA-reduced data.\n",
    "\n",
    "    Fit a $k$-means model to `X_reduced_PCA` with that value of $k$ and generate an array `cluster_ids` that labels each datapoint in `X_reduced_PCA` with the cluster ID (0 to k-1) that $k$-means assigns to it."
   ]
  },
  {
   "cell_type": "code",
   "execution_count": 16,
   "metadata": {},
   "outputs": [],
   "source": [
    "def fit_kmeans_model(X, k): \n",
    "    model = KMeans(n_clusters = k)\n",
    "    model.fit(X)\n",
    "    return model"
   ]
  },
  {
   "cell_type": "code",
   "execution_count": 17,
   "metadata": {
    "colab": {
     "base_uri": "https://localhost:8080/"
    },
    "executionInfo": {
     "elapsed": 3117,
     "status": "ok",
     "timestamp": 1628785697547,
     "user": {
      "displayName": "Spencer Kent",
      "photoUrl": "",
      "userId": "07841346171340846448"
     },
     "user_tz": 360
    },
    "id": "_kz0uVfFAGpd",
    "outputId": "75689cc5-49d3-4f29-c50d-455a604ff798"
   },
   "outputs": [],
   "source": [
    "# [YOUR CODE HERE]\n",
    "X = X_reduced_PCA\n",
    "k = 6\n",
    "model = fit_kmeans_model(X, k)"
   ]
  },
  {
   "cell_type": "code",
   "execution_count": 18,
   "metadata": {},
   "outputs": [
    {
     "data": {
      "text/plain": [
       "(250000,)"
      ]
     },
     "execution_count": 18,
     "metadata": {},
     "output_type": "execute_result"
    }
   ],
   "source": [
    "cluster_ids = model.labels_\n",
    "cluster_ids.shape"
   ]
  },
  {
   "cell_type": "markdown",
   "metadata": {
    "id": "MzxNlpDbFXjj"
   },
   "source": [
    "7. Add a column `ClusterID` to the DataFrame with the cluster id values (0, 1, or 2).\n",
    "\n",
    "    Use the `.head()` method to verify the column has been added."
   ]
  },
  {
   "cell_type": "code",
   "execution_count": 19,
   "metadata": {
    "colab": {
     "base_uri": "https://localhost:8080/",
     "height": 223
    },
    "executionInfo": {
     "elapsed": 74,
     "status": "ok",
     "timestamp": 1628785701707,
     "user": {
      "displayName": "Spencer Kent",
      "photoUrl": "",
      "userId": "07841346171340846448"
     },
     "user_tz": 360
    },
    "id": "mcbhp5GPFZGJ",
    "outputId": "7a371a04-bc32-4b03-8c5f-5a3614f2fdfc"
   },
   "outputs": [
    {
     "data": {
      "text/html": [
       "<div>\n",
       "<style scoped>\n",
       "    .dataframe tbody tr th:only-of-type {\n",
       "        vertical-align: middle;\n",
       "    }\n",
       "\n",
       "    .dataframe tbody tr th {\n",
       "        vertical-align: top;\n",
       "    }\n",
       "\n",
       "    .dataframe thead th {\n",
       "        text-align: right;\n",
       "    }\n",
       "</style>\n",
       "<table border=\"1\" class=\"dataframe\">\n",
       "  <thead>\n",
       "    <tr style=\"text-align: right;\">\n",
       "      <th></th>\n",
       "      <th>user_id</th>\n",
       "      <th>product_id</th>\n",
       "      <th>NumOfEventsInJourney</th>\n",
       "      <th>NumSessions</th>\n",
       "      <th>interactionTime</th>\n",
       "      <th>maxPrice</th>\n",
       "      <th>minPrice</th>\n",
       "      <th>NumCart</th>\n",
       "      <th>NumView</th>\n",
       "      <th>NumRemove</th>\n",
       "      <th>...</th>\n",
       "      <th>Dec</th>\n",
       "      <th>Afternoon</th>\n",
       "      <th>Dawn</th>\n",
       "      <th>EarlyMorning</th>\n",
       "      <th>Evening</th>\n",
       "      <th>Morning</th>\n",
       "      <th>Night</th>\n",
       "      <th>Noon</th>\n",
       "      <th>Purchase</th>\n",
       "      <th>ClusterID</th>\n",
       "    </tr>\n",
       "  </thead>\n",
       "  <tbody>\n",
       "    <tr>\n",
       "      <th>0</th>\n",
       "      <td>537190108</td>\n",
       "      <td>27762</td>\n",
       "      <td>2</td>\n",
       "      <td>2</td>\n",
       "      <td>4749</td>\n",
       "      <td>19.03</td>\n",
       "      <td>19.03</td>\n",
       "      <td>0</td>\n",
       "      <td>1</td>\n",
       "      <td>1</td>\n",
       "      <td>...</td>\n",
       "      <td>0</td>\n",
       "      <td>0</td>\n",
       "      <td>0</td>\n",
       "      <td>0</td>\n",
       "      <td>0</td>\n",
       "      <td>1</td>\n",
       "      <td>0</td>\n",
       "      <td>0</td>\n",
       "      <td>0</td>\n",
       "      <td>0</td>\n",
       "    </tr>\n",
       "    <tr>\n",
       "      <th>1</th>\n",
       "      <td>577668451</td>\n",
       "      <td>5865119</td>\n",
       "      <td>1</td>\n",
       "      <td>1</td>\n",
       "      <td>0</td>\n",
       "      <td>4.60</td>\n",
       "      <td>4.60</td>\n",
       "      <td>0</td>\n",
       "      <td>1</td>\n",
       "      <td>0</td>\n",
       "      <td>...</td>\n",
       "      <td>0</td>\n",
       "      <td>1</td>\n",
       "      <td>0</td>\n",
       "      <td>0</td>\n",
       "      <td>0</td>\n",
       "      <td>0</td>\n",
       "      <td>0</td>\n",
       "      <td>0</td>\n",
       "      <td>0</td>\n",
       "      <td>0</td>\n",
       "    </tr>\n",
       "    <tr>\n",
       "      <th>2</th>\n",
       "      <td>607369766</td>\n",
       "      <td>5922121</td>\n",
       "      <td>1</td>\n",
       "      <td>1</td>\n",
       "      <td>0</td>\n",
       "      <td>35.71</td>\n",
       "      <td>35.71</td>\n",
       "      <td>0</td>\n",
       "      <td>1</td>\n",
       "      <td>0</td>\n",
       "      <td>...</td>\n",
       "      <td>0</td>\n",
       "      <td>0</td>\n",
       "      <td>0</td>\n",
       "      <td>0</td>\n",
       "      <td>1</td>\n",
       "      <td>0</td>\n",
       "      <td>0</td>\n",
       "      <td>0</td>\n",
       "      <td>0</td>\n",
       "      <td>1</td>\n",
       "    </tr>\n",
       "    <tr>\n",
       "      <th>3</th>\n",
       "      <td>572456715</td>\n",
       "      <td>5723529</td>\n",
       "      <td>1</td>\n",
       "      <td>1</td>\n",
       "      <td>0</td>\n",
       "      <td>2.94</td>\n",
       "      <td>2.94</td>\n",
       "      <td>1</td>\n",
       "      <td>0</td>\n",
       "      <td>0</td>\n",
       "      <td>...</td>\n",
       "      <td>0</td>\n",
       "      <td>0</td>\n",
       "      <td>0</td>\n",
       "      <td>1</td>\n",
       "      <td>0</td>\n",
       "      <td>0</td>\n",
       "      <td>0</td>\n",
       "      <td>0</td>\n",
       "      <td>0</td>\n",
       "      <td>0</td>\n",
       "    </tr>\n",
       "    <tr>\n",
       "      <th>4</th>\n",
       "      <td>566667766</td>\n",
       "      <td>5823646</td>\n",
       "      <td>1</td>\n",
       "      <td>1</td>\n",
       "      <td>0</td>\n",
       "      <td>5.22</td>\n",
       "      <td>5.22</td>\n",
       "      <td>0</td>\n",
       "      <td>1</td>\n",
       "      <td>0</td>\n",
       "      <td>...</td>\n",
       "      <td>0</td>\n",
       "      <td>0</td>\n",
       "      <td>0</td>\n",
       "      <td>0</td>\n",
       "      <td>1</td>\n",
       "      <td>0</td>\n",
       "      <td>0</td>\n",
       "      <td>0</td>\n",
       "      <td>0</td>\n",
       "      <td>1</td>\n",
       "    </tr>\n",
       "  </tbody>\n",
       "</table>\n",
       "<p>5 rows × 37 columns</p>\n",
       "</div>"
      ],
      "text/plain": [
       "     user_id  product_id  NumOfEventsInJourney  NumSessions  interactionTime  \\\n",
       "0  537190108       27762                     2            2             4749   \n",
       "1  577668451     5865119                     1            1                0   \n",
       "2  607369766     5922121                     1            1                0   \n",
       "3  572456715     5723529                     1            1                0   \n",
       "4  566667766     5823646                     1            1                0   \n",
       "\n",
       "   maxPrice  minPrice  NumCart  NumView  NumRemove  ...  Dec  Afternoon  Dawn  \\\n",
       "0     19.03     19.03        0        1          1  ...    0          0     0   \n",
       "1      4.60      4.60        0        1          0  ...    0          1     0   \n",
       "2     35.71     35.71        0        1          0  ...    0          0     0   \n",
       "3      2.94      2.94        1        0          0  ...    0          0     0   \n",
       "4      5.22      5.22        0        1          0  ...    0          0     0   \n",
       "\n",
       "   EarlyMorning  Evening  Morning  Night  Noon  Purchase  ClusterID  \n",
       "0             0        0        1      0     0         0          0  \n",
       "1             0        0        0      0     0         0          0  \n",
       "2             0        1        0      0     0         0          1  \n",
       "3             1        0        0      0     0         0          0  \n",
       "4             0        1        0      0     0         0          1  \n",
       "\n",
       "[5 rows x 37 columns]"
      ]
     },
     "execution_count": 19,
     "metadata": {},
     "output_type": "execute_result"
    }
   ],
   "source": [
    "# [YOUR CODE HERE]\n",
    "data_df[\"ClusterID\"] = cluster_ids\n",
    "data_df.head()"
   ]
  },
  {
   "cell_type": "markdown",
   "metadata": {},
   "source": [
    "8. Run the following line to save the DataFrame to a csv file `clustered_data_cosmetics.csv`."
   ]
  },
  {
   "cell_type": "code",
   "execution_count": 20,
   "metadata": {
    "id": "8Zg8dtuLAGpn"
   },
   "outputs": [],
   "source": [
    "data_df.to_csv('clustered_data_cosmetics.csv', index=False)"
   ]
  },
  {
   "cell_type": "markdown",
   "metadata": {
    "id": "HB-SZFqUAGpr"
   },
   "source": [
    "## Task 3: Visualize the clusters [Instructor Led]\n",
    "\n",
    "We will be using `tensorflow` and `tensorboard` to do some visualizations. For more info, review this tutorial: [Visualizing Data using the Embedding Projector in TensorBoard](https://colab.research.google.com/drive/1-PUVjf4eNO8QzF27lbBg6OT-yTNlBgD7).\n",
    "\n",
    "1. Load in the data with clustering labels."
   ]
  },
  {
   "cell_type": "code",
   "execution_count": 21,
   "metadata": {
    "id": "vmsreBzSAGpr"
   },
   "outputs": [],
   "source": [
    "df = pd.read_csv(\"clustered_data_cosmetics.csv\")\n",
    "X = df.iloc[:, 0: -2].values\n",
    "cluster_ids = df.ClusterID.values"
   ]
  },
  {
   "cell_type": "markdown",
   "metadata": {},
   "source": [
    "2. Define functions for visualizing and saving results."
   ]
  },
  {
   "cell_type": "code",
   "execution_count": 40,
   "metadata": {
    "id": "_Ro7_dTyAGpw"
   },
   "outputs": [],
   "source": [
    "def register_embedding(embedding_tensor_name, meta_data_fname, log_dir):\n",
    "    config = projector.ProjectorConfig()\n",
    "    embedding = config.embeddings.add()\n",
    "    embedding.tensor_name = embedding_tensor_name\n",
    "    embedding.metadata_path = meta_data_fname\n",
    "    projector.visualize_embeddings(log_dir, config)\n",
    "\n",
    "def save_labels_tsv(labels, filepath, log_dir):\n",
    "    with open(os.path.join(log_dir, filepath), 'w') as f:\n",
    "        for label in labels:\n",
    "            f.write('{}\\n'.format(label))"
   ]
  },
  {
   "cell_type": "markdown",
   "metadata": {
    "id": "e2UY3WNyK6z0"
   },
   "source": [
    "3. Create a directory where we can store logs for tensorboard to use."
   ]
  },
  {
   "cell_type": "code",
   "execution_count": 41,
   "metadata": {
    "id": "pISugJ7TAGot"
   },
   "outputs": [],
   "source": [
    "import os\n",
    "## Get working directory\n",
    "PATH = os.getcwd()\n",
    "## Path to save the embedding and checkpoints generated\n",
    "os.mkdir(PATH + '/project-tensorboard/')\n",
    "LOG_DIR = PATH + '/project-tensorboard/log-1'\n",
    "os.mkdir(LOG_DIR)"
   ]
  },
  {
   "cell_type": "markdown",
   "metadata": {},
   "source": [
    "4. Run the visualization."
   ]
  },
  {
   "cell_type": "code",
   "execution_count": 42,
   "metadata": {
    "id": "E_a-gke2AGpy"
   },
   "outputs": [],
   "source": [
    "from tensorboard.plugins import projector\n",
    "\n",
    "META_DATA_FNAME = 'meta_cos_reduction1.tsv'  # Labels will be stored here\n",
    "EMBEDDINGS_TENSOR_NAME = 'sample_data_cos_reduction1'\n",
    "EMBEDDINGS_FPATH = os.path.join(LOG_DIR, EMBEDDINGS_TENSOR_NAME + '.ckpt')\n",
    "STEP = 0\n",
    "\n",
    "register_embedding(EMBEDDINGS_TENSOR_NAME, META_DATA_FNAME, LOG_DIR)\n",
    "save_labels_tsv(cluster_ids, META_DATA_FNAME, LOG_DIR)"
   ]
  },
  {
   "cell_type": "code",
   "execution_count": 43,
   "metadata": {
    "id": "YziMhdGEAGp1"
   },
   "outputs": [
    {
     "data": {
      "text/plain": [
       "'/Users/leotisbuchanan/development/ai/training/fourth-brain-ai-ml/ml_course/week_3/project-tensorboard/log-1/sample_data_cos_reduction1.ckpt-0'"
      ]
     },
     "execution_count": 43,
     "metadata": {},
     "output_type": "execute_result"
    }
   ],
   "source": [
    "import tensorflow as tf\n",
    "\n",
    "tf.compat.v1.disable_eager_execution()\n",
    "tensor_embeddings = tf.Variable(X, name=EMBEDDINGS_TENSOR_NAME)\n",
    "sess = tf.compat.v1.InteractiveSession()\n",
    "sess.run(tf.compat.v1.global_variables_initializer())\n",
    "saver = tf.compat.v1.train.Saver()\n",
    "saver.save(sess, EMBEDDINGS_FPATH, STEP)\n",
    "sess.close()"
   ]
  },
  {
   "cell_type": "markdown",
   "metadata": {
    "id": "ta5fQ-gNPmJR"
   },
   "source": [
    "Note: If you're running this notebook locally, you can start tensorboard from the command line `tensorboard --logdir <path to the log directory>`. To use it *embedded in a Colab notebook* you have to do the following"
   ]
  },
  {
   "cell_type": "code",
   "execution_count": 27,
   "metadata": {
    "id": "NPDjKWuAPTIc"
   },
   "outputs": [],
   "source": [
    "try:\n",
    "  # %tensorflow_version only exists in Colab.\n",
    "  %tensorflow_version 2.x\n",
    "except Exception:\n",
    "  pass\n",
    "\n",
    "%load_ext tensorboard"
   ]
  },
  {
   "cell_type": "code",
   "execution_count": 28,
   "metadata": {},
   "outputs": [],
   "source": [
    "!pwd"
   ]
  },
  {
   "cell_type": "code",
   "execution_count": 29,
   "metadata": {
    "id": "0VOu2Q4QPFrA"
   },
   "outputs": [
    {
     "data": {
      "text/plain": [
       "ERROR: Failed to launch TensorBoard (exited with -5)."
      ]
     },
     "metadata": {},
     "output_type": "display_data"
    }
   ],
   "source": [
    "%tensorboard --logdir /project-tensorboard/log-1/"
   ]
  },
  {
   "cell_type": "markdown",
   "metadata": {
    "id": "SgmFyvbMAGp5"
   },
   "source": [
    "## Task 4: Analysis of clusters.\n",
    "Now that the records have been clustered, we can do some analysis on the clusters.\n",
    "\n",
    "1. For each cluster, calculate the representation percentage (i.e. what percentage of the dataset's samples belong to that cluster) and purchase percentage (i.e. what percentage of samples in each cluster resulted in a purchase)\n",
    "\n",
    "    Do the different clusters vary in their purchase ratio? If so by how much?"
   ]
  },
  {
   "cell_type": "markdown",
   "metadata": {},
   "source": [
    "### The table belows shows: \n",
    "- percentage_of_samples: The percentage of the dataset's samples that are in the cluster\n",
    "- cluster_total: The total number of customers in the cluster \n",
    "- number_of_purchases: The number of purchases in each cluster\n",
    "- purchase_percentage: the percentages of samples in each cluster that resulted in a purchase"
   ]
  },
  {
   "cell_type": "code",
   "execution_count": 83,
   "metadata": {},
   "outputs": [
    {
     "data": {
      "text/html": [
       "<div>\n",
       "<style scoped>\n",
       "    .dataframe tbody tr th:only-of-type {\n",
       "        vertical-align: middle;\n",
       "    }\n",
       "\n",
       "    .dataframe tbody tr th {\n",
       "        vertical-align: top;\n",
       "    }\n",
       "\n",
       "    .dataframe thead th {\n",
       "        text-align: right;\n",
       "    }\n",
       "</style>\n",
       "<table border=\"1\" class=\"dataframe\">\n",
       "  <thead>\n",
       "    <tr style=\"text-align: right;\">\n",
       "      <th></th>\n",
       "      <th>percentage_of_samples</th>\n",
       "      <th>cluster_total</th>\n",
       "      <th>number_of_purchases</th>\n",
       "      <th>purchase_percentage</th>\n",
       "    </tr>\n",
       "    <tr>\n",
       "      <th>ClusterID</th>\n",
       "      <th></th>\n",
       "      <th></th>\n",
       "      <th></th>\n",
       "      <th></th>\n",
       "    </tr>\n",
       "  </thead>\n",
       "  <tbody>\n",
       "    <tr>\n",
       "      <th>0</th>\n",
       "      <td>22.67 %</td>\n",
       "      <td>56672</td>\n",
       "      <td>7492</td>\n",
       "      <td>13.22</td>\n",
       "    </tr>\n",
       "    <tr>\n",
       "      <th>1</th>\n",
       "      <td>38.65 %</td>\n",
       "      <td>96621</td>\n",
       "      <td>10390</td>\n",
       "      <td>10.75</td>\n",
       "    </tr>\n",
       "    <tr>\n",
       "      <th>2</th>\n",
       "      <td>3.68 %</td>\n",
       "      <td>9190</td>\n",
       "      <td>2991</td>\n",
       "      <td>32.55</td>\n",
       "    </tr>\n",
       "    <tr>\n",
       "      <th>3</th>\n",
       "      <td>32.34 %</td>\n",
       "      <td>80852</td>\n",
       "      <td>9184</td>\n",
       "      <td>11.36</td>\n",
       "    </tr>\n",
       "    <tr>\n",
       "      <th>4</th>\n",
       "      <td>0.35 %</td>\n",
       "      <td>872</td>\n",
       "      <td>32</td>\n",
       "      <td>3.67</td>\n",
       "    </tr>\n",
       "    <tr>\n",
       "      <th>5</th>\n",
       "      <td>2.32 %</td>\n",
       "      <td>5793</td>\n",
       "      <td>82</td>\n",
       "      <td>1.42</td>\n",
       "    </tr>\n",
       "  </tbody>\n",
       "</table>\n",
       "</div>"
      ],
      "text/plain": [
       "          percentage_of_samples  cluster_total  number_of_purchases  \\\n",
       "ClusterID                                                             \n",
       "0                       22.67 %          56672                 7492   \n",
       "1                       38.65 %          96621                10390   \n",
       "2                        3.68 %           9190                 2991   \n",
       "3                       32.34 %          80852                 9184   \n",
       "4                        0.35 %            872                   32   \n",
       "5                        2.32 %           5793                   82   \n",
       "\n",
       "           purchase_percentage  \n",
       "ClusterID                       \n",
       "0                        13.22  \n",
       "1                        10.75  \n",
       "2                        32.55  \n",
       "3                        11.36  \n",
       "4                         3.67  \n",
       "5                         1.42  "
      ]
     },
     "execution_count": 83,
     "metadata": {},
     "output_type": "execute_result"
    }
   ],
   "source": [
    "# [YOUR CODE HERE]\n",
    "\n",
    "\n",
    "df[['Purchase', 'ClusterID']].groupby('ClusterID').agg(\n",
    "    percentage_of_samples = ('Purchase', lambda x: f\"{np.round(((x.count()/df.shape[0]) * 100),2)} %\"), \n",
    "    cluster_total = ('Purchase', 'count'),\n",
    "    number_of_purchases  = ('Purchase', 'sum'), \n",
    "    purchase_percentage = ('Purchase', lambda x: np.round(((x.sum()/x.count()) * 100),2)))"
   ]
  },
  {
   "cell_type": "markdown",
   "metadata": {},
   "source": [
    "2. Plot the discriminating charecteristics of each feature to separate purchase vs. not-purchase events. You could do this many ways, it's up to you. One suggestion we'll give is to use a seaborn distplot on each feature separately. You can do this one cluster at a time to see if there are any big differences between the distributions of feature values for different clusters.\n",
    "\n",
    "    Note: Feel free to reduce the feature set to make things more manageable. For example use this subset of the columns:\n",
    "    \n",
    "    ```\n",
    "    selected_columns = ['NumOfEventsInJourney', 'NumSessions', 'interactionTime',\n",
    "                        'maxPrice', 'minPrice', 'NumCart', 'NumView', 'NumRemove',\n",
    "                        'InsessionCart', 'InsessionView', 'InsessionRemove',\n",
    "                        'Purchase']\n",
    "    ```\n",
    "    \n",
    "    Share and discuss your graph with your group."
   ]
  },
  {
   "cell_type": "code",
   "execution_count": 119,
   "metadata": {},
   "outputs": [],
   "source": [
    "import matplotlib.pyplot as plt\n",
    "import seaborn as sb\n",
    "\n",
    "# [YOUR CODE HERE]\n",
    "from sklearn.ensemble import ExtraTreesClassifier\n",
    "import numpy as np\n",
    "import matplotlib.pyplot as plt\n",
    "\n",
    "def return_feature_rank_from_RF(cluster_id,X_train,y_train):\n",
    "    feature_names = X_train.columns\n",
    "# Build a forest and compute the impurity-based feature importances\n",
    "    forest = ExtraTreesClassifier(n_estimators=20,random_state=0)\n",
    "    forest.fit(X_train, y_train)\n",
    "    importances = forest.feature_importances_\n",
    "    std = np.std([tree.feature_importances_ for tree in forest.estimators_],axis=0)\n",
    "    indices = np.argsort(importances)[::-1]\n",
    "\n",
    "    # Print the feature ranking\n",
    "    # print(\"Feature ranking:\")\n",
    "    \"\"\"\n",
    "    for f in range(X_train.shape[1]):\n",
    "        print(\"%d. feature %d (%f)\" % (f + 1, indices[f], importances[indices[f]]))\n",
    "    \"\"\"\n",
    "    # Plot the impurity-based feature importances of the forest\n",
    "    plt.figure()\n",
    "    plt.title(f\"Feature importances for cluster {cluster_id}\")\n",
    "    plt.bar(range(X_train.shape[1]), importances[indices],\n",
    "            color=\"r\", yerr=std[indices], align=\"center\")\n",
    "    plt.xticks(range(X_train.shape[1]), feature_names[indices])\n",
    "    ax = plt.gca()\n",
    "    ax.set_xticklabels(labels=feature_names,rotation=90);\n",
    "    plt.xlim([-1, X_train.shape[1]])\n",
    "    plt.show()\n",
    "    \n",
    "    return (indices,importances)"
   ]
  },
  {
   "cell_type": "code",
   "execution_count": 121,
   "metadata": {},
   "outputs": [
    {
     "data": {
      "image/png": "[encoded data removed]",
      "text/plain": [
       "<Figure size 432x288 with 1 Axes>"
      ]
     },
     "metadata": {},
     "output_type": "display_data"
    },
    {
     "data": {
      "image/png": "[encoded data removed]",
      "text/plain": [
       "<Figure size 432x288 with 1 Axes>"
      ]
     },
     "metadata": {},
     "output_type": "display_data"
    },
    {
     "data": {
      "image/png": "[encoded data removed]",
      "text/plain": [
       "<Figure size 432x288 with 1 Axes>"
      ]
     },
     "metadata": {},
     "output_type": "display_data"
    },
    {
     "data": {
      "image/png": "[encoded data removed]",
      "text/plain": [
       "<Figure size 432x288 with 1 Axes>"
      ]
     },
     "metadata": {},
     "output_type": "display_data"
    },
    {
     "data": {
      "image/png": "[encoded data removed]",
      "text/plain": [
       "<Figure size 432x288 with 1 Axes>"
      ]
     },
     "metadata": {},
     "output_type": "display_data"
    },
    {
     "data": {
      "image/png": "[encoded data removed]",
      "text/plain": [
       "<Figure size 432x288 with 1 Axes>"
      ]
     },
     "metadata": {},
     "output_type": "display_data"
    }
   ],
   "source": [
    "selected_columns = ['ClusterID','NumOfEventsInJourney', 'NumSessions', 'interactionTime',\n",
    "                    'maxPrice', 'minPrice', 'NumCart', 'NumView', 'NumRemove',\n",
    "                    'InsessionCart', 'InsessionView', 'InsessionRemove',\n",
    "                    'Purchase']\n",
    "df_selected_cols = df[selected_columns]\n",
    "# get the cluster id \n",
    "cluster_ids = list(df_selected_cols.ClusterID.unique())\n",
    "for cluster_id in cluster_ids:\n",
    "    filter = df_selected_cols[\"ClusterID\"]  == cluster_id\n",
    "    df_clus = df_selected_cols.where(filter).dropna()\n",
    "    y_train = df_clus[\"Purchase\"]\n",
    "    X_train = df_clus.loc[:, ~df_clus.columns.isin(['Purchase', \"ClusterID\"])]\n",
    "    ranks = return_feature_rank_from_RF(cluster_id, X_train,y_train)\n",
    "    \n",
    "    \n",
    "   "
   ]
  },
  {
   "cell_type": "code",
   "execution_count": 30,
   "metadata": {},
   "outputs": [
    {
     "name": "stdout",
     "output_type": "stream",
     "text": [
      "The tensorboard extension is already loaded. To reload it, use:\n",
      "  %reload_ext tensorboard\n"
     ]
    }
   ],
   "source": [
    "%load_ext tensorboard"
   ]
  },
  {
   "cell_type": "code",
   "execution_count": 31,
   "metadata": {},
   "outputs": [],
   "source": [
    "import tensorflow as tf\n",
    "import datetime"
   ]
  },
  {
   "cell_type": "code",
   "execution_count": 33,
   "metadata": {},
   "outputs": [],
   "source": [
    "# Clear any logs from previous runs\n",
    "!rm -rf ./logs/"
   ]
  },
  {
   "cell_type": "code",
   "execution_count": 36,
   "metadata": {},
   "outputs": [],
   "source": [
    "mnist = tf.keras.datasets.mnist\n",
    "\n",
    "(x_train, y_train),(x_test, y_test) = mnist.load_data()\n",
    "x_train, x_test = x_train / 255.0, x_test / 255.0\n",
    "\n",
    "def create_model():\n",
    "    return tf.keras.models.Sequential([\n",
    "    tf.keras.layers.Flatten(input_shape=(28, 28)),\n",
    "    tf.keras.layers.Dense(512, activation='relu'),\n",
    "    tf.keras.layers.Dropout(0.2),\n",
    "    tf.keras.layers.Dense(10, activation='softmax')\n",
    "  ])"
   ]
  },
  {
   "cell_type": "code",
   "execution_count": 37,
   "metadata": {},
   "outputs": [
    {
     "name": "stdout",
     "output_type": "stream",
     "text": [
      "Train on 60000 samples, validate on 10000 samples\n",
      "Epoch 1/5\n",
      "  736/60000 [..............................] - ETA: 8s - loss: 1.4160 - accuracy: 0.5530  "
     ]
    },
    {
     "name": "stderr",
     "output_type": "stream",
     "text": [
      "2022-02-20 11:13:30.207556: W tensorflow/core/platform/profile_utils/cpu_utils.cc:128] Failed to get CPU frequency: 0 Hz\n",
      "/opt/homebrew/Caskroom/miniforge/base/envs/FOURTHBRAIN-AI/lib/python3.8/site-packages/keras/engine/training.py:2470: UserWarning: `Model.state_updates` will be removed in a future version. This property should not be used in TensorFlow 2.0, as `updates` are applied automatically.\n",
      "  warnings.warn('`Model.state_updates` will be removed in a future version. '\n",
      "2022-02-20 11:13:30.332329: I tensorflow/core/profiler/lib/profiler_session.cc:131] Profiler session initializing.\n",
      "2022-02-20 11:13:30.332339: I tensorflow/core/profiler/lib/profiler_session.cc:146] Profiler session started.\n",
      "2022-02-20 11:13:30.333601: I tensorflow/core/profiler/lib/profiler_session.cc:66] Profiler session collecting data.\n",
      "2022-02-20 11:13:30.339013: I tensorflow/core/profiler/lib/profiler_session.cc:164] Profiler session tear down.\n",
      "2022-02-20 11:13:30.346850: I tensorflow/core/profiler/rpc/client/save_profile.cc:136] Creating directory: logs/fit/20220220-111329/plugins/profile/2022_02_20_11_13_30\n",
      "\n",
      "2022-02-20 11:13:30.347335: I tensorflow/core/profiler/rpc/client/save_profile.cc:142] Dumped gzipped tool data for trace.json.gz to logs/fit/20220220-111329/plugins/profile/2022_02_20_11_13_30/leotiss-MacBook-Air.local.trace.json.gz\n",
      "2022-02-20 11:13:30.352566: I tensorflow/core/profiler/rpc/client/save_profile.cc:136] Creating directory: logs/fit/20220220-111329/plugins/profile/2022_02_20_11_13_30\n",
      "\n",
      "2022-02-20 11:13:30.353203: I tensorflow/core/profiler/rpc/client/save_profile.cc:142] Dumped gzipped tool data for memory_profile.json.gz to logs/fit/20220220-111329/plugins/profile/2022_02_20_11_13_30/leotiss-MacBook-Air.local.memory_profile.json.gz\n",
      "2022-02-20 11:13:30.353729: I tensorflow/core/profiler/rpc/client/capture_profile.cc:251] Creating directory: logs/fit/20220220-111329/plugins/profile/2022_02_20_11_13_30\n",
      "Dumped tool data for xplane.pb to logs/fit/20220220-111329/plugins/profile/2022_02_20_11_13_30/leotiss-MacBook-Air.local.xplane.pb\n",
      "Dumped tool data for overview_page.pb to logs/fit/20220220-111329/plugins/profile/2022_02_20_11_13_30/leotiss-MacBook-Air.local.overview_page.pb\n",
      "Dumped tool data for input_pipeline.pb to logs/fit/20220220-111329/plugins/profile/2022_02_20_11_13_30/leotiss-MacBook-Air.local.input_pipeline.pb\n",
      "Dumped tool data for tensorflow_stats.pb to logs/fit/20220220-111329/plugins/profile/2022_02_20_11_13_30/leotiss-MacBook-Air.local.tensorflow_stats.pb\n",
      "Dumped tool data for kernel_stats.pb to logs/fit/20220220-111329/plugins/profile/2022_02_20_11_13_30/leotiss-MacBook-Air.local.kernel_stats.pb\n",
      "\n"
     ]
    },
    {
     "name": "stdout",
     "output_type": "stream",
     "text": [
      "60000/60000 [==============================] - 8s 129us/sample - loss: 0.2196 - accuracy: 0.9342 - val_loss: 0.1020 - val_accuracy: 0.9668\n",
      "Epoch 2/5\n",
      "60000/60000 [==============================] - 7s 118us/sample - loss: 0.0985 - accuracy: 0.9700 - val_loss: 0.0839 - val_accuracy: 0.9742\n",
      "Epoch 3/5\n",
      "60000/60000 [==============================] - 7s 121us/sample - loss: 0.0676 - accuracy: 0.9785 - val_loss: 0.0692 - val_accuracy: 0.9787\n",
      "Epoch 4/5\n",
      "60000/60000 [==============================] - 7s 120us/sample - loss: 0.0538 - accuracy: 0.9832 - val_loss: 0.0731 - val_accuracy: 0.9788\n",
      "Epoch 5/5\n",
      "60000/60000 [==============================] - 7s 122us/sample - loss: 0.0443 - accuracy: 0.9853 - val_loss: 0.0759 - val_accuracy: 0.9781\n"
     ]
    },
    {
     "data": {
      "text/plain": [
       "<keras.callbacks.History at 0x293e7ba00>"
      ]
     },
     "execution_count": 37,
     "metadata": {},
     "output_type": "execute_result"
    }
   ],
   "source": [
    "model = create_model()\n",
    "model.compile(optimizer='adam',\n",
    "              loss='sparse_categorical_crossentropy',\n",
    "              metrics=['accuracy'])\n",
    "\n",
    "log_dir = \"logs/fit/\" + datetime.datetime.now().strftime(\"%Y%m%d-%H%M%S\")\n",
    "tensorboard_callback = tf.keras.callbacks.TensorBoard(log_dir=log_dir, histogram_freq=1)\n",
    "\n",
    "model.fit(x=x_train, \n",
    "          y=y_train, \n",
    "          epochs=5, \n",
    "          validation_data=(x_test, y_test), \n",
    "          callbacks=[tensorboard_callback])"
   ]
  },
  {
   "cell_type": "code",
   "execution_count": 38,
   "metadata": {},
   "outputs": [
    {
     "data": {
      "text/plain": [
       "ERROR: Failed to launch TensorBoard (exited with -5)."
      ]
     },
     "metadata": {},
     "output_type": "display_data"
    }
   ],
   "source": [
    "%tensorboard --logdir logs/fit"
   ]
  },
  {
   "cell_type": "code",
   "execution_count": null,
   "metadata": {},
   "outputs": [],
   "source": []
  }
 ],
 "metadata": {
  "colab": {
   "collapsed_sections": [],
   "name": "week3_V1.ipynb",
   "provenance": []
  },
  "kernelspec": {
   "display_name": "Python 3 (ipykernel)",
   "language": "python",
   "name": "python3"
  },
  "language_info": {
   "codemirror_mode": {
    "name": "ipython",
    "version": 3
   },
   "file_extension": ".py",
   "mimetype": "text/x-python",
   "name": "python",
   "nbconvert_exporter": "python",
   "pygments_lexer": "ipython3",
   "version": "3.8.10"
  }
 },
 "nbformat": 4,
 "nbformat_minor": 4
}
