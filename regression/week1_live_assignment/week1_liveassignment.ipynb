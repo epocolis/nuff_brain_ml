{
 "cells": [
  {
   "cell_type": "markdown",
   "metadata": {
    "id": "lNnTTMT9dnM4"
   },
   "source": [
    "# Today you are a Data Scientist at Tesla! \n",
    "\n",
    "You have been assigned a new project to look at car sales from Quarters 1-2 in California for 2019 to make predictions as to which cars will be sold more than the others in Q3 and Q4, to ensure enough inventory to meet demands!"
   ]
  },
  {
   "cell_type": "markdown",
   "metadata": {
    "id": "AQqh5DMaq9QW"
   },
   "source": [
    "### If running this notebook in Google Colab, run the following cell first to mount your Google Drive\n",
    "\n",
    "This mounts your Google Drive at the location `/content/drive` on the virtual machine running this notebook."
   ]
  },
  {
   "cell_type": "code",
   "execution_count": 2,
   "metadata": {
    "colab": {
     "base_uri": "https://localhost:8080/"
    },
    "executionInfo": {
     "elapsed": 197,
     "status": "ok",
     "timestamp": 1627687605649,
     "user": {
      "displayName": "Spencer Kent",
      "photoUrl": "",
      "userId": "07841346171340846448"
     },
     "user_tz": 420
    },
    "id": "Mqah54vN8CVB",
    "outputId": "8633c489-6439-4a66-dafd-cba26bc7e88d"
   },
   "outputs": [
    {
     "name": "stdout",
     "output_type": "stream",
     "text": [
      "This will only work on google collab!!!\n"
     ]
    }
   ],
   "source": [
    "try:\n",
    "    from google.colab import drive\n",
    "\n",
    "    drive.mount(\"/content/drive\")\n",
    "except:\n",
    "    print(\"This will only work on google collab!!!\")\n"
   ]
  },
  {
   "cell_type": "markdown",
   "metadata": {
    "id": "v-eh9IKUfTdQ"
   },
   "source": [
    "## Task 1: Load the data"
   ]
  },
  {
   "cell_type": "markdown",
   "metadata": {
    "id": "OI6NP0JBdnM5"
   },
   "source": [
    "### Import the modules\n",
    "\n",
    "1. We'll be using numpy, pandas and matplotlib, so we start by importing them."
   ]
  },
  {
   "cell_type": "code",
   "execution_count": 3,
   "metadata": {
    "id": "WdNx3CHEdnM5"
   },
   "outputs": [
    {
     "data": {
      "application/javascript": "\n            setTimeout(function() {\n                var nbb_cell_id = 3;\n                var nbb_unformatted_code = \"import numpy as np\\nimport pandas as pd\\nimport matplotlib.pyplot as plt\\nimport seaborn as sbn\\nfrom IPython.core.interactiveshell import InteractiveShell\\nInteractiveShell.ast_node_interactivity = 'all'\\n%load_ext nb_black\";\n                var nbb_formatted_code = \"import numpy as np\\nimport pandas as pd\\nimport matplotlib.pyplot as plt\\nimport seaborn as sbn\\nfrom IPython.core.interactiveshell import InteractiveShell\\n\\nInteractiveShell.ast_node_interactivity = \\\"all\\\"\\n%load_ext nb_black\";\n                var nbb_cells = Jupyter.notebook.get_cells();\n                for (var i = 0; i < nbb_cells.length; ++i) {\n                    if (nbb_cells[i].input_prompt_number == nbb_cell_id) {\n                        if (nbb_cells[i].get_text() == nbb_unformatted_code) {\n                             nbb_cells[i].set_text(nbb_formatted_code);\n                        }\n                        break;\n                    }\n                }\n            }, 500);\n            ",
      "text/plain": [
       "<IPython.core.display.Javascript object>"
      ]
     },
     "metadata": {},
     "output_type": "display_data"
    }
   ],
   "source": [
    "import numpy as np\n",
    "import pandas as pd\n",
    "import matplotlib.pyplot as plt\n",
    "import seaborn as sbn\n",
    "from IPython.core.interactiveshell import InteractiveShell\n",
    "InteractiveShell.ast_node_interactivity = 'all'\n",
    "%load_ext nb_black"
   ]
  },
  {
   "cell_type": "markdown",
   "metadata": {
    "id": "dM4fGT-ldnM8"
   },
   "source": [
    "### Read in the data\n",
    "\n",
    "2. Use pandas to read in the CSV file containing the sales data for Quarters 1 and 2. The file is called `sales_Q12_2019.csv`.\n",
    "\n",
    "    Note: Update `filepath` below to be where you saved the `sales_Q12_2019.csv` file (either on your computer if you're running the notebook locally, or in Google Drive if you're using Google Colab)."
   ]
  },
  {
   "cell_type": "code",
   "execution_count": 4,
   "metadata": {
    "id": "-s13HIEBdtGd"
   },
   "outputs": [
    {
     "data": {
      "application/javascript": "\n            setTimeout(function() {\n                var nbb_cell_id = 4;\n                var nbb_unformatted_code = \"# my copy of the Tesla sales data is located in my drive at /Datasets/week_1/\\nfilepath = \\\"sales_Q12_2019.csv\\\"\\n# [YOUR CODE HERE]\\ndf_sales = pd.read_csv(filepath)\";\n                var nbb_formatted_code = \"# my copy of the Tesla sales data is located in my drive at /Datasets/week_1/\\nfilepath = \\\"sales_Q12_2019.csv\\\"\\n# [YOUR CODE HERE]\\ndf_sales = pd.read_csv(filepath)\";\n                var nbb_cells = Jupyter.notebook.get_cells();\n                for (var i = 0; i < nbb_cells.length; ++i) {\n                    if (nbb_cells[i].input_prompt_number == nbb_cell_id) {\n                        if (nbb_cells[i].get_text() == nbb_unformatted_code) {\n                             nbb_cells[i].set_text(nbb_formatted_code);\n                        }\n                        break;\n                    }\n                }\n            }, 500);\n            ",
      "text/plain": [
       "<IPython.core.display.Javascript object>"
      ]
     },
     "metadata": {},
     "output_type": "display_data"
    }
   ],
   "source": [
    "# my copy of the Tesla sales data is located in my drive at /Datasets/week_1/\n",
    "filepath = \"sales_Q12_2019.csv\"\n",
    "# [YOUR CODE HERE]\n",
    "df_sales = pd.read_csv(filepath)\n"
   ]
  },
  {
   "cell_type": "markdown",
   "metadata": {},
   "source": [
    "3. Examine the data's shape and first few rows."
   ]
  },
  {
   "cell_type": "code",
   "execution_count": 5,
   "metadata": {
    "id": "HdP5mSNQePPU"
   },
   "outputs": [
    {
     "data": {
      "text/plain": [
       "(5837, 76)"
      ]
     },
     "execution_count": 5,
     "metadata": {},
     "output_type": "execute_result"
    },
    {
     "data": {
      "text/plain": [
       "Index(['main_S60_1', 'main_S60_2', 'main_type_SP100D', 'main_type_S60D_1',\n",
       "       'main_type_S60D_2', 'main_type_S70', 'main_type_S70D', 'main_type_S75',\n",
       "       'main_type_S75D', 'main_type_S80', 'main_type_S80D', 'main_type_S85',\n",
       "       'main_type_S85P', 'main_type_P85D', 'main_type_S90', 'main_type_S90D',\n",
       "       'main_type_S100D', 'engine_A', 'engine_B', 'engine_C', 'engine_D',\n",
       "       'engine_E', 'engine_F', 'engine_G', 'engine_H', 'engine_I', 'engine_J',\n",
       "       'engine_K', 'engine_L', 'engine_M', 'engine_N', 'engine_O', 'engine_P',\n",
       "       'engine_Q', 'engine_R', 'engine_S', 'engine_T', 'engine_U', 'engine_V',\n",
       "       'engine_W', 'engine_X', 'engine_Y', 'engine_Z', 'sales_1', 'sales_2',\n",
       "       'sales_3', 'sales_4', 'sales_5', 'sales_6', 'sales_7', 'sales_8',\n",
       "       'sales_9', 'sales_10', 'sales_11', 'sales_12', 'sales_13', 'sales_14',\n",
       "       'sales_15', 'sales_16', 'sales_17', 'sales_18', 'sales_19', 'sales_20',\n",
       "       'sales_21', 'sales_22', 'sales_23', 'sales_24', 'sales_25', 'sales_26',\n",
       "       'sales_27', 'sales_28', 'sales_29', 'sales_30', 'MSRP', 'dealer_state',\n",
       "       'date'],\n",
       "      dtype='object')"
      ]
     },
     "execution_count": 5,
     "metadata": {},
     "output_type": "execute_result"
    },
    {
     "data": {
      "application/javascript": "\n            setTimeout(function() {\n                var nbb_cell_id = 5;\n                var nbb_unformatted_code = \"# [YOUR CODE HERE]\\ndf_sales.shape\\ndf_sales.columns\";\n                var nbb_formatted_code = \"# [YOUR CODE HERE]\\ndf_sales.shape\\ndf_sales.columns\";\n                var nbb_cells = Jupyter.notebook.get_cells();\n                for (var i = 0; i < nbb_cells.length; ++i) {\n                    if (nbb_cells[i].input_prompt_number == nbb_cell_id) {\n                        if (nbb_cells[i].get_text() == nbb_unformatted_code) {\n                             nbb_cells[i].set_text(nbb_formatted_code);\n                        }\n                        break;\n                    }\n                }\n            }, 500);\n            ",
      "text/plain": [
       "<IPython.core.display.Javascript object>"
      ]
     },
     "metadata": {},
     "output_type": "display_data"
    }
   ],
   "source": [
    "# [YOUR CODE HERE]\n",
    "df_sales.shape\n",
    "df_sales.columns\n"
   ]
  },
  {
   "cell_type": "markdown",
   "metadata": {},
   "source": [
    "### Clean the data\n",
    "\n",
    "4. Notice that our dataset only contains dealers in California, so we can remove the `dealer_state` column. We also will be removing the `date` column (while we could possibly extract useful information from the date, we won't be using it for this exercise). Use the `.drop()` method to remove the two columns ([docs](https://pandas.pydata.org/docs/reference/api/pandas.DataFrame.drop.html)).\n",
    "\n",
    "    Use the `.head()` method to verify that they were removed correctly. If the DataFrame wasn't modified make sure you included the attribute `inplace=True` in the `.drop()` method."
   ]
  },
  {
   "cell_type": "code",
   "execution_count": 6,
   "metadata": {
    "id": "i-DThsrHdnNA"
   },
   "outputs": [
    {
     "data": {
      "application/javascript": "\n            setTimeout(function() {\n                var nbb_cell_id = 6;\n                var nbb_unformatted_code = \"# [YOUR CODE HERE]\\ndf_sales_v2 = df_sales.drop([\\\"dealer_state\\\", \\\"date\\\"], axis=1)\";\n                var nbb_formatted_code = \"# [YOUR CODE HERE]\\ndf_sales_v2 = df_sales.drop([\\\"dealer_state\\\", \\\"date\\\"], axis=1)\";\n                var nbb_cells = Jupyter.notebook.get_cells();\n                for (var i = 0; i < nbb_cells.length; ++i) {\n                    if (nbb_cells[i].input_prompt_number == nbb_cell_id) {\n                        if (nbb_cells[i].get_text() == nbb_unformatted_code) {\n                             nbb_cells[i].set_text(nbb_formatted_code);\n                        }\n                        break;\n                    }\n                }\n            }, 500);\n            ",
      "text/plain": [
       "<IPython.core.display.Javascript object>"
      ]
     },
     "metadata": {},
     "output_type": "display_data"
    }
   ],
   "source": [
    "# [YOUR CODE HERE]\n",
    "df_sales_v2 = df_sales.drop([\"dealer_state\", \"date\"], axis=1)\n"
   ]
  },
  {
   "cell_type": "code",
   "execution_count": 7,
   "metadata": {},
   "outputs": [
    {
     "data": {
      "text/html": [
       "<div>\n",
       "<style scoped>\n",
       "    .dataframe tbody tr th:only-of-type {\n",
       "        vertical-align: middle;\n",
       "    }\n",
       "\n",
       "    .dataframe tbody tr th {\n",
       "        vertical-align: top;\n",
       "    }\n",
       "\n",
       "    .dataframe thead th {\n",
       "        text-align: right;\n",
       "    }\n",
       "</style>\n",
       "<table border=\"1\" class=\"dataframe\">\n",
       "  <thead>\n",
       "    <tr style=\"text-align: right;\">\n",
       "      <th></th>\n",
       "      <th>main_S60_1</th>\n",
       "      <th>main_S60_2</th>\n",
       "      <th>main_type_SP100D</th>\n",
       "      <th>main_type_S60D_1</th>\n",
       "      <th>main_type_S60D_2</th>\n",
       "      <th>main_type_S70</th>\n",
       "      <th>main_type_S70D</th>\n",
       "      <th>main_type_S75</th>\n",
       "      <th>main_type_S75D</th>\n",
       "      <th>main_type_S80</th>\n",
       "      <th>...</th>\n",
       "      <th>sales_22</th>\n",
       "      <th>sales_23</th>\n",
       "      <th>sales_24</th>\n",
       "      <th>sales_25</th>\n",
       "      <th>sales_26</th>\n",
       "      <th>sales_27</th>\n",
       "      <th>sales_28</th>\n",
       "      <th>sales_29</th>\n",
       "      <th>sales_30</th>\n",
       "      <th>MSRP</th>\n",
       "    </tr>\n",
       "  </thead>\n",
       "  <tbody>\n",
       "    <tr>\n",
       "      <th>0</th>\n",
       "      <td>0</td>\n",
       "      <td>0</td>\n",
       "      <td>0</td>\n",
       "      <td>0</td>\n",
       "      <td>0</td>\n",
       "      <td>1</td>\n",
       "      <td>0</td>\n",
       "      <td>0</td>\n",
       "      <td>0</td>\n",
       "      <td>0</td>\n",
       "      <td>...</td>\n",
       "      <td>0</td>\n",
       "      <td>0</td>\n",
       "      <td>0</td>\n",
       "      <td>0</td>\n",
       "      <td>0</td>\n",
       "      <td>0</td>\n",
       "      <td>0</td>\n",
       "      <td>0</td>\n",
       "      <td>0</td>\n",
       "      <td>44610</td>\n",
       "    </tr>\n",
       "    <tr>\n",
       "      <th>1</th>\n",
       "      <td>0</td>\n",
       "      <td>0</td>\n",
       "      <td>0</td>\n",
       "      <td>0</td>\n",
       "      <td>0</td>\n",
       "      <td>0</td>\n",
       "      <td>0</td>\n",
       "      <td>0</td>\n",
       "      <td>0</td>\n",
       "      <td>0</td>\n",
       "      <td>...</td>\n",
       "      <td>0</td>\n",
       "      <td>0</td>\n",
       "      <td>0</td>\n",
       "      <td>0</td>\n",
       "      <td>0</td>\n",
       "      <td>0</td>\n",
       "      <td>0</td>\n",
       "      <td>0</td>\n",
       "      <td>0</td>\n",
       "      <td>41505</td>\n",
       "    </tr>\n",
       "    <tr>\n",
       "      <th>2</th>\n",
       "      <td>0</td>\n",
       "      <td>0</td>\n",
       "      <td>0</td>\n",
       "      <td>0</td>\n",
       "      <td>0</td>\n",
       "      <td>0</td>\n",
       "      <td>0</td>\n",
       "      <td>0</td>\n",
       "      <td>0</td>\n",
       "      <td>0</td>\n",
       "      <td>...</td>\n",
       "      <td>0</td>\n",
       "      <td>0</td>\n",
       "      <td>0</td>\n",
       "      <td>0</td>\n",
       "      <td>0</td>\n",
       "      <td>0</td>\n",
       "      <td>0</td>\n",
       "      <td>0</td>\n",
       "      <td>0</td>\n",
       "      <td>58890</td>\n",
       "    </tr>\n",
       "    <tr>\n",
       "      <th>3</th>\n",
       "      <td>0</td>\n",
       "      <td>0</td>\n",
       "      <td>0</td>\n",
       "      <td>0</td>\n",
       "      <td>0</td>\n",
       "      <td>0</td>\n",
       "      <td>0</td>\n",
       "      <td>0</td>\n",
       "      <td>0</td>\n",
       "      <td>0</td>\n",
       "      <td>...</td>\n",
       "      <td>0</td>\n",
       "      <td>0</td>\n",
       "      <td>0</td>\n",
       "      <td>0</td>\n",
       "      <td>0</td>\n",
       "      <td>0</td>\n",
       "      <td>0</td>\n",
       "      <td>0</td>\n",
       "      <td>0</td>\n",
       "      <td>51055</td>\n",
       "    </tr>\n",
       "    <tr>\n",
       "      <th>4</th>\n",
       "      <td>0</td>\n",
       "      <td>0</td>\n",
       "      <td>0</td>\n",
       "      <td>0</td>\n",
       "      <td>0</td>\n",
       "      <td>0</td>\n",
       "      <td>0</td>\n",
       "      <td>0</td>\n",
       "      <td>0</td>\n",
       "      <td>0</td>\n",
       "      <td>...</td>\n",
       "      <td>0</td>\n",
       "      <td>0</td>\n",
       "      <td>0</td>\n",
       "      <td>0</td>\n",
       "      <td>0</td>\n",
       "      <td>0</td>\n",
       "      <td>0</td>\n",
       "      <td>0</td>\n",
       "      <td>0</td>\n",
       "      <td>70830</td>\n",
       "    </tr>\n",
       "  </tbody>\n",
       "</table>\n",
       "<p>5 rows × 74 columns</p>\n",
       "</div>"
      ],
      "text/plain": [
       "   main_S60_1  main_S60_2  main_type_SP100D  main_type_S60D_1  \\\n",
       "0           0           0                 0                 0   \n",
       "1           0           0                 0                 0   \n",
       "2           0           0                 0                 0   \n",
       "3           0           0                 0                 0   \n",
       "4           0           0                 0                 0   \n",
       "\n",
       "   main_type_S60D_2  main_type_S70  main_type_S70D  main_type_S75  \\\n",
       "0                 0              1               0              0   \n",
       "1                 0              0               0              0   \n",
       "2                 0              0               0              0   \n",
       "3                 0              0               0              0   \n",
       "4                 0              0               0              0   \n",
       "\n",
       "   main_type_S75D  main_type_S80  ...  sales_22  sales_23  sales_24  sales_25  \\\n",
       "0               0              0  ...         0         0         0         0   \n",
       "1               0              0  ...         0         0         0         0   \n",
       "2               0              0  ...         0         0         0         0   \n",
       "3               0              0  ...         0         0         0         0   \n",
       "4               0              0  ...         0         0         0         0   \n",
       "\n",
       "   sales_26  sales_27  sales_28  sales_29  sales_30   MSRP  \n",
       "0         0         0         0         0         0  44610  \n",
       "1         0         0         0         0         0  41505  \n",
       "2         0         0         0         0         0  58890  \n",
       "3         0         0         0         0         0  51055  \n",
       "4         0         0         0         0         0  70830  \n",
       "\n",
       "[5 rows x 74 columns]"
      ]
     },
     "execution_count": 7,
     "metadata": {},
     "output_type": "execute_result"
    },
    {
     "data": {
      "application/javascript": "\n            setTimeout(function() {\n                var nbb_cell_id = 7;\n                var nbb_unformatted_code = \"df_sales_v2.head()\";\n                var nbb_formatted_code = \"df_sales_v2.head()\";\n                var nbb_cells = Jupyter.notebook.get_cells();\n                for (var i = 0; i < nbb_cells.length; ++i) {\n                    if (nbb_cells[i].input_prompt_number == nbb_cell_id) {\n                        if (nbb_cells[i].get_text() == nbb_unformatted_code) {\n                             nbb_cells[i].set_text(nbb_formatted_code);\n                        }\n                        break;\n                    }\n                }\n            }, 500);\n            ",
      "text/plain": [
       "<IPython.core.display.Javascript object>"
      ]
     },
     "metadata": {},
     "output_type": "display_data"
    }
   ],
   "source": [
    "df_sales_v2.head()\n"
   ]
  },
  {
   "cell_type": "markdown",
   "metadata": {
    "id": "qqdkmnCodnNC"
   },
   "source": [
    "### Read in the second dataset\n",
    "\n",
    "5. Follow the same syntax as above to read in the `sales_Q34_2019.csv` dataset. Note that this dataset doesn't have the `dealer_state` or `date` column, so we don't need to do the same cleanup.\n",
    "\n",
    "    After you've read in the data, use the `.head()` method to take a look at the first few rows."
   ]
  },
  {
   "cell_type": "code",
   "execution_count": null,
   "metadata": {
    "id": "bJpTgHxAdnND"
   },
   "outputs": [
    {
     "data": {
      "text/html": [
       "<div>\n",
       "<style scoped>\n",
       "    .dataframe tbody tr th:only-of-type {\n",
       "        vertical-align: middle;\n",
       "    }\n",
       "\n",
       "    .dataframe tbody tr th {\n",
       "        vertical-align: top;\n",
       "    }\n",
       "\n",
       "    .dataframe thead th {\n",
       "        text-align: right;\n",
       "    }\n",
       "</style>\n",
       "<table border=\"1\" class=\"dataframe\">\n",
       "  <thead>\n",
       "    <tr style=\"text-align: right;\">\n",
       "      <th></th>\n",
       "      <th>main_S60_1</th>\n",
       "      <th>main_S60_2</th>\n",
       "      <th>main_type_SP100D</th>\n",
       "      <th>main_type_S60D_1</th>\n",
       "      <th>main_type_S60D_2</th>\n",
       "      <th>main_type_S70</th>\n",
       "      <th>main_type_S70D</th>\n",
       "      <th>main_type_S75</th>\n",
       "      <th>main_type_S75D</th>\n",
       "      <th>main_type_S80</th>\n",
       "      <th>...</th>\n",
       "      <th>sales_22</th>\n",
       "      <th>sales_23</th>\n",
       "      <th>sales_24</th>\n",
       "      <th>sales_25</th>\n",
       "      <th>sales_26</th>\n",
       "      <th>sales_27</th>\n",
       "      <th>sales_28</th>\n",
       "      <th>sales_29</th>\n",
       "      <th>sales_30</th>\n",
       "      <th>MSRP</th>\n",
       "    </tr>\n",
       "  </thead>\n",
       "  <tbody>\n",
       "    <tr>\n",
       "      <th>0</th>\n",
       "      <td>0</td>\n",
       "      <td>0</td>\n",
       "      <td>0</td>\n",
       "      <td>0</td>\n",
       "      <td>0</td>\n",
       "      <td>1</td>\n",
       "      <td>0</td>\n",
       "      <td>0</td>\n",
       "      <td>0</td>\n",
       "      <td>0</td>\n",
       "      <td>...</td>\n",
       "      <td>0</td>\n",
       "      <td>0</td>\n",
       "      <td>1</td>\n",
       "      <td>0</td>\n",
       "      <td>0</td>\n",
       "      <td>0</td>\n",
       "      <td>0</td>\n",
       "      <td>0</td>\n",
       "      <td>0</td>\n",
       "      <td>51355</td>\n",
       "    </tr>\n",
       "    <tr>\n",
       "      <th>1</th>\n",
       "      <td>0</td>\n",
       "      <td>0</td>\n",
       "      <td>0</td>\n",
       "      <td>0</td>\n",
       "      <td>0</td>\n",
       "      <td>0</td>\n",
       "      <td>0</td>\n",
       "      <td>0</td>\n",
       "      <td>0</td>\n",
       "      <td>0</td>\n",
       "      <td>...</td>\n",
       "      <td>0</td>\n",
       "      <td>0</td>\n",
       "      <td>0</td>\n",
       "      <td>0</td>\n",
       "      <td>0</td>\n",
       "      <td>0</td>\n",
       "      <td>0</td>\n",
       "      <td>0</td>\n",
       "      <td>0</td>\n",
       "      <td>71580</td>\n",
       "    </tr>\n",
       "    <tr>\n",
       "      <th>2</th>\n",
       "      <td>0</td>\n",
       "      <td>0</td>\n",
       "      <td>0</td>\n",
       "      <td>0</td>\n",
       "      <td>0</td>\n",
       "      <td>0</td>\n",
       "      <td>0</td>\n",
       "      <td>0</td>\n",
       "      <td>0</td>\n",
       "      <td>0</td>\n",
       "      <td>...</td>\n",
       "      <td>0</td>\n",
       "      <td>0</td>\n",
       "      <td>0</td>\n",
       "      <td>0</td>\n",
       "      <td>0</td>\n",
       "      <td>0</td>\n",
       "      <td>0</td>\n",
       "      <td>0</td>\n",
       "      <td>0</td>\n",
       "      <td>66790</td>\n",
       "    </tr>\n",
       "    <tr>\n",
       "      <th>3</th>\n",
       "      <td>0</td>\n",
       "      <td>0</td>\n",
       "      <td>0</td>\n",
       "      <td>0</td>\n",
       "      <td>0</td>\n",
       "      <td>0</td>\n",
       "      <td>0</td>\n",
       "      <td>0</td>\n",
       "      <td>0</td>\n",
       "      <td>0</td>\n",
       "      <td>...</td>\n",
       "      <td>0</td>\n",
       "      <td>0</td>\n",
       "      <td>0</td>\n",
       "      <td>0</td>\n",
       "      <td>0</td>\n",
       "      <td>0</td>\n",
       "      <td>0</td>\n",
       "      <td>0</td>\n",
       "      <td>0</td>\n",
       "      <td>72330</td>\n",
       "    </tr>\n",
       "    <tr>\n",
       "      <th>4</th>\n",
       "      <td>0</td>\n",
       "      <td>0</td>\n",
       "      <td>0</td>\n",
       "      <td>0</td>\n",
       "      <td>0</td>\n",
       "      <td>0</td>\n",
       "      <td>0</td>\n",
       "      <td>0</td>\n",
       "      <td>0</td>\n",
       "      <td>0</td>\n",
       "      <td>...</td>\n",
       "      <td>0</td>\n",
       "      <td>0</td>\n",
       "      <td>0</td>\n",
       "      <td>0</td>\n",
       "      <td>0</td>\n",
       "      <td>0</td>\n",
       "      <td>0</td>\n",
       "      <td>0</td>\n",
       "      <td>0</td>\n",
       "      <td>55370</td>\n",
       "    </tr>\n",
       "  </tbody>\n",
       "</table>\n",
       "<p>5 rows × 74 columns</p>\n",
       "</div>"
      ],
      "text/plain": [
       "   main_S60_1  main_S60_2  main_type_SP100D  main_type_S60D_1  \\\n",
       "0           0           0                 0                 0   \n",
       "1           0           0                 0                 0   \n",
       "2           0           0                 0                 0   \n",
       "3           0           0                 0                 0   \n",
       "4           0           0                 0                 0   \n",
       "\n",
       "   main_type_S60D_2  main_type_S70  main_type_S70D  main_type_S75  \\\n",
       "0                 0              1               0              0   \n",
       "1                 0              0               0              0   \n",
       "2                 0              0               0              0   \n",
       "3                 0              0               0              0   \n",
       "4                 0              0               0              0   \n",
       "\n",
       "   main_type_S75D  main_type_S80  ...  sales_22  sales_23  sales_24  sales_25  \\\n",
       "0               0              0  ...         0         0         1         0   \n",
       "1               0              0  ...         0         0         0         0   \n",
       "2               0              0  ...         0         0         0         0   \n",
       "3               0              0  ...         0         0         0         0   \n",
       "4               0              0  ...         0         0         0         0   \n",
       "\n",
       "   sales_26  sales_27  sales_28  sales_29  sales_30   MSRP  \n",
       "0         0         0         0         0         0  51355  \n",
       "1         0         0         0         0         0  71580  \n",
       "2         0         0         0         0         0  66790  \n",
       "3         0         0         0         0         0  72330  \n",
       "4         0         0         0         0         0  55370  \n",
       "\n",
       "[5 rows x 74 columns]"
      ]
     },
     "execution_count": 8,
     "metadata": {},
     "output_type": "execute_result"
    },
    {
     "data": {
      "application/javascript": "\n            setTimeout(function() {\n                var nbb_cell_id = 8;\n                var nbb_unformatted_code = \"# [YOUR CODE HERE]\\nfilepath = \\\"sales_Q34_2019.csv\\\"\\ndf_pred = pd.read_csv(filepath)\\n# df_pred_v2 = df_pred.drop(['MSRP'],axis=1)\\ndf_pred.head()\";\n                var nbb_formatted_code = \"# [YOUR CODE HERE]\\nfilepath = \\\"sales_Q34_2019.csv\\\"\\ndf_pred = pd.read_csv(filepath)\\n# df_pred_v2 = df_pred.drop(['MSRP'],axis=1)\\ndf_pred.head()\";\n                var nbb_cells = Jupyter.notebook.get_cells();\n                for (var i = 0; i < nbb_cells.length; ++i) {\n                    if (nbb_cells[i].input_prompt_number == nbb_cell_id) {\n                        if (nbb_cells[i].get_text() == nbb_unformatted_code) {\n                             nbb_cells[i].set_text(nbb_formatted_code);\n                        }\n                        break;\n                    }\n                }\n            }, 500);\n            ",
      "text/plain": [
       "<IPython.core.display.Javascript object>"
      ]
     },
     "metadata": {},
     "output_type": "display_data"
    }
   ],
   "source": [
    "# [YOUR CODE HERE]\n",
    "filepath = \"sales_Q34_2019.csv\"\n",
    "df_pred = pd.read_csv(filepath)\n",
    "# df_pred_v2 = df_pred.drop(['MSRP'],axis=1)\n",
    "df_pred.head()\n"
   ]
  },
  {
   "cell_type": "markdown",
   "metadata": {
    "id": "kcmsU-T1dnNF"
   },
   "source": [
    "## Task 2: Set up a regression problem \n",
    "\n",
    "We will be building a model to predict the number of each car type sold.\n",
    "\n",
    "If we look at the columns in the dataset, we'll notice that the first 73 tell us which type of car it is. For example, the row at index 1 has a 1 in these three columns: `main_type_S100D`, `engine_A`, and `sales_8`. Any other rows that have 1's in these same columns refers to the same car. You'll see index 18 is the same.\n",
    "\n",
    "For each of these unique combinations, we will be counting up the number of cars sold. Note that the final column (MSRP) will not be used.\n",
    "\n",
    "We will count up the number of rows for each unique combination of values for the first 73 columns.\n",
    "\n",
    "Since we will be doing this same calculation for both `df_sales` (the training set) and `df_pred` (the test set), we will write a function to avoid duplicating code.\n",
    "\n",
    "1. Write the function `get_features_and_targets` that takes in a quarterly sales DataFrame and produces matrices $\\mathbf{X}$ and $\\mathbf{Y}$, where $\\mathbf{X}$ has a row for each unique car ID and the corresponding row in $\\mathbf{Y}$ has the number of those cars sold in the quarter.\n",
    "\n",
    "    Note: For the `df_sales` dataset, there are 66 types of cars, so $\\mathbf{X}$ should have 66 rows and 73 columns."
   ]
  },
  {
   "cell_type": "code",
   "execution_count": 9,
   "metadata": {},
   "outputs": [
    {
     "data": {
      "text/html": [
       "<div>\n",
       "<style scoped>\n",
       "    .dataframe tbody tr th:only-of-type {\n",
       "        vertical-align: middle;\n",
       "    }\n",
       "\n",
       "    .dataframe tbody tr th {\n",
       "        vertical-align: top;\n",
       "    }\n",
       "\n",
       "    .dataframe thead th {\n",
       "        text-align: right;\n",
       "    }\n",
       "</style>\n",
       "<table border=\"1\" class=\"dataframe\">\n",
       "  <thead>\n",
       "    <tr style=\"text-align: right;\">\n",
       "      <th></th>\n",
       "      <th>main_S60_1</th>\n",
       "      <th>main_S60_2</th>\n",
       "      <th>main_type_SP100D</th>\n",
       "      <th>main_type_S60D_1</th>\n",
       "      <th>main_type_S60D_2</th>\n",
       "      <th>main_type_S70</th>\n",
       "      <th>main_type_S70D</th>\n",
       "      <th>main_type_S75</th>\n",
       "      <th>main_type_S75D</th>\n",
       "      <th>main_type_S80</th>\n",
       "      <th>...</th>\n",
       "      <th>sales_21</th>\n",
       "      <th>sales_22</th>\n",
       "      <th>sales_23</th>\n",
       "      <th>sales_24</th>\n",
       "      <th>sales_25</th>\n",
       "      <th>sales_26</th>\n",
       "      <th>sales_27</th>\n",
       "      <th>sales_28</th>\n",
       "      <th>sales_29</th>\n",
       "      <th>sales_30</th>\n",
       "    </tr>\n",
       "  </thead>\n",
       "  <tbody>\n",
       "    <tr>\n",
       "      <th>0</th>\n",
       "      <td>0</td>\n",
       "      <td>0</td>\n",
       "      <td>0</td>\n",
       "      <td>0</td>\n",
       "      <td>0</td>\n",
       "      <td>1</td>\n",
       "      <td>0</td>\n",
       "      <td>0</td>\n",
       "      <td>0</td>\n",
       "      <td>0</td>\n",
       "      <td>...</td>\n",
       "      <td>0</td>\n",
       "      <td>0</td>\n",
       "      <td>0</td>\n",
       "      <td>1</td>\n",
       "      <td>0</td>\n",
       "      <td>0</td>\n",
       "      <td>0</td>\n",
       "      <td>0</td>\n",
       "      <td>0</td>\n",
       "      <td>0</td>\n",
       "    </tr>\n",
       "    <tr>\n",
       "      <th>1</th>\n",
       "      <td>0</td>\n",
       "      <td>0</td>\n",
       "      <td>0</td>\n",
       "      <td>0</td>\n",
       "      <td>0</td>\n",
       "      <td>0</td>\n",
       "      <td>0</td>\n",
       "      <td>0</td>\n",
       "      <td>0</td>\n",
       "      <td>0</td>\n",
       "      <td>...</td>\n",
       "      <td>0</td>\n",
       "      <td>0</td>\n",
       "      <td>0</td>\n",
       "      <td>0</td>\n",
       "      <td>0</td>\n",
       "      <td>0</td>\n",
       "      <td>0</td>\n",
       "      <td>0</td>\n",
       "      <td>0</td>\n",
       "      <td>0</td>\n",
       "    </tr>\n",
       "    <tr>\n",
       "      <th>2</th>\n",
       "      <td>0</td>\n",
       "      <td>0</td>\n",
       "      <td>0</td>\n",
       "      <td>0</td>\n",
       "      <td>0</td>\n",
       "      <td>0</td>\n",
       "      <td>0</td>\n",
       "      <td>0</td>\n",
       "      <td>0</td>\n",
       "      <td>0</td>\n",
       "      <td>...</td>\n",
       "      <td>0</td>\n",
       "      <td>0</td>\n",
       "      <td>0</td>\n",
       "      <td>0</td>\n",
       "      <td>0</td>\n",
       "      <td>0</td>\n",
       "      <td>0</td>\n",
       "      <td>0</td>\n",
       "      <td>0</td>\n",
       "      <td>0</td>\n",
       "    </tr>\n",
       "    <tr>\n",
       "      <th>3</th>\n",
       "      <td>0</td>\n",
       "      <td>0</td>\n",
       "      <td>0</td>\n",
       "      <td>0</td>\n",
       "      <td>0</td>\n",
       "      <td>0</td>\n",
       "      <td>0</td>\n",
       "      <td>0</td>\n",
       "      <td>0</td>\n",
       "      <td>0</td>\n",
       "      <td>...</td>\n",
       "      <td>0</td>\n",
       "      <td>0</td>\n",
       "      <td>0</td>\n",
       "      <td>0</td>\n",
       "      <td>0</td>\n",
       "      <td>0</td>\n",
       "      <td>0</td>\n",
       "      <td>0</td>\n",
       "      <td>0</td>\n",
       "      <td>0</td>\n",
       "    </tr>\n",
       "    <tr>\n",
       "      <th>4</th>\n",
       "      <td>0</td>\n",
       "      <td>0</td>\n",
       "      <td>0</td>\n",
       "      <td>0</td>\n",
       "      <td>0</td>\n",
       "      <td>0</td>\n",
       "      <td>0</td>\n",
       "      <td>0</td>\n",
       "      <td>0</td>\n",
       "      <td>0</td>\n",
       "      <td>...</td>\n",
       "      <td>0</td>\n",
       "      <td>0</td>\n",
       "      <td>0</td>\n",
       "      <td>0</td>\n",
       "      <td>0</td>\n",
       "      <td>0</td>\n",
       "      <td>0</td>\n",
       "      <td>0</td>\n",
       "      <td>0</td>\n",
       "      <td>0</td>\n",
       "    </tr>\n",
       "  </tbody>\n",
       "</table>\n",
       "<p>5 rows × 73 columns</p>\n",
       "</div>"
      ],
      "text/plain": [
       "   main_S60_1  main_S60_2  main_type_SP100D  main_type_S60D_1  \\\n",
       "0           0           0                 0                 0   \n",
       "1           0           0                 0                 0   \n",
       "2           0           0                 0                 0   \n",
       "3           0           0                 0                 0   \n",
       "4           0           0                 0                 0   \n",
       "\n",
       "   main_type_S60D_2  main_type_S70  main_type_S70D  main_type_S75  \\\n",
       "0                 0              1               0              0   \n",
       "1                 0              0               0              0   \n",
       "2                 0              0               0              0   \n",
       "3                 0              0               0              0   \n",
       "4                 0              0               0              0   \n",
       "\n",
       "   main_type_S75D  main_type_S80  ...  sales_21  sales_22  sales_23  sales_24  \\\n",
       "0               0              0  ...         0         0         0         1   \n",
       "1               0              0  ...         0         0         0         0   \n",
       "2               0              0  ...         0         0         0         0   \n",
       "3               0              0  ...         0         0         0         0   \n",
       "4               0              0  ...         0         0         0         0   \n",
       "\n",
       "   sales_25  sales_26  sales_27  sales_28  sales_29  sales_30  \n",
       "0         0         0         0         0         0         0  \n",
       "1         0         0         0         0         0         0  \n",
       "2         0         0         0         0         0         0  \n",
       "3         0         0         0         0         0         0  \n",
       "4         0         0         0         0         0         0  \n",
       "\n",
       "[5 rows x 73 columns]"
      ]
     },
     "execution_count": 9,
     "metadata": {},
     "output_type": "execute_result"
    },
    {
     "data": {
      "application/javascript": "\n            setTimeout(function() {\n                var nbb_cell_id = 9;\n                var nbb_unformatted_code = \"## Drop MSRP column\\ndf_sales_v3 = df_sales_v2.drop([\\\"MSRP\\\"], axis=1)\\ndf_pred_v3 = df_pred.drop([\\\"MSRP\\\"], axis=1)\\ndf_pred_v3.head()\";\n                var nbb_formatted_code = \"## Drop MSRP column\\ndf_sales_v3 = df_sales_v2.drop([\\\"MSRP\\\"], axis=1)\\ndf_pred_v3 = df_pred.drop([\\\"MSRP\\\"], axis=1)\\ndf_pred_v3.head()\";\n                var nbb_cells = Jupyter.notebook.get_cells();\n                for (var i = 0; i < nbb_cells.length; ++i) {\n                    if (nbb_cells[i].input_prompt_number == nbb_cell_id) {\n                        if (nbb_cells[i].get_text() == nbb_unformatted_code) {\n                             nbb_cells[i].set_text(nbb_formatted_code);\n                        }\n                        break;\n                    }\n                }\n            }, 500);\n            ",
      "text/plain": [
       "<IPython.core.display.Javascript object>"
      ]
     },
     "metadata": {},
     "output_type": "display_data"
    }
   ],
   "source": [
    "## Drop MSRP column\n",
    "df_sales_v3 = df_sales_v2.drop([\"MSRP\"], axis=1)\n",
    "df_pred_v3 = df_pred.drop([\"MSRP\"], axis=1)\n",
    "df_pred_v3.head()\n"
   ]
  },
  {
   "cell_type": "code",
   "execution_count": 10,
   "metadata": {},
   "outputs": [
    {
     "data": {
      "text/html": [
       "<div>\n",
       "<style scoped>\n",
       "    .dataframe tbody tr th:only-of-type {\n",
       "        vertical-align: middle;\n",
       "    }\n",
       "\n",
       "    .dataframe tbody tr th {\n",
       "        vertical-align: top;\n",
       "    }\n",
       "\n",
       "    .dataframe thead th {\n",
       "        text-align: right;\n",
       "    }\n",
       "</style>\n",
       "<table border=\"1\" class=\"dataframe\">\n",
       "  <thead>\n",
       "    <tr style=\"text-align: right;\">\n",
       "      <th></th>\n",
       "      <th>main_S60_1</th>\n",
       "      <th>main_S60_2</th>\n",
       "      <th>main_type_SP100D</th>\n",
       "      <th>main_type_S60D_1</th>\n",
       "      <th>main_type_S60D_2</th>\n",
       "      <th>main_type_S70</th>\n",
       "      <th>main_type_S70D</th>\n",
       "      <th>main_type_S75</th>\n",
       "      <th>main_type_S75D</th>\n",
       "      <th>main_type_S80</th>\n",
       "      <th>...</th>\n",
       "      <th>sales_22</th>\n",
       "      <th>sales_23</th>\n",
       "      <th>sales_24</th>\n",
       "      <th>sales_25</th>\n",
       "      <th>sales_26</th>\n",
       "      <th>sales_27</th>\n",
       "      <th>sales_28</th>\n",
       "      <th>sales_29</th>\n",
       "      <th>sales_30</th>\n",
       "      <th>total_sales</th>\n",
       "    </tr>\n",
       "  </thead>\n",
       "  <tbody>\n",
       "    <tr>\n",
       "      <th>0</th>\n",
       "      <td>0</td>\n",
       "      <td>0</td>\n",
       "      <td>0</td>\n",
       "      <td>0</td>\n",
       "      <td>0</td>\n",
       "      <td>0</td>\n",
       "      <td>0</td>\n",
       "      <td>0</td>\n",
       "      <td>0</td>\n",
       "      <td>0</td>\n",
       "      <td>...</td>\n",
       "      <td>0</td>\n",
       "      <td>0</td>\n",
       "      <td>0</td>\n",
       "      <td>0</td>\n",
       "      <td>0</td>\n",
       "      <td>0</td>\n",
       "      <td>0</td>\n",
       "      <td>0</td>\n",
       "      <td>0</td>\n",
       "      <td>818</td>\n",
       "    </tr>\n",
       "    <tr>\n",
       "      <th>1</th>\n",
       "      <td>0</td>\n",
       "      <td>0</td>\n",
       "      <td>0</td>\n",
       "      <td>0</td>\n",
       "      <td>0</td>\n",
       "      <td>0</td>\n",
       "      <td>0</td>\n",
       "      <td>0</td>\n",
       "      <td>0</td>\n",
       "      <td>0</td>\n",
       "      <td>...</td>\n",
       "      <td>0</td>\n",
       "      <td>0</td>\n",
       "      <td>0</td>\n",
       "      <td>0</td>\n",
       "      <td>0</td>\n",
       "      <td>0</td>\n",
       "      <td>0</td>\n",
       "      <td>0</td>\n",
       "      <td>0</td>\n",
       "      <td>639</td>\n",
       "    </tr>\n",
       "    <tr>\n",
       "      <th>2</th>\n",
       "      <td>0</td>\n",
       "      <td>0</td>\n",
       "      <td>0</td>\n",
       "      <td>0</td>\n",
       "      <td>0</td>\n",
       "      <td>0</td>\n",
       "      <td>0</td>\n",
       "      <td>0</td>\n",
       "      <td>0</td>\n",
       "      <td>0</td>\n",
       "      <td>...</td>\n",
       "      <td>0</td>\n",
       "      <td>0</td>\n",
       "      <td>0</td>\n",
       "      <td>0</td>\n",
       "      <td>0</td>\n",
       "      <td>0</td>\n",
       "      <td>0</td>\n",
       "      <td>0</td>\n",
       "      <td>0</td>\n",
       "      <td>402</td>\n",
       "    </tr>\n",
       "    <tr>\n",
       "      <th>3</th>\n",
       "      <td>0</td>\n",
       "      <td>0</td>\n",
       "      <td>0</td>\n",
       "      <td>0</td>\n",
       "      <td>0</td>\n",
       "      <td>1</td>\n",
       "      <td>0</td>\n",
       "      <td>0</td>\n",
       "      <td>0</td>\n",
       "      <td>0</td>\n",
       "      <td>...</td>\n",
       "      <td>0</td>\n",
       "      <td>0</td>\n",
       "      <td>0</td>\n",
       "      <td>0</td>\n",
       "      <td>0</td>\n",
       "      <td>0</td>\n",
       "      <td>0</td>\n",
       "      <td>0</td>\n",
       "      <td>0</td>\n",
       "      <td>388</td>\n",
       "    </tr>\n",
       "    <tr>\n",
       "      <th>4</th>\n",
       "      <td>0</td>\n",
       "      <td>0</td>\n",
       "      <td>0</td>\n",
       "      <td>0</td>\n",
       "      <td>0</td>\n",
       "      <td>0</td>\n",
       "      <td>0</td>\n",
       "      <td>0</td>\n",
       "      <td>0</td>\n",
       "      <td>0</td>\n",
       "      <td>...</td>\n",
       "      <td>0</td>\n",
       "      <td>0</td>\n",
       "      <td>0</td>\n",
       "      <td>0</td>\n",
       "      <td>0</td>\n",
       "      <td>0</td>\n",
       "      <td>0</td>\n",
       "      <td>0</td>\n",
       "      <td>0</td>\n",
       "      <td>381</td>\n",
       "    </tr>\n",
       "  </tbody>\n",
       "</table>\n",
       "<p>5 rows × 74 columns</p>\n",
       "</div>"
      ],
      "text/plain": [
       "   main_S60_1  main_S60_2  main_type_SP100D  main_type_S60D_1  \\\n",
       "0           0           0                 0                 0   \n",
       "1           0           0                 0                 0   \n",
       "2           0           0                 0                 0   \n",
       "3           0           0                 0                 0   \n",
       "4           0           0                 0                 0   \n",
       "\n",
       "   main_type_S60D_2  main_type_S70  main_type_S70D  main_type_S75  \\\n",
       "0                 0              0               0              0   \n",
       "1                 0              0               0              0   \n",
       "2                 0              0               0              0   \n",
       "3                 0              1               0              0   \n",
       "4                 0              0               0              0   \n",
       "\n",
       "   main_type_S75D  main_type_S80  ...  sales_22  sales_23  sales_24  sales_25  \\\n",
       "0               0              0  ...         0         0         0         0   \n",
       "1               0              0  ...         0         0         0         0   \n",
       "2               0              0  ...         0         0         0         0   \n",
       "3               0              0  ...         0         0         0         0   \n",
       "4               0              0  ...         0         0         0         0   \n",
       "\n",
       "   sales_26  sales_27  sales_28  sales_29  sales_30  total_sales  \n",
       "0         0         0         0         0         0          818  \n",
       "1         0         0         0         0         0          639  \n",
       "2         0         0         0         0         0          402  \n",
       "3         0         0         0         0         0          388  \n",
       "4         0         0         0         0         0          381  \n",
       "\n",
       "[5 rows x 74 columns]"
      ]
     },
     "execution_count": 10,
     "metadata": {},
     "output_type": "execute_result"
    },
    {
     "data": {
      "application/javascript": "\n            setTimeout(function() {\n                var nbb_cell_id = 10;\n                var nbb_unformatted_code = \"## Computer the total sales\\ndf_pred_v4 = (\\n    df_pred_v3.value_counts().reset_index().rename({0: \\\"total_sales\\\"}, axis=\\\"columns\\\")\\n)\\ndf_sales_v4 = (\\n    df_sales_v3.value_counts().reset_index().rename({0: \\\"total_sales\\\"}, axis=\\\"columns\\\")\\n)\\ndf_sales_v4.head()\";\n                var nbb_formatted_code = \"## Computer the total sales\\ndf_pred_v4 = (\\n    df_pred_v3.value_counts().reset_index().rename({0: \\\"total_sales\\\"}, axis=\\\"columns\\\")\\n)\\ndf_sales_v4 = (\\n    df_sales_v3.value_counts().reset_index().rename({0: \\\"total_sales\\\"}, axis=\\\"columns\\\")\\n)\\ndf_sales_v4.head()\";\n                var nbb_cells = Jupyter.notebook.get_cells();\n                for (var i = 0; i < nbb_cells.length; ++i) {\n                    if (nbb_cells[i].input_prompt_number == nbb_cell_id) {\n                        if (nbb_cells[i].get_text() == nbb_unformatted_code) {\n                             nbb_cells[i].set_text(nbb_formatted_code);\n                        }\n                        break;\n                    }\n                }\n            }, 500);\n            ",
      "text/plain": [
       "<IPython.core.display.Javascript object>"
      ]
     },
     "metadata": {},
     "output_type": "display_data"
    }
   ],
   "source": [
    "## Computer the total sales\n",
    "df_pred_v4 = (\n",
    "    df_pred_v3.value_counts().reset_index().rename({0: \"total_sales\"}, axis=\"columns\")\n",
    ")\n",
    "df_sales_v4 = (\n",
    "    df_sales_v3.value_counts().reset_index().rename({0: \"total_sales\"}, axis=\"columns\")\n",
    ")\n",
    "df_sales_v4.head()\n"
   ]
  },
  {
   "cell_type": "code",
   "execution_count": 11,
   "metadata": {},
   "outputs": [
    {
     "data": {
      "application/javascript": "\n            setTimeout(function() {\n                var nbb_cell_id = 11;\n                var nbb_unformatted_code = \"def get_features_and_targets(df, feature_column_names, target_column_name):\\n    target = df.loc[:, df.columns.isin([target_column_name])]\\n    features = df.loc[:, df.columns.isin(feature_column_names)]\\n    return features, target\";\n                var nbb_formatted_code = \"def get_features_and_targets(df, feature_column_names, target_column_name):\\n    target = df.loc[:, df.columns.isin([target_column_name])]\\n    features = df.loc[:, df.columns.isin(feature_column_names)]\\n    return features, target\";\n                var nbb_cells = Jupyter.notebook.get_cells();\n                for (var i = 0; i < nbb_cells.length; ++i) {\n                    if (nbb_cells[i].input_prompt_number == nbb_cell_id) {\n                        if (nbb_cells[i].get_text() == nbb_unformatted_code) {\n                             nbb_cells[i].set_text(nbb_formatted_code);\n                        }\n                        break;\n                    }\n                }\n            }, 500);\n            ",
      "text/plain": [
       "<IPython.core.display.Javascript object>"
      ]
     },
     "metadata": {},
     "output_type": "display_data"
    }
   ],
   "source": [
    "def get_features_and_targets(df, feature_column_names, target_column_name):\n",
    "    target = df.loc[:, df.columns.isin([target_column_name])]\n",
    "    features = df.loc[:, df.columns.isin(feature_column_names)]\n",
    "    return features, target\n"
   ]
  },
  {
   "cell_type": "markdown",
   "metadata": {
    "id": "toTX3W89fX2P"
   },
   "source": [
    "2. Use the `get_features_and_targets()` function to create $\\mathbf{X}$, $\\mathbf{Y}$ pairs for both the training data (`df_sales`) and the test data (`df_pred`)."
   ]
  },
  {
   "cell_type": "code",
   "execution_count": 12,
   "metadata": {},
   "outputs": [
    {
     "data": {
      "application/javascript": "\n            setTimeout(function() {\n                var nbb_cell_id = 12;\n                var nbb_unformatted_code = \"# feature_column_names = list(df_sales_v4.loc[:, ~df_sales_v4.columns.isin([target_column_name])].columns)\\nTARGET_NAME = \\\"total_sales\\\"\\nFEATURE_COLUMN_NAMES = [\\n    \\\"main_S60_1\\\",\\n    \\\"main_S60_2\\\",\\n    \\\"main_type_SP100D\\\",\\n    \\\"main_type_S60D_1\\\",\\n    \\\"main_type_S60D_2\\\",\\n    \\\"main_type_S70\\\",\\n    \\\"main_type_S70D\\\",\\n    \\\"main_type_S75\\\",\\n    \\\"main_type_S75D\\\",\\n    \\\"main_type_S80\\\",\\n    \\\"main_type_S80D\\\",\\n    \\\"main_type_S85\\\",\\n    \\\"main_type_S85P\\\",\\n    \\\"main_type_P85D\\\",\\n    \\\"main_type_S90\\\",\\n    \\\"main_type_S90D\\\",\\n    \\\"main_type_S100D\\\",\\n    \\\"engine_A\\\",\\n    \\\"engine_B\\\",\\n    \\\"engine_C\\\",\\n    \\\"engine_D\\\",\\n    \\\"engine_E\\\",\\n    \\\"engine_F\\\",\\n    \\\"engine_G\\\",\\n    \\\"engine_H\\\",\\n    \\\"engine_I\\\",\\n    \\\"engine_J\\\",\\n    \\\"engine_K\\\",\\n    \\\"engine_L\\\",\\n    \\\"engine_M\\\",\\n    \\\"engine_N\\\",\\n    \\\"engine_O\\\",\\n    \\\"engine_P\\\",\\n    \\\"engine_Q\\\",\\n    \\\"engine_R\\\",\\n    \\\"engine_S\\\",\\n    \\\"engine_T\\\",\\n    \\\"engine_U\\\",\\n    \\\"engine_V\\\",\\n    \\\"engine_W\\\",\\n    \\\"engine_X\\\",\\n    \\\"engine_Y\\\",\\n    \\\"engine_Z\\\",\\n    \\\"sales_1\\\",\\n    \\\"sales_2\\\",\\n    \\\"sales_3\\\",\\n    \\\"sales_4\\\",\\n    \\\"sales_5\\\",\\n    \\\"sales_6\\\",\\n    \\\"sales_7\\\",\\n    \\\"sales_8\\\",\\n    \\\"sales_9\\\",\\n    \\\"sales_10\\\",\\n    \\\"sales_11\\\",\\n    \\\"sales_12\\\",\\n    \\\"sales_13\\\",\\n    \\\"sales_14\\\",\\n    \\\"sales_15\\\",\\n    \\\"sales_16\\\",\\n    \\\"sales_17\\\",\\n    \\\"sales_18\\\",\\n    \\\"sales_19\\\",\\n    \\\"sales_20\\\",\\n    \\\"sales_21\\\",\\n    \\\"sales_22\\\",\\n    \\\"sales_23\\\",\\n    \\\"sales_24\\\",\\n    \\\"sales_25\\\",\\n    \\\"sales_26\\\",\\n    \\\"sales_27\\\",\\n    \\\"sales_28\\\",\\n    \\\"sales_29\\\",\\n    \\\"sales_30\\\",\\n]\";\n                var nbb_formatted_code = \"# feature_column_names = list(df_sales_v4.loc[:, ~df_sales_v4.columns.isin([target_column_name])].columns)\\nTARGET_NAME = \\\"total_sales\\\"\\nFEATURE_COLUMN_NAMES = [\\n    \\\"main_S60_1\\\",\\n    \\\"main_S60_2\\\",\\n    \\\"main_type_SP100D\\\",\\n    \\\"main_type_S60D_1\\\",\\n    \\\"main_type_S60D_2\\\",\\n    \\\"main_type_S70\\\",\\n    \\\"main_type_S70D\\\",\\n    \\\"main_type_S75\\\",\\n    \\\"main_type_S75D\\\",\\n    \\\"main_type_S80\\\",\\n    \\\"main_type_S80D\\\",\\n    \\\"main_type_S85\\\",\\n    \\\"main_type_S85P\\\",\\n    \\\"main_type_P85D\\\",\\n    \\\"main_type_S90\\\",\\n    \\\"main_type_S90D\\\",\\n    \\\"main_type_S100D\\\",\\n    \\\"engine_A\\\",\\n    \\\"engine_B\\\",\\n    \\\"engine_C\\\",\\n    \\\"engine_D\\\",\\n    \\\"engine_E\\\",\\n    \\\"engine_F\\\",\\n    \\\"engine_G\\\",\\n    \\\"engine_H\\\",\\n    \\\"engine_I\\\",\\n    \\\"engine_J\\\",\\n    \\\"engine_K\\\",\\n    \\\"engine_L\\\",\\n    \\\"engine_M\\\",\\n    \\\"engine_N\\\",\\n    \\\"engine_O\\\",\\n    \\\"engine_P\\\",\\n    \\\"engine_Q\\\",\\n    \\\"engine_R\\\",\\n    \\\"engine_S\\\",\\n    \\\"engine_T\\\",\\n    \\\"engine_U\\\",\\n    \\\"engine_V\\\",\\n    \\\"engine_W\\\",\\n    \\\"engine_X\\\",\\n    \\\"engine_Y\\\",\\n    \\\"engine_Z\\\",\\n    \\\"sales_1\\\",\\n    \\\"sales_2\\\",\\n    \\\"sales_3\\\",\\n    \\\"sales_4\\\",\\n    \\\"sales_5\\\",\\n    \\\"sales_6\\\",\\n    \\\"sales_7\\\",\\n    \\\"sales_8\\\",\\n    \\\"sales_9\\\",\\n    \\\"sales_10\\\",\\n    \\\"sales_11\\\",\\n    \\\"sales_12\\\",\\n    \\\"sales_13\\\",\\n    \\\"sales_14\\\",\\n    \\\"sales_15\\\",\\n    \\\"sales_16\\\",\\n    \\\"sales_17\\\",\\n    \\\"sales_18\\\",\\n    \\\"sales_19\\\",\\n    \\\"sales_20\\\",\\n    \\\"sales_21\\\",\\n    \\\"sales_22\\\",\\n    \\\"sales_23\\\",\\n    \\\"sales_24\\\",\\n    \\\"sales_25\\\",\\n    \\\"sales_26\\\",\\n    \\\"sales_27\\\",\\n    \\\"sales_28\\\",\\n    \\\"sales_29\\\",\\n    \\\"sales_30\\\",\\n]\";\n                var nbb_cells = Jupyter.notebook.get_cells();\n                for (var i = 0; i < nbb_cells.length; ++i) {\n                    if (nbb_cells[i].input_prompt_number == nbb_cell_id) {\n                        if (nbb_cells[i].get_text() == nbb_unformatted_code) {\n                             nbb_cells[i].set_text(nbb_formatted_code);\n                        }\n                        break;\n                    }\n                }\n            }, 500);\n            ",
      "text/plain": [
       "<IPython.core.display.Javascript object>"
      ]
     },
     "metadata": {},
     "output_type": "display_data"
    }
   ],
   "source": [
    "# feature_column_names = list(df_sales_v4.loc[:, ~df_sales_v4.columns.isin([target_column_name])].columns)\n",
    "TARGET_NAME = \"total_sales\"\n",
    "FEATURE_COLUMN_NAMES = [\n",
    "    \"main_S60_1\",\n",
    "    \"main_S60_2\",\n",
    "    \"main_type_SP100D\",\n",
    "    \"main_type_S60D_1\",\n",
    "    \"main_type_S60D_2\",\n",
    "    \"main_type_S70\",\n",
    "    \"main_type_S70D\",\n",
    "    \"main_type_S75\",\n",
    "    \"main_type_S75D\",\n",
    "    \"main_type_S80\",\n",
    "    \"main_type_S80D\",\n",
    "    \"main_type_S85\",\n",
    "    \"main_type_S85P\",\n",
    "    \"main_type_P85D\",\n",
    "    \"main_type_S90\",\n",
    "    \"main_type_S90D\",\n",
    "    \"main_type_S100D\",\n",
    "    \"engine_A\",\n",
    "    \"engine_B\",\n",
    "    \"engine_C\",\n",
    "    \"engine_D\",\n",
    "    \"engine_E\",\n",
    "    \"engine_F\",\n",
    "    \"engine_G\",\n",
    "    \"engine_H\",\n",
    "    \"engine_I\",\n",
    "    \"engine_J\",\n",
    "    \"engine_K\",\n",
    "    \"engine_L\",\n",
    "    \"engine_M\",\n",
    "    \"engine_N\",\n",
    "    \"engine_O\",\n",
    "    \"engine_P\",\n",
    "    \"engine_Q\",\n",
    "    \"engine_R\",\n",
    "    \"engine_S\",\n",
    "    \"engine_T\",\n",
    "    \"engine_U\",\n",
    "    \"engine_V\",\n",
    "    \"engine_W\",\n",
    "    \"engine_X\",\n",
    "    \"engine_Y\",\n",
    "    \"engine_Z\",\n",
    "    \"sales_1\",\n",
    "    \"sales_2\",\n",
    "    \"sales_3\",\n",
    "    \"sales_4\",\n",
    "    \"sales_5\",\n",
    "    \"sales_6\",\n",
    "    \"sales_7\",\n",
    "    \"sales_8\",\n",
    "    \"sales_9\",\n",
    "    \"sales_10\",\n",
    "    \"sales_11\",\n",
    "    \"sales_12\",\n",
    "    \"sales_13\",\n",
    "    \"sales_14\",\n",
    "    \"sales_15\",\n",
    "    \"sales_16\",\n",
    "    \"sales_17\",\n",
    "    \"sales_18\",\n",
    "    \"sales_19\",\n",
    "    \"sales_20\",\n",
    "    \"sales_21\",\n",
    "    \"sales_22\",\n",
    "    \"sales_23\",\n",
    "    \"sales_24\",\n",
    "    \"sales_25\",\n",
    "    \"sales_26\",\n",
    "    \"sales_27\",\n",
    "    \"sales_28\",\n",
    "    \"sales_29\",\n",
    "    \"sales_30\",\n",
    "]\n"
   ]
  },
  {
   "cell_type": "code",
   "execution_count": 13,
   "metadata": {
    "id": "Rf6Vj0ujhJ77"
   },
   "outputs": [
    {
     "data": {
      "text/html": [
       "<div>\n",
       "<style scoped>\n",
       "    .dataframe tbody tr th:only-of-type {\n",
       "        vertical-align: middle;\n",
       "    }\n",
       "\n",
       "    .dataframe tbody tr th {\n",
       "        vertical-align: top;\n",
       "    }\n",
       "\n",
       "    .dataframe thead th {\n",
       "        text-align: right;\n",
       "    }\n",
       "</style>\n",
       "<table border=\"1\" class=\"dataframe\">\n",
       "  <thead>\n",
       "    <tr style=\"text-align: right;\">\n",
       "      <th></th>\n",
       "      <th>total_sales</th>\n",
       "    </tr>\n",
       "  </thead>\n",
       "  <tbody>\n",
       "    <tr>\n",
       "      <th>0</th>\n",
       "      <td>818</td>\n",
       "    </tr>\n",
       "    <tr>\n",
       "      <th>1</th>\n",
       "      <td>639</td>\n",
       "    </tr>\n",
       "    <tr>\n",
       "      <th>2</th>\n",
       "      <td>402</td>\n",
       "    </tr>\n",
       "    <tr>\n",
       "      <th>3</th>\n",
       "      <td>388</td>\n",
       "    </tr>\n",
       "    <tr>\n",
       "      <th>4</th>\n",
       "      <td>381</td>\n",
       "    </tr>\n",
       "  </tbody>\n",
       "</table>\n",
       "</div>"
      ],
      "text/plain": [
       "   total_sales\n",
       "0          818\n",
       "1          639\n",
       "2          402\n",
       "3          388\n",
       "4          381"
      ]
     },
     "execution_count": 13,
     "metadata": {},
     "output_type": "execute_result"
    },
    {
     "data": {
      "application/javascript": "\n            setTimeout(function() {\n                var nbb_cell_id = 13;\n                var nbb_unformatted_code = \"\\nX_train, y_train = get_features_and_targets(\\n    df_sales_v4, FEATURE_COLUMN_NAMES, TARGET_NAME\\n)  # [YOUR CODE HERE]\\nX_test, y_test = get_features_and_targets(\\n    df_pred_v4, FEATURE_COLUMN_NAMES, TARGET_NAME\\n) \\n\\n # [YOUR CODE HERE]\\ny_train.head()\";\n                var nbb_formatted_code = \"X_train, y_train = get_features_and_targets(\\n    df_sales_v4, FEATURE_COLUMN_NAMES, TARGET_NAME\\n)  # [YOUR CODE HERE]\\nX_test, y_test = get_features_and_targets(df_pred_v4, FEATURE_COLUMN_NAMES, TARGET_NAME)\\n\\n# [YOUR CODE HERE]\\ny_train.head()\";\n                var nbb_cells = Jupyter.notebook.get_cells();\n                for (var i = 0; i < nbb_cells.length; ++i) {\n                    if (nbb_cells[i].input_prompt_number == nbb_cell_id) {\n                        if (nbb_cells[i].get_text() == nbb_unformatted_code) {\n                             nbb_cells[i].set_text(nbb_formatted_code);\n                        }\n                        break;\n                    }\n                }\n            }, 500);\n            ",
      "text/plain": [
       "<IPython.core.display.Javascript object>"
      ]
     },
     "metadata": {},
     "output_type": "display_data"
    }
   ],
   "source": [
    "\n",
    "X_train, y_train = get_features_and_targets(\n",
    "    df_sales_v4, FEATURE_COLUMN_NAMES, TARGET_NAME\n",
    ")  # [YOUR CODE HERE]\n",
    "X_test, y_test = get_features_and_targets(\n",
    "    df_pred_v4, FEATURE_COLUMN_NAMES, TARGET_NAME\n",
    ") \n",
    "\n",
    " # [YOUR CODE HERE]\n",
    "y_train.head()\n"
   ]
  },
  {
   "cell_type": "markdown",
   "metadata": {},
   "source": [
    "3. Verify that the shapes of the four numpy arrays you just created are correct.\n",
    "\n",
    "    The training set should have 66 datapoints and the test set should have 71 rows. Verify this by looking at the number of rows in $\\mathbf{X}$ and number of values in $\\mathbf{Y}$.\n",
    "    \n",
    "    Both $\\mathbf{X}$'s should have 73 columns."
   ]
  },
  {
   "cell_type": "code",
   "execution_count": 14,
   "metadata": {},
   "outputs": [
    {
     "name": "stdout",
     "output_type": "stream",
     "text": [
      "y_train:(66, 1)\n",
      "X_train:(66, 73)\n",
      "-------------------------\n",
      "y_test:(71, 1)\n",
      "X_test:(71, 73)\n"
     ]
    },
    {
     "data": {
      "application/javascript": "\n            setTimeout(function() {\n                var nbb_cell_id = 14;\n                var nbb_unformatted_code = \"# [YOUR CODE HERE]\\nprint(f\\\"y_train:{y_train.shape}\\\")\\nprint(f\\\"X_train:{X_train.shape}\\\")\\nprint(\\\"-------------------------\\\")\\nprint(f\\\"y_test:{y_test.shape}\\\")\\nprint(f\\\"X_test:{X_test.shape}\\\")\";\n                var nbb_formatted_code = \"# [YOUR CODE HERE]\\nprint(f\\\"y_train:{y_train.shape}\\\")\\nprint(f\\\"X_train:{X_train.shape}\\\")\\nprint(\\\"-------------------------\\\")\\nprint(f\\\"y_test:{y_test.shape}\\\")\\nprint(f\\\"X_test:{X_test.shape}\\\")\";\n                var nbb_cells = Jupyter.notebook.get_cells();\n                for (var i = 0; i < nbb_cells.length; ++i) {\n                    if (nbb_cells[i].input_prompt_number == nbb_cell_id) {\n                        if (nbb_cells[i].get_text() == nbb_unformatted_code) {\n                             nbb_cells[i].set_text(nbb_formatted_code);\n                        }\n                        break;\n                    }\n                }\n            }, 500);\n            ",
      "text/plain": [
       "<IPython.core.display.Javascript object>"
      ]
     },
     "metadata": {},
     "output_type": "display_data"
    }
   ],
   "source": [
    "# [YOUR CODE HERE]\n",
    "print(f\"y_train:{y_train.shape}\")\n",
    "print(f\"X_train:{X_train.shape}\")\n",
    "print(\"-------------------------\")\n",
    "print(f\"y_test:{y_test.shape}\")\n",
    "print(f\"X_test:{X_test.shape}\")\n"
   ]
  },
  {
   "cell_type": "markdown",
   "metadata": {
    "id": "8d7BSjsQdnNV"
   },
   "source": [
    "Note that the Q12 and Q34 datasets contain differing numbers of distinct cars. Thus some new models were introduced by Q3, but were any discontinued by the beginning of Q3? Let's find out.\n",
    "\n",
    "4. Print the total number of types of cars (e.g. types of cars that were sold in either Q12, Q34, or both). In mathematical notation, if the set of cars sold in Q12 is $\\mathcal{A}$ and the set of cars sold in Q34 is $\\mathcal{B}$, we're asking for the size of the *union* of these two sets $|\\mathcal{A} \\cup \\mathcal{B}|$.\n",
    "\n",
    "    Note: The notation $|\\cdots|$ indicates measurement of the size of a set (the number of distinct items). (Mathematicians usually refer to it as the *cardinality*.)\n",
    "    \n",
    "    Hint: Create a single DataFrame with all the data and use the `get_features_and_targets()` function."
   ]
  },
  {
   "cell_type": "code",
   "execution_count": 15,
   "metadata": {
    "id": "KOEhFSxin_te"
   },
   "outputs": [
    {
     "name": "stdout",
     "output_type": "stream",
     "text": [
      "Total number of types of cars sold in Q12: 66\n",
      "Total number of types of cars sold in Q34: 71\n",
      "Total number of types of cars sold in Q12 and Q34: 80\n"
     ]
    },
    {
     "data": {
      "application/javascript": "\n            setTimeout(function() {\n                var nbb_cell_id = 15;\n                var nbb_unformatted_code = \"# [YOUR CODE HERE]\\ndef generate_hash(x): \\n    import hashlib\\n    s = ''.join(x.dropna().astype(str))\\n    hash_object = hashlib.md5(s.encode())\\n    hash_string = hash_object.hexdigest()\\n    return hash_string\\n\\n\\ndf_sales_v4['car_id'] = df_sales_v4[FEATURE_COLUMN_NAMES].apply(generate_hash, axis=1) \\ndf_pred_v4['car_id']  = df_pred_v4[FEATURE_COLUMN_NAMES].apply(generate_hash, axis=1)  \\n\\n\\n# types of cars sold in Q12 \\nA = set(df_sales_v4['car_id'].values)\\nB = set(df_pred_v4['car_id'].values)\\ntotal_number_of_type_of_cars_q12 = len(A) \\ntotal_number_of_type_of_cars_q34 = len(B) \\n\\n\\ncars_sold_in_both_q12_q34 =  len(A) + len(B)  - len(A.intersection(B))\\nprint(f\\\"Total number of types of cars sold in Q12: {total_number_of_type_of_cars_q12}\\\")\\nprint(f\\\"Total number of types of cars sold in Q34: {total_number_of_type_of_cars_q34}\\\")\\n\\nprint(f\\\"Total number of types of cars sold in Q12 and Q34: {cars_sold_in_both_q12_q34}\\\")\";\n                var nbb_formatted_code = \"# [YOUR CODE HERE]\\ndef generate_hash(x):\\n    import hashlib\\n\\n    s = \\\"\\\".join(x.dropna().astype(str))\\n    hash_object = hashlib.md5(s.encode())\\n    hash_string = hash_object.hexdigest()\\n    return hash_string\\n\\n\\ndf_sales_v4[\\\"car_id\\\"] = df_sales_v4[FEATURE_COLUMN_NAMES].apply(generate_hash, axis=1)\\ndf_pred_v4[\\\"car_id\\\"] = df_pred_v4[FEATURE_COLUMN_NAMES].apply(generate_hash, axis=1)\\n\\n\\n# types of cars sold in Q12\\nA = set(df_sales_v4[\\\"car_id\\\"].values)\\nB = set(df_pred_v4[\\\"car_id\\\"].values)\\ntotal_number_of_type_of_cars_q12 = len(A)\\ntotal_number_of_type_of_cars_q34 = len(B)\\n\\n\\ncars_sold_in_both_q12_q34 = len(A) + len(B) - len(A.intersection(B))\\nprint(f\\\"Total number of types of cars sold in Q12: {total_number_of_type_of_cars_q12}\\\")\\nprint(f\\\"Total number of types of cars sold in Q34: {total_number_of_type_of_cars_q34}\\\")\\n\\nprint(f\\\"Total number of types of cars sold in Q12 and Q34: {cars_sold_in_both_q12_q34}\\\")\";\n                var nbb_cells = Jupyter.notebook.get_cells();\n                for (var i = 0; i < nbb_cells.length; ++i) {\n                    if (nbb_cells[i].input_prompt_number == nbb_cell_id) {\n                        if (nbb_cells[i].get_text() == nbb_unformatted_code) {\n                             nbb_cells[i].set_text(nbb_formatted_code);\n                        }\n                        break;\n                    }\n                }\n            }, 500);\n            ",
      "text/plain": [
       "<IPython.core.display.Javascript object>"
      ]
     },
     "metadata": {},
     "output_type": "display_data"
    }
   ],
   "source": [
    "# [YOUR CODE HERE]\n",
    "def generate_hash(x): \n",
    "    import hashlib\n",
    "    s = ''.join(x.dropna().astype(str))\n",
    "    hash_object = hashlib.md5(s.encode())\n",
    "    hash_string = hash_object.hexdigest()\n",
    "    return hash_string\n",
    "\n",
    "\n",
    "df_sales_v4['car_id'] = df_sales_v4[FEATURE_COLUMN_NAMES].apply(generate_hash, axis=1) \n",
    "df_pred_v4['car_id']  = df_pred_v4[FEATURE_COLUMN_NAMES].apply(generate_hash, axis=1)  \n",
    "\n",
    "\n",
    "# types of cars sold in Q12 \n",
    "A = set(df_sales_v4['car_id'].values)\n",
    "B = set(df_pred_v4['car_id'].values)\n",
    "total_number_of_type_of_cars_q12 = len(A) \n",
    "total_number_of_type_of_cars_q34 = len(B) \n",
    "\n",
    "\n",
    "cars_sold_in_both_q12_q34 =  len(A) + len(B)  - len(A.intersection(B))\n",
    "print(f\"Total number of types of cars sold in Q12: {total_number_of_type_of_cars_q12}\")\n",
    "print(f\"Total number of types of cars sold in Q34: {total_number_of_type_of_cars_q34}\")\n",
    "\n",
    "print(f\"Total number of types of cars sold in Q12 and Q34: {cars_sold_in_both_q12_q34}\")\n",
    "\n"
   ]
  },
  {
   "cell_type": "markdown",
   "metadata": {
    "id": "8KgAprxHqcv2"
   },
   "source": [
    "5. A handy little fact from set theory is that $|\\mathcal{A} \\cup \\mathcal{B}| = |\\mathcal{A}| + |\\mathcal{B}| - |\\mathcal{A} \\cap \\mathcal{B}|$, where $\\cap$ is the *intersection* of $\\mathcal{A}$ and $\\mathcal{B}$, things that are in **both** $\\mathcal{A}$ and $\\mathcal{B}$. Use this fact, and what you've computed above, to print the number of models that were sold in both Q12 and Q34."
   ]
  },
  {
   "cell_type": "code",
   "execution_count": 16,
   "metadata": {
    "id": "56A3357NswMG"
   },
   "outputs": [
    {
     "name": "stdout",
     "output_type": "stream",
     "text": [
      "Total number of types of cars sold in both Q12 and Q34: 57\n"
     ]
    },
    {
     "data": {
      "application/javascript": "\n            setTimeout(function() {\n                var nbb_cell_id = 16;\n                var nbb_unformatted_code = \"# [YOUR CODE HERE]\\n## Transposing the above formula we get\\nmodels_sold_in_both_q12_q34 = len(A) + len(B) - len(A.union(B))\\nprint(f\\\"Total number of types of cars sold in both Q12 and Q34: {models_sold_in_both_q12_q34}\\\")\";\n                var nbb_formatted_code = \"# [YOUR CODE HERE]\\n## Transposing the above formula we get\\nmodels_sold_in_both_q12_q34 = len(A) + len(B) - len(A.union(B))\\nprint(\\n    f\\\"Total number of types of cars sold in both Q12 and Q34: {models_sold_in_both_q12_q34}\\\"\\n)\";\n                var nbb_cells = Jupyter.notebook.get_cells();\n                for (var i = 0; i < nbb_cells.length; ++i) {\n                    if (nbb_cells[i].input_prompt_number == nbb_cell_id) {\n                        if (nbb_cells[i].get_text() == nbb_unformatted_code) {\n                             nbb_cells[i].set_text(nbb_formatted_code);\n                        }\n                        break;\n                    }\n                }\n            }, 500);\n            ",
      "text/plain": [
       "<IPython.core.display.Javascript object>"
      ]
     },
     "metadata": {},
     "output_type": "display_data"
    }
   ],
   "source": [
    "# [YOUR CODE HERE]\n",
    "## Transposing the above formula we get\n",
    "models_sold_in_both_q12_q34 = len(A) + len(B) - len(A.union(B))\n",
    "print(f\"Total number of types of cars sold in both Q12 and Q34: {models_sold_in_both_q12_q34}\")"
   ]
  },
  {
   "cell_type": "markdown",
   "metadata": {
    "id": "clPi1NVCunoy"
   },
   "source": [
    "6. How many cars that were sold in Q12 were not sold in Q34?"
   ]
  },
  {
   "cell_type": "code",
   "execution_count": 17,
   "metadata": {
    "colab": {
     "base_uri": "https://localhost:8080/"
    },
    "executionInfo": {
     "elapsed": 12,
     "status": "ok",
     "timestamp": 1627687607185,
     "user": {
      "displayName": "Spencer Kent",
      "photoUrl": "",
      "userId": "07841346171340846448"
     },
     "user_tz": 420
    },
    "id": "VmMdZNuzu5Z-",
    "outputId": "cf6cf2d7-1b6c-472a-c1d7-dfd5fa885816"
   },
   "outputs": [
    {
     "name": "stdout",
     "output_type": "stream",
     "text": [
      "Cars sold in Q12 that were not sold in Q34:9\n"
     ]
    },
    {
     "data": {
      "application/javascript": "\n            setTimeout(function() {\n                var nbb_cell_id = 17;\n                var nbb_unformatted_code = \"# [YOUR CODE HERE]\\ncars_sold_in_q12_not_in_q34 = len(A.difference(B))\\nprint(f\\\"Cars sold in Q12 that were not sold in Q34:{cars_sold_in_q12_not_in_q34}\\\")\";\n                var nbb_formatted_code = \"# [YOUR CODE HERE]\\ncars_sold_in_q12_not_in_q34 = len(A.difference(B))\\nprint(f\\\"Cars sold in Q12 that were not sold in Q34:{cars_sold_in_q12_not_in_q34}\\\")\";\n                var nbb_cells = Jupyter.notebook.get_cells();\n                for (var i = 0; i < nbb_cells.length; ++i) {\n                    if (nbb_cells[i].input_prompt_number == nbb_cell_id) {\n                        if (nbb_cells[i].get_text() == nbb_unformatted_code) {\n                             nbb_cells[i].set_text(nbb_formatted_code);\n                        }\n                        break;\n                    }\n                }\n            }, 500);\n            ",
      "text/plain": [
       "<IPython.core.display.Javascript object>"
      ]
     },
     "metadata": {},
     "output_type": "display_data"
    }
   ],
   "source": [
    "# [YOUR CODE HERE]\n",
    "cars_sold_in_q12_not_in_q34 = len(A.difference(B))\n",
    "print(f\"Cars sold in Q12 that were not sold in Q34:{cars_sold_in_q12_not_in_q34}\")"
   ]
  },
  {
   "cell_type": "markdown",
   "metadata": {
    "id": "04zz5QOkvtij"
   },
   "source": [
    "7. How many cars were sold in Q34 but not in Q12?"
   ]
  },
  {
   "cell_type": "code",
   "execution_count": 18,
   "metadata": {
    "id": "stRzG8THvyeA"
   },
   "outputs": [
    {
     "name": "stdout",
     "output_type": "stream",
     "text": [
      "Cars sold in Q34 that were not sold in Q12:14\n"
     ]
    },
    {
     "data": {
      "application/javascript": "\n            setTimeout(function() {\n                var nbb_cell_id = 18;\n                var nbb_unformatted_code = \"# [YOUR CODE HERE]\\ncars_sold_in_q34_not_in_q12 = len(B.difference(A))\\nprint(f\\\"Cars sold in Q34 that were not sold in Q12:{cars_sold_in_q34_not_in_q12}\\\")\";\n                var nbb_formatted_code = \"# [YOUR CODE HERE]\\ncars_sold_in_q34_not_in_q12 = len(B.difference(A))\\nprint(f\\\"Cars sold in Q34 that were not sold in Q12:{cars_sold_in_q34_not_in_q12}\\\")\";\n                var nbb_cells = Jupyter.notebook.get_cells();\n                for (var i = 0; i < nbb_cells.length; ++i) {\n                    if (nbb_cells[i].input_prompt_number == nbb_cell_id) {\n                        if (nbb_cells[i].get_text() == nbb_unformatted_code) {\n                             nbb_cells[i].set_text(nbb_formatted_code);\n                        }\n                        break;\n                    }\n                }\n            }, 500);\n            ",
      "text/plain": [
       "<IPython.core.display.Javascript object>"
      ]
     },
     "metadata": {},
     "output_type": "display_data"
    }
   ],
   "source": [
    "# [YOUR CODE HERE]\n",
    "cars_sold_in_q34_not_in_q12 = len(B.difference(A))\n",
    "print(f\"Cars sold in Q34 that were not sold in Q12:{cars_sold_in_q34_not_in_q12}\")"
   ]
  },
  {
   "cell_type": "markdown",
   "metadata": {
    "id": "3qn6SNBNdnNb"
   },
   "source": [
    "## Task 3: Visualize the training and test targets"
   ]
  },
  {
   "cell_type": "markdown",
   "metadata": {
    "id": "OzsF0PfoyoyS"
   },
   "source": [
    "This is open-ended and we're not expecting a particular visualization, just show us what comes comes to your mind!"
   ]
  },
  {
   "cell_type": "code",
   "execution_count": 19,
   "metadata": {},
   "outputs": [
    {
     "data": {
      "image/png": "[encoded data removed]",
      "text/plain": [
       "<Figure size 432x288 with 2 Axes>"
      ]
     },
     "metadata": {},
     "output_type": "display_data"
    },
    {
     "data": {
      "application/javascript": "\n            setTimeout(function() {\n                var nbb_cell_id = 19;\n                var nbb_unformatted_code = \"\\nplt.style.use(\\\"ggplot\\\")\\nfig, (ax1, ax2) = plt.subplots(1,2)\\n\\nax1.boxplot(y_test); \\nax1.set_title(\\\"Test Targets Distribution\\\"); \\nax2.boxplot(y_train); \\nax2.set_title(\\\"Train Targets Distribution\\\"); \\nplt.tight_layout(); \";\n                var nbb_formatted_code = \"plt.style.use(\\\"ggplot\\\")\\nfig, (ax1, ax2) = plt.subplots(1, 2)\\n\\nax1.boxplot(y_test)\\nax1.set_title(\\\"Test Targets Distribution\\\")\\nax2.boxplot(y_train)\\nax2.set_title(\\\"Train Targets Distribution\\\")\\nplt.tight_layout()\";\n                var nbb_cells = Jupyter.notebook.get_cells();\n                for (var i = 0; i < nbb_cells.length; ++i) {\n                    if (nbb_cells[i].input_prompt_number == nbb_cell_id) {\n                        if (nbb_cells[i].get_text() == nbb_unformatted_code) {\n                             nbb_cells[i].set_text(nbb_formatted_code);\n                        }\n                        break;\n                    }\n                }\n            }, 500);\n            ",
      "text/plain": [
       "<IPython.core.display.Javascript object>"
      ]
     },
     "metadata": {},
     "output_type": "display_data"
    }
   ],
   "source": [
    "\n",
    "plt.style.use(\"ggplot\")\n",
    "fig, (ax1, ax2) = plt.subplots(1,2)\n",
    "\n",
    "ax1.boxplot(y_test); \n",
    "ax1.set_title(\"Test Targets Distribution\"); \n",
    "ax2.boxplot(y_train); \n",
    "ax2.set_title(\"Train Targets Distribution\"); \n",
    "plt.tight_layout(); \n",
    "\n",
    "\n",
    "\n",
    "\n",
    "\n"
   ]
  },
  {
   "cell_type": "markdown",
   "metadata": {
    "id": "9g-2fwgydnNh"
   },
   "source": [
    "## Task 4: Fit a linear model with gradient descent"
   ]
  },
  {
   "cell_type": "markdown",
   "metadata": {
    "id": "oriL0PcVOlw-"
   },
   "source": [
    "1. Set hyperparameters for learning rate and maximum number of iterations through the training data."
   ]
  },
  {
   "cell_type": "code",
   "execution_count": 20,
   "metadata": {
    "id": "QKIv3936OfVk"
   },
   "outputs": [
    {
     "data": {
      "application/javascript": "\n            setTimeout(function() {\n                var nbb_cell_id = 20;\n                var nbb_unformatted_code = \"# these are good starting values, though you can play around with them\\ns_learning_rate = 0.001\\ns_max_iteration = 1000\";\n                var nbb_formatted_code = \"# these are good starting values, though you can play around with them\\ns_learning_rate = 0.001\\ns_max_iteration = 1000\";\n                var nbb_cells = Jupyter.notebook.get_cells();\n                for (var i = 0; i < nbb_cells.length; ++i) {\n                    if (nbb_cells[i].input_prompt_number == nbb_cell_id) {\n                        if (nbb_cells[i].get_text() == nbb_unformatted_code) {\n                             nbb_cells[i].set_text(nbb_formatted_code);\n                        }\n                        break;\n                    }\n                }\n            }, 500);\n            ",
      "text/plain": [
       "<IPython.core.display.Javascript object>"
      ]
     },
     "metadata": {},
     "output_type": "display_data"
    }
   ],
   "source": [
    "# these are good starting values, though you can play around with them\n",
    "s_learning_rate = 0.001\n",
    "s_max_iteration = 1000\n"
   ]
  },
  {
   "cell_type": "markdown",
   "metadata": {
    "id": "Lx-wS125dnNk"
   },
   "source": [
    "### Hypothesis Function\n",
    "\n",
    "2. Define your hypothesis function $h(\\cdot)$ (which you use to make predictions $\\hat{\\mathbf{Y}}$ as the matrix product of your feature data $\\mathbf{X}$ and parameters $\\boldsymbol{\\theta}$. $\\boldsymbol{\\theta}$, which you'll initialize in the training loop (below) is a column vector with a value for each feature in the training data, plus one for bias.\n",
    "\n",
    "    Note: We'll deal with adding the column of 1's to $\\mathbf{X}$ below in the gradient descent function, so don't worry about it now."
   ]
  },
  {
   "cell_type": "code",
   "execution_count": 21,
   "metadata": {
    "id": "SI8oTUQsdnNk"
   },
   "outputs": [
    {
     "data": {
      "application/javascript": "\n            setTimeout(function() {\n                var nbb_cell_id = 21;\n                var nbb_unformatted_code = \"def h(theta, X):\\n    # [YOUR CODE HERE]\\n    pred = np.dot(X, theta)\\n    return pred\";\n                var nbb_formatted_code = \"def h(theta, X):\\n    # [YOUR CODE HERE]\\n    pred = np.dot(X, theta)\\n    return pred\";\n                var nbb_cells = Jupyter.notebook.get_cells();\n                for (var i = 0; i < nbb_cells.length; ++i) {\n                    if (nbb_cells[i].input_prompt_number == nbb_cell_id) {\n                        if (nbb_cells[i].get_text() == nbb_unformatted_code) {\n                             nbb_cells[i].set_text(nbb_formatted_code);\n                        }\n                        break;\n                    }\n                }\n            }, 500);\n            ",
      "text/plain": [
       "<IPython.core.display.Javascript object>"
      ]
     },
     "metadata": {},
     "output_type": "display_data"
    }
   ],
   "source": [
    "def h(theta, X):\n",
    "    # [YOUR CODE HERE]\n",
    "    pred = np.dot(X, theta)\n",
    "    return pred"
   ]
  },
  {
   "cell_type": "markdown",
   "metadata": {
    "id": "7LW5F5uhdnNm"
   },
   "source": [
    "3. Define your loss function as the MSE (mean squared error) between your actual and predicted $\\mathbf{Y}$ values. \n",
    "\n",
    "    Recall that the predicted $\\mathbf{Y}$ values, $\\hat{\\mathbf{Y}}$, are a function of $\\boldsymbol{\\theta}$ and $\\mathbf{X}$.\n"
   ]
  },
  {
   "cell_type": "code",
   "execution_count": 22,
   "metadata": {
    "id": "KzRpZec4dnNm"
   },
   "outputs": [
    {
     "data": {
      "application/javascript": "\n            setTimeout(function() {\n                var nbb_cell_id = 22;\n                var nbb_unformatted_code = \"def loss(theta, X, y):\\n    # [YOUR CODE HERE]\\n    pred = h(theta, X)\\n    loss =  np.mean(np.square(y - pred))\\n    return loss\";\n                var nbb_formatted_code = \"def loss(theta, X, y):\\n    # [YOUR CODE HERE]\\n    pred = h(theta, X)\\n    loss = np.mean(np.square(y - pred))\\n    return loss\";\n                var nbb_cells = Jupyter.notebook.get_cells();\n                for (var i = 0; i < nbb_cells.length; ++i) {\n                    if (nbb_cells[i].input_prompt_number == nbb_cell_id) {\n                        if (nbb_cells[i].get_text() == nbb_unformatted_code) {\n                             nbb_cells[i].set_text(nbb_formatted_code);\n                        }\n                        break;\n                    }\n                }\n            }, 500);\n            ",
      "text/plain": [
       "<IPython.core.display.Javascript object>"
      ]
     },
     "metadata": {},
     "output_type": "display_data"
    }
   ],
   "source": [
    "def loss(theta, X, y):\n",
    "    # [YOUR CODE HERE]\n",
    "    pred = h(theta, X)\n",
    "    loss =  np.mean(np.square(y - pred))\n",
    "    return loss"
   ]
  },
  {
   "cell_type": "markdown",
   "metadata": {
    "id": "PCLgRXivdnNp"
   },
   "source": [
    "### Gradient of Hypothesis Function\n",
    "\n",
    "One can verify through straightforward (if somewhat tedious) multivariable calculus that the gradient of the loss function $J$ with respect to the parameters $\\theta$ is \n",
    "\n",
    "$$ \\frac{\\partial J}{\\partial \\boldsymbol{\\theta}} = - \\frac{1}{m} X^T \\cdot (Y - \\hat{Y})$$\n",
    "\n",
    "Where $m$ is the number of data samples, the number of rows in $\\mathbf{X}$ and $\\mathbf{Y}$.\n",
    "\n",
    "Note that the $\\mathbf{X}$ here is the one that has been augmented with a bias column. \n",
    "\n",
    "4. Write the `gradient()` function to compute this gradient."
   ]
  },
  {
   "cell_type": "code",
   "execution_count": 23,
   "metadata": {
    "id": "3zYnvBa1dnNp"
   },
   "outputs": [
    {
     "data": {
      "application/javascript": "\n            setTimeout(function() {\n                var nbb_cell_id = 23;\n                var nbb_unformatted_code = \"def gradient(theta, X, y):\\n    # [YOUR CODE HERE]\\n    y_hat = h(theta, X)\\n    m = X.shape[0]\\n    # d_theta = -1/m * np.dot(X, (y-y_hat))\\n    d_theta = (-1/X.shape[0])*X*(y-y_hat)\\n    return d_theta\";\n                var nbb_formatted_code = \"def gradient(theta, X, y):\\n    # [YOUR CODE HERE]\\n    y_hat = h(theta, X)\\n    m = X.shape[0]\\n    # d_theta = -1/m * np.dot(X, (y-y_hat))\\n    d_theta = (-1 / X.shape[0]) * X * (y - y_hat)\\n    return d_theta\";\n                var nbb_cells = Jupyter.notebook.get_cells();\n                for (var i = 0; i < nbb_cells.length; ++i) {\n                    if (nbb_cells[i].input_prompt_number == nbb_cell_id) {\n                        if (nbb_cells[i].get_text() == nbb_unformatted_code) {\n                             nbb_cells[i].set_text(nbb_formatted_code);\n                        }\n                        break;\n                    }\n                }\n            }, 500);\n            ",
      "text/plain": [
       "<IPython.core.display.Javascript object>"
      ]
     },
     "metadata": {},
     "output_type": "display_data"
    }
   ],
   "source": [
    "def gradient(theta, X, y):\n",
    "    # [YOUR CODE HERE]\n",
    "    y_hat = h(theta, X)\n",
    "    m = X.shape[0]\n",
    "    # d_theta = -1/m * np.dot(X, (y-y_hat))\n",
    "    d_theta = (-1/X.shape[0])*X*(y-y_hat)\n",
    "    return d_theta"
   ]
  },
  {
   "cell_type": "markdown",
   "metadata": {
    "id": "fo-NxmSLdnNr"
   },
   "source": [
    "### Gradient Descent\n",
    "\n",
    "5. Complete the `stochastic_gradient_descent()` function to train your linear regression model with gradient descent, i.e. calculate $\\frac{\\partial J}{\\partial \\theta}$ and update $\\theta$. Recall that the general gradient descent update formula is $\\theta := \\theta - \\alpha \\frac{\\partial J}{\\partial \\theta}$, with $\\alpha$ the stepsize. We've provided the skeleton of a stochastic gradient descent function, but you're welcome to experiment with batch and/or minibatch gradient descent. Also recall that the aforementioned gradient descent methods differ in how frequently they calculate $\\frac{\\partial J}{\\partial \\theta}$ and update $\\theta$. Notice in the first step we initialize $\\boldsymbol{\\theta}$ to all zeros and we temporarily prepend a column of $1$'s to the features, which corresponds to the bias parameter.\n",
    "\n",
    "    Hint: Be mindful of the shapes of the arrays that you pass into the `gradient()` function. It should be two 2D arrays."
   ]
  },
  {
   "cell_type": "code",
   "execution_count": 24,
   "metadata": {
    "id": "g6hbmDgkdnNs"
   },
   "outputs": [
    {
     "data": {
      "application/javascript": "\n            setTimeout(function() {\n                var nbb_cell_id = 24;\n                var nbb_unformatted_code = \"def stochastic_gradient_descent(X, y, learning_rate, max_iteration, print_interval):\\n    theta = np.zeros((X.shape[1] + 1, 1))\\n    X_with_ones = np.hstack([np.ones([X.shape[0], 1]), X])  # prepend a column of 1's\\n    cost = np.zeros(max_iteration)  # initialize cost as array of zeros\\n    for i in range(max_iteration):\\n        for j in range(X.shape[0]):\\n            # [YOUR CODE HERE]\\n            \\n            # Compute the gradient from the current row in X and y.\\n            d_theta = gradient(theta, X_with_ones[j], y[j].reshape(1,));\\n            d_theta = np.expand_dims(d_theta,1)\\n            theta = theta - learning_rate * d_theta\\n\\n            d_theta = gradient(theta, X_with_ones[j], y[j].reshape(1,))\\n            d_theta = np.expand_dims(d_theta,1)\\n            theta = theta - learning_rate*d_theta\\n\\n        cost[i] = loss(theta, X_with_ones, y) # Update the cost array for the current iteration\\n    if i % print_interval == 0 :\\n        print('iteration : ', i, ' loss : ', loss(theta, X_with_ones, y)) \\n    return theta, cost\";\n                var nbb_formatted_code = \"def stochastic_gradient_descent(X, y, learning_rate, max_iteration, print_interval):\\n    theta = np.zeros((X.shape[1] + 1, 1))\\n    X_with_ones = np.hstack([np.ones([X.shape[0], 1]), X])  # prepend a column of 1's\\n    cost = np.zeros(max_iteration)  # initialize cost as array of zeros\\n    for i in range(max_iteration):\\n        for j in range(X.shape[0]):\\n            # [YOUR CODE HERE]\\n\\n            # Compute the gradient from the current row in X and y.\\n            d_theta = gradient(\\n                theta,\\n                X_with_ones[j],\\n                y[j].reshape(\\n                    1,\\n                ),\\n            )\\n            d_theta = np.expand_dims(d_theta, 1)\\n            theta = theta - learning_rate * d_theta\\n\\n            d_theta = gradient(\\n                theta,\\n                X_with_ones[j],\\n                y[j].reshape(\\n                    1,\\n                ),\\n            )\\n            d_theta = np.expand_dims(d_theta, 1)\\n            theta = theta - learning_rate * d_theta\\n\\n        cost[i] = loss(\\n            theta, X_with_ones, y\\n        )  # Update the cost array for the current iteration\\n    if i % print_interval == 0:\\n        print(\\\"iteration : \\\", i, \\\" loss : \\\", loss(theta, X_with_ones, y))\\n    return theta, cost\";\n                var nbb_cells = Jupyter.notebook.get_cells();\n                for (var i = 0; i < nbb_cells.length; ++i) {\n                    if (nbb_cells[i].input_prompt_number == nbb_cell_id) {\n                        if (nbb_cells[i].get_text() == nbb_unformatted_code) {\n                             nbb_cells[i].set_text(nbb_formatted_code);\n                        }\n                        break;\n                    }\n                }\n            }, 500);\n            ",
      "text/plain": [
       "<IPython.core.display.Javascript object>"
      ]
     },
     "metadata": {},
     "output_type": "display_data"
    }
   ],
   "source": [
    "def stochastic_gradient_descent(X, y, learning_rate, max_iteration, print_interval):\n",
    "    theta = np.zeros((X.shape[1] + 1, 1))\n",
    "    X_with_ones = np.hstack([np.ones([X.shape[0], 1]), X])  # prepend a column of 1's\n",
    "    cost = np.zeros(max_iteration)  # initialize cost as array of zeros\n",
    "    for i in range(max_iteration):\n",
    "        for j in range(X.shape[0]):\n",
    "            # [YOUR CODE HERE]\n",
    "            \n",
    "            # Compute the gradient from the current row in X and y.\n",
    "            d_theta = gradient(theta, X_with_ones[j], y[j].reshape(1,));\n",
    "            d_theta = np.expand_dims(d_theta,1)\n",
    "            theta = theta - learning_rate * d_theta\n",
    "\n",
    "            d_theta = gradient(theta, X_with_ones[j], y[j].reshape(1,))\n",
    "            d_theta = np.expand_dims(d_theta,1)\n",
    "            theta = theta - learning_rate*d_theta\n",
    "\n",
    "        cost[i] = loss(theta, X_with_ones, y) # Update the cost array for the current iteration\n",
    "    if i % print_interval == 0 :\n",
    "        print('iteration : ', i, ' loss : ', loss(theta, X_with_ones, y)) \n",
    "    return theta, cost"
   ]
  },
  {
   "cell_type": "markdown",
   "metadata": {},
   "source": [
    "6. Now we can run the `stochastic_gradient_descent()` function to find the optimal theta."
   ]
  },
  {
   "cell_type": "code",
   "execution_count": 25,
   "metadata": {
    "id": "O084UJ8UdnNt"
   },
   "outputs": [
    {
     "data": {
      "application/javascript": "\n            setTimeout(function() {\n                var nbb_cell_id = 25;\n                var nbb_unformatted_code = \"\\ns_max_iteration = 100000\\ns_theta, s_cost = stochastic_gradient_descent(\\n    X_train.values, y_train.values, s_learning_rate, s_max_iteration, 100\\n)\";\n                var nbb_formatted_code = \"s_max_iteration = 100000\\ns_theta, s_cost = stochastic_gradient_descent(\\n    X_train.values, y_train.values, s_learning_rate, s_max_iteration, 100\\n)\";\n                var nbb_cells = Jupyter.notebook.get_cells();\n                for (var i = 0; i < nbb_cells.length; ++i) {\n                    if (nbb_cells[i].input_prompt_number == nbb_cell_id) {\n                        if (nbb_cells[i].get_text() == nbb_unformatted_code) {\n                             nbb_cells[i].set_text(nbb_formatted_code);\n                        }\n                        break;\n                    }\n                }\n            }, 500);\n            ",
      "text/plain": [
       "<IPython.core.display.Javascript object>"
      ]
     },
     "metadata": {},
     "output_type": "display_data"
    }
   ],
   "source": [
    "\n",
    "s_max_iteration = 100000\n",
    "s_theta, s_cost = stochastic_gradient_descent(\n",
    "    X_train.values, y_train.values, s_learning_rate, s_max_iteration, 100\n",
    ")\n",
    "\n",
    "\n",
    "\n"
   ]
  },
  {
   "cell_type": "code",
   "execution_count": 26,
   "metadata": {
    "id": "aoRR-pP8P2C2"
   },
   "outputs": [
    {
     "data": {
      "text/plain": [
       "<StemContainer object of 3 artists>"
      ]
     },
     "execution_count": 26,
     "metadata": {},
     "output_type": "execute_result"
    },
    {
     "data": {
      "image/png": "[encoded data removed]",
      "text/plain": [
       "<Figure size 432x288 with 1 Axes>"
      ]
     },
     "metadata": {},
     "output_type": "display_data"
    },
    {
     "data": {
      "application/javascript": "\n            setTimeout(function() {\n                var nbb_cell_id = 26;\n                var nbb_unformatted_code = \"plt.stem(np.squeeze(s_theta))\";\n                var nbb_formatted_code = \"plt.stem(np.squeeze(s_theta))\";\n                var nbb_cells = Jupyter.notebook.get_cells();\n                for (var i = 0; i < nbb_cells.length; ++i) {\n                    if (nbb_cells[i].input_prompt_number == nbb_cell_id) {\n                        if (nbb_cells[i].get_text() == nbb_unformatted_code) {\n                             nbb_cells[i].set_text(nbb_formatted_code);\n                        }\n                        break;\n                    }\n                }\n            }, 500);\n            ",
      "text/plain": [
       "<IPython.core.display.Javascript object>"
      ]
     },
     "metadata": {},
     "output_type": "display_data"
    }
   ],
   "source": [
    "plt.stem(np.squeeze(s_theta))\n"
   ]
  },
  {
   "cell_type": "markdown",
   "metadata": {
    "id": "B6D2kqejdnNv"
   },
   "source": [
    "### Generate Predictions from Test Data\n",
    "\n",
    "7. Use `s_theta` to make predictions on the test set (`X_test`).\n",
    "\n",
    "    Hint: Make sure to prepend the column of 1's onto `X_test` (just like it's done in the `stochastic_gradient_descent()` function)."
   ]
  },
  {
   "cell_type": "code",
   "execution_count": 27,
   "metadata": {
    "id": "m-u3iTbNdnNw"
   },
   "outputs": [
    {
     "data": {
      "application/javascript": "\n            setTimeout(function() {\n                var nbb_cell_id = 27;\n                var nbb_unformatted_code = \"ones = np.ones([X_test.shape[0], 1])\\nX_test_with_ones = np.hstack([ones, X_test])\\ny_pred_GD = h(s_theta, X_test_with_ones) # [YOUR CODE HERE]\\n\\n\\n# Since our target is non-negative, we set any negative predictions to 0.\\ny_pred_GD[y_pred_GD < 0] = 0\\n\\n# ones\";\n                var nbb_formatted_code = \"ones = np.ones([X_test.shape[0], 1])\\nX_test_with_ones = np.hstack([ones, X_test])\\ny_pred_GD = h(s_theta, X_test_with_ones)  # [YOUR CODE HERE]\\n\\n\\n# Since our target is non-negative, we set any negative predictions to 0.\\ny_pred_GD[y_pred_GD < 0] = 0\\n\\n# ones\";\n                var nbb_cells = Jupyter.notebook.get_cells();\n                for (var i = 0; i < nbb_cells.length; ++i) {\n                    if (nbb_cells[i].input_prompt_number == nbb_cell_id) {\n                        if (nbb_cells[i].get_text() == nbb_unformatted_code) {\n                             nbb_cells[i].set_text(nbb_formatted_code);\n                        }\n                        break;\n                    }\n                }\n            }, 500);\n            ",
      "text/plain": [
       "<IPython.core.display.Javascript object>"
      ]
     },
     "metadata": {},
     "output_type": "display_data"
    }
   ],
   "source": [
    "ones = np.ones([X_test.shape[0], 1])\n",
    "X_test_with_ones = np.hstack([ones, X_test])\n",
    "y_pred_GD = h(s_theta, X_test_with_ones) # [YOUR CODE HERE]\n",
    "\n",
    "\n",
    "# Since our target is non-negative, we set any negative predictions to 0.\n",
    "y_pred_GD[y_pred_GD < 0] = 0\n",
    "\n",
    "# ones"
   ]
  },
  {
   "cell_type": "markdown",
   "metadata": {},
   "source": [
    "8. Calculate the MSE and R^2 score."
   ]
  },
  {
   "cell_type": "code",
   "execution_count": 28,
   "metadata": {
    "id": "Ljk24gJ4dnNy"
   },
   "outputs": [
    {
     "name": "stdout",
     "output_type": "stream",
     "text": [
      "5760.10474983326\n",
      "0.6262622419009172\n"
     ]
    },
    {
     "data": {
      "application/javascript": "\n            setTimeout(function() {\n                var nbb_cell_id = 28;\n                var nbb_unformatted_code = \"from sklearn.metrics import mean_squared_error as MSE\\nfrom sklearn.metrics import r2_score as R2\\n\\n# [YOUR CODE HERE]\\n\\nprint(MSE(y_test, y_pred_GD))\\nprint(R2(y_test, y_pred_GD))\";\n                var nbb_formatted_code = \"from sklearn.metrics import mean_squared_error as MSE\\nfrom sklearn.metrics import r2_score as R2\\n\\n# [YOUR CODE HERE]\\n\\nprint(MSE(y_test, y_pred_GD))\\nprint(R2(y_test, y_pred_GD))\";\n                var nbb_cells = Jupyter.notebook.get_cells();\n                for (var i = 0; i < nbb_cells.length; ++i) {\n                    if (nbb_cells[i].input_prompt_number == nbb_cell_id) {\n                        if (nbb_cells[i].get_text() == nbb_unformatted_code) {\n                             nbb_cells[i].set_text(nbb_formatted_code);\n                        }\n                        break;\n                    }\n                }\n            }, 500);\n            ",
      "text/plain": [
       "<IPython.core.display.Javascript object>"
      ]
     },
     "metadata": {},
     "output_type": "display_data"
    }
   ],
   "source": [
    "from sklearn.metrics import mean_squared_error as MSE\n",
    "from sklearn.metrics import r2_score as R2\n",
    "\n",
    "# [YOUR CODE HERE]\n",
    "\n",
    "print(MSE(y_test, y_pred_GD))\n",
    "print(R2(y_test, y_pred_GD))\n"
   ]
  },
  {
   "cell_type": "markdown",
   "metadata": {
    "id": "2ImYOho6dnNy"
   },
   "source": [
    "### Visualize the predicted and actual test labels\n",
    "\n",
    "9. Make a plot showing both the true values (`y_test`) and the predicted values (`y_pred_GD`)."
   ]
  },
  {
   "cell_type": "code",
   "execution_count": 29,
   "metadata": {
    "id": "o3t83fxcr6dd"
   },
   "outputs": [
    {
     "data": {
      "text/plain": [
       "[<matplotlib.lines.Line2D at 0x124e283d0>]"
      ]
     },
     "execution_count": 29,
     "metadata": {},
     "output_type": "execute_result"
    },
    {
     "data": {
      "text/plain": [
       "[<matplotlib.lines.Line2D at 0x124e287f0>]"
      ]
     },
     "execution_count": 29,
     "metadata": {},
     "output_type": "execute_result"
    },
    {
     "data": {
      "image/png": "[encoded data removed]",
      "text/plain": [
       "<Figure size 432x288 with 1 Axes>"
      ]
     },
     "metadata": {},
     "output_type": "display_data"
    },
    {
     "data": {
      "application/javascript": "\n            setTimeout(function() {\n                var nbb_cell_id = 29;\n                var nbb_unformatted_code = \"# [YOUR CODE HERE]\\nplt.plot(y_test)\\nplt.plot(y_pred_GD)\";\n                var nbb_formatted_code = \"# [YOUR CODE HERE]\\nplt.plot(y_test)\\nplt.plot(y_pred_GD)\";\n                var nbb_cells = Jupyter.notebook.get_cells();\n                for (var i = 0; i < nbb_cells.length; ++i) {\n                    if (nbb_cells[i].input_prompt_number == nbb_cell_id) {\n                        if (nbb_cells[i].get_text() == nbb_unformatted_code) {\n                             nbb_cells[i].set_text(nbb_formatted_code);\n                        }\n                        break;\n                    }\n                }\n            }, 500);\n            ",
      "text/plain": [
       "<IPython.core.display.Javascript object>"
      ]
     },
     "metadata": {},
     "output_type": "display_data"
    }
   ],
   "source": [
    "# [YOUR CODE HERE]\n",
    "plt.plot(y_test)\n",
    "plt.plot(y_pred_GD)"
   ]
  },
  {
   "cell_type": "markdown",
   "metadata": {
    "id": "QNFkAA7gdnN0"
   },
   "source": [
    "## Task 5: Normal Equations\n",
    "\n",
    "Gradient Descent is an iterative method for converging on the solution, though we can also compute the solution directly using the normal equation. Gradient Descent is generally preferred because it can converge quickly even with a large dataset, but since our training dataset isn't very large, we can use the normal equation.\n",
    "\n",
    "$$\\boldsymbol{\\theta} = (X^T \\cdot X)^{-1} \\cdot X^T \\cdot Y$$ \n",
    "$$\\hat{Y} = X \\cdot \\boldsymbol{\\theta}$$\n",
    "\n",
    "We'll compare our predictions with the ones we obtained using gradient descent.\n",
    "\n",
    "Remember we still have a bias term, so $\\boldsymbol{\\theta}$ is of size 74x1 (73 for the unique ID features, 1 for the bias).\n",
    "\n",
    "1. Complete the `normal_equations_solution()` function below.\n",
    "\n",
    "    Hint: numpy's `linalg.pinv` efficiently computes the matrix $(X^T \\cdot X)^{-1} \\cdot X^T$."
   ]
  },
  {
   "cell_type": "code",
   "execution_count": 30,
   "metadata": {
    "id": "ez7XC2qQdnN1"
   },
   "outputs": [
    {
     "data": {
      "application/javascript": "\n            setTimeout(function() {\n                var nbb_cell_id = 30;\n                var nbb_unformatted_code = \"def normal_equations_solution(X, y):\\n    X_with_ones = np.hstack([np.ones([X.shape[0], 1]), X])\\n    # [YOUR CODE HERE]\\n    a = np.linalg.pinv(np.dot(X.T, X))\\n    b = np.dot(a, X.T)\\n    theta = np.dot(b, y)\\n    return theta\";\n                var nbb_formatted_code = \"def normal_equations_solution(X, y):\\n    X_with_ones = np.hstack([np.ones([X.shape[0], 1]), X])\\n    # [YOUR CODE HERE]\\n    a = np.linalg.pinv(np.dot(X.T, X))\\n    b = np.dot(a, X.T)\\n    theta = np.dot(b, y)\\n    return theta\";\n                var nbb_cells = Jupyter.notebook.get_cells();\n                for (var i = 0; i < nbb_cells.length; ++i) {\n                    if (nbb_cells[i].input_prompt_number == nbb_cell_id) {\n                        if (nbb_cells[i].get_text() == nbb_unformatted_code) {\n                             nbb_cells[i].set_text(nbb_formatted_code);\n                        }\n                        break;\n                    }\n                }\n            }, 500);\n            ",
      "text/plain": [
       "<IPython.core.display.Javascript object>"
      ]
     },
     "metadata": {},
     "output_type": "display_data"
    }
   ],
   "source": [
    "def normal_equations_solution(X, y):\n",
    "    X_with_ones = np.hstack([np.ones([X.shape[0], 1]), X])\n",
    "    # [YOUR CODE HERE]\n",
    "    a = np.linalg.pinv(np.dot(X.T, X))\n",
    "    b = np.dot(a, X.T)\n",
    "    theta = np.dot(b, y)\n",
    "    return theta\n"
   ]
  },
  {
   "cell_type": "markdown",
   "metadata": {},
   "source": [
    "2. Use the `normal_equations_solution()` function to compute `y_pred_NE`.\n",
    "\n",
    "    The code should be the same as above, just use `n_theta` instead of `s_theta`."
   ]
  },
  {
   "cell_type": "code",
   "execution_count": 31,
   "metadata": {
    "id": "cAhtVznMZGtB"
   },
   "outputs": [
    {
     "data": {
      "application/javascript": "\n            setTimeout(function() {\n                var nbb_cell_id = 31;\n                var nbb_unformatted_code = \"n_theta = normal_equations_solution(X_train, y_train)\\ny_pred_NE = h( n_theta,X_test)# [YOUR CODE HERE]\\n\\n# Set any negative predictions to 0\\ny_pred_NE[y_pred_NE < 0] = 0\";\n                var nbb_formatted_code = \"n_theta = normal_equations_solution(X_train, y_train)\\ny_pred_NE = h(n_theta, X_test)  # [YOUR CODE HERE]\\n\\n# Set any negative predictions to 0\\ny_pred_NE[y_pred_NE < 0] = 0\";\n                var nbb_cells = Jupyter.notebook.get_cells();\n                for (var i = 0; i < nbb_cells.length; ++i) {\n                    if (nbb_cells[i].input_prompt_number == nbb_cell_id) {\n                        if (nbb_cells[i].get_text() == nbb_unformatted_code) {\n                             nbb_cells[i].set_text(nbb_formatted_code);\n                        }\n                        break;\n                    }\n                }\n            }, 500);\n            ",
      "text/plain": [
       "<IPython.core.display.Javascript object>"
      ]
     },
     "metadata": {},
     "output_type": "display_data"
    }
   ],
   "source": [
    "n_theta = normal_equations_solution(X_train, y_train)\n",
    "y_pred_NE = h( n_theta,X_test)# [YOUR CODE HERE]\n",
    "\n",
    "# Set any negative predictions to 0\n",
    "y_pred_NE[y_pred_NE < 0] = 0\n"
   ]
  },
  {
   "cell_type": "markdown",
   "metadata": {},
   "source": [
    "3. Calculate the MSE and R^2 score."
   ]
  },
  {
   "cell_type": "code",
   "execution_count": 32,
   "metadata": {
    "id": "Ljk24gJ4dnNy"
   },
   "outputs": [
    {
     "data": {
      "text/plain": [
       "6270.890761804672"
      ]
     },
     "execution_count": 32,
     "metadata": {},
     "output_type": "execute_result"
    },
    {
     "data": {
      "text/plain": [
       "0.5931204802015153"
      ]
     },
     "execution_count": 32,
     "metadata": {},
     "output_type": "execute_result"
    },
    {
     "data": {
      "application/javascript": "\n            setTimeout(function() {\n                var nbb_cell_id = 32;\n                var nbb_unformatted_code = \"# [YOUR CODE HERE]\\nMSE(y_test, y_pred_NE)\\nR2(y_test, y_pred_NE)\";\n                var nbb_formatted_code = \"# [YOUR CODE HERE]\\nMSE(y_test, y_pred_NE)\\nR2(y_test, y_pred_NE)\";\n                var nbb_cells = Jupyter.notebook.get_cells();\n                for (var i = 0; i < nbb_cells.length; ++i) {\n                    if (nbb_cells[i].input_prompt_number == nbb_cell_id) {\n                        if (nbb_cells[i].get_text() == nbb_unformatted_code) {\n                             nbb_cells[i].set_text(nbb_formatted_code);\n                        }\n                        break;\n                    }\n                }\n            }, 500);\n            ",
      "text/plain": [
       "<IPython.core.display.Javascript object>"
      ]
     },
     "metadata": {},
     "output_type": "display_data"
    }
   ],
   "source": [
    "# [YOUR CODE HERE]\n",
    "MSE(y_test, y_pred_NE)\n",
    "R2(y_test, y_pred_NE)"
   ]
  },
  {
   "cell_type": "markdown",
   "metadata": {
    "id": "2ImYOho6dnNy"
   },
   "source": [
    "4. Make a plot showing both the true values (`y_test`) and the predicted values (`y_pred_NE`)."
   ]
  },
  {
   "cell_type": "code",
   "execution_count": 33,
   "metadata": {
    "id": "o3t83fxcr6dd"
   },
   "outputs": [
    {
     "data": {
      "text/plain": [
       "[<matplotlib.lines.Line2D at 0x124ea6b50>]"
      ]
     },
     "execution_count": 33,
     "metadata": {},
     "output_type": "execute_result"
    },
    {
     "data": {
      "text/plain": [
       "[<matplotlib.lines.Line2D at 0x124ea69a0>]"
      ]
     },
     "execution_count": 33,
     "metadata": {},
     "output_type": "execute_result"
    },
    {
     "data": {
      "image/png": "[encoded data removed]",
      "text/plain": [
       "<Figure size 432x288 with 1 Axes>"
      ]
     },
     "metadata": {},
     "output_type": "display_data"
    },
    {
     "data": {
      "application/javascript": "\n            setTimeout(function() {\n                var nbb_cell_id = 33;\n                var nbb_unformatted_code = \"# [YOUR CODE HERE]\\nplt.plot(y_test)\\nplt.plot(y_pred_NE)\";\n                var nbb_formatted_code = \"# [YOUR CODE HERE]\\nplt.plot(y_test)\\nplt.plot(y_pred_NE)\";\n                var nbb_cells = Jupyter.notebook.get_cells();\n                for (var i = 0; i < nbb_cells.length; ++i) {\n                    if (nbb_cells[i].input_prompt_number == nbb_cell_id) {\n                        if (nbb_cells[i].get_text() == nbb_unformatted_code) {\n                             nbb_cells[i].set_text(nbb_formatted_code);\n                        }\n                        break;\n                    }\n                }\n            }, 500);\n            ",
      "text/plain": [
       "<IPython.core.display.Javascript object>"
      ]
     },
     "metadata": {},
     "output_type": "display_data"
    }
   ],
   "source": [
    "# [YOUR CODE HERE]\n",
    "plt.plot(y_test)\n",
    "plt.plot(y_pred_NE)"
   ]
  },
  {
   "cell_type": "markdown",
   "metadata": {
    "id": "i3ofJxdUdnN6"
   },
   "source": [
    "### Regularized Normal Equations\n",
    "\n",
    "Recall that our training features array `X_train` has 66 rows and 73 columns, thus wider than it is tall. This suggests the regularized normal equations might perform better.\n",
    "\n",
    "$$\\boldsymbol{\\theta} = (X^T \\cdot X + \\lambda m I)^{-1} \\cdot X^T \\cdot Y$$\n",
    "\n",
    "Here, $\\lambda$ is the regularization parameter and $m$ is the number of rows in $X$.\n",
    "\n",
    "5. Complete the `regularized_normal_equations_solution()` equation."
   ]
  },
  {
   "cell_type": "code",
   "execution_count": 34,
   "metadata": {
    "id": "nFY5YO-IZ2e7"
   },
   "outputs": [
    {
     "data": {
      "application/javascript": "\n            setTimeout(function() {\n                var nbb_cell_id = 34;\n                var nbb_unformatted_code = \"def regularized_normal_equations_solution(X, y, regularization_param):\\n    X_with_ones = np.hstack([np.ones([X.shape[0], 1]), X])\\n    m = np.shape(X_with_ones)[0]\\n    return np.dot(np.dot(np.linalg.pinv(np.dot(X_with_ones.T,X_with_ones)+regularization_param*m*np.identity(X_with_ones.shape[1])), X_with_ones.T), y)\\n    \";\n                var nbb_formatted_code = \"def regularized_normal_equations_solution(X, y, regularization_param):\\n    X_with_ones = np.hstack([np.ones([X.shape[0], 1]), X])\\n    m = np.shape(X_with_ones)[0]\\n    return np.dot(\\n        np.dot(\\n            np.linalg.pinv(\\n                np.dot(X_with_ones.T, X_with_ones)\\n                + regularization_param * m * np.identity(X_with_ones.shape[1])\\n            ),\\n            X_with_ones.T,\\n        ),\\n        y,\\n    )\";\n                var nbb_cells = Jupyter.notebook.get_cells();\n                for (var i = 0; i < nbb_cells.length; ++i) {\n                    if (nbb_cells[i].input_prompt_number == nbb_cell_id) {\n                        if (nbb_cells[i].get_text() == nbb_unformatted_code) {\n                             nbb_cells[i].set_text(nbb_formatted_code);\n                        }\n                        break;\n                    }\n                }\n            }, 500);\n            ",
      "text/plain": [
       "<IPython.core.display.Javascript object>"
      ]
     },
     "metadata": {},
     "output_type": "display_data"
    }
   ],
   "source": [
    "def regularized_normal_equations_solution(X, y, regularization_param):\n",
    "    X_with_ones = np.hstack([np.ones([X.shape[0], 1]), X])\n",
    "    m = np.shape(X_with_ones)[0]\n",
    "    return np.dot(np.dot(np.linalg.pinv(np.dot(X_with_ones.T,X_with_ones)+regularization_param*m*np.identity(X_with_ones.shape[1])), X_with_ones.T), y)\n",
    "    "
   ]
  },
  {
   "cell_type": "markdown",
   "metadata": {},
   "source": [
    "6. Complete the code snippet below to calculate the MSE and R^2 values for each of the potential regularization parameters to determine the optimal.\n",
    "\n",
    "    Does it outperform the standard normal equation?"
   ]
  },
  {
   "cell_type": "code",
   "execution_count": 70,
   "metadata": {
    "id": "bIrbJkOydnN9"
   },
   "outputs": [
    {
     "name": "stdout",
     "output_type": "stream",
     "text": [
      "For regularization parameter 0.001\n",
      "5920.15956402947\n",
      "0.6158772697470014\n",
      "-----\n",
      "For regularization parameter 0.002\n",
      "5789.114544987666\n",
      "0.6243799747764808\n",
      "-----\n",
      "For regularization parameter 0.003\n",
      "5715.48255445931\n",
      "0.6291575016201092\n",
      "-----\n",
      "For regularization parameter 0.004\n",
      "5682.239632463361\n",
      "0.6313144303009268\n",
      "-----\n",
      "For regularization parameter 0.005\n",
      "5674.866662818343\n",
      "0.6317928169389027\n",
      "-----\n",
      "For regularization parameter 0.006\n",
      "5682.356370074328\n",
      "0.6313068559155808\n",
      "-----\n",
      "For regularization parameter 0.007\n",
      "5698.577977735205\n",
      "0.6302543355981135\n",
      "-----\n",
      "For regularization parameter 0.008\n",
      "5719.7863636270185\n",
      "0.6288782539224571\n",
      "-----\n",
      "For regularization parameter 0.009000000000000001\n",
      "5745.232444099359\n",
      "0.6272272143179403\n",
      "-----\n",
      "For regularization parameter 0.01\n",
      "5773.615608227458\n",
      "0.6253856054254454\n",
      "-----\n"
     ]
    },
    {
     "data": {
      "application/javascript": "\n            setTimeout(function() {\n                var nbb_cell_id = 70;\n                var nbb_unformatted_code = \"\\n\\nregularization_params = np.linspace(0.001, 0.01, 10)\\n\\nfor regularization_param in regularization_params:\\n    theta_temp = regularized_normal_equations_solution(X_train, y_train, regularization_param)\\n    X_test_with_ones = np.hstack([np.ones([X_test.shape[0], 1]), X_test])\\n    y_pred_N_reg = np.dot(X_test_with_ones, theta_temp)# \\n    y_pred_N_reg[y_pred_N_reg < 0] = 0\\n    print('For regularization parameter', regularization_param)\\n    # Print the MSE and R^2 value\\n    print(MSE(y_test, y_pred_N_reg)) \\n    print(R2(y_test, y_pred_N_reg))\\n    # [YOUR CODE HERE]\\n    print('-----')\";\n                var nbb_formatted_code = \"regularization_params = np.linspace(0.001, 0.01, 10)\\n\\nfor regularization_param in regularization_params:\\n    theta_temp = regularized_normal_equations_solution(\\n        X_train, y_train, regularization_param\\n    )\\n    X_test_with_ones = np.hstack([np.ones([X_test.shape[0], 1]), X_test])\\n    y_pred_N_reg = np.dot(X_test_with_ones, theta_temp)  #\\n    y_pred_N_reg[y_pred_N_reg < 0] = 0\\n    print(\\\"For regularization parameter\\\", regularization_param)\\n    # Print the MSE and R^2 value\\n    print(MSE(y_test, y_pred_N_reg))\\n    print(R2(y_test, y_pred_N_reg))\\n    # [YOUR CODE HERE]\\n    print(\\\"-----\\\")\";\n                var nbb_cells = Jupyter.notebook.get_cells();\n                for (var i = 0; i < nbb_cells.length; ++i) {\n                    if (nbb_cells[i].input_prompt_number == nbb_cell_id) {\n                        if (nbb_cells[i].get_text() == nbb_unformatted_code) {\n                             nbb_cells[i].set_text(nbb_formatted_code);\n                        }\n                        break;\n                    }\n                }\n            }, 500);\n            ",
      "text/plain": [
       "<IPython.core.display.Javascript object>"
      ]
     },
     "metadata": {},
     "output_type": "display_data"
    }
   ],
   "source": [
    "\n",
    "\n",
    "regularization_params = np.linspace(0.001, 0.01, 10)\n",
    "\n",
    "for regularization_param in regularization_params:\n",
    "    theta_temp = regularized_normal_equations_solution(X_train, y_train, regularization_param)\n",
    "    X_test_with_ones = np.hstack([np.ones([X_test.shape[0], 1]), X_test])\n",
    "    y_pred_N_reg = np.dot(X_test_with_ones, theta_temp)# \n",
    "    y_pred_N_reg[y_pred_N_reg < 0] = 0\n",
    "    print('For regularization parameter', regularization_param)\n",
    "    # Print the MSE and R^2 value\n",
    "    print(MSE(y_test, y_pred_N_reg)) \n",
    "    print(R2(y_test, y_pred_N_reg))\n",
    "    # [YOUR CODE HERE]\n",
    "    print('-----')"
   ]
  },
  {
   "cell_type": "markdown",
   "metadata": {
    "id": "o5uD0DVidnN_"
   },
   "source": [
    "## Task 6: Non-linear Regression Models (GLM, DT) "
   ]
  },
  {
   "cell_type": "markdown",
   "metadata": {
    "id": "Yk0Be7SQdnN_"
   },
   "source": [
    "### Generalized Linear Models\n",
    "\n",
    "Statsmodels has a `GLM` class for Generalized Linear Models. Here we import and build the model.\n",
    "\n",
    "The `GLM` class takes the training labels, training features, and family, which is the family of distributions to which we assume our prediciton errors belong. Some potentially good choices for family include Gaussian, Gamma, and Logit.\n",
    "\n",
    "1. Run the code below and review the results."
   ]
  },
  {
   "cell_type": "code",
   "execution_count": 40,
   "metadata": {
    "id": "cxUdD_LhdnN_"
   },
   "outputs": [
    {
     "name": "stdout",
     "output_type": "stream",
     "text": [
      "                 Generalized Linear Model Regression Results                  \n",
      "==============================================================================\n",
      "Dep. Variable:            total_sales   No. Observations:                   66\n",
      "Model:                            GLM   Df Residuals:                       35\n",
      "Model Family:                Gaussian   Df Model:                           30\n",
      "Link Function:               identity   Scale:                          17328.\n",
      "Method:                          IRLS   Log-Likelihood:                -394.77\n",
      "Date:                Tue, 22 Feb 2022   Deviance:                   6.0590e+05\n",
      "Time:                        19:10:11   Pearson chi2:                 6.06e+05\n",
      "No. Iterations:                     3   Pseudo R-squ. (CS):             0.6045\n",
      "Covariance Type:            nonrobust                                         \n",
      "====================================================================================\n",
      "                       coef    std err          z      P>|z|      [0.025      0.975]\n",
      "------------------------------------------------------------------------------------\n",
      "const               85.6077     49.772      1.720      0.085     -11.943     183.158\n",
      "main_S60_1       -1.896e-13   1.46e-13     -1.295      0.195   -4.76e-13    9.73e-14\n",
      "main_S60_2         -3.4e-14   1.28e-13     -0.266      0.790   -2.84e-13    2.16e-13\n",
      "main_type_SP100D     7.0000    186.159      0.038      0.970    -357.865     371.865\n",
      "main_type_S60D_1     7.0000    263.268      0.027      0.979    -508.996     522.996\n",
      "main_type_S60D_2   -19.1519     79.231     -0.242      0.809    -174.441     136.137\n",
      "main_type_S70       99.2903     55.639      1.785      0.074      -9.761     208.341\n",
      "main_type_S70D     -31.3196     64.476     -0.486      0.627    -157.691      95.052\n",
      "main_type_S75    -2.597e-13    1.6e-13     -1.627      0.104   -5.72e-13    5.31e-14\n",
      "main_type_S75D     -56.8655    132.134     -0.430      0.667    -315.844     202.113\n",
      "main_type_S80      -16.4954     70.556     -0.234      0.815    -154.782     121.791\n",
      "main_type_S80D      -6.8808     90.669     -0.076      0.940    -184.589     170.828\n",
      "main_type_S85        4.2553     72.913      0.058      0.953    -138.651     147.162\n",
      "main_type_S85P     155.3578     52.765      2.944      0.003      51.940     258.776\n",
      "main_type_P85D      -8.3761    120.379     -0.070      0.945    -244.314     227.562\n",
      "main_type_S90    -7.233e-14    9.7e-14     -0.746      0.456   -2.62e-13    1.18e-13\n",
      "main_type_S90D   -2.154e-14      3e-14     -0.718      0.473   -8.03e-14    3.73e-14\n",
      "main_type_S100D     89.1291     41.979      2.123      0.034       6.852     171.406\n",
      "engine_A           163.5645     57.693      2.835      0.005      50.488     276.641\n",
      "engine_B          3.736e-15      3e-14      0.125      0.901    -5.5e-14    6.25e-14\n",
      "engine_C          1.786e-14   1.02e-13      0.175      0.861   -1.83e-13    2.18e-13\n",
      "engine_D          1.009e-15   2.13e-14      0.047      0.962   -4.08e-14    4.28e-14\n",
      "engine_E           -54.3798     76.108     -0.715      0.475    -203.549      94.790\n",
      "engine_F         -1.192e-14   6.18e-14     -0.193      0.847   -1.33e-13    1.09e-13\n",
      "engine_G           -45.8038    101.670     -0.451      0.652    -245.073     153.466\n",
      "engine_H          1.521e-14   5.57e-14      0.273      0.785   -9.39e-14    1.24e-13\n",
      "engine_I          1.164e-15   1.12e-14      0.103      0.918   -2.09e-14    2.32e-14\n",
      "engine_J          4.034e-15   1.26e-14      0.320      0.749   -2.07e-14    2.87e-14\n",
      "engine_K          9.548e-15   2.08e-14      0.460      0.646   -3.11e-14    5.02e-14\n",
      "engine_L          1.708e-15   7.73e-15      0.221      0.825   -1.34e-14    1.69e-14\n",
      "engine_M          8.478e-18   1.95e-17      0.435      0.663   -2.97e-17    4.66e-17\n",
      "engine_N             7.0978    152.185      0.047      0.963    -291.178     305.374\n",
      "engine_O           -42.0268    119.030     -0.353      0.724    -275.322     191.268\n",
      "engine_P           -42.3038     57.551     -0.735      0.462    -155.101      70.494\n",
      "engine_Q            -7.7814     48.040     -0.162      0.871    -101.939      86.376\n",
      "engine_R                  0          0        nan        nan           0           0\n",
      "engine_S                  0          0        nan        nan           0           0\n",
      "engine_T                  0          0        nan        nan           0           0\n",
      "engine_U           -74.4355     57.693     -1.290      0.197    -187.512      38.641\n",
      "engine_V                  0          0        nan        nan           0           0\n",
      "engine_W                  0          0        nan        nan           0           0\n",
      "engine_X           -44.1514    154.490     -0.286      0.775    -346.946     258.643\n",
      "engine_Y                  0          0        nan        nan           0           0\n",
      "engine_Z          -148.5443     57.932     -2.564      0.010    -262.090     -34.999\n",
      "sales_1           -111.8025    101.652     -1.100      0.271    -311.036      87.431\n",
      "sales_2                   0          0        nan        nan           0           0\n",
      "sales_3             -8.0760    101.159     -0.080      0.936    -206.344     190.192\n",
      "sales_4            -11.0760    101.159     -0.109      0.913    -209.344     187.192\n",
      "sales_5            -35.2279    135.343     -0.260      0.795    -300.496     230.040\n",
      "sales_6                   0          0        nan        nan           0           0\n",
      "sales_7            -82.8025    101.652     -0.815      0.415    -282.036     116.431\n",
      "sales_8            -19.9608     60.559     -0.330      0.742    -138.655      98.733\n",
      "sales_9            -42.7115     57.401     -0.744      0.457    -155.215      69.792\n",
      "sales_10           309.2103    126.746      2.440      0.015      60.794     557.627\n",
      "sales_11           374.9313    139.150      2.694      0.007     102.203     647.660\n",
      "sales_12                  0          0        nan        nan           0           0\n",
      "sales_13                  0          0        nan        nan           0           0\n",
      "sales_14                  0          0        nan        nan           0           0\n",
      "sales_15                  0          0        nan        nan           0           0\n",
      "sales_16                  0          0        nan        nan           0           0\n",
      "sales_17           -62.9454    155.831     -0.404      0.686    -368.368     242.477\n",
      "sales_18                  0          0        nan        nan           0           0\n",
      "sales_19                  0          0        nan        nan           0           0\n",
      "sales_20                  0          0        nan        nan           0           0\n",
      "sales_21           -42.3038     57.551     -0.735      0.462    -155.101      70.494\n",
      "sales_22                  0          0        nan        nan           0           0\n",
      "sales_23                  0          0        nan        nan           0           0\n",
      "sales_24           -72.2316     54.060     -1.336      0.182    -178.186      33.723\n",
      "sales_25            80.2103    126.746      0.633      0.527    -168.206     328.627\n",
      "sales_26           -45.8038    101.670     -0.451      0.652    -245.073     153.466\n",
      "sales_27                  0          0        nan        nan           0           0\n",
      "sales_28          -143.8025    101.652     -1.415      0.157    -343.036      55.431\n",
      "sales_29                  0          0        nan        nan           0           0\n",
      "sales_30                  0          0        nan        nan           0           0\n",
      "====================================================================================\n"
     ]
    },
    {
     "data": {
      "application/javascript": "\n            setTimeout(function() {\n                var nbb_cell_id = 40;\n                var nbb_unformatted_code = \"import statsmodels.api as sm\\n\\nX_train_with_ones = sm.add_constant(X_train)\\nglm = sm.GLM(y_train, X_train_with_ones, family=sm.families.Gaussian())\\nglm_results = glm.fit()\\nprint(glm_results.summary())\";\n                var nbb_formatted_code = \"import statsmodels.api as sm\\n\\nX_train_with_ones = sm.add_constant(X_train)\\nglm = sm.GLM(y_train, X_train_with_ones, family=sm.families.Gaussian())\\nglm_results = glm.fit()\\nprint(glm_results.summary())\";\n                var nbb_cells = Jupyter.notebook.get_cells();\n                for (var i = 0; i < nbb_cells.length; ++i) {\n                    if (nbb_cells[i].input_prompt_number == nbb_cell_id) {\n                        if (nbb_cells[i].get_text() == nbb_unformatted_code) {\n                             nbb_cells[i].set_text(nbb_formatted_code);\n                        }\n                        break;\n                    }\n                }\n            }, 500);\n            ",
      "text/plain": [
       "<IPython.core.display.Javascript object>"
      ]
     },
     "metadata": {},
     "output_type": "display_data"
    }
   ],
   "source": [
    "import statsmodels.api as sm\n",
    "\n",
    "X_train_with_ones = sm.add_constant(X_train)\n",
    "glm = sm.GLM(y_train, X_train_with_ones, family=sm.families.Gaussian())\n",
    "glm_results = glm.fit()\n",
    "print(glm_results.summary())\n"
   ]
  },
  {
   "cell_type": "markdown",
   "metadata": {},
   "source": []
  },
  {
   "cell_type": "markdown",
   "metadata": {
    "id": "7IAchWHodnOB"
   },
   "source": [
    "2. Use the model created above to generate predictions."
   ]
  },
  {
   "cell_type": "code",
   "execution_count": 41,
   "metadata": {
    "id": "XLTsITX7dnOC"
   },
   "outputs": [
    {
     "data": {
      "application/javascript": "\n            setTimeout(function() {\n                var nbb_cell_id = 41;\n                var nbb_unformatted_code = \"y_pred_GLM = glm_results.predict(sm.add_constant(X_test))# [YOUR CODE HERE]\\ny_pred_GLM[y_pred_GLM < 0] = 0\";\n                var nbb_formatted_code = \"y_pred_GLM = glm_results.predict(sm.add_constant(X_test))  # [YOUR CODE HERE]\\ny_pred_GLM[y_pred_GLM < 0] = 0\";\n                var nbb_cells = Jupyter.notebook.get_cells();\n                for (var i = 0; i < nbb_cells.length; ++i) {\n                    if (nbb_cells[i].input_prompt_number == nbb_cell_id) {\n                        if (nbb_cells[i].get_text() == nbb_unformatted_code) {\n                             nbb_cells[i].set_text(nbb_formatted_code);\n                        }\n                        break;\n                    }\n                }\n            }, 500);\n            ",
      "text/plain": [
       "<IPython.core.display.Javascript object>"
      ]
     },
     "metadata": {},
     "output_type": "display_data"
    }
   ],
   "source": [
    "y_pred_GLM = glm_results.predict(sm.add_constant(X_test))# [YOUR CODE HERE]\n",
    "y_pred_GLM[y_pred_GLM < 0] = 0"
   ]
  },
  {
   "cell_type": "markdown",
   "metadata": {},
   "source": [
    "3. Calculate the MSE and R^2 score."
   ]
  },
  {
   "cell_type": "code",
   "execution_count": 42,
   "metadata": {
    "id": "Ljk24gJ4dnNy"
   },
   "outputs": [
    {
     "name": "stdout",
     "output_type": "stream",
     "text": [
      "6199.303664419514\n",
      "0.5977653265103127\n"
     ]
    },
    {
     "data": {
      "application/javascript": "\n            setTimeout(function() {\n                var nbb_cell_id = 42;\n                var nbb_unformatted_code = \"# [YOUR CODE HERE]\\nprint(MSE(y_test, y_pred_GLM ))\\nprint(R2(y_test, y_pred_GLM ))\";\n                var nbb_formatted_code = \"# [YOUR CODE HERE]\\nprint(MSE(y_test, y_pred_GLM))\\nprint(R2(y_test, y_pred_GLM))\";\n                var nbb_cells = Jupyter.notebook.get_cells();\n                for (var i = 0; i < nbb_cells.length; ++i) {\n                    if (nbb_cells[i].input_prompt_number == nbb_cell_id) {\n                        if (nbb_cells[i].get_text() == nbb_unformatted_code) {\n                             nbb_cells[i].set_text(nbb_formatted_code);\n                        }\n                        break;\n                    }\n                }\n            }, 500);\n            ",
      "text/plain": [
       "<IPython.core.display.Javascript object>"
      ]
     },
     "metadata": {},
     "output_type": "display_data"
    }
   ],
   "source": [
    "# [YOUR CODE HERE]\n",
    "print(MSE(y_test, y_pred_GLM ))\n",
    "print(R2(y_test, y_pred_GLM ))\n"
   ]
  },
  {
   "cell_type": "markdown",
   "metadata": {
    "id": "2ImYOho6dnNy"
   },
   "source": [
    "4. Make a plot showing both the true values (`y_test`) and the predicted values (`y_pred_GLM`)."
   ]
  },
  {
   "cell_type": "code",
   "execution_count": 43,
   "metadata": {},
   "outputs": [
    {
     "data": {
      "text/plain": [
       "[<matplotlib.lines.Line2D at 0x1263db910>]"
      ]
     },
     "execution_count": 43,
     "metadata": {},
     "output_type": "execute_result"
    },
    {
     "data": {
      "text/plain": [
       "[<matplotlib.lines.Line2D at 0x1263dba60>]"
      ]
     },
     "execution_count": 43,
     "metadata": {},
     "output_type": "execute_result"
    },
    {
     "data": {
      "image/png": "[encoded data removed]",
      "text/plain": [
       "<Figure size 432x288 with 1 Axes>"
      ]
     },
     "metadata": {},
     "output_type": "display_data"
    },
    {
     "data": {
      "application/javascript": "\n            setTimeout(function() {\n                var nbb_cell_id = 43;\n                var nbb_unformatted_code = \"# [YOUR CODE HERE]\\nplt.plot(y_test, c=\\\"r\\\")\\nplt.plot(y_pred_GLM, c=\\\"b\\\")\";\n                var nbb_formatted_code = \"# [YOUR CODE HERE]\\nplt.plot(y_test, c=\\\"r\\\")\\nplt.plot(y_pred_GLM, c=\\\"b\\\")\";\n                var nbb_cells = Jupyter.notebook.get_cells();\n                for (var i = 0; i < nbb_cells.length; ++i) {\n                    if (nbb_cells[i].input_prompt_number == nbb_cell_id) {\n                        if (nbb_cells[i].get_text() == nbb_unformatted_code) {\n                             nbb_cells[i].set_text(nbb_formatted_code);\n                        }\n                        break;\n                    }\n                }\n            }, 500);\n            ",
      "text/plain": [
       "<IPython.core.display.Javascript object>"
      ]
     },
     "metadata": {},
     "output_type": "display_data"
    }
   ],
   "source": [
    "# [YOUR CODE HERE]\n",
    "plt.plot(y_test, c=\"r\")\n",
    "plt.plot(y_pred_GLM, c=\"b\")"
   ]
  },
  {
   "cell_type": "markdown",
   "metadata": {
    "id": "Vld0rNUcdnOG"
   },
   "source": [
    "### Random Forest Regression\n",
    "\n",
    "5. Use the `RandomForestRegressor` from scikit-learn to train a model.\n",
    "\n",
    "    The relevant parameters are the `max_depth` of the trees and the `random_state` (used so your code will always yield the same results).\n",
    "    \n",
    "    Note: we don't need to add a column of ones for non-linear models like Random Forests."
   ]
  },
  {
   "cell_type": "code",
   "execution_count": 64,
   "metadata": {
    "id": "EbxRUm3UdnOG"
   },
   "outputs": [
    {
     "name": "stderr",
     "output_type": "stream",
     "text": [
      "/var/folders/rt/nkwnlxk55f97v_7tj81n3s840000gn/T/ipykernel_36218/3266241282.py:5: DataConversionWarning: A column-vector y was passed when a 1d array was expected. Please change the shape of y to (n_samples,), for example using ravel().\n",
      "  regr.fit(X_train, y_train)\n"
     ]
    },
    {
     "data": {
      "text/plain": [
       "RandomForestRegressor(max_depth=300, n_estimators=3000, random_state=0)"
      ]
     },
     "execution_count": 64,
     "metadata": {},
     "output_type": "execute_result"
    },
    {
     "data": {
      "application/javascript": "\n            setTimeout(function() {\n                var nbb_cell_id = 64;\n                var nbb_unformatted_code = \"from sklearn.ensemble import RandomForestRegressor\\n\\nregr = RandomForestRegressor(max_depth=300, n_estimators=3000, random_state=0)\\n# [YOUR CODE HERE]\\nregr.fit(X_train, y_train)\";\n                var nbb_formatted_code = \"from sklearn.ensemble import RandomForestRegressor\\n\\nregr = RandomForestRegressor(max_depth=300, n_estimators=3000, random_state=0)\\n# [YOUR CODE HERE]\\nregr.fit(X_train, y_train)\";\n                var nbb_cells = Jupyter.notebook.get_cells();\n                for (var i = 0; i < nbb_cells.length; ++i) {\n                    if (nbb_cells[i].input_prompt_number == nbb_cell_id) {\n                        if (nbb_cells[i].get_text() == nbb_unformatted_code) {\n                             nbb_cells[i].set_text(nbb_formatted_code);\n                        }\n                        break;\n                    }\n                }\n            }, 500);\n            ",
      "text/plain": [
       "<IPython.core.display.Javascript object>"
      ]
     },
     "metadata": {},
     "output_type": "display_data"
    }
   ],
   "source": [
    "from sklearn.ensemble import RandomForestRegressor\n",
    "\n",
    "regr = RandomForestRegressor(max_depth=300, n_estimators=3000, random_state=0)\n",
    "# [YOUR CODE HERE]\n",
    "regr.fit(X_train, y_train)\n"
   ]
  },
  {
   "cell_type": "markdown",
   "metadata": {
    "id": "7IAchWHodnOB"
   },
   "source": [
    "6. Use the model created above to generate predictions."
   ]
  },
  {
   "cell_type": "code",
   "execution_count": 65,
   "metadata": {
    "id": "XLTsITX7dnOC"
   },
   "outputs": [
    {
     "data": {
      "application/javascript": "\n            setTimeout(function() {\n                var nbb_cell_id = 65;\n                var nbb_unformatted_code = \"y_pred_RF =  regr.predict(X_test)# [YOUR CODE HERE]\\ny_pred_RF[y_pred_RF < 0] = 0\";\n                var nbb_formatted_code = \"y_pred_RF = regr.predict(X_test)  # [YOUR CODE HERE]\\ny_pred_RF[y_pred_RF < 0] = 0\";\n                var nbb_cells = Jupyter.notebook.get_cells();\n                for (var i = 0; i < nbb_cells.length; ++i) {\n                    if (nbb_cells[i].input_prompt_number == nbb_cell_id) {\n                        if (nbb_cells[i].get_text() == nbb_unformatted_code) {\n                             nbb_cells[i].set_text(nbb_formatted_code);\n                        }\n                        break;\n                    }\n                }\n            }, 500);\n            ",
      "text/plain": [
       "<IPython.core.display.Javascript object>"
      ]
     },
     "metadata": {},
     "output_type": "display_data"
    }
   ],
   "source": [
    "y_pred_RF =  regr.predict(X_test)# [YOUR CODE HERE]\n",
    "y_pred_RF[y_pred_RF < 0] = 0"
   ]
  },
  {
   "cell_type": "markdown",
   "metadata": {},
   "source": [
    "7. Calculate the MSE and R^2 score."
   ]
  },
  {
   "cell_type": "code",
   "execution_count": 69,
   "metadata": {
    "id": "Ljk24gJ4dnNy"
   },
   "outputs": [
    {
     "name": "stdout",
     "output_type": "stream",
     "text": [
      "3984.8450679139287\n",
      "0.7414479203529328\n"
     ]
    },
    {
     "data": {
      "application/javascript": "\n            setTimeout(function() {\n                var nbb_cell_id = 69;\n                var nbb_unformatted_code = \"# [YOUR CODE HERE]\\nprint(MSE(y_test, y_pred_RF ))\\nprint(R2(y_test, y_pred_RF))\";\n                var nbb_formatted_code = \"# [YOUR CODE HERE]\\nprint(MSE(y_test, y_pred_RF))\\nprint(R2(y_test, y_pred_RF))\";\n                var nbb_cells = Jupyter.notebook.get_cells();\n                for (var i = 0; i < nbb_cells.length; ++i) {\n                    if (nbb_cells[i].input_prompt_number == nbb_cell_id) {\n                        if (nbb_cells[i].get_text() == nbb_unformatted_code) {\n                             nbb_cells[i].set_text(nbb_formatted_code);\n                        }\n                        break;\n                    }\n                }\n            }, 500);\n            ",
      "text/plain": [
       "<IPython.core.display.Javascript object>"
      ]
     },
     "metadata": {},
     "output_type": "display_data"
    }
   ],
   "source": [
    "# [YOUR CODE HERE]\n",
    "print(MSE(y_test, y_pred_RF ))\n",
    "print(R2(y_test, y_pred_RF))\n",
    "\n",
    "\n"
   ]
  },
  {
   "cell_type": "markdown",
   "metadata": {
    "id": "2ImYOho6dnNy"
   },
   "source": [
    "8. Make a plot showing both the true values (`y_test`) and the predicted values (`y_pred_GLM`)."
   ]
  },
  {
   "cell_type": "code",
   "execution_count": 68,
   "metadata": {},
   "outputs": [
    {
     "data": {
      "image/png": "[encoded data removed]",
      "text/plain": [
       "<Figure size 432x288 with 1 Axes>"
      ]
     },
     "metadata": {},
     "output_type": "display_data"
    },
    {
     "data": {
      "application/javascript": "\n            setTimeout(function() {\n                var nbb_cell_id = 68;\n                var nbb_unformatted_code = \"# [YOUR CODE HERE]\\nplt.plot(y_test, c=\\\"r\\\"); \\nplt.plot(y_pred_RF, c=\\\"b\\\");\";\n                var nbb_formatted_code = \"# [YOUR CODE HERE]\\nplt.plot(y_test, c=\\\"r\\\")\\nplt.plot(y_pred_RF, c=\\\"b\\\")\";\n                var nbb_cells = Jupyter.notebook.get_cells();\n                for (var i = 0; i < nbb_cells.length; ++i) {\n                    if (nbb_cells[i].input_prompt_number == nbb_cell_id) {\n                        if (nbb_cells[i].get_text() == nbb_unformatted_code) {\n                             nbb_cells[i].set_text(nbb_formatted_code);\n                        }\n                        break;\n                    }\n                }\n            }, 500);\n            ",
      "text/plain": [
       "<IPython.core.display.Javascript object>"
      ]
     },
     "metadata": {},
     "output_type": "display_data"
    }
   ],
   "source": [
    "# [YOUR CODE HERE]\n",
    "plt.plot(y_test, c=\"r\"); \n",
    "plt.plot(y_pred_RF, c=\"b\");"
   ]
  },
  {
   "cell_type": "markdown",
   "metadata": {
    "id": "bxx1JrikdnON"
   },
   "source": [
    "\n",
    "## Task 7: Compare the Models\n",
    "\n",
    "1. Populate the table below with the results of your experiments above. Which models performed best?"
   ]
  },
  {
   "cell_type": "markdown",
   "metadata": {
    "id": "44MPnft4dnON"
   },
   "source": [
    "|Method      |RMSE             |R2               |\n",
    "|------------|-----------------|-----------------|\n",
    "| Gradient Descent | 5760 | 0.62|\n",
    "| Normal Equations | 6270. | 0.59 |\n",
    "| Regularized Normal Equations | 5682| 0.63 |\n",
    "| Generalized Linear Model (GLM) | 6199 | 0.5977 |\n",
    "| Random Forests | 3984.84 | 0.741 |\n"
   ]
  },
  {
   "cell_type": "markdown",
   "metadata": {},
   "source": []
  }
 ],
 "metadata": {
  "colab": {
   "collapsed_sections": [],
   "name": "week1_V1.ipynb",
   "provenance": [
    {
     "file_id": "1A5aKkAXYKm5ju0TNG-1yU44-hnWEhh__",
     "timestamp": 1603344980309
    }
   ]
  },
  "kernelspec": {
   "display_name": "Python 3 (ipykernel)",
   "language": "python",
   "name": "python3"
  },
  "language_info": {
   "codemirror_mode": {
    "name": "ipython",
    "version": 3
   },
   "file_extension": ".py",
   "mimetype": "text/x-python",
   "name": "python",
   "nbconvert_exporter": "python",
   "pygments_lexer": "ipython3",
   "version": "3.8.10"
  }
 },
 "nbformat": 4,
 "nbformat_minor": 4
}
