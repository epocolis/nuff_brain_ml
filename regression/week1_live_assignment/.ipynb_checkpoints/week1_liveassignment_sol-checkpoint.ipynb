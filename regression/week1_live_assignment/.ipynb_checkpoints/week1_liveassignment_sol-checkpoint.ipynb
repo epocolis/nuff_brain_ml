{
  "cells": [
    {
      "cell_type": "markdown",
      "metadata": {
        "id": "lNnTTMT9dnM4"
      },
      "source": [
        "# Today you are a Data Scientist at Tesla! \n",
        "\n",
        "You have been assigned a new project to look at car sales from Quarters 1-2 in California for 2019 to make predictions as to which cars will be sold more than the others in Q3 and Q4, to ensure enough inventory to meet demands!"
      ]
    },
    {
      "cell_type": "markdown",
      "metadata": {
        "id": "AQqh5DMaq9QW"
      },
      "source": [
        "### If running this notebook in Google Colab, run the following cell first to mount your Google Drive\n",
        "\n",
        "This mounts your Google Drive at the location `/content/drive` on the virtual machine running this notebook."
      ]
    },
    {
      "cell_type": "code",
      "execution_count": 1,
      "metadata": {
        "colab": {
          "base_uri": "https://localhost:8080/"
        },
        "id": "Mqah54vN8CVB",
        "outputId": "afe564c3-7c3a-4829-aa67-58b1cc116171"
      },
      "outputs": [
        {
          "output_type": "stream",
          "name": "stdout",
          "text": [
            "Mounted at /content/drive\n"
          ]
        }
      ],
      "source": [
        "from google.colab import drive\n",
        "drive.mount('/content/drive')"
      ]
    },
    {
      "cell_type": "markdown",
      "metadata": {
        "id": "v-eh9IKUfTdQ"
      },
      "source": [
        "## Task 1: Load the data"
      ]
    },
    {
      "cell_type": "markdown",
      "metadata": {
        "id": "OI6NP0JBdnM5"
      },
      "source": [
        "### Import the modules\n",
        "\n",
        "1. We'll be using numpy, pandas and matplotlib, so we start by importing them."
      ]
    },
    {
      "cell_type": "code",
      "execution_count": 2,
      "metadata": {
        "id": "WdNx3CHEdnM5"
      },
      "outputs": [],
      "source": [
        "import numpy as np\n",
        "import pandas as pd\n",
        "import matplotlib.pyplot as plt"
      ]
    },
    {
      "cell_type": "markdown",
      "metadata": {
        "id": "dM4fGT-ldnM8"
      },
      "source": [
        "### Read in the data\n",
        "\n",
        "2. Use pandas to read in the CSV file containing the sales data for Quarters 1 and 2. The file is called `sales_Q12_2019.csv`.\n",
        "\n",
        "    Note: Update `filepath` below to be where you saved the `sales_Q12_2019.csv` file (either on your computer if you're running the notebook locally, or in Google Drive if you're using Google Colab)."
      ]
    },
    {
      "cell_type": "code",
      "execution_count": 4,
      "metadata": {
        "id": "-s13HIEBdtGd"
      },
      "outputs": [],
      "source": [
        "# my copy of the Tesla sales data is located in my drive at /Datasets/week_1/\n",
        "filepath = '/content/drive/My Drive/fourthbrain/sales_Q12_2019.csv'\n",
        "df_sales = pd.read_csv(filepath) # [YOUR CODE HERE]"
      ]
    },
    {
      "cell_type": "markdown",
      "metadata": {
        "id": "HhbUKS2xj-Ok"
      },
      "source": [
        "3. Examine the data's shape and first few rows."
      ]
    },
    {
      "cell_type": "code",
      "execution_count": 5,
      "metadata": {
        "id": "HdP5mSNQePPU",
        "colab": {
          "base_uri": "https://localhost:8080/",
          "height": 288
        },
        "outputId": "853ead11-e5c2-4797-e210-8a56d0605f83"
      },
      "outputs": [
        {
          "output_type": "stream",
          "name": "stdout",
          "text": [
            "(5837, 76)\n"
          ]
        },
        {
          "output_type": "execute_result",
          "data": {
            "text/html": [
              "\n",
              "  <div id=\"df-76f033ac-53f9-4a67-b274-3816918232b6\">\n",
              "    <div class=\"colab-df-container\">\n",
              "      <div>\n",
              "<style scoped>\n",
              "    .dataframe tbody tr th:only-of-type {\n",
              "        vertical-align: middle;\n",
              "    }\n",
              "\n",
              "    .dataframe tbody tr th {\n",
              "        vertical-align: top;\n",
              "    }\n",
              "\n",
              "    .dataframe thead th {\n",
              "        text-align: right;\n",
              "    }\n",
              "</style>\n",
              "<table border=\"1\" class=\"dataframe\">\n",
              "  <thead>\n",
              "    <tr style=\"text-align: right;\">\n",
              "      <th></th>\n",
              "      <th>main_S60_1</th>\n",
              "      <th>main_S60_2</th>\n",
              "      <th>main_type_SP100D</th>\n",
              "      <th>main_type_S60D_1</th>\n",
              "      <th>main_type_S60D_2</th>\n",
              "      <th>main_type_S70</th>\n",
              "      <th>main_type_S70D</th>\n",
              "      <th>main_type_S75</th>\n",
              "      <th>main_type_S75D</th>\n",
              "      <th>main_type_S80</th>\n",
              "      <th>main_type_S80D</th>\n",
              "      <th>main_type_S85</th>\n",
              "      <th>main_type_S85P</th>\n",
              "      <th>main_type_P85D</th>\n",
              "      <th>main_type_S90</th>\n",
              "      <th>main_type_S90D</th>\n",
              "      <th>main_type_S100D</th>\n",
              "      <th>engine_A</th>\n",
              "      <th>engine_B</th>\n",
              "      <th>engine_C</th>\n",
              "      <th>engine_D</th>\n",
              "      <th>engine_E</th>\n",
              "      <th>engine_F</th>\n",
              "      <th>engine_G</th>\n",
              "      <th>engine_H</th>\n",
              "      <th>engine_I</th>\n",
              "      <th>engine_J</th>\n",
              "      <th>engine_K</th>\n",
              "      <th>engine_L</th>\n",
              "      <th>engine_M</th>\n",
              "      <th>engine_N</th>\n",
              "      <th>engine_O</th>\n",
              "      <th>engine_P</th>\n",
              "      <th>engine_Q</th>\n",
              "      <th>engine_R</th>\n",
              "      <th>engine_S</th>\n",
              "      <th>engine_T</th>\n",
              "      <th>engine_U</th>\n",
              "      <th>engine_V</th>\n",
              "      <th>engine_W</th>\n",
              "      <th>engine_X</th>\n",
              "      <th>engine_Y</th>\n",
              "      <th>engine_Z</th>\n",
              "      <th>sales_1</th>\n",
              "      <th>sales_2</th>\n",
              "      <th>sales_3</th>\n",
              "      <th>sales_4</th>\n",
              "      <th>sales_5</th>\n",
              "      <th>sales_6</th>\n",
              "      <th>sales_7</th>\n",
              "      <th>sales_8</th>\n",
              "      <th>sales_9</th>\n",
              "      <th>sales_10</th>\n",
              "      <th>sales_11</th>\n",
              "      <th>sales_12</th>\n",
              "      <th>sales_13</th>\n",
              "      <th>sales_14</th>\n",
              "      <th>sales_15</th>\n",
              "      <th>sales_16</th>\n",
              "      <th>sales_17</th>\n",
              "      <th>sales_18</th>\n",
              "      <th>sales_19</th>\n",
              "      <th>sales_20</th>\n",
              "      <th>sales_21</th>\n",
              "      <th>sales_22</th>\n",
              "      <th>sales_23</th>\n",
              "      <th>sales_24</th>\n",
              "      <th>sales_25</th>\n",
              "      <th>sales_26</th>\n",
              "      <th>sales_27</th>\n",
              "      <th>sales_28</th>\n",
              "      <th>sales_29</th>\n",
              "      <th>sales_30</th>\n",
              "      <th>MSRP</th>\n",
              "      <th>dealer_state</th>\n",
              "      <th>date</th>\n",
              "    </tr>\n",
              "  </thead>\n",
              "  <tbody>\n",
              "    <tr>\n",
              "      <th>0</th>\n",
              "      <td>0</td>\n",
              "      <td>0</td>\n",
              "      <td>0</td>\n",
              "      <td>0</td>\n",
              "      <td>0</td>\n",
              "      <td>1</td>\n",
              "      <td>0</td>\n",
              "      <td>0</td>\n",
              "      <td>0</td>\n",
              "      <td>0</td>\n",
              "      <td>0</td>\n",
              "      <td>0</td>\n",
              "      <td>0</td>\n",
              "      <td>0</td>\n",
              "      <td>0</td>\n",
              "      <td>0</td>\n",
              "      <td>0</td>\n",
              "      <td>0</td>\n",
              "      <td>0</td>\n",
              "      <td>0</td>\n",
              "      <td>0</td>\n",
              "      <td>0</td>\n",
              "      <td>0</td>\n",
              "      <td>0</td>\n",
              "      <td>0</td>\n",
              "      <td>0</td>\n",
              "      <td>0</td>\n",
              "      <td>0</td>\n",
              "      <td>0</td>\n",
              "      <td>0</td>\n",
              "      <td>0</td>\n",
              "      <td>0</td>\n",
              "      <td>0</td>\n",
              "      <td>0</td>\n",
              "      <td>0</td>\n",
              "      <td>0</td>\n",
              "      <td>0</td>\n",
              "      <td>0</td>\n",
              "      <td>0</td>\n",
              "      <td>0</td>\n",
              "      <td>0</td>\n",
              "      <td>0</td>\n",
              "      <td>0</td>\n",
              "      <td>0</td>\n",
              "      <td>0</td>\n",
              "      <td>0</td>\n",
              "      <td>0</td>\n",
              "      <td>0</td>\n",
              "      <td>0</td>\n",
              "      <td>0</td>\n",
              "      <td>1</td>\n",
              "      <td>0</td>\n",
              "      <td>0</td>\n",
              "      <td>0</td>\n",
              "      <td>0</td>\n",
              "      <td>0</td>\n",
              "      <td>0</td>\n",
              "      <td>0</td>\n",
              "      <td>0</td>\n",
              "      <td>0</td>\n",
              "      <td>0</td>\n",
              "      <td>0</td>\n",
              "      <td>0</td>\n",
              "      <td>0</td>\n",
              "      <td>0</td>\n",
              "      <td>0</td>\n",
              "      <td>0</td>\n",
              "      <td>0</td>\n",
              "      <td>0</td>\n",
              "      <td>0</td>\n",
              "      <td>0</td>\n",
              "      <td>0</td>\n",
              "      <td>0</td>\n",
              "      <td>44610</td>\n",
              "      <td>California</td>\n",
              "      <td>2019-04-28</td>\n",
              "    </tr>\n",
              "    <tr>\n",
              "      <th>1</th>\n",
              "      <td>0</td>\n",
              "      <td>0</td>\n",
              "      <td>0</td>\n",
              "      <td>0</td>\n",
              "      <td>0</td>\n",
              "      <td>0</td>\n",
              "      <td>0</td>\n",
              "      <td>0</td>\n",
              "      <td>0</td>\n",
              "      <td>0</td>\n",
              "      <td>0</td>\n",
              "      <td>0</td>\n",
              "      <td>0</td>\n",
              "      <td>0</td>\n",
              "      <td>0</td>\n",
              "      <td>0</td>\n",
              "      <td>1</td>\n",
              "      <td>1</td>\n",
              "      <td>0</td>\n",
              "      <td>0</td>\n",
              "      <td>0</td>\n",
              "      <td>0</td>\n",
              "      <td>0</td>\n",
              "      <td>0</td>\n",
              "      <td>0</td>\n",
              "      <td>0</td>\n",
              "      <td>0</td>\n",
              "      <td>0</td>\n",
              "      <td>0</td>\n",
              "      <td>0</td>\n",
              "      <td>0</td>\n",
              "      <td>0</td>\n",
              "      <td>0</td>\n",
              "      <td>0</td>\n",
              "      <td>0</td>\n",
              "      <td>0</td>\n",
              "      <td>0</td>\n",
              "      <td>0</td>\n",
              "      <td>0</td>\n",
              "      <td>0</td>\n",
              "      <td>0</td>\n",
              "      <td>0</td>\n",
              "      <td>0</td>\n",
              "      <td>0</td>\n",
              "      <td>0</td>\n",
              "      <td>0</td>\n",
              "      <td>0</td>\n",
              "      <td>0</td>\n",
              "      <td>0</td>\n",
              "      <td>0</td>\n",
              "      <td>1</td>\n",
              "      <td>0</td>\n",
              "      <td>0</td>\n",
              "      <td>0</td>\n",
              "      <td>0</td>\n",
              "      <td>0</td>\n",
              "      <td>0</td>\n",
              "      <td>0</td>\n",
              "      <td>0</td>\n",
              "      <td>0</td>\n",
              "      <td>0</td>\n",
              "      <td>0</td>\n",
              "      <td>0</td>\n",
              "      <td>0</td>\n",
              "      <td>0</td>\n",
              "      <td>0</td>\n",
              "      <td>0</td>\n",
              "      <td>0</td>\n",
              "      <td>0</td>\n",
              "      <td>0</td>\n",
              "      <td>0</td>\n",
              "      <td>0</td>\n",
              "      <td>0</td>\n",
              "      <td>41505</td>\n",
              "      <td>California</td>\n",
              "      <td>2019-03-14</td>\n",
              "    </tr>\n",
              "    <tr>\n",
              "      <th>2</th>\n",
              "      <td>0</td>\n",
              "      <td>0</td>\n",
              "      <td>0</td>\n",
              "      <td>0</td>\n",
              "      <td>0</td>\n",
              "      <td>0</td>\n",
              "      <td>0</td>\n",
              "      <td>0</td>\n",
              "      <td>0</td>\n",
              "      <td>0</td>\n",
              "      <td>0</td>\n",
              "      <td>0</td>\n",
              "      <td>1</td>\n",
              "      <td>0</td>\n",
              "      <td>0</td>\n",
              "      <td>0</td>\n",
              "      <td>0</td>\n",
              "      <td>0</td>\n",
              "      <td>0</td>\n",
              "      <td>0</td>\n",
              "      <td>0</td>\n",
              "      <td>0</td>\n",
              "      <td>0</td>\n",
              "      <td>0</td>\n",
              "      <td>0</td>\n",
              "      <td>0</td>\n",
              "      <td>0</td>\n",
              "      <td>0</td>\n",
              "      <td>0</td>\n",
              "      <td>0</td>\n",
              "      <td>0</td>\n",
              "      <td>0</td>\n",
              "      <td>0</td>\n",
              "      <td>1</td>\n",
              "      <td>0</td>\n",
              "      <td>0</td>\n",
              "      <td>0</td>\n",
              "      <td>0</td>\n",
              "      <td>0</td>\n",
              "      <td>0</td>\n",
              "      <td>0</td>\n",
              "      <td>0</td>\n",
              "      <td>0</td>\n",
              "      <td>0</td>\n",
              "      <td>0</td>\n",
              "      <td>0</td>\n",
              "      <td>0</td>\n",
              "      <td>0</td>\n",
              "      <td>0</td>\n",
              "      <td>1</td>\n",
              "      <td>0</td>\n",
              "      <td>0</td>\n",
              "      <td>0</td>\n",
              "      <td>0</td>\n",
              "      <td>0</td>\n",
              "      <td>0</td>\n",
              "      <td>0</td>\n",
              "      <td>0</td>\n",
              "      <td>0</td>\n",
              "      <td>0</td>\n",
              "      <td>0</td>\n",
              "      <td>0</td>\n",
              "      <td>0</td>\n",
              "      <td>0</td>\n",
              "      <td>0</td>\n",
              "      <td>0</td>\n",
              "      <td>0</td>\n",
              "      <td>0</td>\n",
              "      <td>0</td>\n",
              "      <td>0</td>\n",
              "      <td>0</td>\n",
              "      <td>0</td>\n",
              "      <td>0</td>\n",
              "      <td>58890</td>\n",
              "      <td>California</td>\n",
              "      <td>2019-06-12</td>\n",
              "    </tr>\n",
              "    <tr>\n",
              "      <th>3</th>\n",
              "      <td>0</td>\n",
              "      <td>0</td>\n",
              "      <td>0</td>\n",
              "      <td>0</td>\n",
              "      <td>0</td>\n",
              "      <td>0</td>\n",
              "      <td>0</td>\n",
              "      <td>0</td>\n",
              "      <td>0</td>\n",
              "      <td>0</td>\n",
              "      <td>0</td>\n",
              "      <td>0</td>\n",
              "      <td>1</td>\n",
              "      <td>0</td>\n",
              "      <td>0</td>\n",
              "      <td>0</td>\n",
              "      <td>0</td>\n",
              "      <td>0</td>\n",
              "      <td>0</td>\n",
              "      <td>0</td>\n",
              "      <td>0</td>\n",
              "      <td>0</td>\n",
              "      <td>0</td>\n",
              "      <td>0</td>\n",
              "      <td>0</td>\n",
              "      <td>0</td>\n",
              "      <td>0</td>\n",
              "      <td>0</td>\n",
              "      <td>0</td>\n",
              "      <td>0</td>\n",
              "      <td>0</td>\n",
              "      <td>0</td>\n",
              "      <td>0</td>\n",
              "      <td>0</td>\n",
              "      <td>0</td>\n",
              "      <td>0</td>\n",
              "      <td>0</td>\n",
              "      <td>0</td>\n",
              "      <td>0</td>\n",
              "      <td>0</td>\n",
              "      <td>0</td>\n",
              "      <td>0</td>\n",
              "      <td>0</td>\n",
              "      <td>0</td>\n",
              "      <td>0</td>\n",
              "      <td>0</td>\n",
              "      <td>0</td>\n",
              "      <td>0</td>\n",
              "      <td>0</td>\n",
              "      <td>0</td>\n",
              "      <td>1</td>\n",
              "      <td>0</td>\n",
              "      <td>0</td>\n",
              "      <td>0</td>\n",
              "      <td>0</td>\n",
              "      <td>0</td>\n",
              "      <td>0</td>\n",
              "      <td>0</td>\n",
              "      <td>0</td>\n",
              "      <td>0</td>\n",
              "      <td>0</td>\n",
              "      <td>0</td>\n",
              "      <td>0</td>\n",
              "      <td>0</td>\n",
              "      <td>0</td>\n",
              "      <td>0</td>\n",
              "      <td>0</td>\n",
              "      <td>0</td>\n",
              "      <td>0</td>\n",
              "      <td>0</td>\n",
              "      <td>0</td>\n",
              "      <td>0</td>\n",
              "      <td>0</td>\n",
              "      <td>51055</td>\n",
              "      <td>California</td>\n",
              "      <td>2019-03-04</td>\n",
              "    </tr>\n",
              "    <tr>\n",
              "      <th>4</th>\n",
              "      <td>0</td>\n",
              "      <td>0</td>\n",
              "      <td>0</td>\n",
              "      <td>0</td>\n",
              "      <td>0</td>\n",
              "      <td>0</td>\n",
              "      <td>0</td>\n",
              "      <td>0</td>\n",
              "      <td>0</td>\n",
              "      <td>0</td>\n",
              "      <td>0</td>\n",
              "      <td>0</td>\n",
              "      <td>0</td>\n",
              "      <td>1</td>\n",
              "      <td>0</td>\n",
              "      <td>0</td>\n",
              "      <td>0</td>\n",
              "      <td>0</td>\n",
              "      <td>0</td>\n",
              "      <td>0</td>\n",
              "      <td>0</td>\n",
              "      <td>0</td>\n",
              "      <td>0</td>\n",
              "      <td>0</td>\n",
              "      <td>0</td>\n",
              "      <td>0</td>\n",
              "      <td>0</td>\n",
              "      <td>0</td>\n",
              "      <td>0</td>\n",
              "      <td>0</td>\n",
              "      <td>0</td>\n",
              "      <td>0</td>\n",
              "      <td>0</td>\n",
              "      <td>1</td>\n",
              "      <td>0</td>\n",
              "      <td>0</td>\n",
              "      <td>0</td>\n",
              "      <td>0</td>\n",
              "      <td>0</td>\n",
              "      <td>0</td>\n",
              "      <td>0</td>\n",
              "      <td>0</td>\n",
              "      <td>0</td>\n",
              "      <td>0</td>\n",
              "      <td>0</td>\n",
              "      <td>0</td>\n",
              "      <td>0</td>\n",
              "      <td>0</td>\n",
              "      <td>0</td>\n",
              "      <td>0</td>\n",
              "      <td>0</td>\n",
              "      <td>0</td>\n",
              "      <td>0</td>\n",
              "      <td>1</td>\n",
              "      <td>0</td>\n",
              "      <td>0</td>\n",
              "      <td>0</td>\n",
              "      <td>0</td>\n",
              "      <td>0</td>\n",
              "      <td>0</td>\n",
              "      <td>0</td>\n",
              "      <td>0</td>\n",
              "      <td>0</td>\n",
              "      <td>0</td>\n",
              "      <td>0</td>\n",
              "      <td>0</td>\n",
              "      <td>0</td>\n",
              "      <td>0</td>\n",
              "      <td>0</td>\n",
              "      <td>0</td>\n",
              "      <td>0</td>\n",
              "      <td>0</td>\n",
              "      <td>0</td>\n",
              "      <td>70830</td>\n",
              "      <td>California</td>\n",
              "      <td>2019-01-23</td>\n",
              "    </tr>\n",
              "  </tbody>\n",
              "</table>\n",
              "</div>\n",
              "      <button class=\"colab-df-convert\" onclick=\"convertToInteractive('df-76f033ac-53f9-4a67-b274-3816918232b6')\"\n",
              "              title=\"Convert this dataframe to an interactive table.\"\n",
              "              style=\"display:none;\">\n",
              "        \n",
              "  <svg xmlns=\"http://www.w3.org/2000/svg\" height=\"24px\"viewBox=\"0 0 24 24\"\n",
              "       width=\"24px\">\n",
              "    <path d=\"M0 0h24v24H0V0z\" fill=\"none\"/>\n",
              "    <path d=\"M18.56 5.44l.94 2.06.94-2.06 2.06-.94-2.06-.94-.94-2.06-.94 2.06-2.06.94zm-11 1L8.5 8.5l.94-2.06 2.06-.94-2.06-.94L8.5 2.5l-.94 2.06-2.06.94zm10 10l.94 2.06.94-2.06 2.06-.94-2.06-.94-.94-2.06-.94 2.06-2.06.94z\"/><path d=\"M17.41 7.96l-1.37-1.37c-.4-.4-.92-.59-1.43-.59-.52 0-1.04.2-1.43.59L10.3 9.45l-7.72 7.72c-.78.78-.78 2.05 0 2.83L4 21.41c.39.39.9.59 1.41.59.51 0 1.02-.2 1.41-.59l7.78-7.78 2.81-2.81c.8-.78.8-2.07 0-2.86zM5.41 20L4 18.59l7.72-7.72 1.47 1.35L5.41 20z\"/>\n",
              "  </svg>\n",
              "      </button>\n",
              "      \n",
              "  <style>\n",
              "    .colab-df-container {\n",
              "      display:flex;\n",
              "      flex-wrap:wrap;\n",
              "      gap: 12px;\n",
              "    }\n",
              "\n",
              "    .colab-df-convert {\n",
              "      background-color: #E8F0FE;\n",
              "      border: none;\n",
              "      border-radius: 50%;\n",
              "      cursor: pointer;\n",
              "      display: none;\n",
              "      fill: #1967D2;\n",
              "      height: 32px;\n",
              "      padding: 0 0 0 0;\n",
              "      width: 32px;\n",
              "    }\n",
              "\n",
              "    .colab-df-convert:hover {\n",
              "      background-color: #E2EBFA;\n",
              "      box-shadow: 0px 1px 2px rgba(60, 64, 67, 0.3), 0px 1px 3px 1px rgba(60, 64, 67, 0.15);\n",
              "      fill: #174EA6;\n",
              "    }\n",
              "\n",
              "    [theme=dark] .colab-df-convert {\n",
              "      background-color: #3B4455;\n",
              "      fill: #D2E3FC;\n",
              "    }\n",
              "\n",
              "    [theme=dark] .colab-df-convert:hover {\n",
              "      background-color: #434B5C;\n",
              "      box-shadow: 0px 1px 3px 1px rgba(0, 0, 0, 0.15);\n",
              "      filter: drop-shadow(0px 1px 2px rgba(0, 0, 0, 0.3));\n",
              "      fill: #FFFFFF;\n",
              "    }\n",
              "  </style>\n",
              "\n",
              "      <script>\n",
              "        const buttonEl =\n",
              "          document.querySelector('#df-76f033ac-53f9-4a67-b274-3816918232b6 button.colab-df-convert');\n",
              "        buttonEl.style.display =\n",
              "          google.colab.kernel.accessAllowed ? 'block' : 'none';\n",
              "\n",
              "        async function convertToInteractive(key) {\n",
              "          const element = document.querySelector('#df-76f033ac-53f9-4a67-b274-3816918232b6');\n",
              "          const dataTable =\n",
              "            await google.colab.kernel.invokeFunction('convertToInteractive',\n",
              "                                                     [key], {});\n",
              "          if (!dataTable) return;\n",
              "\n",
              "          const docLinkHtml = 'Like what you see? Visit the ' +\n",
              "            '<a target=\"_blank\" href=https://colab.research.google.com/notebooks/data_table.ipynb>data table notebook</a>'\n",
              "            + ' to learn more about interactive tables.';\n",
              "          element.innerHTML = '';\n",
              "          dataTable['output_type'] = 'display_data';\n",
              "          await google.colab.output.renderOutput(dataTable, element);\n",
              "          const docLink = document.createElement('div');\n",
              "          docLink.innerHTML = docLinkHtml;\n",
              "          element.appendChild(docLink);\n",
              "        }\n",
              "      </script>\n",
              "    </div>\n",
              "  </div>\n",
              "  "
            ],
            "text/plain": [
              "   main_S60_1  main_S60_2  main_type_SP100D  ...   MSRP  dealer_state        date\n",
              "0           0           0                 0  ...  44610    California  2019-04-28\n",
              "1           0           0                 0  ...  41505    California  2019-03-14\n",
              "2           0           0                 0  ...  58890    California  2019-06-12\n",
              "3           0           0                 0  ...  51055    California  2019-03-04\n",
              "4           0           0                 0  ...  70830    California  2019-01-23\n",
              "\n",
              "[5 rows x 76 columns]"
            ]
          },
          "metadata": {},
          "execution_count": 5
        }
      ],
      "source": [
        "print(df_sales.shape)\n",
        "df_sales.head()"
      ]
    },
    {
      "cell_type": "markdown",
      "metadata": {
        "id": "0py_WOwTj-On"
      },
      "source": [
        "### Clean the data\n",
        "\n",
        "4. Notice that our dataset only contains dealers in California, so we can remove the `dealer_state` column. We also will be removing the `date` column (while we could possibly extract useful information from the date, we won't be using it for this exercise). Use the `.drop()` method to remove the two columns ([docs](https://pandas.pydata.org/docs/reference/api/pandas.DataFrame.drop.html)).\n",
        "\n",
        "    Use the `.head()` method to verify that they were removed correctly. If the DataFrame wasn't modified make sure you included the attribute `inplace=True` in the `.drop()` method."
      ]
    },
    {
      "cell_type": "code",
      "execution_count": 7,
      "metadata": {
        "id": "i-DThsrHdnNA"
      },
      "outputs": [],
      "source": [
        "df_sales.drop(['dealer_state','date'],inplace=True,axis=1)"
      ]
    },
    {
      "cell_type": "markdown",
      "metadata": {
        "id": "qqdkmnCodnNC"
      },
      "source": [
        "### Read in the second dataset\n",
        "\n",
        "5. Follow the same syntax as above to read in the `sales_Q34_2019.csv` dataset. Note that this dataset doesn't have the `dealer_state` or `date` column, so we don't need to do the same cleanup.\n",
        "\n",
        "    After you've read in the data, use the `.head()` method to take a look at the first few rows."
      ]
    },
    {
      "cell_type": "code",
      "execution_count": 8,
      "metadata": {
        "id": "bJpTgHxAdnND",
        "colab": {
          "base_uri": "https://localhost:8080/",
          "height": 270
        },
        "outputId": "835075ff-a9f2-4b3b-b012-57e9018adea1"
      },
      "outputs": [
        {
          "output_type": "execute_result",
          "data": {
            "text/html": [
              "\n",
              "  <div id=\"df-cf73d4a3-8e2a-45d2-8bc5-17d691cbbddc\">\n",
              "    <div class=\"colab-df-container\">\n",
              "      <div>\n",
              "<style scoped>\n",
              "    .dataframe tbody tr th:only-of-type {\n",
              "        vertical-align: middle;\n",
              "    }\n",
              "\n",
              "    .dataframe tbody tr th {\n",
              "        vertical-align: top;\n",
              "    }\n",
              "\n",
              "    .dataframe thead th {\n",
              "        text-align: right;\n",
              "    }\n",
              "</style>\n",
              "<table border=\"1\" class=\"dataframe\">\n",
              "  <thead>\n",
              "    <tr style=\"text-align: right;\">\n",
              "      <th></th>\n",
              "      <th>main_S60_1</th>\n",
              "      <th>main_S60_2</th>\n",
              "      <th>main_type_SP100D</th>\n",
              "      <th>main_type_S60D_1</th>\n",
              "      <th>main_type_S60D_2</th>\n",
              "      <th>main_type_S70</th>\n",
              "      <th>main_type_S70D</th>\n",
              "      <th>main_type_S75</th>\n",
              "      <th>main_type_S75D</th>\n",
              "      <th>main_type_S80</th>\n",
              "      <th>main_type_S80D</th>\n",
              "      <th>main_type_S85</th>\n",
              "      <th>main_type_S85P</th>\n",
              "      <th>main_type_P85D</th>\n",
              "      <th>main_type_S90</th>\n",
              "      <th>main_type_S90D</th>\n",
              "      <th>main_type_S100D</th>\n",
              "      <th>engine_A</th>\n",
              "      <th>engine_B</th>\n",
              "      <th>engine_C</th>\n",
              "      <th>engine_D</th>\n",
              "      <th>engine_E</th>\n",
              "      <th>engine_F</th>\n",
              "      <th>engine_G</th>\n",
              "      <th>engine_H</th>\n",
              "      <th>engine_I</th>\n",
              "      <th>engine_J</th>\n",
              "      <th>engine_K</th>\n",
              "      <th>engine_L</th>\n",
              "      <th>engine_M</th>\n",
              "      <th>engine_N</th>\n",
              "      <th>engine_O</th>\n",
              "      <th>engine_P</th>\n",
              "      <th>engine_Q</th>\n",
              "      <th>engine_R</th>\n",
              "      <th>engine_S</th>\n",
              "      <th>engine_T</th>\n",
              "      <th>engine_U</th>\n",
              "      <th>engine_V</th>\n",
              "      <th>engine_W</th>\n",
              "      <th>engine_X</th>\n",
              "      <th>engine_Y</th>\n",
              "      <th>engine_Z</th>\n",
              "      <th>sales_1</th>\n",
              "      <th>sales_2</th>\n",
              "      <th>sales_3</th>\n",
              "      <th>sales_4</th>\n",
              "      <th>sales_5</th>\n",
              "      <th>sales_6</th>\n",
              "      <th>sales_7</th>\n",
              "      <th>sales_8</th>\n",
              "      <th>sales_9</th>\n",
              "      <th>sales_10</th>\n",
              "      <th>sales_11</th>\n",
              "      <th>sales_12</th>\n",
              "      <th>sales_13</th>\n",
              "      <th>sales_14</th>\n",
              "      <th>sales_15</th>\n",
              "      <th>sales_16</th>\n",
              "      <th>sales_17</th>\n",
              "      <th>sales_18</th>\n",
              "      <th>sales_19</th>\n",
              "      <th>sales_20</th>\n",
              "      <th>sales_21</th>\n",
              "      <th>sales_22</th>\n",
              "      <th>sales_23</th>\n",
              "      <th>sales_24</th>\n",
              "      <th>sales_25</th>\n",
              "      <th>sales_26</th>\n",
              "      <th>sales_27</th>\n",
              "      <th>sales_28</th>\n",
              "      <th>sales_29</th>\n",
              "      <th>sales_30</th>\n",
              "      <th>MSRP</th>\n",
              "    </tr>\n",
              "  </thead>\n",
              "  <tbody>\n",
              "    <tr>\n",
              "      <th>0</th>\n",
              "      <td>0</td>\n",
              "      <td>0</td>\n",
              "      <td>0</td>\n",
              "      <td>0</td>\n",
              "      <td>0</td>\n",
              "      <td>1</td>\n",
              "      <td>0</td>\n",
              "      <td>0</td>\n",
              "      <td>0</td>\n",
              "      <td>0</td>\n",
              "      <td>0</td>\n",
              "      <td>0</td>\n",
              "      <td>0</td>\n",
              "      <td>0</td>\n",
              "      <td>0</td>\n",
              "      <td>0</td>\n",
              "      <td>0</td>\n",
              "      <td>0</td>\n",
              "      <td>0</td>\n",
              "      <td>0</td>\n",
              "      <td>0</td>\n",
              "      <td>0</td>\n",
              "      <td>0</td>\n",
              "      <td>0</td>\n",
              "      <td>0</td>\n",
              "      <td>0</td>\n",
              "      <td>0</td>\n",
              "      <td>0</td>\n",
              "      <td>0</td>\n",
              "      <td>0</td>\n",
              "      <td>0</td>\n",
              "      <td>0</td>\n",
              "      <td>0</td>\n",
              "      <td>1</td>\n",
              "      <td>0</td>\n",
              "      <td>0</td>\n",
              "      <td>0</td>\n",
              "      <td>0</td>\n",
              "      <td>0</td>\n",
              "      <td>0</td>\n",
              "      <td>0</td>\n",
              "      <td>0</td>\n",
              "      <td>0</td>\n",
              "      <td>0</td>\n",
              "      <td>0</td>\n",
              "      <td>0</td>\n",
              "      <td>0</td>\n",
              "      <td>0</td>\n",
              "      <td>0</td>\n",
              "      <td>0</td>\n",
              "      <td>0</td>\n",
              "      <td>0</td>\n",
              "      <td>0</td>\n",
              "      <td>0</td>\n",
              "      <td>0</td>\n",
              "      <td>0</td>\n",
              "      <td>0</td>\n",
              "      <td>0</td>\n",
              "      <td>0</td>\n",
              "      <td>0</td>\n",
              "      <td>0</td>\n",
              "      <td>0</td>\n",
              "      <td>0</td>\n",
              "      <td>0</td>\n",
              "      <td>0</td>\n",
              "      <td>0</td>\n",
              "      <td>1</td>\n",
              "      <td>0</td>\n",
              "      <td>0</td>\n",
              "      <td>0</td>\n",
              "      <td>0</td>\n",
              "      <td>0</td>\n",
              "      <td>0</td>\n",
              "      <td>51355</td>\n",
              "    </tr>\n",
              "    <tr>\n",
              "      <th>1</th>\n",
              "      <td>0</td>\n",
              "      <td>0</td>\n",
              "      <td>0</td>\n",
              "      <td>0</td>\n",
              "      <td>0</td>\n",
              "      <td>0</td>\n",
              "      <td>0</td>\n",
              "      <td>0</td>\n",
              "      <td>0</td>\n",
              "      <td>0</td>\n",
              "      <td>0</td>\n",
              "      <td>0</td>\n",
              "      <td>0</td>\n",
              "      <td>1</td>\n",
              "      <td>0</td>\n",
              "      <td>0</td>\n",
              "      <td>0</td>\n",
              "      <td>0</td>\n",
              "      <td>0</td>\n",
              "      <td>0</td>\n",
              "      <td>0</td>\n",
              "      <td>0</td>\n",
              "      <td>0</td>\n",
              "      <td>0</td>\n",
              "      <td>0</td>\n",
              "      <td>0</td>\n",
              "      <td>0</td>\n",
              "      <td>0</td>\n",
              "      <td>0</td>\n",
              "      <td>0</td>\n",
              "      <td>0</td>\n",
              "      <td>0</td>\n",
              "      <td>0</td>\n",
              "      <td>1</td>\n",
              "      <td>0</td>\n",
              "      <td>0</td>\n",
              "      <td>0</td>\n",
              "      <td>0</td>\n",
              "      <td>0</td>\n",
              "      <td>0</td>\n",
              "      <td>0</td>\n",
              "      <td>0</td>\n",
              "      <td>0</td>\n",
              "      <td>0</td>\n",
              "      <td>0</td>\n",
              "      <td>0</td>\n",
              "      <td>0</td>\n",
              "      <td>0</td>\n",
              "      <td>0</td>\n",
              "      <td>0</td>\n",
              "      <td>0</td>\n",
              "      <td>0</td>\n",
              "      <td>0</td>\n",
              "      <td>1</td>\n",
              "      <td>0</td>\n",
              "      <td>0</td>\n",
              "      <td>0</td>\n",
              "      <td>0</td>\n",
              "      <td>0</td>\n",
              "      <td>0</td>\n",
              "      <td>0</td>\n",
              "      <td>0</td>\n",
              "      <td>0</td>\n",
              "      <td>0</td>\n",
              "      <td>0</td>\n",
              "      <td>0</td>\n",
              "      <td>0</td>\n",
              "      <td>0</td>\n",
              "      <td>0</td>\n",
              "      <td>0</td>\n",
              "      <td>0</td>\n",
              "      <td>0</td>\n",
              "      <td>0</td>\n",
              "      <td>71580</td>\n",
              "    </tr>\n",
              "    <tr>\n",
              "      <th>2</th>\n",
              "      <td>0</td>\n",
              "      <td>0</td>\n",
              "      <td>0</td>\n",
              "      <td>0</td>\n",
              "      <td>0</td>\n",
              "      <td>0</td>\n",
              "      <td>0</td>\n",
              "      <td>0</td>\n",
              "      <td>0</td>\n",
              "      <td>0</td>\n",
              "      <td>0</td>\n",
              "      <td>0</td>\n",
              "      <td>0</td>\n",
              "      <td>1</td>\n",
              "      <td>0</td>\n",
              "      <td>0</td>\n",
              "      <td>0</td>\n",
              "      <td>0</td>\n",
              "      <td>0</td>\n",
              "      <td>0</td>\n",
              "      <td>0</td>\n",
              "      <td>0</td>\n",
              "      <td>0</td>\n",
              "      <td>0</td>\n",
              "      <td>0</td>\n",
              "      <td>0</td>\n",
              "      <td>0</td>\n",
              "      <td>0</td>\n",
              "      <td>0</td>\n",
              "      <td>0</td>\n",
              "      <td>0</td>\n",
              "      <td>0</td>\n",
              "      <td>0</td>\n",
              "      <td>1</td>\n",
              "      <td>0</td>\n",
              "      <td>0</td>\n",
              "      <td>0</td>\n",
              "      <td>0</td>\n",
              "      <td>0</td>\n",
              "      <td>0</td>\n",
              "      <td>0</td>\n",
              "      <td>0</td>\n",
              "      <td>0</td>\n",
              "      <td>0</td>\n",
              "      <td>0</td>\n",
              "      <td>0</td>\n",
              "      <td>0</td>\n",
              "      <td>0</td>\n",
              "      <td>0</td>\n",
              "      <td>0</td>\n",
              "      <td>0</td>\n",
              "      <td>0</td>\n",
              "      <td>0</td>\n",
              "      <td>1</td>\n",
              "      <td>0</td>\n",
              "      <td>0</td>\n",
              "      <td>0</td>\n",
              "      <td>0</td>\n",
              "      <td>0</td>\n",
              "      <td>0</td>\n",
              "      <td>0</td>\n",
              "      <td>0</td>\n",
              "      <td>0</td>\n",
              "      <td>0</td>\n",
              "      <td>0</td>\n",
              "      <td>0</td>\n",
              "      <td>0</td>\n",
              "      <td>0</td>\n",
              "      <td>0</td>\n",
              "      <td>0</td>\n",
              "      <td>0</td>\n",
              "      <td>0</td>\n",
              "      <td>0</td>\n",
              "      <td>66790</td>\n",
              "    </tr>\n",
              "    <tr>\n",
              "      <th>3</th>\n",
              "      <td>0</td>\n",
              "      <td>0</td>\n",
              "      <td>0</td>\n",
              "      <td>0</td>\n",
              "      <td>0</td>\n",
              "      <td>0</td>\n",
              "      <td>0</td>\n",
              "      <td>0</td>\n",
              "      <td>0</td>\n",
              "      <td>0</td>\n",
              "      <td>0</td>\n",
              "      <td>0</td>\n",
              "      <td>0</td>\n",
              "      <td>1</td>\n",
              "      <td>0</td>\n",
              "      <td>0</td>\n",
              "      <td>0</td>\n",
              "      <td>0</td>\n",
              "      <td>0</td>\n",
              "      <td>0</td>\n",
              "      <td>0</td>\n",
              "      <td>0</td>\n",
              "      <td>0</td>\n",
              "      <td>0</td>\n",
              "      <td>0</td>\n",
              "      <td>0</td>\n",
              "      <td>0</td>\n",
              "      <td>0</td>\n",
              "      <td>0</td>\n",
              "      <td>0</td>\n",
              "      <td>0</td>\n",
              "      <td>0</td>\n",
              "      <td>0</td>\n",
              "      <td>1</td>\n",
              "      <td>0</td>\n",
              "      <td>0</td>\n",
              "      <td>0</td>\n",
              "      <td>0</td>\n",
              "      <td>0</td>\n",
              "      <td>0</td>\n",
              "      <td>0</td>\n",
              "      <td>0</td>\n",
              "      <td>0</td>\n",
              "      <td>0</td>\n",
              "      <td>0</td>\n",
              "      <td>0</td>\n",
              "      <td>0</td>\n",
              "      <td>0</td>\n",
              "      <td>0</td>\n",
              "      <td>0</td>\n",
              "      <td>0</td>\n",
              "      <td>0</td>\n",
              "      <td>0</td>\n",
              "      <td>1</td>\n",
              "      <td>0</td>\n",
              "      <td>0</td>\n",
              "      <td>0</td>\n",
              "      <td>0</td>\n",
              "      <td>0</td>\n",
              "      <td>0</td>\n",
              "      <td>0</td>\n",
              "      <td>0</td>\n",
              "      <td>0</td>\n",
              "      <td>0</td>\n",
              "      <td>0</td>\n",
              "      <td>0</td>\n",
              "      <td>0</td>\n",
              "      <td>0</td>\n",
              "      <td>0</td>\n",
              "      <td>0</td>\n",
              "      <td>0</td>\n",
              "      <td>0</td>\n",
              "      <td>0</td>\n",
              "      <td>72330</td>\n",
              "    </tr>\n",
              "    <tr>\n",
              "      <th>4</th>\n",
              "      <td>0</td>\n",
              "      <td>0</td>\n",
              "      <td>0</td>\n",
              "      <td>0</td>\n",
              "      <td>0</td>\n",
              "      <td>0</td>\n",
              "      <td>0</td>\n",
              "      <td>0</td>\n",
              "      <td>0</td>\n",
              "      <td>0</td>\n",
              "      <td>0</td>\n",
              "      <td>0</td>\n",
              "      <td>1</td>\n",
              "      <td>0</td>\n",
              "      <td>0</td>\n",
              "      <td>0</td>\n",
              "      <td>0</td>\n",
              "      <td>0</td>\n",
              "      <td>0</td>\n",
              "      <td>0</td>\n",
              "      <td>0</td>\n",
              "      <td>0</td>\n",
              "      <td>0</td>\n",
              "      <td>0</td>\n",
              "      <td>0</td>\n",
              "      <td>0</td>\n",
              "      <td>0</td>\n",
              "      <td>0</td>\n",
              "      <td>0</td>\n",
              "      <td>0</td>\n",
              "      <td>0</td>\n",
              "      <td>0</td>\n",
              "      <td>0</td>\n",
              "      <td>1</td>\n",
              "      <td>0</td>\n",
              "      <td>0</td>\n",
              "      <td>0</td>\n",
              "      <td>0</td>\n",
              "      <td>0</td>\n",
              "      <td>0</td>\n",
              "      <td>0</td>\n",
              "      <td>0</td>\n",
              "      <td>0</td>\n",
              "      <td>1</td>\n",
              "      <td>0</td>\n",
              "      <td>0</td>\n",
              "      <td>0</td>\n",
              "      <td>0</td>\n",
              "      <td>0</td>\n",
              "      <td>0</td>\n",
              "      <td>0</td>\n",
              "      <td>0</td>\n",
              "      <td>0</td>\n",
              "      <td>0</td>\n",
              "      <td>0</td>\n",
              "      <td>0</td>\n",
              "      <td>0</td>\n",
              "      <td>0</td>\n",
              "      <td>0</td>\n",
              "      <td>0</td>\n",
              "      <td>0</td>\n",
              "      <td>0</td>\n",
              "      <td>0</td>\n",
              "      <td>0</td>\n",
              "      <td>0</td>\n",
              "      <td>0</td>\n",
              "      <td>0</td>\n",
              "      <td>0</td>\n",
              "      <td>0</td>\n",
              "      <td>0</td>\n",
              "      <td>0</td>\n",
              "      <td>0</td>\n",
              "      <td>0</td>\n",
              "      <td>55370</td>\n",
              "    </tr>\n",
              "  </tbody>\n",
              "</table>\n",
              "</div>\n",
              "      <button class=\"colab-df-convert\" onclick=\"convertToInteractive('df-cf73d4a3-8e2a-45d2-8bc5-17d691cbbddc')\"\n",
              "              title=\"Convert this dataframe to an interactive table.\"\n",
              "              style=\"display:none;\">\n",
              "        \n",
              "  <svg xmlns=\"http://www.w3.org/2000/svg\" height=\"24px\"viewBox=\"0 0 24 24\"\n",
              "       width=\"24px\">\n",
              "    <path d=\"M0 0h24v24H0V0z\" fill=\"none\"/>\n",
              "    <path d=\"M18.56 5.44l.94 2.06.94-2.06 2.06-.94-2.06-.94-.94-2.06-.94 2.06-2.06.94zm-11 1L8.5 8.5l.94-2.06 2.06-.94-2.06-.94L8.5 2.5l-.94 2.06-2.06.94zm10 10l.94 2.06.94-2.06 2.06-.94-2.06-.94-.94-2.06-.94 2.06-2.06.94z\"/><path d=\"M17.41 7.96l-1.37-1.37c-.4-.4-.92-.59-1.43-.59-.52 0-1.04.2-1.43.59L10.3 9.45l-7.72 7.72c-.78.78-.78 2.05 0 2.83L4 21.41c.39.39.9.59 1.41.59.51 0 1.02-.2 1.41-.59l7.78-7.78 2.81-2.81c.8-.78.8-2.07 0-2.86zM5.41 20L4 18.59l7.72-7.72 1.47 1.35L5.41 20z\"/>\n",
              "  </svg>\n",
              "      </button>\n",
              "      \n",
              "  <style>\n",
              "    .colab-df-container {\n",
              "      display:flex;\n",
              "      flex-wrap:wrap;\n",
              "      gap: 12px;\n",
              "    }\n",
              "\n",
              "    .colab-df-convert {\n",
              "      background-color: #E8F0FE;\n",
              "      border: none;\n",
              "      border-radius: 50%;\n",
              "      cursor: pointer;\n",
              "      display: none;\n",
              "      fill: #1967D2;\n",
              "      height: 32px;\n",
              "      padding: 0 0 0 0;\n",
              "      width: 32px;\n",
              "    }\n",
              "\n",
              "    .colab-df-convert:hover {\n",
              "      background-color: #E2EBFA;\n",
              "      box-shadow: 0px 1px 2px rgba(60, 64, 67, 0.3), 0px 1px 3px 1px rgba(60, 64, 67, 0.15);\n",
              "      fill: #174EA6;\n",
              "    }\n",
              "\n",
              "    [theme=dark] .colab-df-convert {\n",
              "      background-color: #3B4455;\n",
              "      fill: #D2E3FC;\n",
              "    }\n",
              "\n",
              "    [theme=dark] .colab-df-convert:hover {\n",
              "      background-color: #434B5C;\n",
              "      box-shadow: 0px 1px 3px 1px rgba(0, 0, 0, 0.15);\n",
              "      filter: drop-shadow(0px 1px 2px rgba(0, 0, 0, 0.3));\n",
              "      fill: #FFFFFF;\n",
              "    }\n",
              "  </style>\n",
              "\n",
              "      <script>\n",
              "        const buttonEl =\n",
              "          document.querySelector('#df-cf73d4a3-8e2a-45d2-8bc5-17d691cbbddc button.colab-df-convert');\n",
              "        buttonEl.style.display =\n",
              "          google.colab.kernel.accessAllowed ? 'block' : 'none';\n",
              "\n",
              "        async function convertToInteractive(key) {\n",
              "          const element = document.querySelector('#df-cf73d4a3-8e2a-45d2-8bc5-17d691cbbddc');\n",
              "          const dataTable =\n",
              "            await google.colab.kernel.invokeFunction('convertToInteractive',\n",
              "                                                     [key], {});\n",
              "          if (!dataTable) return;\n",
              "\n",
              "          const docLinkHtml = 'Like what you see? Visit the ' +\n",
              "            '<a target=\"_blank\" href=https://colab.research.google.com/notebooks/data_table.ipynb>data table notebook</a>'\n",
              "            + ' to learn more about interactive tables.';\n",
              "          element.innerHTML = '';\n",
              "          dataTable['output_type'] = 'display_data';\n",
              "          await google.colab.output.renderOutput(dataTable, element);\n",
              "          const docLink = document.createElement('div');\n",
              "          docLink.innerHTML = docLinkHtml;\n",
              "          element.appendChild(docLink);\n",
              "        }\n",
              "      </script>\n",
              "    </div>\n",
              "  </div>\n",
              "  "
            ],
            "text/plain": [
              "   main_S60_1  main_S60_2  main_type_SP100D  ...  sales_29  sales_30   MSRP\n",
              "0           0           0                 0  ...         0         0  51355\n",
              "1           0           0                 0  ...         0         0  71580\n",
              "2           0           0                 0  ...         0         0  66790\n",
              "3           0           0                 0  ...         0         0  72330\n",
              "4           0           0                 0  ...         0         0  55370\n",
              "\n",
              "[5 rows x 74 columns]"
            ]
          },
          "metadata": {},
          "execution_count": 8
        }
      ],
      "source": [
        "df_pred = pd.read_csv('/content/drive/My Drive/fourthbrain/sales_Q34_2019.csv')\n",
        "df_pred.head()\n",
        "# [YOUR CODE HERE]"
      ]
    },
    {
      "cell_type": "markdown",
      "metadata": {
        "id": "kcmsU-T1dnNF"
      },
      "source": [
        "## Task 2: Set up a regression problem \n",
        "\n",
        "We will be building a model to predict the number of each car type sold.\n",
        "\n",
        "If we look at the columns in the dataset, we'll notice that the first 73 tell us which type of car it is. For example, the row at index 1 has a 1 in these three columns: `main_type_S100D`, `engine_A`, and `sales_8`. Any other rows that have 1's in these same columns refers to the same car. You'll see index 18 is the same.\n",
        "\n",
        "For each of these unique combinations, we will be counting up the number of cars sold. Note that the final column (MSRP) will not be used.\n",
        "\n",
        "We will count up the number of rows for each unique combination of values for the first 73 columns.\n",
        "\n",
        "Since we will be doing this same calculation for both `df_sales` (the training set) and `df_pred` (the test set), we will write a function to avoid duplicating code.\n",
        "\n",
        "1. Write the function `get_features_and_targets` that takes in a quarterly sales DataFrame and produces matrices $\\mathbf{X}$ and $\\mathbf{Y}$, where $\\mathbf{X}$ has a row for each unique car ID and the corresponding row in $\\mathbf{Y}$ has the number of those cars sold in the quarter.\n",
        "\n",
        "    Note: For the `df_sales` dataset, there are 66 types of cars, so $\\mathbf{X}$ should have 66 rows and 73 columns."
      ]
    },
    {
      "cell_type": "code",
      "source": [
        "df_sales_d = df_sales.drop(['MSRP'],axis=1)"
      ],
      "metadata": {
        "id": "aC2Pb5-NsM6Q"
      },
      "execution_count": 9,
      "outputs": []
    },
    {
      "cell_type": "code",
      "source": [
        "df_sales_d.value_counts()"
      ],
      "metadata": {
        "colab": {
          "base_uri": "https://localhost:8080/"
        },
        "id": "_pjmNtFZusKT",
        "outputId": "3f2ca196-fca1-4f8a-d9da-d65ff6c36c03"
      },
      "execution_count": 16,
      "outputs": [
        {
          "output_type": "execute_result",
          "data": {
            "text/plain": [
              "main_S60_1  main_S60_2  main_type_SP100D  main_type_S60D_1  main_type_S60D_2  main_type_S70  main_type_S70D  main_type_S75  main_type_S75D  main_type_S80  main_type_S80D  main_type_S85  main_type_S85P  main_type_P85D  main_type_S90  main_type_S90D  main_type_S100D  engine_A  engine_B  engine_C  engine_D  engine_E  engine_F  engine_G  engine_H  engine_I  engine_J  engine_K  engine_L  engine_M  engine_N  engine_O  engine_P  engine_Q  engine_R  engine_S  engine_T  engine_U  engine_V  engine_W  engine_X  engine_Y  engine_Z  sales_1  sales_2  sales_3  sales_4  sales_5  sales_6  sales_7  sales_8  sales_9  sales_10  sales_11  sales_12  sales_13  sales_14  sales_15  sales_16  sales_17  sales_18  sales_19  sales_20  sales_21  sales_22  sales_23  sales_24  sales_25  sales_26  sales_27  sales_28  sales_29  sales_30\n",
              "0           0           0                 0                 0                 0              0               0              0               0              0               0              0               1               0              0               0                0         0         0         0         0         0         0         0         0         0         0         0         0         0         0         0         1         0         0         0         0         0         0         0         0         0         0        0        0        0        0        0        0        0        0        1         0         0         0         0         0         0         0         0         0         0         0         0         0         0         0         0         0         0         0         0           818\n",
              "                                                                                                                                                                                                                                                                                                                                                                                                                                                                                                                                                                                                                               0         1         0         0         0         0         0         0         0         0         0         0         0         0         0         0         0         0         0         0         0           639\n",
              "                                                                                                                                                                                          1               0               0              0               0                0         0         0         0         0         0         0         0         0         0         0         0         0         0         0         0         0         0         0         0         0         0         0         0         0         0         0        0        0        0        0        0        0        1        0        0         0         0         0         0         0         0         0         0         0         0         0         0         0         0         0         0         0         0         0         0           402\n",
              "                                                                              1              0               0              0               0              0               0              0               0               0              0               0                0         0         0         0         0         0         0         0         0         0         0         0         0         0         0         0         0         0         0         0         0         0         0         0         0         0         0        0        0        0        0        0        0        1        0        0         0         0         0         0         0         0         0         0         0         0         0         0         0         0         0         0         0         0         0         0           388\n",
              "                                                                              0              0               0              0               0              0               0              0               0               0              0               1                1         0         0         0         0         0         0         0         0         0         0         0         0         0         0         0         0         0         0         0         0         0         0         0         0         0         0        0        0        0        0        0        0        1        0        0         0         0         0         0         0         0         0         0         0         0         0         0         0         0         0         0         0         0         0         0           381\n",
              "                                                                                                                                                                                                                                                                                                                                                                                                                                                                                                                                                                                                                                                                                                                                                                                                                                                  ... \n",
              "                                                                                             1               0              0               0              0               0              0               0               0              0               0                0         0         0         0         0         0         0         0         0         0         0         0         0         0         0         0         0         0         0         0         0         0         0         0         0         0         0        0        0        0        0        0        0        0        0        0         0         0         0         0         0         0         0         0         0         0         0         0         0         1         0         0         0         0         0         0             1\n",
              "                                          1                 0                 0              0               0              0               0              0               0              0               0               0              0               0                0         0         0         0         0         0         1         0         0         0         0         0         0         0         0         0         0         0         0         0         0         0         0         0         0         0         0        0        0        0        0        0        0        0        0        0         0         0         0         0         0         0         0         0         0         0         0         0         0         0         0         1         0         0         0         0             1\n",
              "                                          0                 0                 0              0               0              1               0              0               0              0               0               0              0               0                0         0         0         0         0         0         0         0         0         0         0         0         0         0         0         0         1         0         0         0         0         0         0         0         0         0         0        0        0        0        0        0        0        1        0        0         0         0         0         0         0         0         0         0         0         0         0         0         0         0         0         0         0         0         0         0             1\n",
              "                        1                 0                 0                 0              0               0              0               0              0               0              0               0               0              0               0                0         0         0         0         0         0         1         0         0         0         0         0         0         0         0         0         0         0         0         0         0         0         0         0         0         0         0        0        0        0        0        0        0        0        0        0         0         0         0         0         0         0         0         0         0         0         0         0         0         0         0         1         0         0         0         0             1\n",
              "                        0                 0                 0                 0              0               0              0               0              0               0              0               0               0              0               0                0         0         0         0         0         0         0         0         0         0         0         0         0         0         0         1         0         0         0         0         0         0         0         0         0         0         0        0        0        0        0        0        0        0        0        0         0         0         0         0         0         0         0         0         0         0         1         0         0         0         0         0         0         0         0         0             1\n",
              "Length: 66, dtype: int64"
            ]
          },
          "metadata": {},
          "execution_count": 16
        }
      ]
    },
    {
      "cell_type": "code",
      "execution_count": 17,
      "metadata": {
        "id": "Mo5c3VhBkB33"
      },
      "outputs": [],
      "source": [
        "def get_features_and_targets(df):\n",
        "  df_womsrp = df.drop(['MSRP'],axis=1)\n",
        "  df_output = df_womsrp.value_counts().reset_index()\n",
        "  X = df_output.iloc[:,:73]\n",
        "  Y = df_output.iloc[:,73]\n",
        "  return X, Y"
      ]
    },
    {
      "cell_type": "code",
      "source": [
        ""
      ],
      "metadata": {
        "id": "If1FJhA5sLtQ"
      },
      "execution_count": null,
      "outputs": []
    },
    {
      "cell_type": "markdown",
      "metadata": {
        "id": "toTX3W89fX2P"
      },
      "source": [
        "2. Use the `get_features_and_targets()` function to create $\\mathbf{X}$, $\\mathbf{Y}$ pairs for both the training data (`df_sales`) and the test data (`df_pred`)."
      ]
    },
    {
      "cell_type": "code",
      "execution_count": 18,
      "metadata": {
        "id": "Rf6Vj0ujhJ77"
      },
      "outputs": [],
      "source": [
        "X_train, y_train = get_features_and_targets(df_sales) # [YOUR CODE HERE]\n",
        "X_test, y_test = get_features_and_targets(df_pred) # [YOUR CODE HERE]"
      ]
    },
    {
      "cell_type": "markdown",
      "metadata": {
        "id": "jkRlHnzkj-Ow"
      },
      "source": [
        "3. Verify that the shapes of the four numpy arrays you just created are correct.\n",
        "\n",
        "    The training set should have 66 datapoints and the test set should have 71 rows. Verify this by looking at the number of rows in $\\mathbf{X}$ and number of values in $\\mathbf{Y}$.\n",
        "    \n",
        "    Both $\\mathbf{X}$'s should have 73 columns."
      ]
    },
    {
      "cell_type": "code",
      "execution_count": 19,
      "metadata": {
        "colab": {
          "base_uri": "https://localhost:8080/"
        },
        "id": "bqCG5D5qj-Ox",
        "outputId": "9ac0ae13-24fa-4798-e416-25feb0d090fd"
      },
      "outputs": [
        {
          "output_type": "execute_result",
          "data": {
            "text/plain": [
              "((66, 73), (66,), (71, 73), (71,))"
            ]
          },
          "metadata": {},
          "execution_count": 19
        }
      ],
      "source": [
        "X_train.shape, y_train.shape, X_test.shape, y_test.shape"
      ]
    },
    {
      "cell_type": "markdown",
      "metadata": {
        "id": "8d7BSjsQdnNV"
      },
      "source": [
        "Note that the Q12 and Q34 datasets contain differing numbers of distinct cars. Thus some new models were introduced by Q3, but were any discontinued by the beginning of Q3? Let's find out.\n",
        "\n",
        "4. Print the total number of types of cars (e.g. types of cars that were sold in either Q12, Q34, or both). In mathematical notation, if the set of cars sold in Q12 is $\\mathcal{A}$ and the set of cars sold in Q34 is $\\mathcal{B}$, we're asking for the size of the *union* of these two sets $|\\mathcal{A} \\cup \\mathcal{B}|$.\n",
        "\n",
        "    Note: The notation $|\\cdots|$ indicates measurement of the size of a set (the number of distinct items). (Mathematicians usually refer to it as the *cardinality*.)\n",
        "    \n",
        "    Hint: Create a single DataFrame with all the data and use the `get_features_and_targets()` function."
      ]
    },
    {
      "cell_type": "code",
      "execution_count": 25,
      "metadata": {
        "id": "KOEhFSxin_te"
      },
      "outputs": [],
      "source": [
        "df_combined = pd.concat([df_sales, df_pred])\n",
        "df_combined.tail()\n",
        "df_c_X, df_c_y = get_features_and_targets(df_combined)"
      ]
    },
    {
      "cell_type": "code",
      "source": [
        "df_c_X.shape, df_c_y.shape"
      ],
      "metadata": {
        "colab": {
          "base_uri": "https://localhost:8080/"
        },
        "id": "d8wPiJvD0P3l",
        "outputId": "6193f22d-8789-4e52-ace9-9043737f1e31"
      },
      "execution_count": 26,
      "outputs": [
        {
          "output_type": "execute_result",
          "data": {
            "text/plain": [
              "((80, 73), (80,))"
            ]
          },
          "metadata": {},
          "execution_count": 26
        }
      ]
    },
    {
      "cell_type": "markdown",
      "metadata": {
        "id": "8KgAprxHqcv2"
      },
      "source": [
        "5. A handy little fact from set theory is that $|\\mathcal{A} \\cup \\mathcal{B}| = |\\mathcal{A}| + |\\mathcal{B}| - |\\mathcal{A} \\cap \\mathcal{B}|$, where $\\cap$ is the *intersection* of $\\mathcal{A}$ and $\\mathcal{B}$, things that are in **both** $\\mathcal{A}$ and $\\mathcal{B}$. Use this fact, and what you've computed above, to print the number of models that were sold in both Q12 and Q34."
      ]
    },
    {
      "cell_type": "code",
      "execution_count": 27,
      "metadata": {
        "id": "56A3357NswMG",
        "colab": {
          "base_uri": "https://localhost:8080/"
        },
        "outputId": "a3bd91c8-5abb-4b55-aaef-45562605c9ee"
      },
      "outputs": [
        {
          "output_type": "execute_result",
          "data": {
            "text/plain": [
              "57"
            ]
          },
          "metadata": {},
          "execution_count": 27
        }
      ],
      "source": [
        "66 + 71 - 80"
      ]
    },
    {
      "cell_type": "markdown",
      "metadata": {
        "id": "clPi1NVCunoy"
      },
      "source": [
        "6. How many cars that were sold in Q12 were not sold in Q34?"
      ]
    },
    {
      "cell_type": "code",
      "execution_count": 28,
      "metadata": {
        "colab": {
          "base_uri": "https://localhost:8080/"
        },
        "id": "VmMdZNuzu5Z-",
        "outputId": "d7137fc3-964b-4544-81c9-74188f0ca099"
      },
      "outputs": [
        {
          "output_type": "execute_result",
          "data": {
            "text/plain": [
              "9"
            ]
          },
          "metadata": {},
          "execution_count": 28
        }
      ],
      "source": [
        "66 - 57"
      ]
    },
    {
      "cell_type": "markdown",
      "metadata": {
        "id": "04zz5QOkvtij"
      },
      "source": [
        "7. How many cars were sold in Q34 but not in Q12?"
      ]
    },
    {
      "cell_type": "code",
      "execution_count": 29,
      "metadata": {
        "id": "stRzG8THvyeA",
        "colab": {
          "base_uri": "https://localhost:8080/"
        },
        "outputId": "1ea8d4e4-172e-41d8-d614-3b96148b6262"
      },
      "outputs": [
        {
          "output_type": "execute_result",
          "data": {
            "text/plain": [
              "14"
            ]
          },
          "metadata": {},
          "execution_count": 29
        }
      ],
      "source": [
        "71 - 57"
      ]
    },
    {
      "cell_type": "markdown",
      "metadata": {
        "id": "3qn6SNBNdnNb"
      },
      "source": [
        "## Task 3: Visualize the training and test targets"
      ]
    },
    {
      "cell_type": "markdown",
      "metadata": {
        "id": "OzsF0PfoyoyS"
      },
      "source": [
        "This is open-ended and we're not expecting a particular visualization, just show us what comes comes to your mind!"
      ]
    },
    {
      "cell_type": "code",
      "source": [
        "df_combined.drop(['MSRP'],axis=1).value_counts()"
      ],
      "metadata": {
        "colab": {
          "base_uri": "https://localhost:8080/"
        },
        "id": "x4NNBjsP3djH",
        "outputId": "05babaa0-cdd6-417e-e7a5-08bb420a2460"
      },
      "execution_count": 44,
      "outputs": [
        {
          "output_type": "execute_result",
          "data": {
            "text/plain": [
              "main_S60_1  main_S60_2  main_type_SP100D  main_type_S60D_1  main_type_S60D_2  main_type_S70  main_type_S70D  main_type_S75  main_type_S75D  main_type_S80  main_type_S80D  main_type_S85  main_type_S85P  main_type_P85D  main_type_S90  main_type_S90D  main_type_S100D  engine_A  engine_B  engine_C  engine_D  engine_E  engine_F  engine_G  engine_H  engine_I  engine_J  engine_K  engine_L  engine_M  engine_N  engine_O  engine_P  engine_Q  engine_R  engine_S  engine_T  engine_U  engine_V  engine_W  engine_X  engine_Y  engine_Z  sales_1  sales_2  sales_3  sales_4  sales_5  sales_6  sales_7  sales_8  sales_9  sales_10  sales_11  sales_12  sales_13  sales_14  sales_15  sales_16  sales_17  sales_18  sales_19  sales_20  sales_21  sales_22  sales_23  sales_24  sales_25  sales_26  sales_27  sales_28  sales_29  sales_30\n",
              "0           0           0                 0                 0                 0              0               0              0               0              0               0              0               1               0              0               0                0         0         0         0         0         0         0         0         0         0         0         0         0         0         0         0         1         0         0         0         0         0         0         0         0         0         0        0        0        0        0        0        0        0        0        1         0         0         0         0         0         0         0         0         0         0         0         0         0         0         0         0         0         0         0         0           1389\n",
              "                                                                                                                                                                                                                                                                                                                                                                                                                                                                                                                                                                                                                               0         1         0         0         0         0         0         0         0         0         0         0         0         0         0         0         0         0         0         0         0           1125\n",
              "                                                                                                                                                                                                          0               0              0               1                1         0         0         0         0         0         0         0         0         0         0         0         0         0         0         0         0         0         0         0         0         0         0         0         0         0         0        0        0        0        0        0        0        1        0        0         0         0         0         0         0         0         0         0         0         0         0         0         0         0         0         0         0         0         0         0            746\n",
              "                                                                              1              0               0              0               0              0               0              0               0               0              0               0                0         0         0         0         0         0         0         0         0         0         0         0         0         0         0         0         0         0         0         0         0         0         0         0         0         0         0        0        0        0        0        0        0        1        0        0         0         0         0         0         0         0         0         0         0         0         0         0         0         0         0         0         0         0         0         0            675\n",
              "                                                                              0              0               0              0               0              0               0              0               1               0              0               0                0         0         0         0         0         0         0         0         0         0         0         0         0         0         0         0         0         0         0         0         0         0         0         0         0         0         0        0        0        0        0        0        0        0        0        1         0         0         0         0         0         0         0         0         0         0         0         0         0         0         0         0         0         0         0         0            667\n",
              "                                                                                                                                                                                                                                                                                                                                                                                                                                                                                                                                                                                                                                                                                                                                                                                                                                                   ... \n",
              "                                                            1                 0              0               0              0               0              0               0              0               0               0              0               0                0         0         0         0         1         0         0         0         0         0         0         0         0         0         0         0         0         0         0         0         0         0         0         0         0         0         0        0        0        1        0        0        0        0        0        0         0         0         0         0         0         0         0         0         0         0         0         0         0         0         0         0         0         0         0         0              1\n",
              "                                          1                 0                 0              0               0              0               0              0               0              0               0               0              0               0                0         0         0         0         0         0         1         0         0         0         0         0         0         0         0         0         0         0         0         0         0         0         0         0         0         0         0        0        0        0        0        0        0        0        0        0         0         0         0         0         0         0         0         0         0         0         0         0         0         0         0         1         0         0         0         0              1\n",
              "                                          0                 0                 0              0               0              1               0              0               0              0               0               0              0               0                0         0         0         0         0         0         0         0         0         0         0         0         0         0         0         0         1         0         0         0         0         0         0         0         0         0         0        0        0        0        0        0        0        1        0        0         0         0         0         0         0         0         0         0         0         0         0         0         0         0         0         0         0         0         0         0              1\n",
              "                        1                 0                 0                 0              0               0              0               0              0               0              0               0               0              0               0                0         0         0         0         0         0         1         0         0         0         0         0         0         0         0         0         0         0         0         0         0         0         0         0         0         0         0        0        0        0        0        0        0        0        0        0         0         0         0         0         0         0         0         0         0         0         0         0         0         0         0         1         0         0         0         0              1\n",
              "                        0                 0                 0                 0              0               0              0               0              0               0              0               0               0              0               0                0         0         0         0         0         0         0         0         0         0         0         0         0         0         0         1         0         0         0         0         0         0         0         0         0         0         0        0        0        0        0        0        0        0        0        0         0         0         0         0         0         0         0         0         0         0         1         0         0         0         0         0         0         0         0         0              1\n",
              "Length: 80, dtype: int64"
            ]
          },
          "metadata": {},
          "execution_count": 44
        }
      ]
    },
    {
      "cell_type": "code",
      "execution_count": 46,
      "metadata": {
        "id": "oFVGTPYV2jrF",
        "colab": {
          "base_uri": "https://localhost:8080/",
          "height": 268
        },
        "outputId": "c8bda3a1-d0bc-44fb-da29-971618bf52dc"
      },
      "outputs": [
        {
          "output_type": "display_data",
          "data": {
            "image/png": "[encoded data removed]",
            "text/plain": [
              "<Figure size 1152x288 with 1 Axes>"
            ]
          },
          "metadata": {
            "needs_background": "light"
          }
        }
      ],
      "source": [
        "ax = df_combined.drop(['MSRP'],axis=1).value_counts().reset_index().iloc[:,73].plot(kind='bar')\n",
        "ax.figure.set_size_inches(16,4)"
      ]
    },
    {
      "cell_type": "markdown",
      "metadata": {
        "id": "9g-2fwgydnNh"
      },
      "source": [
        "## Task 4: Fit a linear model with gradient descent"
      ]
    },
    {
      "cell_type": "markdown",
      "metadata": {
        "id": "oriL0PcVOlw-"
      },
      "source": [
        "1. Set hyperparameters for learning rate and maximum number of iterations through the training data."
      ]
    },
    {
      "cell_type": "code",
      "execution_count": 169,
      "metadata": {
        "id": "QKIv3936OfVk"
      },
      "outputs": [],
      "source": [
        "# these are good starting values, though you can play around with them\n",
        "s_learning_rate = 0.001\n",
        "s_max_iteration = 1000"
      ]
    },
    {
      "cell_type": "markdown",
      "metadata": {
        "id": "Lx-wS125dnNk"
      },
      "source": [
        "### Hypothesis Function\n",
        "\n",
        "2. Define your hypothesis function $h(\\cdot)$ (which you use to make predictions $\\hat{\\mathbf{Y}}$ as the matrix product of your feature data $\\mathbf{X}$ and parameters $\\boldsymbol{\\theta}$. $\\boldsymbol{\\theta}$, which you'll initialize in the training loop (below) is a column vector with a value for each feature in the training data, plus one for bias.\n",
        "\n",
        "    Note: We'll deal with adding the column of 1's to $\\mathbf{X}$ below in the gradient descent function, so don't worry about it now."
      ]
    },
    {
      "cell_type": "code",
      "execution_count": 124,
      "metadata": {
        "id": "SI8oTUQsdnNk"
      },
      "outputs": [],
      "source": [
        "def h(theta, X): \n",
        "  #print('H: ', np.dot(theta, X).shape)\n",
        "  return np.dot(X, theta)\n",
        "\n",
        "#theta = np.zeros((X_train.shape[1], 1))\n",
        "#theta.shape, X_train.shape\n",
        "#h(theta,X_train)\n",
        "    # [YOUR CODE HERE]"
      ]
    },
    {
      "cell_type": "markdown",
      "metadata": {
        "id": "7LW5F5uhdnNm"
      },
      "source": [
        "3. Define your loss function as the MSE (mean squared error) between your actual and predicted $\\mathbf{Y}$ values. \n",
        "\n",
        "    Recall that the predicted $\\mathbf{Y}$ values, $\\hat{\\mathbf{Y}}$, are a function of $\\boldsymbol{\\theta}$ and $\\mathbf{X}$.\n"
      ]
    },
    {
      "cell_type": "code",
      "execution_count": 155,
      "metadata": {
        "id": "KzRpZec4dnNm"
      },
      "outputs": [],
      "source": [
        "def loss(theta, X, y):\n",
        "  return 0.5*np.mean(np.square(y - h(theta, X)))\n",
        "    # [YOUR CODE HERE]"
      ]
    },
    {
      "cell_type": "markdown",
      "metadata": {
        "id": "PCLgRXivdnNp"
      },
      "source": [
        "### Gradient of Hypothesis Function\n",
        "\n",
        "One can verify through straightforward (if somewhat tedious) multivariable calculus that the gradient of the loss function $J$ with respect to the parameters $\\theta$ is \n",
        "\n",
        "$$ \\frac{\\partial J}{\\partial \\boldsymbol{\\theta}} = - \\frac{1}{m} X^T \\cdot (Y - \\hat{Y})$$\n",
        "\n",
        "Where $m$ is the number of data samples, the number of rows in $\\mathbf{X}$ and $\\mathbf{Y}$.\n",
        "\n",
        "Note that the $\\mathbf{X}$ here is the one that has been augmented with a bias column. \n",
        "\n",
        "4. Write the `gradient()` function to compute this gradient."
      ]
    },
    {
      "cell_type": "code",
      "execution_count": 144,
      "metadata": {
        "id": "3zYnvBa1dnNp"
      },
      "outputs": [],
      "source": [
        "def gradient(theta, X, y):\n",
        "  yp = h(theta, X)\n",
        "  d_theta = (-1/X.shape[0])*X*(y-yp)\n",
        "  return d_theta\n",
        "\n",
        "#gradient(np.zeros((X_train.shape[1], 1)),X_train, y_train)\n",
        "    # [YOUR CODE HERE]"
      ]
    },
    {
      "cell_type": "markdown",
      "metadata": {
        "id": "fo-NxmSLdnNr"
      },
      "source": [
        "### Gradient Descent\n",
        "\n",
        "5. Complete the `stochastic_gradient_descent()` function to train your linear regression model with gradient descent, i.e. calculate $\\frac{\\partial J}{\\partial \\theta}$ and update $\\theta$. Recall that the general gradient descent update formula is $\\theta := \\theta - \\alpha \\frac{\\partial J}{\\partial \\theta}$, with $\\alpha$ the stepsize. We've provided the skeleton of a stochastic gradient descent function, but you're welcome to experiment with batch and/or minibatch gradient descent. Also recall that the aforementioned gradient descent methods differ in how frequently they calculate $\\frac{\\partial J}{\\partial \\theta}$ and update $\\theta$. Notice in the first step we initialize $\\boldsymbol{\\theta}$ to all zeros and we temporarily prepend a column of $1$'s to the features, which corresponds to the bias parameter.\n",
        "\n",
        "    Hint: Be mindful of the shapes of the arrays that you pass into the `gradient()` function. It should be two 2D arrays."
      ]
    },
    {
      "cell_type": "code",
      "execution_count": 170,
      "metadata": {
        "id": "g6hbmDgkdnNs"
      },
      "outputs": [],
      "source": [
        "def stochastic_gradient_descent(X, y, learning_rate, max_iteration, print_interval):\n",
        "    theta = np.zeros((X.shape[1] + 1, 1))\n",
        "    X_with_ones = np.hstack([np.ones([X.shape[0], 1]), X])  # prepend a column of 1's\n",
        "    cost = np.zeros(max_iteration)  # initialize cost as array of zeros\n",
        "    print(X_with_ones.shape, y.shape)\n",
        "    for i in range(max_iteration):\n",
        "        for j in range(X.shape[0]):\n",
        "          d_theta = gradient(theta, X_with_ones[j], y[j].reshape(1,))\n",
        "          d_theta = np.expand_dims(d_theta,1)\n",
        "          theta = theta - learning_rate*d_theta\n",
        "            # [YOUR CODE HERE]\n",
        "            # Compute the gradient from the current row in X and y.\n",
        "            # Use that result to update theta.\n",
        "        cost[i] = loss(theta, X_with_ones, y) # Update the cost array for the current iteration\n",
        "        if i % print_interval == 0 :\n",
        "            print('iteration : ', i, ' loss : ', loss(theta, X_with_ones, y)) \n",
        "    return theta, cost"
      ]
    },
    {
      "cell_type": "markdown",
      "metadata": {
        "id": "mu3XEt9ij-PB"
      },
      "source": [
        "6. Now we can run the `stochastic_gradient_descent()` function to find the optimal theta."
      ]
    },
    {
      "cell_type": "code",
      "execution_count": 181,
      "metadata": {
        "id": "O084UJ8UdnNt",
        "colab": {
          "base_uri": "https://localhost:8080/"
        },
        "outputId": "5df47d1a-8eac-43f2-e295-658fd0692d1d"
      },
      "outputs": [
        {
          "output_type": "stream",
          "name": "stdout",
          "text": [
            "(66, 74) (66,)\n",
            "iteration :  0  loss :  15096.337930576132\n",
            "iteration :  100  loss :  14204.054726899532\n",
            "iteration :  200  loss :  13519.799334464717\n",
            "iteration :  300  loss :  12995.746081295458\n",
            "iteration :  400  loss :  12595.081743150558\n",
            "iteration :  500  loss :  12289.470887772073\n",
            "iteration :  600  loss :  12057.104309614573\n",
            "iteration :  700  loss :  11881.19645858437\n",
            "iteration :  800  loss :  11748.828599866469\n",
            "iteration :  900  loss :  11650.058186397848\n",
            "iteration :  1000  loss :  11577.233210753317\n",
            "iteration :  1100  loss :  11524.464384257391\n",
            "iteration :  1200  loss :  11487.218834584786\n",
            "iteration :  1300  loss :  11462.007363317362\n",
            "iteration :  1400  loss :  11446.143735111953\n",
            "iteration :  1500  loss :  11437.559421741516\n",
            "iteration :  1600  loss :  11434.661037254462\n",
            "iteration :  1700  loss :  11436.220636648402\n",
            "iteration :  1800  loss :  11441.291311382234\n",
            "iteration :  1900  loss :  11449.14225600955\n",
            "iteration :  2000  loss :  11459.208820767926\n",
            "iteration :  2100  loss :  11471.054097173248\n",
            "iteration :  2200  loss :  11484.339378449733\n",
            "iteration :  2300  loss :  11498.801448574146\n",
            "iteration :  2400  loss :  11514.23512487391\n",
            "iteration :  2500  loss :  11530.479841871484\n",
            "iteration :  2600  loss :  11547.409343345096\n",
            "iteration :  2700  loss :  11564.923764578834\n",
            "iteration :  2800  loss :  11582.943552287818\n",
            "iteration :  2900  loss :  11601.40479711222\n",
            "iteration :  3000  loss :  11620.255651643436\n",
            "iteration :  3100  loss :  11639.45358242767\n",
            "iteration :  3200  loss :  11658.963262484189\n",
            "iteration :  3300  loss :  11678.754955580227\n",
            "iteration :  3400  loss :  11698.803277903166\n",
            "iteration :  3500  loss :  11719.08624923637\n",
            "iteration :  3600  loss :  11739.584566104479\n",
            "iteration :  3700  loss :  11760.281045013624\n",
            "iteration :  3800  loss :  11781.16019595476\n",
            "iteration :  3900  loss :  11802.207895597652\n",
            "iteration :  4000  loss :  11823.411136720777\n",
            "iteration :  4100  loss :  11844.757835892395\n",
            "iteration :  4200  loss :  11866.23668562056\n",
            "iteration :  4300  loss :  11887.837040417444\n",
            "iteration :  4400  loss :  11909.548828701381\n",
            "iteration :  4500  loss :  11931.362484361573\n",
            "iteration :  4600  loss :  11953.26889326891\n",
            "iteration :  4700  loss :  11975.25935113463\n",
            "iteration :  4800  loss :  11997.32552997487\n",
            "iteration :  4900  loss :  12019.4594510951\n",
            "iteration :  5000  loss :  12041.653463009721\n",
            "iteration :  5100  loss :  12063.900223095587\n",
            "iteration :  5200  loss :  12086.192682070443\n",
            "iteration :  5300  loss :  12108.524070610445\n",
            "iteration :  5400  loss :  12130.887887590507\n",
            "iteration :  5500  loss :  12153.277889560115\n",
            "iteration :  5600  loss :  12175.688081165254\n",
            "iteration :  5700  loss :  12198.112706300712\n",
            "iteration :  5800  loss :  12220.546239833158\n",
            "iteration :  5900  loss :  12242.98337977719\n",
            "iteration :  6000  loss :  12265.41903983802\n",
            "iteration :  6100  loss :  12287.848342258001\n",
            "iteration :  6200  loss :  12310.266610921512\n",
            "iteration :  6300  loss :  12332.669364685666\n",
            "iteration :  6400  loss :  12355.052310913625\n",
            "iteration :  6500  loss :  12377.411339194143\n",
            "iteration :  6600  loss :  12399.742515235886\n",
            "iteration :  6700  loss :  12422.042074928431\n",
            "iteration :  6800  loss :  12444.306418564352\n",
            "iteration :  6900  loss :  12466.532105218319\n",
            "iteration :  7000  loss :  12488.715847280188\n",
            "iteration :  7100  loss :  12510.85450513976\n",
            "iteration :  7200  loss :  12532.945082021186\n",
            "iteration :  7300  loss :  12554.984718965143\n",
            "iteration :  7400  loss :  12576.97068995697\n",
            "iteration :  7500  loss :  12598.900397198871\n",
            "iteration :  7600  loss :  12620.77136652414\n",
            "iteration :  7700  loss :  12642.581242951266\n",
            "iteration :  7800  loss :  12664.327786375638\n",
            "iteration :  7900  loss :  12686.008867396353\n",
            "iteration :  8000  loss :  12707.622463275564\n",
            "iteration :  8100  loss :  12729.166654027593\n",
            "iteration :  8200  loss :  12750.639618635061\n",
            "iteration :  8300  loss :  12772.03963138903\n",
            "iteration :  8400  loss :  12793.365058350231\n",
            "iteration :  8500  loss :  12814.614353928288\n",
            "iteration :  8600  loss :  12835.786057575882\n",
            "iteration :  8700  loss :  12856.878790594734\n",
            "iteration :  8800  loss :  12877.891253050328\n",
            "iteration :  8900  loss :  12898.822220792228\n",
            "iteration :  9000  loss :  12919.670542576936\n",
            "iteration :  9100  loss :  12940.435137290217\n",
            "iteration :  9200  loss :  12961.114991265873\n",
            "iteration :  9300  loss :  12981.709155697965\n",
            "iteration :  9400  loss :  13002.21674414359\n",
            "iteration :  9500  loss :  13022.636930113284\n",
            "iteration :  9600  loss :  13042.968944746282\n",
            "iteration :  9700  loss :  13063.21207456783\n",
            "iteration :  9800  loss :  13083.365659325884\n",
            "iteration :  9900  loss :  13103.42908990457\n"
          ]
        }
      ],
      "source": [
        "s_theta, s_cost = stochastic_gradient_descent(X_train.values, y_train.values, s_learning_rate, 10000, 100)"
      ]
    },
    {
      "cell_type": "code",
      "execution_count": 182,
      "metadata": {
        "id": "aoRR-pP8P2C2",
        "colab": {
          "base_uri": "https://localhost:8080/",
          "height": 337
        },
        "outputId": "6a373e29-81b4-47dd-b154-e65733661e01"
      },
      "outputs": [
        {
          "output_type": "stream",
          "name": "stderr",
          "text": [
            "/usr/local/lib/python3.7/dist-packages/ipykernel_launcher.py:1: UserWarning: In Matplotlib 3.3 individual lines on a stem plot will be added as a LineCollection instead of individual lines. This significantly improves the performance of a stem plot. To remove this warning and switch to the new behaviour, set the \"use_line_collection\" keyword argument to True.\n",
            "  \"\"\"Entry point for launching an IPython kernel.\n"
          ]
        },
        {
          "output_type": "execute_result",
          "data": {
            "text/plain": [
              "<StemContainer object of 3 artists>"
            ]
          },
          "metadata": {},
          "execution_count": 182
        },
        {
          "output_type": "display_data",
          "data": {
            "image/png": "[encoded data removed]",
            "text/plain": [
              "<Figure size 432x288 with 1 Axes>"
            ]
          },
          "metadata": {
            "needs_background": "light"
          }
        }
      ],
      "source": [
        "plt.stem(np.squeeze(s_theta))"
      ]
    },
    {
      "cell_type": "markdown",
      "metadata": {
        "id": "B6D2kqejdnNv"
      },
      "source": [
        "### Generate Predictions from Test Data\n",
        "\n",
        "7. Use `s_theta` to make predictions on the test set (`X_test`).\n",
        "\n",
        "    Hint: Make sure to prepend the column of 1's onto `X_test` (just like it's done in the `stochastic_gradient_descent()` function)."
      ]
    },
    {
      "cell_type": "code",
      "execution_count": 184,
      "metadata": {
        "id": "m-u3iTbNdnNw"
      },
      "outputs": [],
      "source": [
        "y_pred_GD = h(s_theta,np.hstack([np.ones([X_test.shape[0], 1]), X_test]))# [YOUR CODE HERE]\n",
        "\n",
        "# Since our target is non-negative, we set any negative predictions to 0.\n",
        "y_pred_GD[y_pred_GD < 0] = 0"
      ]
    },
    {
      "cell_type": "markdown",
      "metadata": {
        "id": "fse46Lpuj-PE"
      },
      "source": [
        "8. Calculate the MSE and R^2 score."
      ]
    },
    {
      "cell_type": "code",
      "execution_count": 185,
      "metadata": {
        "id": "Ljk24gJ4dnNy",
        "colab": {
          "base_uri": "https://localhost:8080/"
        },
        "outputId": "f1b3345e-1bcc-4f79-cb4f-c428ce4047ca"
      },
      "outputs": [
        {
          "output_type": "stream",
          "name": "stdout",
          "text": [
            "8132.8635548639\n",
            "0.4723085214711489\n"
          ]
        }
      ],
      "source": [
        "from sklearn.metrics import mean_squared_error as MSE\n",
        "from sklearn.metrics import r2_score\n",
        "\n",
        "# [YOUR CODE HERE]\n",
        "print(MSE(y_test, y_pred_GD))\n",
        "print(r2_score(y_test, y_pred_GD))"
      ]
    },
    {
      "cell_type": "markdown",
      "metadata": {
        "id": "2ImYOho6dnNy"
      },
      "source": [
        "### Visualize the predicted and actual test labels\n",
        "\n",
        "9. Make a plot showing both the true values (`y_test`) and the predicted values (`y_pred_GD`)."
      ]
    },
    {
      "cell_type": "code",
      "execution_count": 176,
      "metadata": {
        "id": "o3t83fxcr6dd",
        "colab": {
          "base_uri": "https://localhost:8080/",
          "height": 282
        },
        "outputId": "a6de6f01-7a4d-49b6-e725-3f405702671c"
      },
      "outputs": [
        {
          "output_type": "execute_result",
          "data": {
            "text/plain": [
              "[<matplotlib.lines.Line2D at 0x7f56adda6890>]"
            ]
          },
          "metadata": {},
          "execution_count": 176
        },
        {
          "output_type": "display_data",
          "data": {
            "image/png": "[encoded data removed]",
            "text/plain": [
              "<Figure size 432x288 with 1 Axes>"
            ]
          },
          "metadata": {
            "needs_background": "light"
          }
        }
      ],
      "source": [
        "# [YOUR CODE HERE]\n",
        "plt.plot(y_test,c='b')\n",
        "plt.plot(y_pred_GD,c='r')"
      ]
    },
    {
      "cell_type": "markdown",
      "metadata": {
        "id": "QNFkAA7gdnN0"
      },
      "source": [
        "## Task 5: Normal Equations\n",
        "\n",
        "Gradient Descent is an iterative method for converging on the solution, though we can also compute the solution directly using the normal equation. Gradient Descent is generally preferred because it can converge quickly even with a large dataset, but since our training dataset isn't very large, we can use the normal equation.\n",
        "\n",
        "$$\\boldsymbol{\\theta} = (X^T \\cdot X)^{-1} \\cdot X^T \\cdot Y$$ \n",
        "$$\\hat{Y} = X \\cdot \\boldsymbol{\\theta}$$\n",
        "\n",
        "We'll compare our predictions with the ones we obtained using gradient descent.\n",
        "\n",
        "Remember we still have a bias term, so $\\boldsymbol{\\theta}$ is of size 74x1 (73 for the unique ID features, 1 for the bias).\n",
        "\n",
        "1. Complete the `normal_equations_solution()` function below.\n",
        "\n",
        "    Hint: numpy's `linalg.pinv` efficiently computes the matrix $(X^T \\cdot X)^{-1} \\cdot X^T$."
      ]
    },
    {
      "cell_type": "code",
      "execution_count": 79,
      "metadata": {
        "id": "ez7XC2qQdnN1"
      },
      "outputs": [],
      "source": [
        "def normal_equations_solution(X, y):\n",
        "    X_with_ones = np.hstack([np.ones([X.shape[0], 1]), X])\n",
        "    return np.dot(np.dot(np.linalg.pinv(np.dot(X.T,X)), X.T), y)"
      ]
    },
    {
      "cell_type": "markdown",
      "metadata": {
        "id": "CLAUBeaKj-PJ"
      },
      "source": [
        "2. Use the `normal_equations_solution()` function to compute `y_pred_NE`.\n",
        "\n",
        "    The code should be the same as above, just use `n_theta` instead of `s_theta`."
      ]
    },
    {
      "cell_type": "code",
      "execution_count": 80,
      "metadata": {
        "id": "cAhtVznMZGtB"
      },
      "outputs": [],
      "source": [
        "n_theta = normal_equations_solution(X_train, y_train)\n",
        "y_pred_NE = np.dot(X_test, n_theta)# [YOUR CODE HERE]\n",
        "\n",
        "# Set any negative predictions to 0\n",
        "y_pred_NE[y_pred_NE < 0] = 0"
      ]
    },
    {
      "cell_type": "markdown",
      "metadata": {
        "id": "URT-OvNOj-PK"
      },
      "source": [
        "3. Calculate the MSE and R^2 score."
      ]
    },
    {
      "cell_type": "code",
      "execution_count": 83,
      "metadata": {
        "colab": {
          "base_uri": "https://localhost:8080/"
        },
        "id": "fRw1l0tyj-PL",
        "outputId": "aa0abf3b-75b9-4023-98b4-6577d23c85f7"
      },
      "outputs": [
        {
          "output_type": "stream",
          "name": "stdout",
          "text": [
            "6270.89076180467\n",
            "0.5931204802015155\n"
          ]
        }
      ],
      "source": [
        "print(MSE(y_test, y_pred_NE))\n",
        "print(r2_score(y_test, y_pred_NE))# [YOUR CODE HERE]"
      ]
    },
    {
      "cell_type": "markdown",
      "metadata": {
        "id": "US3USrdaj-PL"
      },
      "source": [
        "4. Make a plot showing both the true values (`y_test`) and the predicted values (`y_pred_NE`)."
      ]
    },
    {
      "cell_type": "code",
      "execution_count": 85,
      "metadata": {
        "colab": {
          "base_uri": "https://localhost:8080/",
          "height": 282
        },
        "id": "4MM96Mctj-PM",
        "outputId": "15a495f5-ffd1-4ccb-f25e-01f99ba48660"
      },
      "outputs": [
        {
          "output_type": "execute_result",
          "data": {
            "text/plain": [
              "[<matplotlib.lines.Line2D at 0x7f56bec4d1d0>]"
            ]
          },
          "metadata": {},
          "execution_count": 85
        },
        {
          "output_type": "display_data",
          "data": {
            "image/png": "[encoded data removed]",
            "text/plain": [
              "<Figure size 432x288 with 1 Axes>"
            ]
          },
          "metadata": {
            "needs_background": "light"
          }
        }
      ],
      "source": [
        "plt.plot(y_test,c='b')\n",
        "plt.plot(y_pred_NE,c='r')"
      ]
    },
    {
      "cell_type": "markdown",
      "metadata": {
        "id": "i3ofJxdUdnN6"
      },
      "source": [
        "### Regularized Normal Equations\n",
        "\n",
        "Recall that our training features array `X_train` has 66 rows and 73 columns, thus wider than it is tall. This suggests the regularized normal equations might perform better.\n",
        "\n",
        "$$\\boldsymbol{\\theta} = (X^T \\cdot X + \\lambda m I)^{-1} \\cdot X^T \\cdot Y$$\n",
        "\n",
        "Here, $\\lambda$ is the regularization parameter and $m$ is the number of rows in $X$.\n",
        "\n",
        "5. Complete the `regularized_normal_equations_solution()` equation."
      ]
    },
    {
      "cell_type": "code",
      "execution_count": 88,
      "metadata": {
        "id": "nFY5YO-IZ2e7"
      },
      "outputs": [],
      "source": [
        "def regularized_normal_equations_solution(X, y, regularization_param):\n",
        "    X_with_ones = np.hstack([np.ones([X.shape[0], 1]), X])\n",
        "    m = np.shape(X_with_ones)[0]\n",
        "    return np.dot(np.dot(np.linalg.pinv(np.dot(X_with_ones.T,X_with_ones)+regularization_param*m*np.identity(X_with_ones.shape[1])), X_with_ones.T), y)\n",
        "    # [YOUR CODE HERE]"
      ]
    },
    {
      "cell_type": "markdown",
      "metadata": {
        "id": "BPApO3eWj-PO"
      },
      "source": [
        "6. Complete the code snippet below to calculate the MSE and R^2 values for each of the potential regularization parameters to determine the optimal.\n",
        "\n",
        "    Does it outperform the standard normal equation?"
      ]
    },
    {
      "cell_type": "code",
      "execution_count": 91,
      "metadata": {
        "id": "bIrbJkOydnN9",
        "colab": {
          "base_uri": "https://localhost:8080/"
        },
        "outputId": "5e7599ff-01cf-42d6-e688-f805cc239fb5"
      },
      "outputs": [
        {
          "output_type": "stream",
          "name": "stdout",
          "text": [
            "For regularization parameter 0.001\n",
            "5920.159564029461\n",
            "0.6158772697470019\n",
            "-----\n",
            "For regularization parameter 0.002\n",
            "5789.114544987662\n",
            "0.624379974776481\n",
            "-----\n",
            "For regularization parameter 0.003\n",
            "5715.482554459321\n",
            "0.6291575016201085\n",
            "-----\n",
            "For regularization parameter 0.004\n",
            "5682.239632463369\n",
            "0.6313144303009264\n",
            "-----\n",
            "For regularization parameter 0.005\n",
            "5674.866662818328\n",
            "0.6317928169389035\n",
            "-----\n",
            "For regularization parameter 0.006\n",
            "5682.356370074329\n",
            "0.6313068559155808\n",
            "-----\n",
            "For regularization parameter 0.007\n",
            "5698.577977735186\n",
            "0.6302543355981147\n",
            "-----\n",
            "For regularization parameter 0.008\n",
            "5719.786363627023\n",
            "0.6288782539224569\n",
            "-----\n",
            "For regularization parameter 0.009000000000000001\n",
            "5745.232444099366\n",
            "0.6272272143179397\n",
            "-----\n",
            "For regularization parameter 0.01\n",
            "5773.61560822746\n",
            "0.6253856054254454\n",
            "-----\n"
          ]
        }
      ],
      "source": [
        "regularization_params = np.linspace(0.001, 0.01, 10)\n",
        "\n",
        "for regularization_param in regularization_params:\n",
        "    theta_temp = regularized_normal_equations_solution(X_train, y_train, regularization_param)\n",
        "    X_test_with_ones = np.hstack([np.ones([X_test.shape[0], 1]), X_test])\n",
        "    y_pred_N_reg = np.dot(X_test_with_ones, theta_temp)# [YOUR CODE HERE]\n",
        "    y_pred_N_reg[y_pred_N_reg < 0] = 0\n",
        "    print('For regularization parameter', regularization_param)\n",
        "    # Print the MSE and R^2 value\n",
        "    # [YOUR CODE HERE]\n",
        "    print(MSE(y_test, y_pred_N_reg))\n",
        "    print(r2_score(y_test, y_pred_N_reg))\n",
        "    print('-----')"
      ]
    },
    {
      "cell_type": "markdown",
      "metadata": {
        "id": "o5uD0DVidnN_"
      },
      "source": [
        "## Task 6: Non-linear Regression Models (GLM, DT) "
      ]
    },
    {
      "cell_type": "markdown",
      "metadata": {
        "id": "Yk0Be7SQdnN_"
      },
      "source": [
        "### Generalized Linear Models\n",
        "\n",
        "Statsmodels has a `GLM` class for Generalized Linear Models. Here we import and build the model.\n",
        "\n",
        "The `GLM` class takes the training labels, training features, and family, which is the family of distributions to which we assume our prediciton errors belong. Some potentially good choices for family include Gaussian, Gamma, and Logit.\n",
        "\n",
        "1. Run the code below and review the results."
      ]
    },
    {
      "cell_type": "code",
      "execution_count": 96,
      "metadata": {
        "id": "cxUdD_LhdnN_",
        "colab": {
          "base_uri": "https://localhost:8080/"
        },
        "outputId": "88f05df7-f7c6-46ed-83c9-d1c7fc78a053"
      },
      "outputs": [
        {
          "output_type": "stream",
          "name": "stdout",
          "text": [
            "                 Generalized Linear Model Regression Results                  \n",
            "==============================================================================\n",
            "Dep. Variable:                      y   No. Observations:                   66\n",
            "Model:                            GLM   Df Residuals:                       35\n",
            "Model Family:                Gaussian   Df Model:                           30\n",
            "Link Function:               identity   Scale:                          17311.\n",
            "Method:                          IRLS   Log-Likelihood:                -394.77\n",
            "Date:                Sat, 05 Feb 2022   Deviance:                   6.0590e+05\n",
            "Time:                        22:39:42   Pearson chi2:                 6.06e+05\n",
            "No. Iterations:                     3                                         \n",
            "Covariance Type:            nonrobust                                         \n",
            "====================================================================================\n",
            "                       coef    std err          z      P>|z|      [0.025      0.975]\n",
            "------------------------------------------------------------------------------------\n",
            "const               85.6077     49.748      1.721      0.085     -11.897     183.113\n",
            "main_S60_1       -8.167e-14   9.44e-14     -0.865      0.387   -2.67e-13    1.03e-13\n",
            "main_S60_2       -7.593e-14   1.06e-13     -0.714      0.476   -2.85e-13    1.33e-13\n",
            "main_type_SP100D     7.0000    186.072      0.038      0.970    -357.694     371.694\n",
            "main_type_S60D_1     7.0000    263.146      0.027      0.979    -508.756     522.756\n",
            "main_type_S60D_2   -19.1519     79.194     -0.242      0.809    -174.368     136.065\n",
            "main_type_S70       99.2903     55.613      1.785      0.074      -9.710     208.290\n",
            "main_type_S70D     -31.3196     64.446     -0.486      0.627    -157.632      94.993\n",
            "main_type_S75    -2.601e-13    1.5e-13     -1.734      0.083   -5.54e-13     3.4e-14\n",
            "main_type_S75D     -56.8655    132.073     -0.431      0.667    -315.723     201.992\n",
            "main_type_S80      -16.4954     70.523     -0.234      0.815    -154.718     121.727\n",
            "main_type_S80D      -6.8808     90.627     -0.076      0.939    -184.506     170.745\n",
            "main_type_S85        4.2553     72.879      0.058      0.953    -138.584     147.095\n",
            "main_type_S85P     155.3578     52.741      2.946      0.003      51.988     258.727\n",
            "main_type_P85D      -8.3761    120.323     -0.070      0.945    -244.204     227.452\n",
            "main_type_S90    -4.971e-14   6.71e-14     -0.740      0.459   -1.81e-13    8.19e-14\n",
            "main_type_S90D    4.659e-14    7.6e-14      0.613      0.540   -1.02e-13    1.96e-13\n",
            "main_type_S100D     89.1291     41.959      2.124      0.034       6.890     171.368\n",
            "engine_A           163.5645     57.666      2.836      0.005      50.541     276.588\n",
            "engine_B          3.544e-15   3.73e-14      0.095      0.924   -6.95e-14    7.66e-14\n",
            "engine_C         -3.363e-14   8.17e-14     -0.412      0.681   -1.94e-13    1.27e-13\n",
            "engine_D         -8.699e-15   3.58e-14     -0.243      0.808   -7.89e-14    6.15e-14\n",
            "engine_E           -54.3798     76.073     -0.715      0.475    -203.480      94.720\n",
            "engine_F         -4.402e-14   2.01e-13     -0.219      0.827   -4.38e-13     3.5e-13\n",
            "engine_G           -45.8038    101.623     -0.451      0.652    -244.980     153.373\n",
            "engine_H           1.34e-14   7.31e-14      0.183      0.855    -1.3e-13    1.57e-13\n",
            "engine_I         -2.643e-15   2.89e-15     -0.913      0.361   -8.32e-15    3.03e-15\n",
            "engine_J          3.415e-15   4.09e-15      0.836      0.403   -4.59e-15    1.14e-14\n",
            "engine_K         -9.391e-17   2.81e-15     -0.033      0.973   -5.61e-15    5.42e-15\n",
            "engine_L          8.732e-16   3.83e-15      0.228      0.820   -6.63e-15    8.38e-15\n",
            "engine_M         -1.655e-18   3.66e-18     -0.452      0.651   -8.83e-18    5.52e-18\n",
            "engine_N             7.0978    152.114      0.047      0.963    -291.039     305.235\n",
            "engine_O           -42.0268    118.975     -0.353      0.724    -275.213     191.159\n",
            "engine_P           -42.3038     57.524     -0.735      0.462    -155.049      70.441\n",
            "engine_Q            -7.7814     48.018     -0.162      0.871    -101.895      86.332\n",
            "engine_R                  0          0        nan        nan           0           0\n",
            "engine_S                  0          0        nan        nan           0           0\n",
            "engine_T                  0          0        nan        nan           0           0\n",
            "engine_U           -74.4355     57.666     -1.291      0.197    -187.459      38.588\n",
            "engine_V                  0          0        nan        nan           0           0\n",
            "engine_W                  0          0        nan        nan           0           0\n",
            "engine_X           -44.1514    154.418     -0.286      0.775    -346.805     258.502\n",
            "engine_Y                  0          0        nan        nan           0           0\n",
            "engine_Z          -148.5443     57.905     -2.565      0.010    -262.037     -35.052\n",
            "sales_1           -111.8025    101.604     -1.100      0.271    -310.943      87.338\n",
            "sales_2                   0          0        nan        nan           0           0\n",
            "sales_3             -8.0760    101.112     -0.080      0.936    -206.252     190.100\n",
            "sales_4            -11.0760    101.112     -0.110      0.913    -209.252     187.100\n",
            "sales_5            -35.2279    135.280     -0.260      0.795    -300.372     229.917\n",
            "sales_6                   0          0        nan        nan           0           0\n",
            "sales_7            -82.8025    101.604     -0.815      0.415    -281.943     116.338\n",
            "sales_8            -19.9608     60.531     -0.330      0.742    -138.599      98.678\n",
            "sales_9            -42.7115     57.374     -0.744      0.457    -155.162      69.739\n",
            "sales_10           309.2103    126.686      2.441      0.015      60.910     557.511\n",
            "sales_11           374.9313    139.085      2.696      0.007     102.330     647.533\n",
            "sales_12                  0          0        nan        nan           0           0\n",
            "sales_13                  0          0        nan        nan           0           0\n",
            "sales_14                  0          0        nan        nan           0           0\n",
            "sales_15                  0          0        nan        nan           0           0\n",
            "sales_16                  0          0        nan        nan           0           0\n",
            "sales_17           -62.9454    155.758     -0.404      0.686    -368.226     242.335\n",
            "sales_18                  0          0        nan        nan           0           0\n",
            "sales_19                  0          0        nan        nan           0           0\n",
            "sales_20                  0          0        nan        nan           0           0\n",
            "sales_21           -42.3038     57.524     -0.735      0.462    -155.049      70.441\n",
            "sales_22                  0          0        nan        nan           0           0\n",
            "sales_23                  0          0        nan        nan           0           0\n",
            "sales_24           -72.2316     54.034     -1.337      0.181    -178.137      33.674\n",
            "sales_25            80.2103    126.686      0.633      0.527    -168.090     328.511\n",
            "sales_26           -45.8038    101.623     -0.451      0.652    -244.980     153.373\n",
            "sales_27                  0          0        nan        nan           0           0\n",
            "sales_28          -143.8025    101.604     -1.415      0.157    -342.943      55.338\n",
            "sales_29                  0          0        nan        nan           0           0\n",
            "sales_30                  0          0        nan        nan           0           0\n",
            "====================================================================================\n"
          ]
        },
        {
          "output_type": "stream",
          "name": "stderr",
          "text": [
            "/usr/local/lib/python3.7/dist-packages/statsmodels/tsa/tsatools.py:117: FutureWarning: In a future version of pandas all arguments of concat except for the argument 'objs' will be keyword-only\n",
            "  x = pd.concat(x[::order], 1)\n",
            "/usr/local/lib/python3.7/dist-packages/statsmodels/base/model.py:1294: RuntimeWarning: invalid value encountered in true_divide\n",
            "  return self.params / self.bse\n"
          ]
        }
      ],
      "source": [
        "import statsmodels.api as sm\n",
        "X_train_with_ones = sm.add_constant(X_train)\n",
        "glm = sm.GLM(y_train, X_train_with_ones, family=sm.families.Gaussian())\n",
        "glm_results = glm.fit()\n",
        "print(glm_results.summary())"
      ]
    },
    {
      "cell_type": "markdown",
      "metadata": {
        "id": "7IAchWHodnOB"
      },
      "source": [
        "2. Use the model created above to generate predictions."
      ]
    },
    {
      "cell_type": "code",
      "source": [
        "X_train_with_ones.shape, sm.add_constant(X_test).shape"
      ],
      "metadata": {
        "colab": {
          "base_uri": "https://localhost:8080/"
        },
        "id": "Wp6u9dLHDDPK",
        "outputId": "9026ca40-4844-494d-d576-e06518502041"
      },
      "execution_count": 99,
      "outputs": [
        {
          "output_type": "stream",
          "name": "stderr",
          "text": [
            "/usr/local/lib/python3.7/dist-packages/statsmodels/tsa/tsatools.py:117: FutureWarning: In a future version of pandas all arguments of concat except for the argument 'objs' will be keyword-only\n",
            "  x = pd.concat(x[::order], 1)\n"
          ]
        },
        {
          "output_type": "execute_result",
          "data": {
            "text/plain": [
              "((66, 74), (71, 74))"
            ]
          },
          "metadata": {},
          "execution_count": 99
        }
      ]
    },
    {
      "cell_type": "code",
      "execution_count": 101,
      "metadata": {
        "id": "XLTsITX7dnOC",
        "colab": {
          "base_uri": "https://localhost:8080/"
        },
        "outputId": "d17d3d8d-fbb7-4315-9ce5-cf5ffeb9656c"
      },
      "outputs": [
        {
          "output_type": "stream",
          "name": "stderr",
          "text": [
            "/usr/local/lib/python3.7/dist-packages/statsmodels/tsa/tsatools.py:117: FutureWarning: In a future version of pandas all arguments of concat except for the argument 'objs' will be keyword-only\n",
            "  x = pd.concat(x[::order], 1)\n"
          ]
        }
      ],
      "source": [
        "y_pred_GLM = glm_results.predict(sm.add_constant(X_test))# [YOUR CODE HERE]\n",
        "y_pred_GLM[y_pred_GLM < 0] = 0"
      ]
    },
    {
      "cell_type": "markdown",
      "metadata": {
        "id": "JUJXcpE5j-PU"
      },
      "source": [
        "3. Calculate the MSE and R^2 score."
      ]
    },
    {
      "cell_type": "code",
      "execution_count": 102,
      "metadata": {
        "colab": {
          "base_uri": "https://localhost:8080/"
        },
        "id": "U3N6ikPXj-PV",
        "outputId": "a1979d63-6657-431e-a9aa-38dd6c28e405"
      },
      "outputs": [
        {
          "output_type": "stream",
          "name": "stdout",
          "text": [
            "6199.3036644195145\n",
            "0.5977653265103127\n"
          ]
        }
      ],
      "source": [
        "print(MSE(y_test, y_pred_GLM))\n",
        "print(r2_score(y_test, y_pred_GLM))\n",
        "# [YOUR CODE HERE]"
      ]
    },
    {
      "cell_type": "markdown",
      "metadata": {
        "id": "2dLuOuKEj-PW"
      },
      "source": [
        "4. Make a plot showing both the true values (`y_test`) and the predicted values (`y_pred_GLM`)."
      ]
    },
    {
      "cell_type": "code",
      "execution_count": 103,
      "metadata": {
        "colab": {
          "base_uri": "https://localhost:8080/",
          "height": 282
        },
        "id": "LN4bl_f2j-PW",
        "outputId": "4f6694d9-50c1-40ef-e60b-d5f3260a8d5d"
      },
      "outputs": [
        {
          "output_type": "execute_result",
          "data": {
            "text/plain": [
              "[<matplotlib.lines.Line2D at 0x7f56af0dac10>]"
            ]
          },
          "metadata": {},
          "execution_count": 103
        },
        {
          "output_type": "display_data",
          "data": {
            "image/png": "[encoded data removed]",
            "text/plain": [
              "<Figure size 432x288 with 1 Axes>"
            ]
          },
          "metadata": {
            "needs_background": "light"
          }
        }
      ],
      "source": [
        "# [YOUR CODE HERE]\n",
        "plt.plot(y_test,c='b')\n",
        "plt.plot(y_pred_GLM,c='r')"
      ]
    },
    {
      "cell_type": "markdown",
      "metadata": {
        "id": "Vld0rNUcdnOG"
      },
      "source": [
        "### Random Forest Regression\n",
        "\n",
        "5. Use the `RandomForestRegressor` from scikit-learn to train a model.\n",
        "\n",
        "    The relevant parameters are the `max_depth` of the trees and the `random_state` (used so your code will always yield the same results).\n",
        "    \n",
        "    Note: we don't need to add a column of ones for non-linear models like Random Forests."
      ]
    },
    {
      "cell_type": "code",
      "execution_count": 104,
      "metadata": {
        "id": "EbxRUm3UdnOG",
        "colab": {
          "base_uri": "https://localhost:8080/"
        },
        "outputId": "3de2b2a6-66fe-4b3b-affd-1f0a6ae304f1"
      },
      "outputs": [
        {
          "output_type": "execute_result",
          "data": {
            "text/plain": [
              "RandomForestRegressor(max_depth=5, random_state=0)"
            ]
          },
          "metadata": {},
          "execution_count": 104
        }
      ],
      "source": [
        "from sklearn.ensemble import RandomForestRegressor\n",
        "regr = RandomForestRegressor(max_depth=5, random_state=0)\n",
        "regr.fit(X_train, y_train)\n",
        "# [YOUR CODE HERE]"
      ]
    },
    {
      "cell_type": "markdown",
      "metadata": {
        "id": "rQzAlOSbj-PY"
      },
      "source": [
        "6. Use the model created above to generate predictions."
      ]
    },
    {
      "cell_type": "code",
      "execution_count": 105,
      "metadata": {
        "id": "VtM1oJfej-PZ"
      },
      "outputs": [],
      "source": [
        "y_pred_RF = regr.predict(X_test)# [YOUR CODE HERE]\n",
        "y_pred_RF[y_pred_RF < 0] = 0"
      ]
    },
    {
      "cell_type": "markdown",
      "metadata": {
        "id": "JQrBgHHMj-Pa"
      },
      "source": [
        "7. Calculate the MSE and R^2 score."
      ]
    },
    {
      "cell_type": "code",
      "execution_count": 106,
      "metadata": {
        "colab": {
          "base_uri": "https://localhost:8080/"
        },
        "id": "R1w3Cn6Cj-Pa",
        "outputId": "1960d50d-1296-4b10-da23-8b68e34a227e"
      },
      "outputs": [
        {
          "output_type": "stream",
          "name": "stdout",
          "text": [
            "4308.133720398956\n",
            "0.720471708730718\n"
          ]
        }
      ],
      "source": [
        "# [YOUR CODE HERE]\n",
        "print(MSE(y_test, y_pred_RF))\n",
        "print(r2_score(y_test, y_pred_RF))"
      ]
    },
    {
      "cell_type": "markdown",
      "metadata": {
        "id": "NrIEs-Xoj-Pb"
      },
      "source": [
        "8. Make a plot showing both the true values (`y_test`) and the predicted values (`y_pred_GLM`)."
      ]
    },
    {
      "cell_type": "code",
      "execution_count": 107,
      "metadata": {
        "colab": {
          "base_uri": "https://localhost:8080/",
          "height": 282
        },
        "id": "3jbAwesej-Pc",
        "outputId": "db2eccbf-fd8f-45af-a404-b660f8ee275a"
      },
      "outputs": [
        {
          "output_type": "execute_result",
          "data": {
            "text/plain": [
              "[<matplotlib.lines.Line2D at 0x7f56ae160910>]"
            ]
          },
          "metadata": {},
          "execution_count": 107
        },
        {
          "output_type": "display_data",
          "data": {
            "image/png": "[encoded data removed]",
            "text/plain": [
              "<Figure size 432x288 with 1 Axes>"
            ]
          },
          "metadata": {
            "needs_background": "light"
          }
        }
      ],
      "source": [
        "# [YOUR CODE HERE]\n",
        "plt.plot(y_test,c='b')\n",
        "plt.plot(y_pred_RF,c='r')"
      ]
    },
    {
      "cell_type": "markdown",
      "metadata": {
        "id": "bxx1JrikdnON"
      },
      "source": [
        "\n",
        "## Task 7: Compare the Models\n",
        "\n",
        "1. Populate the table below with the results of your experiments above. Which models performed best?"
      ]
    },
    {
      "cell_type": "markdown",
      "metadata": {
        "id": "44MPnft4dnON"
      },
      "source": [
        "|Method      |RMSE             |R2               |\n",
        "|------------|-----------------|-----------------|\n",
        "| Gradient Descent | 8132 | 0.47|\n",
        "| Normal Equations | 6270 | 0.59 |\n",
        "| Regularized Normal Equations | 5682 | 0.63 |\n",
        "| Generalized Linear Model (GLM) | 6199 | 0.59 |\n",
        "| Random Forests | 4308 | 0.72 |\n"
      ]
    }
  ],
  "metadata": {
    "colab": {
      "collapsed_sections": [],
      "name": "week1_liveassignment.ipynb",
      "provenance": []
    },
    "kernelspec": {
      "display_name": "Python 3",
      "language": "python",
      "name": "python3"
    },
    "language_info": {
      "codemirror_mode": {
        "name": "ipython",
        "version": 3
      },
      "file_extension": ".py",
      "mimetype": "text/x-python",
      "name": "python",
      "nbconvert_exporter": "python",
      "pygments_lexer": "ipython3",
      "version": "3.8.5"
    }
  },
  "nbformat": 4,
  "nbformat_minor": 0
}