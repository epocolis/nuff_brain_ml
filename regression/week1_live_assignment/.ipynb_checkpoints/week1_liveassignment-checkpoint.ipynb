{
 "cells": [
  {
   "cell_type": "markdown",
   "metadata": {
    "id": "lNnTTMT9dnM4"
   },
   "source": [
    "# Today you are a Data Scientist at Tesla! \n",
    "\n",
    "You have been assigned a new project to look at car sales from Quarters 1-2 in California for 2019 to make predictions as to which cars will be sold more than the others in Q3 and Q4, to ensure enough inventory to meet demands!"
   ]
  },
  {
   "cell_type": "markdown",
   "metadata": {
    "id": "AQqh5DMaq9QW"
   },
   "source": [
    "### If running this notebook in Google Colab, run the following cell first to mount your Google Drive\n",
    "\n",
    "This mounts your Google Drive at the location `/content/drive` on the virtual machine running this notebook."
   ]
  },
  {
   "cell_type": "code",
   "execution_count": 9,
   "metadata": {
    "colab": {
     "base_uri": "https://localhost:8080/"
    },
    "executionInfo": {
     "elapsed": 197,
     "status": "ok",
     "timestamp": 1627687605649,
     "user": {
      "displayName": "Spencer Kent",
      "photoUrl": "",
      "userId": "07841346171340846448"
     },
     "user_tz": 420
    },
    "id": "Mqah54vN8CVB",
    "outputId": "8633c489-6439-4a66-dafd-cba26bc7e88d"
   },
   "outputs": [
    {
     "name": "stdout",
     "output_type": "stream",
     "text": [
      "This will only work on google collab!!!\n"
     ]
    }
   ],
   "source": [
    "try:\n",
    "    from google.colab import drive\n",
    "    drive.mount('/content/drive')\n",
    "except: \n",
    "    print(\"This will only work on google collab!!!\")"
   ]
  },
  {
   "cell_type": "markdown",
   "metadata": {
    "id": "v-eh9IKUfTdQ"
   },
   "source": [
    "## Task 1: Load the data"
   ]
  },
  {
   "cell_type": "markdown",
   "metadata": {
    "id": "OI6NP0JBdnM5"
   },
   "source": [
    "### Import the modules\n",
    "\n",
    "1. We'll be using numpy, pandas and matplotlib, so we start by importing them."
   ]
  },
  {
   "cell_type": "code",
   "execution_count": 10,
   "metadata": {
    "id": "WdNx3CHEdnM5"
   },
   "outputs": [],
   "source": [
    "import numpy as np\n",
    "import pandas as pd\n",
    "import matplotlib.pyplot as plt"
   ]
  },
  {
   "cell_type": "markdown",
   "metadata": {
    "id": "dM4fGT-ldnM8"
   },
   "source": [
    "### Read in the data\n",
    "\n",
    "2. Use pandas to read in the CSV file containing the sales data for Quarters 1 and 2. The file is called `sales_Q12_2019.csv`.\n",
    "\n",
    "    Note: Update `filepath` below to be where you saved the `sales_Q12_2019.csv` file (either on your computer if you're running the notebook locally, or in Google Drive if you're using Google Colab)."
   ]
  },
  {
   "cell_type": "code",
   "execution_count": 11,
   "metadata": {
    "id": "-s13HIEBdtGd"
   },
   "outputs": [],
   "source": [
    "# my copy of the Tesla sales data is located in my drive at /Datasets/week_1/\n",
    "filepath = 'sales_Q12_2019.csv'\n",
    "df_sales = pd.read_csv(filepath) # [YOUR CODE HERE]"
   ]
  },
  {
   "cell_type": "markdown",
   "metadata": {},
   "source": [
    "3. Examine the data's shape and first few rows."
   ]
  },
  {
   "cell_type": "code",
   "execution_count": 13,
   "metadata": {
    "id": "HdP5mSNQePPU"
   },
   "outputs": [
    {
     "data": {
      "text/plain": [
       "Index(['main_S60_1', 'main_S60_2', 'main_type_SP100D', 'main_type_S60D_1',\n",
       "       'main_type_S60D_2', 'main_type_S70', 'main_type_S70D', 'main_type_S75',\n",
       "       'main_type_S75D', 'main_type_S80', 'main_type_S80D', 'main_type_S85',\n",
       "       'main_type_S85P', 'main_type_P85D', 'main_type_S90', 'main_type_S90D',\n",
       "       'main_type_S100D', 'engine_A', 'engine_B', 'engine_C', 'engine_D',\n",
       "       'engine_E', 'engine_F', 'engine_G', 'engine_H', 'engine_I', 'engine_J',\n",
       "       'engine_K', 'engine_L', 'engine_M', 'engine_N', 'engine_O', 'engine_P',\n",
       "       'engine_Q', 'engine_R', 'engine_S', 'engine_T', 'engine_U', 'engine_V',\n",
       "       'engine_W', 'engine_X', 'engine_Y', 'engine_Z', 'sales_1', 'sales_2',\n",
       "       'sales_3', 'sales_4', 'sales_5', 'sales_6', 'sales_7', 'sales_8',\n",
       "       'sales_9', 'sales_10', 'sales_11', 'sales_12', 'sales_13', 'sales_14',\n",
       "       'sales_15', 'sales_16', 'sales_17', 'sales_18', 'sales_19', 'sales_20',\n",
       "       'sales_21', 'sales_22', 'sales_23', 'sales_24', 'sales_25', 'sales_26',\n",
       "       'sales_27', 'sales_28', 'sales_29', 'sales_30', 'MSRP', 'dealer_state',\n",
       "       'date'],\n",
       "      dtype='object')"
      ]
     },
     "execution_count": 13,
     "metadata": {},
     "output_type": "execute_result"
    }
   ],
   "source": [
    "# [YOUR CODE HERE]\n",
    "df_sales.shape\n",
    "df_sales.columns"
   ]
  },
  {
   "cell_type": "markdown",
   "metadata": {},
   "source": [
    "### Clean the data\n",
    "\n",
    "4. Notice that our dataset only contains dealers in California, so we can remove the `dealer_state` column. We also will be removing the `date` column (while we could possibly extract useful information from the date, we won't be using it for this exercise). Use the `.drop()` method to remove the two columns ([docs](https://pandas.pydata.org/docs/reference/api/pandas.DataFrame.drop.html)).\n",
    "\n",
    "    Use the `.head()` method to verify that they were removed correctly. If the DataFrame wasn't modified make sure you included the attribute `inplace=True` in the `.drop()` method."
   ]
  },
  {
   "cell_type": "code",
   "execution_count": 14,
   "metadata": {
    "id": "i-DThsrHdnNA"
   },
   "outputs": [],
   "source": [
    "# [YOUR CODE HERE]\n",
    "df_sales.drop([\"dealer_state\", \"date\"], inplace=True, axis=1)"
   ]
  },
  {
   "cell_type": "code",
   "execution_count": 18,
   "metadata": {},
   "outputs": [
    {
     "name": "stdout",
     "output_type": "stream",
     "text": [
      "<class 'pandas.core.frame.DataFrame'>\n",
      "RangeIndex: 5837 entries, 0 to 5836\n",
      "Data columns (total 74 columns):\n",
      " #   Column            Non-Null Count  Dtype\n",
      "---  ------            --------------  -----\n",
      " 0   main_S60_1        5837 non-null   int64\n",
      " 1   main_S60_2        5837 non-null   int64\n",
      " 2   main_type_SP100D  5837 non-null   int64\n",
      " 3   main_type_S60D_1  5837 non-null   int64\n",
      " 4   main_type_S60D_2  5837 non-null   int64\n",
      " 5   main_type_S70     5837 non-null   int64\n",
      " 6   main_type_S70D    5837 non-null   int64\n",
      " 7   main_type_S75     5837 non-null   int64\n",
      " 8   main_type_S75D    5837 non-null   int64\n",
      " 9   main_type_S80     5837 non-null   int64\n",
      " 10  main_type_S80D    5837 non-null   int64\n",
      " 11  main_type_S85     5837 non-null   int64\n",
      " 12  main_type_S85P    5837 non-null   int64\n",
      " 13  main_type_P85D    5837 non-null   int64\n",
      " 14  main_type_S90     5837 non-null   int64\n",
      " 15  main_type_S90D    5837 non-null   int64\n",
      " 16  main_type_S100D   5837 non-null   int64\n",
      " 17  engine_A          5837 non-null   int64\n",
      " 18  engine_B          5837 non-null   int64\n",
      " 19  engine_C          5837 non-null   int64\n",
      " 20  engine_D          5837 non-null   int64\n",
      " 21  engine_E          5837 non-null   int64\n",
      " 22  engine_F          5837 non-null   int64\n",
      " 23  engine_G          5837 non-null   int64\n",
      " 24  engine_H          5837 non-null   int64\n",
      " 25  engine_I          5837 non-null   int64\n",
      " 26  engine_J          5837 non-null   int64\n",
      " 27  engine_K          5837 non-null   int64\n",
      " 28  engine_L          5837 non-null   int64\n",
      " 29  engine_M          5837 non-null   int64\n",
      " 30  engine_N          5837 non-null   int64\n",
      " 31  engine_O          5837 non-null   int64\n",
      " 32  engine_P          5837 non-null   int64\n",
      " 33  engine_Q          5837 non-null   int64\n",
      " 34  engine_R          5837 non-null   int64\n",
      " 35  engine_S          5837 non-null   int64\n",
      " 36  engine_T          5837 non-null   int64\n",
      " 37  engine_U          5837 non-null   int64\n",
      " 38  engine_V          5837 non-null   int64\n",
      " 39  engine_W          5837 non-null   int64\n",
      " 40  engine_X          5837 non-null   int64\n",
      " 41  engine_Y          5837 non-null   int64\n",
      " 42  engine_Z          5837 non-null   int64\n",
      " 43  sales_1           5837 non-null   int64\n",
      " 44  sales_2           5837 non-null   int64\n",
      " 45  sales_3           5837 non-null   int64\n",
      " 46  sales_4           5837 non-null   int64\n",
      " 47  sales_5           5837 non-null   int64\n",
      " 48  sales_6           5837 non-null   int64\n",
      " 49  sales_7           5837 non-null   int64\n",
      " 50  sales_8           5837 non-null   int64\n",
      " 51  sales_9           5837 non-null   int64\n",
      " 52  sales_10          5837 non-null   int64\n",
      " 53  sales_11          5837 non-null   int64\n",
      " 54  sales_12          5837 non-null   int64\n",
      " 55  sales_13          5837 non-null   int64\n",
      " 56  sales_14          5837 non-null   int64\n",
      " 57  sales_15          5837 non-null   int64\n",
      " 58  sales_16          5837 non-null   int64\n",
      " 59  sales_17          5837 non-null   int64\n",
      " 60  sales_18          5837 non-null   int64\n",
      " 61  sales_19          5837 non-null   int64\n",
      " 62  sales_20          5837 non-null   int64\n",
      " 63  sales_21          5837 non-null   int64\n",
      " 64  sales_22          5837 non-null   int64\n",
      " 65  sales_23          5837 non-null   int64\n",
      " 66  sales_24          5837 non-null   int64\n",
      " 67  sales_25          5837 non-null   int64\n",
      " 68  sales_26          5837 non-null   int64\n",
      " 69  sales_27          5837 non-null   int64\n",
      " 70  sales_28          5837 non-null   int64\n",
      " 71  sales_29          5837 non-null   int64\n",
      " 72  sales_30          5837 non-null   int64\n",
      " 73  MSRP              5837 non-null   int64\n",
      "dtypes: int64(74)\n",
      "memory usage: 3.3 MB\n"
     ]
    }
   ],
   "source": [
    "df_sales.info()"
   ]
  },
  {
   "cell_type": "code",
   "execution_count": 15,
   "metadata": {},
   "outputs": [
    {
     "data": {
      "text/html": [
       "<div>\n",
       "<style scoped>\n",
       "    .dataframe tbody tr th:only-of-type {\n",
       "        vertical-align: middle;\n",
       "    }\n",
       "\n",
       "    .dataframe tbody tr th {\n",
       "        vertical-align: top;\n",
       "    }\n",
       "\n",
       "    .dataframe thead th {\n",
       "        text-align: right;\n",
       "    }\n",
       "</style>\n",
       "<table border=\"1\" class=\"dataframe\">\n",
       "  <thead>\n",
       "    <tr style=\"text-align: right;\">\n",
       "      <th></th>\n",
       "      <th>main_S60_1</th>\n",
       "      <th>main_S60_2</th>\n",
       "      <th>main_type_SP100D</th>\n",
       "      <th>main_type_S60D_1</th>\n",
       "      <th>main_type_S60D_2</th>\n",
       "      <th>main_type_S70</th>\n",
       "      <th>main_type_S70D</th>\n",
       "      <th>main_type_S75</th>\n",
       "      <th>main_type_S75D</th>\n",
       "      <th>main_type_S80</th>\n",
       "      <th>...</th>\n",
       "      <th>sales_22</th>\n",
       "      <th>sales_23</th>\n",
       "      <th>sales_24</th>\n",
       "      <th>sales_25</th>\n",
       "      <th>sales_26</th>\n",
       "      <th>sales_27</th>\n",
       "      <th>sales_28</th>\n",
       "      <th>sales_29</th>\n",
       "      <th>sales_30</th>\n",
       "      <th>MSRP</th>\n",
       "    </tr>\n",
       "  </thead>\n",
       "  <tbody>\n",
       "    <tr>\n",
       "      <th>0</th>\n",
       "      <td>0</td>\n",
       "      <td>0</td>\n",
       "      <td>0</td>\n",
       "      <td>0</td>\n",
       "      <td>0</td>\n",
       "      <td>1</td>\n",
       "      <td>0</td>\n",
       "      <td>0</td>\n",
       "      <td>0</td>\n",
       "      <td>0</td>\n",
       "      <td>...</td>\n",
       "      <td>0</td>\n",
       "      <td>0</td>\n",
       "      <td>0</td>\n",
       "      <td>0</td>\n",
       "      <td>0</td>\n",
       "      <td>0</td>\n",
       "      <td>0</td>\n",
       "      <td>0</td>\n",
       "      <td>0</td>\n",
       "      <td>44610</td>\n",
       "    </tr>\n",
       "    <tr>\n",
       "      <th>1</th>\n",
       "      <td>0</td>\n",
       "      <td>0</td>\n",
       "      <td>0</td>\n",
       "      <td>0</td>\n",
       "      <td>0</td>\n",
       "      <td>0</td>\n",
       "      <td>0</td>\n",
       "      <td>0</td>\n",
       "      <td>0</td>\n",
       "      <td>0</td>\n",
       "      <td>...</td>\n",
       "      <td>0</td>\n",
       "      <td>0</td>\n",
       "      <td>0</td>\n",
       "      <td>0</td>\n",
       "      <td>0</td>\n",
       "      <td>0</td>\n",
       "      <td>0</td>\n",
       "      <td>0</td>\n",
       "      <td>0</td>\n",
       "      <td>41505</td>\n",
       "    </tr>\n",
       "    <tr>\n",
       "      <th>2</th>\n",
       "      <td>0</td>\n",
       "      <td>0</td>\n",
       "      <td>0</td>\n",
       "      <td>0</td>\n",
       "      <td>0</td>\n",
       "      <td>0</td>\n",
       "      <td>0</td>\n",
       "      <td>0</td>\n",
       "      <td>0</td>\n",
       "      <td>0</td>\n",
       "      <td>...</td>\n",
       "      <td>0</td>\n",
       "      <td>0</td>\n",
       "      <td>0</td>\n",
       "      <td>0</td>\n",
       "      <td>0</td>\n",
       "      <td>0</td>\n",
       "      <td>0</td>\n",
       "      <td>0</td>\n",
       "      <td>0</td>\n",
       "      <td>58890</td>\n",
       "    </tr>\n",
       "    <tr>\n",
       "      <th>3</th>\n",
       "      <td>0</td>\n",
       "      <td>0</td>\n",
       "      <td>0</td>\n",
       "      <td>0</td>\n",
       "      <td>0</td>\n",
       "      <td>0</td>\n",
       "      <td>0</td>\n",
       "      <td>0</td>\n",
       "      <td>0</td>\n",
       "      <td>0</td>\n",
       "      <td>...</td>\n",
       "      <td>0</td>\n",
       "      <td>0</td>\n",
       "      <td>0</td>\n",
       "      <td>0</td>\n",
       "      <td>0</td>\n",
       "      <td>0</td>\n",
       "      <td>0</td>\n",
       "      <td>0</td>\n",
       "      <td>0</td>\n",
       "      <td>51055</td>\n",
       "    </tr>\n",
       "    <tr>\n",
       "      <th>4</th>\n",
       "      <td>0</td>\n",
       "      <td>0</td>\n",
       "      <td>0</td>\n",
       "      <td>0</td>\n",
       "      <td>0</td>\n",
       "      <td>0</td>\n",
       "      <td>0</td>\n",
       "      <td>0</td>\n",
       "      <td>0</td>\n",
       "      <td>0</td>\n",
       "      <td>...</td>\n",
       "      <td>0</td>\n",
       "      <td>0</td>\n",
       "      <td>0</td>\n",
       "      <td>0</td>\n",
       "      <td>0</td>\n",
       "      <td>0</td>\n",
       "      <td>0</td>\n",
       "      <td>0</td>\n",
       "      <td>0</td>\n",
       "      <td>70830</td>\n",
       "    </tr>\n",
       "  </tbody>\n",
       "</table>\n",
       "<p>5 rows × 74 columns</p>\n",
       "</div>"
      ],
      "text/plain": [
       "   main_S60_1  main_S60_2  main_type_SP100D  main_type_S60D_1  \\\n",
       "0           0           0                 0                 0   \n",
       "1           0           0                 0                 0   \n",
       "2           0           0                 0                 0   \n",
       "3           0           0                 0                 0   \n",
       "4           0           0                 0                 0   \n",
       "\n",
       "   main_type_S60D_2  main_type_S70  main_type_S70D  main_type_S75  \\\n",
       "0                 0              1               0              0   \n",
       "1                 0              0               0              0   \n",
       "2                 0              0               0              0   \n",
       "3                 0              0               0              0   \n",
       "4                 0              0               0              0   \n",
       "\n",
       "   main_type_S75D  main_type_S80  ...  sales_22  sales_23  sales_24  sales_25  \\\n",
       "0               0              0  ...         0         0         0         0   \n",
       "1               0              0  ...         0         0         0         0   \n",
       "2               0              0  ...         0         0         0         0   \n",
       "3               0              0  ...         0         0         0         0   \n",
       "4               0              0  ...         0         0         0         0   \n",
       "\n",
       "   sales_26  sales_27  sales_28  sales_29  sales_30   MSRP  \n",
       "0         0         0         0         0         0  44610  \n",
       "1         0         0         0         0         0  41505  \n",
       "2         0         0         0         0         0  58890  \n",
       "3         0         0         0         0         0  51055  \n",
       "4         0         0         0         0         0  70830  \n",
       "\n",
       "[5 rows x 74 columns]"
      ]
     },
     "execution_count": 15,
     "metadata": {},
     "output_type": "execute_result"
    }
   ],
   "source": [
    "df_sales.head()"
   ]
  },
  {
   "cell_type": "markdown",
   "metadata": {
    "id": "qqdkmnCodnNC"
   },
   "source": [
    "### Read in the second dataset\n",
    "\n",
    "5. Follow the same syntax as above to read in the `sales_Q34_2019.csv` dataset. Note that this dataset doesn't have the `dealer_state` or `date` column, so we don't need to do the same cleanup.\n",
    "\n",
    "    After you've read in the data, use the `.head()` method to take a look at the first few rows."
   ]
  },
  {
   "cell_type": "code",
   "execution_count": 16,
   "metadata": {
    "id": "bJpTgHxAdnND"
   },
   "outputs": [
    {
     "data": {
      "text/html": [
       "<div>\n",
       "<style scoped>\n",
       "    .dataframe tbody tr th:only-of-type {\n",
       "        vertical-align: middle;\n",
       "    }\n",
       "\n",
       "    .dataframe tbody tr th {\n",
       "        vertical-align: top;\n",
       "    }\n",
       "\n",
       "    .dataframe thead th {\n",
       "        text-align: right;\n",
       "    }\n",
       "</style>\n",
       "<table border=\"1\" class=\"dataframe\">\n",
       "  <thead>\n",
       "    <tr style=\"text-align: right;\">\n",
       "      <th></th>\n",
       "      <th>main_S60_1</th>\n",
       "      <th>main_S60_2</th>\n",
       "      <th>main_type_SP100D</th>\n",
       "      <th>main_type_S60D_1</th>\n",
       "      <th>main_type_S60D_2</th>\n",
       "      <th>main_type_S70</th>\n",
       "      <th>main_type_S70D</th>\n",
       "      <th>main_type_S75</th>\n",
       "      <th>main_type_S75D</th>\n",
       "      <th>main_type_S80</th>\n",
       "      <th>...</th>\n",
       "      <th>sales_22</th>\n",
       "      <th>sales_23</th>\n",
       "      <th>sales_24</th>\n",
       "      <th>sales_25</th>\n",
       "      <th>sales_26</th>\n",
       "      <th>sales_27</th>\n",
       "      <th>sales_28</th>\n",
       "      <th>sales_29</th>\n",
       "      <th>sales_30</th>\n",
       "      <th>MSRP</th>\n",
       "    </tr>\n",
       "  </thead>\n",
       "  <tbody>\n",
       "    <tr>\n",
       "      <th>0</th>\n",
       "      <td>0</td>\n",
       "      <td>0</td>\n",
       "      <td>0</td>\n",
       "      <td>0</td>\n",
       "      <td>0</td>\n",
       "      <td>1</td>\n",
       "      <td>0</td>\n",
       "      <td>0</td>\n",
       "      <td>0</td>\n",
       "      <td>0</td>\n",
       "      <td>...</td>\n",
       "      <td>0</td>\n",
       "      <td>0</td>\n",
       "      <td>1</td>\n",
       "      <td>0</td>\n",
       "      <td>0</td>\n",
       "      <td>0</td>\n",
       "      <td>0</td>\n",
       "      <td>0</td>\n",
       "      <td>0</td>\n",
       "      <td>51355</td>\n",
       "    </tr>\n",
       "    <tr>\n",
       "      <th>1</th>\n",
       "      <td>0</td>\n",
       "      <td>0</td>\n",
       "      <td>0</td>\n",
       "      <td>0</td>\n",
       "      <td>0</td>\n",
       "      <td>0</td>\n",
       "      <td>0</td>\n",
       "      <td>0</td>\n",
       "      <td>0</td>\n",
       "      <td>0</td>\n",
       "      <td>...</td>\n",
       "      <td>0</td>\n",
       "      <td>0</td>\n",
       "      <td>0</td>\n",
       "      <td>0</td>\n",
       "      <td>0</td>\n",
       "      <td>0</td>\n",
       "      <td>0</td>\n",
       "      <td>0</td>\n",
       "      <td>0</td>\n",
       "      <td>71580</td>\n",
       "    </tr>\n",
       "    <tr>\n",
       "      <th>2</th>\n",
       "      <td>0</td>\n",
       "      <td>0</td>\n",
       "      <td>0</td>\n",
       "      <td>0</td>\n",
       "      <td>0</td>\n",
       "      <td>0</td>\n",
       "      <td>0</td>\n",
       "      <td>0</td>\n",
       "      <td>0</td>\n",
       "      <td>0</td>\n",
       "      <td>...</td>\n",
       "      <td>0</td>\n",
       "      <td>0</td>\n",
       "      <td>0</td>\n",
       "      <td>0</td>\n",
       "      <td>0</td>\n",
       "      <td>0</td>\n",
       "      <td>0</td>\n",
       "      <td>0</td>\n",
       "      <td>0</td>\n",
       "      <td>66790</td>\n",
       "    </tr>\n",
       "    <tr>\n",
       "      <th>3</th>\n",
       "      <td>0</td>\n",
       "      <td>0</td>\n",
       "      <td>0</td>\n",
       "      <td>0</td>\n",
       "      <td>0</td>\n",
       "      <td>0</td>\n",
       "      <td>0</td>\n",
       "      <td>0</td>\n",
       "      <td>0</td>\n",
       "      <td>0</td>\n",
       "      <td>...</td>\n",
       "      <td>0</td>\n",
       "      <td>0</td>\n",
       "      <td>0</td>\n",
       "      <td>0</td>\n",
       "      <td>0</td>\n",
       "      <td>0</td>\n",
       "      <td>0</td>\n",
       "      <td>0</td>\n",
       "      <td>0</td>\n",
       "      <td>72330</td>\n",
       "    </tr>\n",
       "    <tr>\n",
       "      <th>4</th>\n",
       "      <td>0</td>\n",
       "      <td>0</td>\n",
       "      <td>0</td>\n",
       "      <td>0</td>\n",
       "      <td>0</td>\n",
       "      <td>0</td>\n",
       "      <td>0</td>\n",
       "      <td>0</td>\n",
       "      <td>0</td>\n",
       "      <td>0</td>\n",
       "      <td>...</td>\n",
       "      <td>0</td>\n",
       "      <td>0</td>\n",
       "      <td>0</td>\n",
       "      <td>0</td>\n",
       "      <td>0</td>\n",
       "      <td>0</td>\n",
       "      <td>0</td>\n",
       "      <td>0</td>\n",
       "      <td>0</td>\n",
       "      <td>55370</td>\n",
       "    </tr>\n",
       "  </tbody>\n",
       "</table>\n",
       "<p>5 rows × 74 columns</p>\n",
       "</div>"
      ],
      "text/plain": [
       "   main_S60_1  main_S60_2  main_type_SP100D  main_type_S60D_1  \\\n",
       "0           0           0                 0                 0   \n",
       "1           0           0                 0                 0   \n",
       "2           0           0                 0                 0   \n",
       "3           0           0                 0                 0   \n",
       "4           0           0                 0                 0   \n",
       "\n",
       "   main_type_S60D_2  main_type_S70  main_type_S70D  main_type_S75  \\\n",
       "0                 0              1               0              0   \n",
       "1                 0              0               0              0   \n",
       "2                 0              0               0              0   \n",
       "3                 0              0               0              0   \n",
       "4                 0              0               0              0   \n",
       "\n",
       "   main_type_S75D  main_type_S80  ...  sales_22  sales_23  sales_24  sales_25  \\\n",
       "0               0              0  ...         0         0         1         0   \n",
       "1               0              0  ...         0         0         0         0   \n",
       "2               0              0  ...         0         0         0         0   \n",
       "3               0              0  ...         0         0         0         0   \n",
       "4               0              0  ...         0         0         0         0   \n",
       "\n",
       "   sales_26  sales_27  sales_28  sales_29  sales_30   MSRP  \n",
       "0         0         0         0         0         0  51355  \n",
       "1         0         0         0         0         0  71580  \n",
       "2         0         0         0         0         0  66790  \n",
       "3         0         0         0         0         0  72330  \n",
       "4         0         0         0         0         0  55370  \n",
       "\n",
       "[5 rows x 74 columns]"
      ]
     },
     "execution_count": 16,
     "metadata": {},
     "output_type": "execute_result"
    }
   ],
   "source": [
    "filepath = 'sales_Q34_2019.csv'\n",
    "df_pred = pd.read_csv(filepath)\n",
    "# [YOUR CODE HERE]\n",
    "df_pred.head()"
   ]
  },
  {
   "cell_type": "markdown",
   "metadata": {
    "id": "kcmsU-T1dnNF"
   },
   "source": [
    "## Task 2: Set up a regression problem \n",
    "\n",
    "We will be building a model to predict the number of each car type sold.\n",
    "\n",
    "If we look at the columns in the dataset, we'll notice that the first 73 tell us which type of car it is. For example, the row at index 1 has a 1 in these three columns: `main_type_S100D`, `engine_A`, and `sales_8`. Any other rows that have 1's in these same columns refers to the same car. You'll see index 18 is the same.\n",
    "\n",
    "For each of these unique combinations, we will be counting up the number of cars sold. Note that the final column (MSRP) will not be used.\n",
    "\n",
    "We will count up the number of rows for each unique combination of values for the first 73 columns.\n",
    "\n",
    "Since we will be doing this same calculation for both `df_sales` (the training set) and `df_pred` (the test set), we will write a function to avoid duplicating code.\n",
    "\n",
    "1. Write the function `get_features_and_targets` that takes in a quarterly sales DataFrame and produces matrices $\\mathbf{X}$ and $\\mathbf{Y}$, where $\\mathbf{X}$ has a row for each unique car ID and the corresponding row in $\\mathbf{Y}$ has the number of those cars sold in the quarter.\n",
    "\n",
    "    Note: For the `df_sales` dataset, there are 66 types of cars, so $\\mathbf{X}$ should have 66 rows and 73 columns."
   ]
  },
  {
   "cell_type": "code",
   "execution_count": null,
   "metadata": {},
   "outputs": [],
   "source": [
    "def convert_to_int(row): \n",
    "    s = \"\".join(row.values.astype(str))\n",
    "    return int(s,2)\n",
    "     \n",
    "df_sales['car_id'] = df_sales.iloc[:,0:73].apply(lambda row: convert_to_int(row), axis=1)\n",
    "print(df_sales.car_id.nunique(dropna = True))"
   ]
  },
  {
   "cell_type": "code",
   "execution_count": null,
   "metadata": {
    "id": "Mo5c3VhBkB33"
   },
   "outputs": [],
   "source": [
    "def get_features_and_targets(df):\n",
    "  # YOUR CODE HERE"
   ]
  },
  {
   "cell_type": "markdown",
   "metadata": {
    "id": "toTX3W89fX2P"
   },
   "source": [
    "2. Use the `get_features_and_targets()` function to create $\\mathbf{X}$, $\\mathbf{Y}$ pairs for both the training data (`df_sales`) and the test data (`df_pred`)."
   ]
  },
  {
   "cell_type": "code",
   "execution_count": null,
   "metadata": {
    "id": "Rf6Vj0ujhJ77"
   },
   "outputs": [],
   "source": [
    "X_train, y_train = None # [YOUR CODE HERE]\n",
    "X_test, y_test = None # [YOUR CODE HERE]"
   ]
  },
  {
   "cell_type": "markdown",
   "metadata": {},
   "source": [
    "3. Verify that the shapes of the four numpy arrays you just created are correct.\n",
    "\n",
    "    The training set should have 66 datapoints and the test set should have 71 rows. Verify this by looking at the number of rows in $\\mathbf{X}$ and number of values in $\\mathbf{Y}$.\n",
    "    \n",
    "    Both $\\mathbf{X}$'s should have 73 columns."
   ]
  },
  {
   "cell_type": "code",
   "execution_count": null,
   "metadata": {},
   "outputs": [],
   "source": [
    "# [YOUR CODE HERE]"
   ]
  },
  {
   "cell_type": "markdown",
   "metadata": {
    "id": "8d7BSjsQdnNV"
   },
   "source": [
    "Note that the Q12 and Q34 datasets contain differing numbers of distinct cars. Thus some new models were introduced by Q3, but were any discontinued by the beginning of Q3? Let's find out.\n",
    "\n",
    "4. Print the total number of types of cars (e.g. types of cars that were sold in either Q12, Q34, or both). In mathematical notation, if the set of cars sold in Q12 is $\\mathcal{A}$ and the set of cars sold in Q34 is $\\mathcal{B}$, we're asking for the size of the *union* of these two sets $|\\mathcal{A} \\cup \\mathcal{B}|$.\n",
    "\n",
    "    Note: The notation $|\\cdots|$ indicates measurement of the size of a set (the number of distinct items). (Mathematicians usually refer to it as the *cardinality*.)\n",
    "    \n",
    "    Hint: Create a single DataFrame with all the data and use the `get_features_and_targets()` function."
   ]
  },
  {
   "cell_type": "code",
   "execution_count": null,
   "metadata": {
    "id": "KOEhFSxin_te"
   },
   "outputs": [],
   "source": [
    "# [YOUR CODE HERE]"
   ]
  },
  {
   "cell_type": "markdown",
   "metadata": {
    "id": "8KgAprxHqcv2"
   },
   "source": [
    "5. A handy little fact from set theory is that $|\\mathcal{A} \\cup \\mathcal{B}| = |\\mathcal{A}| + |\\mathcal{B}| - |\\mathcal{A} \\cap \\mathcal{B}|$, where $\\cap$ is the *intersection* of $\\mathcal{A}$ and $\\mathcal{B}$, things that are in **both** $\\mathcal{A}$ and $\\mathcal{B}$. Use this fact, and what you've computed above, to print the number of models that were sold in both Q12 and Q34."
   ]
  },
  {
   "cell_type": "code",
   "execution_count": null,
   "metadata": {
    "id": "56A3357NswMG"
   },
   "outputs": [],
   "source": [
    "# [YOUR CODE HERE]"
   ]
  },
  {
   "cell_type": "markdown",
   "metadata": {
    "id": "clPi1NVCunoy"
   },
   "source": [
    "6. How many cars that were sold in Q12 were not sold in Q34?"
   ]
  },
  {
   "cell_type": "code",
   "execution_count": null,
   "metadata": {
    "colab": {
     "base_uri": "https://localhost:8080/"
    },
    "executionInfo": {
     "elapsed": 12,
     "status": "ok",
     "timestamp": 1627687607185,
     "user": {
      "displayName": "Spencer Kent",
      "photoUrl": "",
      "userId": "07841346171340846448"
     },
     "user_tz": 420
    },
    "id": "VmMdZNuzu5Z-",
    "outputId": "cf6cf2d7-1b6c-472a-c1d7-dfd5fa885816"
   },
   "outputs": [],
   "source": [
    "# [YOUR CODE HERE]"
   ]
  },
  {
   "cell_type": "markdown",
   "metadata": {
    "id": "04zz5QOkvtij"
   },
   "source": [
    "7. How many cars were sold in Q34 but not in Q12?"
   ]
  },
  {
   "cell_type": "code",
   "execution_count": null,
   "metadata": {
    "id": "stRzG8THvyeA"
   },
   "outputs": [],
   "source": [
    "# [YOUR CODE HERE]"
   ]
  },
  {
   "cell_type": "markdown",
   "metadata": {
    "id": "3qn6SNBNdnNb"
   },
   "source": [
    "## Task 3: Visualize the training and test targets"
   ]
  },
  {
   "cell_type": "markdown",
   "metadata": {
    "id": "OzsF0PfoyoyS"
   },
   "source": [
    "This is open-ended and we're not expecting a particular visualization, just show us what comes comes to your mind!"
   ]
  },
  {
   "cell_type": "code",
   "execution_count": null,
   "metadata": {
    "id": "oFVGTPYV2jrF"
   },
   "outputs": [],
   "source": [
    "# [YOUR CODE HERE]"
   ]
  },
  {
   "cell_type": "markdown",
   "metadata": {
    "id": "9g-2fwgydnNh"
   },
   "source": [
    "## Task 4: Fit a linear model with gradient descent"
   ]
  },
  {
   "cell_type": "markdown",
   "metadata": {
    "id": "oriL0PcVOlw-"
   },
   "source": [
    "1. Set hyperparameters for learning rate and maximum number of iterations through the training data."
   ]
  },
  {
   "cell_type": "code",
   "execution_count": null,
   "metadata": {
    "id": "QKIv3936OfVk"
   },
   "outputs": [],
   "source": [
    "# these are good starting values, though you can play around with them\n",
    "s_learning_rate = 0.001\n",
    "s_max_iteration = 1000"
   ]
  },
  {
   "cell_type": "markdown",
   "metadata": {
    "id": "Lx-wS125dnNk"
   },
   "source": [
    "### Hypothesis Function\n",
    "\n",
    "2. Define your hypothesis function $h(\\cdot)$ (which you use to make predictions $\\hat{\\mathbf{Y}}$ as the matrix product of your feature data $\\mathbf{X}$ and parameters $\\boldsymbol{\\theta}$. $\\boldsymbol{\\theta}$, which you'll initialize in the training loop (below) is a column vector with a value for each feature in the training data, plus one for bias.\n",
    "\n",
    "    Note: We'll deal with adding the column of 1's to $\\mathbf{X}$ below in the gradient descent function, so don't worry about it now."
   ]
  },
  {
   "cell_type": "code",
   "execution_count": null,
   "metadata": {
    "id": "SI8oTUQsdnNk"
   },
   "outputs": [],
   "source": [
    "def h(theta, X):\n",
    "    # [YOUR CODE HERE]"
   ]
  },
  {
   "cell_type": "markdown",
   "metadata": {
    "id": "7LW5F5uhdnNm"
   },
   "source": [
    "3. Define your loss function as the MSE (mean squared error) between your actual and predicted $\\mathbf{Y}$ values. \n",
    "\n",
    "    Recall that the predicted $\\mathbf{Y}$ values, $\\hat{\\mathbf{Y}}$, are a function of $\\boldsymbol{\\theta}$ and $\\mathbf{X}$.\n"
   ]
  },
  {
   "cell_type": "code",
   "execution_count": null,
   "metadata": {
    "id": "KzRpZec4dnNm"
   },
   "outputs": [],
   "source": [
    "def loss(theta, X, y):\n",
    "    # [YOUR CODE HERE]"
   ]
  },
  {
   "cell_type": "markdown",
   "metadata": {
    "id": "PCLgRXivdnNp"
   },
   "source": [
    "### Gradient of Hypothesis Function\n",
    "\n",
    "One can verify through straightforward (if somewhat tedious) multivariable calculus that the gradient of the loss function $J$ with respect to the parameters $\\theta$ is \n",
    "\n",
    "$$ \\frac{\\partial J}{\\partial \\boldsymbol{\\theta}} = - \\frac{1}{m} X^T \\cdot (Y - \\hat{Y})$$\n",
    "\n",
    "Where $m$ is the number of data samples, the number of rows in $\\mathbf{X}$ and $\\mathbf{Y}$.\n",
    "\n",
    "Note that the $\\mathbf{X}$ here is the one that has been augmented with a bias column. \n",
    "\n",
    "4. Write the `gradient()` function to compute this gradient."
   ]
  },
  {
   "cell_type": "code",
   "execution_count": null,
   "metadata": {
    "id": "3zYnvBa1dnNp"
   },
   "outputs": [],
   "source": [
    "def gradient(theta, X, y):\n",
    "    # [YOUR CODE HERE]"
   ]
  },
  {
   "cell_type": "markdown",
   "metadata": {
    "id": "fo-NxmSLdnNr"
   },
   "source": [
    "### Gradient Descent\n",
    "\n",
    "5. Complete the `stochastic_gradient_descent()` function to train your linear regression model with gradient descent, i.e. calculate $\\frac{\\partial J}{\\partial \\theta}$ and update $\\theta$. Recall that the general gradient descent update formula is $\\theta := \\theta - \\alpha \\frac{\\partial J}{\\partial \\theta}$, with $\\alpha$ the stepsize. We've provided the skeleton of a stochastic gradient descent function, but you're welcome to experiment with batch and/or minibatch gradient descent. Also recall that the aforementioned gradient descent methods differ in how frequently they calculate $\\frac{\\partial J}{\\partial \\theta}$ and update $\\theta$. Notice in the first step we initialize $\\boldsymbol{\\theta}$ to all zeros and we temporarily prepend a column of $1$'s to the features, which corresponds to the bias parameter.\n",
    "\n",
    "    Hint: Be mindful of the shapes of the arrays that you pass into the `gradient()` function. It should be two 2D arrays."
   ]
  },
  {
   "cell_type": "code",
   "execution_count": null,
   "metadata": {
    "id": "g6hbmDgkdnNs"
   },
   "outputs": [],
   "source": [
    "def stochastic_gradient_descent(X, y, learning_rate, max_iteration, print_interval):\n",
    "    theta = np.zeros((X.shape[1] + 1, 1))\n",
    "    X_with_ones = np.hstack([np.ones([X.shape[0], 1]), X])  # prepend a column of 1's\n",
    "    cost = np.zeros(max_iteration)  # initialize cost as array of zeros\n",
    "    for i in range(max_iteration):\n",
    "        for j in range(X.shape[0]):\n",
    "            # [YOUR CODE HERE]\n",
    "            # Compute the gradient from the current row in X and y.\n",
    "            # Use that result to update theta.\n",
    "        cost[i] = loss(theta, X_with_ones, y) # Update the cost array for the current iteration\n",
    "    if i % print_interval == 0 :\n",
    "        print('iteration : ', i, ' loss : ', loss(theta, X_with_ones, y)) \n",
    "    return theta, cost"
   ]
  },
  {
   "cell_type": "markdown",
   "metadata": {},
   "source": [
    "6. Now we can run the `stochastic_gradient_descent()` function to find the optimal theta."
   ]
  },
  {
   "cell_type": "code",
   "execution_count": null,
   "metadata": {
    "id": "O084UJ8UdnNt"
   },
   "outputs": [],
   "source": [
    "s_theta, s_cost = stochastic_gradient_descent(X_train, y_train, s_learning_rate, s_max_iteration, 100)"
   ]
  },
  {
   "cell_type": "code",
   "execution_count": null,
   "metadata": {
    "id": "aoRR-pP8P2C2"
   },
   "outputs": [],
   "source": [
    "plt.stem(np.squeeze(s_theta))"
   ]
  },
  {
   "cell_type": "markdown",
   "metadata": {
    "id": "B6D2kqejdnNv"
   },
   "source": [
    "### Generate Predictions from Test Data\n",
    "\n",
    "7. Use `s_theta` to make predictions on the test set (`X_test`).\n",
    "\n",
    "    Hint: Make sure to prepend the column of 1's onto `X_test` (just like it's done in the `stochastic_gradient_descent()` function)."
   ]
  },
  {
   "cell_type": "code",
   "execution_count": null,
   "metadata": {
    "id": "m-u3iTbNdnNw"
   },
   "outputs": [],
   "source": [
    "y_pred_GD = # [YOUR CODE HERE]\n",
    "\n",
    "# Since our target is non-negative, we set any negative predictions to 0.\n",
    "y_pred_GD[y_pred_GD < 0] = 0"
   ]
  },
  {
   "cell_type": "markdown",
   "metadata": {},
   "source": [
    "8. Calculate the MSE and R^2 score."
   ]
  },
  {
   "cell_type": "code",
   "execution_count": null,
   "metadata": {
    "id": "Ljk24gJ4dnNy"
   },
   "outputs": [],
   "source": [
    "from sklearn.metrics import mean_squared_error as MSE\n",
    "from sklearn.metrics import r2_score\n",
    "\n",
    "# [YOUR CODE HERE]"
   ]
  },
  {
   "cell_type": "markdown",
   "metadata": {
    "id": "2ImYOho6dnNy"
   },
   "source": [
    "### Visualize the predicted and actual test labels\n",
    "\n",
    "9. Make a plot showing both the true values (`y_test`) and the predicted values (`y_pred_GD`)."
   ]
  },
  {
   "cell_type": "code",
   "execution_count": null,
   "metadata": {
    "id": "o3t83fxcr6dd"
   },
   "outputs": [],
   "source": [
    "# [YOUR CODE HERE]"
   ]
  },
  {
   "cell_type": "markdown",
   "metadata": {
    "id": "QNFkAA7gdnN0"
   },
   "source": [
    "## Task 5: Normal Equations\n",
    "\n",
    "Gradient Descent is an iterative method for converging on the solution, though we can also compute the solution directly using the normal equation. Gradient Descent is generally preferred because it can converge quickly even with a large dataset, but since our training dataset isn't very large, we can use the normal equation.\n",
    "\n",
    "$$\\boldsymbol{\\theta} = (X^T \\cdot X)^{-1} \\cdot X^T \\cdot Y$$ \n",
    "$$\\hat{Y} = X \\cdot \\boldsymbol{\\theta}$$\n",
    "\n",
    "We'll compare our predictions with the ones we obtained using gradient descent.\n",
    "\n",
    "Remember we still have a bias term, so $\\boldsymbol{\\theta}$ is of size 74x1 (73 for the unique ID features, 1 for the bias).\n",
    "\n",
    "1. Complete the `normal_equations_solution()` function below.\n",
    "\n",
    "    Hint: numpy's `linalg.pinv` efficiently computes the matrix $(X^T \\cdot X)^{-1} \\cdot X^T$."
   ]
  },
  {
   "cell_type": "code",
   "execution_count": null,
   "metadata": {
    "id": "ez7XC2qQdnN1"
   },
   "outputs": [],
   "source": [
    "def normal_equations_solution(X, y):\n",
    "    X_with_ones = np.hstack([np.ones([X.shape[0], 1]), X])\n",
    "    # [YOUR CODE HERE]"
   ]
  },
  {
   "cell_type": "markdown",
   "metadata": {},
   "source": [
    "2. Use the `normal_equations_solution()` function to compute `y_pred_NE`.\n",
    "\n",
    "    The code should be the same as above, just use `n_theta` instead of `s_theta`."
   ]
  },
  {
   "cell_type": "code",
   "execution_count": null,
   "metadata": {
    "id": "cAhtVznMZGtB"
   },
   "outputs": [],
   "source": [
    "n_theta = normal_equations_solution(X_train, y_train)\n",
    "y_pred_NE = # [YOUR CODE HERE]\n",
    "\n",
    "# Set any negative predictions to 0\n",
    "y_pred_NE[y_pred_NE < 0] = 0"
   ]
  },
  {
   "cell_type": "markdown",
   "metadata": {},
   "source": [
    "3. Calculate the MSE and R^2 score."
   ]
  },
  {
   "cell_type": "code",
   "execution_count": null,
   "metadata": {
    "id": "Ljk24gJ4dnNy"
   },
   "outputs": [],
   "source": [
    "# [YOUR CODE HERE]"
   ]
  },
  {
   "cell_type": "markdown",
   "metadata": {
    "id": "2ImYOho6dnNy"
   },
   "source": [
    "4. Make a plot showing both the true values (`y_test`) and the predicted values (`y_pred_NE`)."
   ]
  },
  {
   "cell_type": "code",
   "execution_count": null,
   "metadata": {
    "id": "o3t83fxcr6dd"
   },
   "outputs": [],
   "source": [
    "# [YOUR CODE HERE]"
   ]
  },
  {
   "cell_type": "markdown",
   "metadata": {
    "id": "i3ofJxdUdnN6"
   },
   "source": [
    "### Regularized Normal Equations\n",
    "\n",
    "Recall that our training features array `X_train` has 66 rows and 73 columns, thus wider than it is tall. This suggests the regularized normal equations might perform better.\n",
    "\n",
    "$$\\boldsymbol{\\theta} = (X^T \\cdot X + \\lambda m I)^{-1} \\cdot X^T \\cdot Y$$\n",
    "\n",
    "Here, $\\lambda$ is the regularization parameter and $m$ is the number of rows in $X$.\n",
    "\n",
    "5. Complete the `regularized_normal_equations_solution()` equation."
   ]
  },
  {
   "cell_type": "code",
   "execution_count": null,
   "metadata": {
    "id": "nFY5YO-IZ2e7"
   },
   "outputs": [],
   "source": [
    "def regularized_normal_equations_solution(X, y, regularization_param):\n",
    "    X_with_ones = np.hstack([np.ones([X.shape[0], 1]), X])\n",
    "    # [YOUR CODE HERE]"
   ]
  },
  {
   "cell_type": "markdown",
   "metadata": {},
   "source": [
    "6. Complete the code snippet below to calculate the MSE and R^2 values for each of the potential regularization parameters to determine the optimal.\n",
    "\n",
    "    Does it outperform the standard normal equation?"
   ]
  },
  {
   "cell_type": "code",
   "execution_count": null,
   "metadata": {
    "id": "bIrbJkOydnN9"
   },
   "outputs": [],
   "source": [
    "regularization_params = np.linspace(0.001, 0.01, 10)\n",
    "\n",
    "for regularization_param in regularization_params:\n",
    "    theta_temp = regularized_normal_equations_solution(X_train, y_train, regularization_param)\n",
    "    y_pred_N_reg = # [YOUR CODE HERE]\n",
    "    y_pred_N_reg[y_pred_N_reg < 0] = 0\n",
    "    print('For regularization parameter', regularization_param)\n",
    "    # Print the MSE and R^2 value\n",
    "    # [YOUR CODE HERE]\n",
    "    print('-----')"
   ]
  },
  {
   "cell_type": "markdown",
   "metadata": {
    "id": "o5uD0DVidnN_"
   },
   "source": [
    "## Task 6: Non-linear Regression Models (GLM, DT) "
   ]
  },
  {
   "cell_type": "markdown",
   "metadata": {
    "id": "Yk0Be7SQdnN_"
   },
   "source": [
    "### Generalized Linear Models\n",
    "\n",
    "Statsmodels has a `GLM` class for Generalized Linear Models. Here we import and build the model.\n",
    "\n",
    "The `GLM` class takes the training labels, training features, and family, which is the family of distributions to which we assume our prediciton errors belong. Some potentially good choices for family include Gaussian, Gamma, and Logit.\n",
    "\n",
    "1. Run the code below and review the results."
   ]
  },
  {
   "cell_type": "code",
   "execution_count": null,
   "metadata": {
    "id": "cxUdD_LhdnN_"
   },
   "outputs": [],
   "source": [
    "import statsmodels.api as sm\n",
    "X_train_with_ones = sm.add_constant(X_train)\n",
    "glm = sm.GLM(y_train, X_train_with_ones, family=sm.families.Gaussian())\n",
    "glm_results = glm.fit()\n",
    "print(glm_results.summary())"
   ]
  },
  {
   "cell_type": "markdown",
   "metadata": {
    "id": "7IAchWHodnOB"
   },
   "source": [
    "2. Use the model created above to generate predictions."
   ]
  },
  {
   "cell_type": "code",
   "execution_count": null,
   "metadata": {
    "id": "XLTsITX7dnOC"
   },
   "outputs": [],
   "source": [
    "y_pred_GLM = # [YOUR CODE HERE]\n",
    "y_pred_GLM[y_pred_GLM < 0] = 0"
   ]
  },
  {
   "cell_type": "markdown",
   "metadata": {},
   "source": [
    "3. Calculate the MSE and R^2 score."
   ]
  },
  {
   "cell_type": "code",
   "execution_count": null,
   "metadata": {
    "id": "Ljk24gJ4dnNy"
   },
   "outputs": [],
   "source": [
    "# [YOUR CODE HERE]"
   ]
  },
  {
   "cell_type": "markdown",
   "metadata": {
    "id": "2ImYOho6dnNy"
   },
   "source": [
    "4. Make a plot showing both the true values (`y_test`) and the predicted values (`y_pred_GLM`)."
   ]
  },
  {
   "cell_type": "code",
   "execution_count": null,
   "metadata": {},
   "outputs": [],
   "source": [
    "# [YOUR CODE HERE]"
   ]
  },
  {
   "cell_type": "markdown",
   "metadata": {
    "id": "Vld0rNUcdnOG"
   },
   "source": [
    "### Random Forest Regression\n",
    "\n",
    "5. Use the `RandomForestRegressor` from scikit-learn to train a model.\n",
    "\n",
    "    The relevant parameters are the `max_depth` of the trees and the `random_state` (used so your code will always yield the same results).\n",
    "    \n",
    "    Note: we don't need to add a column of ones for non-linear models like Random Forests."
   ]
  },
  {
   "cell_type": "code",
   "execution_count": null,
   "metadata": {
    "id": "EbxRUm3UdnOG"
   },
   "outputs": [],
   "source": [
    "from sklearn.ensemble import RandomForestRegressor\n",
    "regr = RandomForestRegressor(max_depth=5, random_state=0)\n",
    "# [YOUR CODE HERE]"
   ]
  },
  {
   "cell_type": "markdown",
   "metadata": {
    "id": "7IAchWHodnOB"
   },
   "source": [
    "6. Use the model created above to generate predictions."
   ]
  },
  {
   "cell_type": "code",
   "execution_count": null,
   "metadata": {
    "id": "XLTsITX7dnOC"
   },
   "outputs": [],
   "source": [
    "y_pred_RF = # [YOUR CODE HERE]\n",
    "y_pred_RF[y_pred_RF < 0] = 0"
   ]
  },
  {
   "cell_type": "markdown",
   "metadata": {},
   "source": [
    "7. Calculate the MSE and R^2 score."
   ]
  },
  {
   "cell_type": "code",
   "execution_count": null,
   "metadata": {
    "id": "Ljk24gJ4dnNy"
   },
   "outputs": [],
   "source": [
    "# [YOUR CODE HERE]"
   ]
  },
  {
   "cell_type": "markdown",
   "metadata": {
    "id": "2ImYOho6dnNy"
   },
   "source": [
    "8. Make a plot showing both the true values (`y_test`) and the predicted values (`y_pred_GLM`)."
   ]
  },
  {
   "cell_type": "code",
   "execution_count": null,
   "metadata": {},
   "outputs": [],
   "source": [
    "# [YOUR CODE HERE]"
   ]
  },
  {
   "cell_type": "markdown",
   "metadata": {
    "id": "bxx1JrikdnON"
   },
   "source": [
    "\n",
    "## Task 7: Compare the Models\n",
    "\n",
    "1. Populate the table below with the results of your experiments above. Which models performed best?"
   ]
  },
  {
   "cell_type": "markdown",
   "metadata": {
    "id": "44MPnft4dnON"
   },
   "source": [
    "|Method      |RMSE             |R2               |\n",
    "|------------|-----------------|-----------------|\n",
    "| Gradient Descent | xx | xx|\n",
    "| Normal Equations | xx | xx |\n",
    "| Regularized Normal Equations | xx | xx |\n",
    "| Generalized Linear Model (GLM) | xx | xx |\n",
    "| Random Forests | xx | xx |\n"
   ]
  }
 ],
 "metadata": {
  "colab": {
   "collapsed_sections": [],
   "name": "week1_V1.ipynb",
   "provenance": [
    {
     "file_id": "1A5aKkAXYKm5ju0TNG-1yU44-hnWEhh__",
     "timestamp": 1603344980309
    }
   ]
  },
  "kernelspec": {
   "display_name": "Python 3 (ipykernel)",
   "language": "python",
   "name": "python3"
  },
  "language_info": {
   "codemirror_mode": {
    "name": "ipython",
    "version": 3
   },
   "file_extension": ".py",
   "mimetype": "text/x-python",
   "name": "python",
   "nbconvert_exporter": "python",
   "pygments_lexer": "ipython3",
   "version": "3.9.7"
  }
 },
 "nbformat": 4,
 "nbformat_minor": 4
}
