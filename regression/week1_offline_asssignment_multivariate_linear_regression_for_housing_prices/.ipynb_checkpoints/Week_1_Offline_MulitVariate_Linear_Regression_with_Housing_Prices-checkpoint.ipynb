{
 "cells": [
  {
   "cell_type": "markdown",
   "metadata": {
    "id": "ON4WbEBvk9Z9"
   },
   "source": [
    "# Multivariate Linear Regression\n",
    "## Predicting House Price from Size and Number of Bedrooms\n",
    "\n",
    "This exercise is modified from the source: https://github.com/kaustubholpadkar/Predicting-House-Price-using-Multivariate-Linear-Regression"
   ]
  },
  {
   "cell_type": "markdown",
   "metadata": {
    "id": "RKxoZ5lknWll"
   },
   "source": [
    "### Part 1: Load the House Dataset\n",
    "\n",
    "1. Start by importing the libraries we'll be using."
   ]
  },
  {
   "cell_type": "code",
   "execution_count": 1,
   "metadata": {
    "id": "Lq6qDjhHnbak"
   },
   "outputs": [],
   "source": [
    "from mpl_toolkits.mplot3d import Axes3D\n",
    "import pandas as pd\n",
    "import numpy as np\n",
    "import matplotlib.pyplot as plt\n",
    "from sklearn.preprocessing import normalize"
   ]
  },
  {
   "cell_type": "markdown",
   "metadata": {
    "id": "W5b_-H-zn3_O"
   },
   "source": [
    "2. Look at the data file we'll be using. [home.txt](https://raw.githubusercontent.com/Tan-Moy/medium_articles/master/art2_multivariate_linear_regression/home.txt). The columns are unlabled. Knowing that it's a housing dataset, what do you think each column refers to?"
   ]
  },
  {
   "cell_type": "markdown",
   "metadata": {
    "id": "Pbc0J1T9Z2vz"
   },
   "source": [
    "*[YOUR ANSWER HERE]* square_feet, num_bedrooms and price"
   ]
  },
  {
   "cell_type": "markdown",
   "metadata": {
    "id": "z4BOpe9-Z2vz"
   },
   "source": [
    "3. Read in the data with Pandas's `read_csv()` function. Since our data file doesn't have columns, we should use the `names` argument to give the dataset labels.\n",
    "\n",
    "    Now our data is in a Pandas DataFrame."
   ]
  },
  {
   "cell_type": "code",
   "execution_count": 3,
   "metadata": {
    "id": "T1a23JYWn5oM"
   },
   "outputs": [
    {
     "data": {
      "text/html": [
       "<div>\n",
       "<style scoped>\n",
       "    .dataframe tbody tr th:only-of-type {\n",
       "        vertical-align: middle;\n",
       "    }\n",
       "\n",
       "    .dataframe tbody tr th {\n",
       "        vertical-align: top;\n",
       "    }\n",
       "\n",
       "    .dataframe thead th {\n",
       "        text-align: right;\n",
       "    }\n",
       "</style>\n",
       "<table border=\"1\" class=\"dataframe\">\n",
       "  <thead>\n",
       "    <tr style=\"text-align: right;\">\n",
       "      <th></th>\n",
       "      <th>square_feet</th>\n",
       "      <th>num_bedrooms</th>\n",
       "      <th>price</th>\n",
       "    </tr>\n",
       "  </thead>\n",
       "  <tbody>\n",
       "    <tr>\n",
       "      <th>0</th>\n",
       "      <td>2104</td>\n",
       "      <td>3</td>\n",
       "      <td>399900</td>\n",
       "    </tr>\n",
       "    <tr>\n",
       "      <th>1</th>\n",
       "      <td>1600</td>\n",
       "      <td>3</td>\n",
       "      <td>329900</td>\n",
       "    </tr>\n",
       "    <tr>\n",
       "      <th>2</th>\n",
       "      <td>2400</td>\n",
       "      <td>3</td>\n",
       "      <td>369000</td>\n",
       "    </tr>\n",
       "    <tr>\n",
       "      <th>3</th>\n",
       "      <td>1416</td>\n",
       "      <td>2</td>\n",
       "      <td>232000</td>\n",
       "    </tr>\n",
       "    <tr>\n",
       "      <th>4</th>\n",
       "      <td>3000</td>\n",
       "      <td>4</td>\n",
       "      <td>539900</td>\n",
       "    </tr>\n",
       "  </tbody>\n",
       "</table>\n",
       "</div>"
      ],
      "text/plain": [
       "   square_feet  num_bedrooms   price\n",
       "0         2104             3  399900\n",
       "1         1600             3  329900\n",
       "2         2400             3  369000\n",
       "3         1416             2  232000\n",
       "4         3000             4  539900"
      ]
     },
     "execution_count": 3,
     "metadata": {},
     "output_type": "execute_result"
    }
   ],
   "source": [
    "filepath = 'https://raw.githubusercontent.com/Tan-Moy/medium_articles/master/art2_multivariate_linear_regression/home.txt'\n",
    "columns = ['square_feet', 'num_bedrooms', 'price']\n",
    "df =  pd.read_csv(filepath, names=columns) # [YOUR CODE HERE]\n"
   ]
  },
  {
   "cell_type": "markdown",
   "metadata": {
    "id": "AK27bq1TnkbT"
   },
   "source": [
    "4. Examine `df`'s shape with the `.shape` attribute. You should get a tuple where the first value is the number of rows and the second is the number of columns."
   ]
  },
  {
   "cell_type": "code",
   "execution_count": 4,
   "metadata": {
    "id": "Ip2EQ_PGoQJO"
   },
   "outputs": [
    {
     "data": {
      "text/plain": [
       "(47, 3)"
      ]
     },
     "execution_count": 4,
     "metadata": {},
     "output_type": "execute_result"
    }
   ],
   "source": [
    "# [YOUR CODE HERE]\n",
    "df.shape"
   ]
  },
  {
   "cell_type": "markdown",
   "metadata": {
    "id": "_cWMna08pDIL"
   },
   "source": [
    "5. Use the `.head()` method to get the first 5 rows of the dataset. This can help us gain an understanding of the data."
   ]
  },
  {
   "cell_type": "code",
   "execution_count": 5,
   "metadata": {
    "id": "otHHo0yCpJqj",
    "scrolled": true
   },
   "outputs": [
    {
     "data": {
      "text/html": [
       "<div>\n",
       "<style scoped>\n",
       "    .dataframe tbody tr th:only-of-type {\n",
       "        vertical-align: middle;\n",
       "    }\n",
       "\n",
       "    .dataframe tbody tr th {\n",
       "        vertical-align: top;\n",
       "    }\n",
       "\n",
       "    .dataframe thead th {\n",
       "        text-align: right;\n",
       "    }\n",
       "</style>\n",
       "<table border=\"1\" class=\"dataframe\">\n",
       "  <thead>\n",
       "    <tr style=\"text-align: right;\">\n",
       "      <th></th>\n",
       "      <th>square_feet</th>\n",
       "      <th>num_bedrooms</th>\n",
       "      <th>price</th>\n",
       "    </tr>\n",
       "  </thead>\n",
       "  <tbody>\n",
       "    <tr>\n",
       "      <th>0</th>\n",
       "      <td>2104</td>\n",
       "      <td>3</td>\n",
       "      <td>399900</td>\n",
       "    </tr>\n",
       "    <tr>\n",
       "      <th>1</th>\n",
       "      <td>1600</td>\n",
       "      <td>3</td>\n",
       "      <td>329900</td>\n",
       "    </tr>\n",
       "    <tr>\n",
       "      <th>2</th>\n",
       "      <td>2400</td>\n",
       "      <td>3</td>\n",
       "      <td>369000</td>\n",
       "    </tr>\n",
       "    <tr>\n",
       "      <th>3</th>\n",
       "      <td>1416</td>\n",
       "      <td>2</td>\n",
       "      <td>232000</td>\n",
       "    </tr>\n",
       "    <tr>\n",
       "      <th>4</th>\n",
       "      <td>3000</td>\n",
       "      <td>4</td>\n",
       "      <td>539900</td>\n",
       "    </tr>\n",
       "  </tbody>\n",
       "</table>\n",
       "</div>"
      ],
      "text/plain": [
       "   square_feet  num_bedrooms   price\n",
       "0         2104             3  399900\n",
       "1         1600             3  329900\n",
       "2         2400             3  369000\n",
       "3         1416             2  232000\n",
       "4         3000             4  539900"
      ]
     },
     "execution_count": 5,
     "metadata": {},
     "output_type": "execute_result"
    }
   ],
   "source": [
    "# [YOUR CODE HERE]\n",
    "df.head()"
   ]
  },
  {
   "cell_type": "markdown",
   "metadata": {
    "id": "IzyXYXMEpYVv"
   },
   "source": [
    "Our task will be to predict the third column (housing price) from the first two (square footage and number of bedrooms). The columns we are using to predict (square footage and number of bedrooms) are called **features** or **predictors**. The column we are trying to predict (housing price) is called the **target**."
   ]
  },
  {
   "cell_type": "markdown",
   "metadata": {
    "id": "ydBEcRFeiDtS"
   },
   "source": [
    "### Part 2: Normalize Data and Create X and y arrays\n",
    "\n",
    "Normalization of feature (and for regression problems, target) columns can  mitigate problems that can arise from loss function gradients becoming too large or small, and thus help a model converge faster. There are several ways to normalize data. Here, we're going to rescale each column so that its L2 norm is 1, i.e. the sum of the squares of each element in a given column will be 1. \n",
    "\n",
    "We'll use the `normalize()` function from scikit-learn's preprocessing module. We'll need to specify the array axis along which we'll be calculating our norms. For aggregating functions (functions like mean and standard deviation) in NumPy and related libraries, the `axis` (or in the case of PyTorch, `dim`) parameter refers to the axis along which the aggregation is performed. Our data is a 2D array. We want to normalize each column, which means that within a given column, we aggregate the numbers from each row. For a 2D array, the 0 axis corresponds to the rows and the 1 axis corresponds to the columns. Thus, we pass `axis=0` into our call to the `normalize()` function.\n",
    "\n",
    "1. Call the `normalize` function passing in `df` and also the attribute `axis=0`. Save the result in the `data` variable."
   ]
  },
  {
   "cell_type": "code",
   "execution_count": 6,
   "metadata": {
    "id": "y1BwuHufiHJ_"
   },
   "outputs": [
    {
     "data": {
      "text/plain": [
       "array([[0.14276982, 0.13429844, 0.16105104],\n",
       "       [0.10857021, 0.13429844, 0.13286006],\n",
       "       [0.16285531, 0.13429844, 0.14860674],\n",
       "       [0.09608463, 0.0895323 , 0.09343296],\n",
       "       [0.20356914, 0.17906459, 0.217433  ],\n",
       "       [0.13469491, 0.17906459, 0.12077821],\n",
       "       [0.10409169, 0.13429844, 0.12681914],\n",
       "       [0.09683105, 0.13429844, 0.08014253],\n",
       "       [0.0936418 , 0.13429844, 0.0853784 ],\n",
       "       [0.10137743, 0.13429844, 0.09766161],\n",
       "       [0.13164137, 0.17906459, 0.09665439],\n",
       "       [0.13571276, 0.13429844, 0.13974671],\n",
       "       [0.12824856, 0.13429844, 0.13289993],\n",
       "       [0.30386086, 0.22383074, 0.28186953],\n",
       "       [0.08604189, 0.13429844, 0.10466908],\n",
       "       [0.15606967, 0.17906459, 0.18118746],\n",
       "       [0.08957042, 0.0895323 , 0.12077821],\n",
       "       [0.08387048, 0.13429844, 0.08050538],\n",
       "       [0.17703729, 0.17906459, 0.20136334],\n",
       "       [0.20567268, 0.17906459, 0.24123424],\n",
       "       [0.11990222, 0.13429844, 0.10184998],\n",
       "       [0.12811284, 0.0895323 , 0.10269571],\n",
       "       [0.10884163, 0.13429844, 0.0978227 ],\n",
       "       [0.13313422, 0.17906459, 0.10466908],\n",
       "       [0.26396131, 0.13429844, 0.23112576],\n",
       "       [0.07464202, 0.13429844, 0.1006418 ],\n",
       "       [0.0989346 , 0.13429844, 0.18706729],\n",
       "       [0.17140521, 0.13429844, 0.18887957],\n",
       "       [0.14928403, 0.13429844, 0.19129594],\n",
       "       [0.17893727, 0.13429844, 0.12077821],\n",
       "       [0.12478788, 0.0895323 , 0.14091463],\n",
       "       [0.06785638, 0.04476615, 0.06842354],\n",
       "       [0.13842701, 0.17906459, 0.12681914],\n",
       "       [0.21286546, 0.13429844, 0.23354213],\n",
       "       [0.1228879 , 0.17906459, 0.11514002],\n",
       "       [0.09750962, 0.13429844, 0.1006418 ],\n",
       "       [0.08407405, 0.13429844, 0.09258723],\n",
       "       [0.1446698 , 0.17906459, 0.13894126],\n",
       "       [0.28601464, 0.17906459, 0.22109783],\n",
       "       [0.14670549, 0.17906459, 0.11558302],\n",
       "       [0.11291301, 0.0895323 , 0.14840537],\n",
       "       [0.15186258, 0.13429844, 0.13286006],\n",
       "       [0.17418732, 0.17906459, 0.12645668],\n",
       "       [0.08142765, 0.13429844, 0.12041576],\n",
       "       [0.05781363, 0.0895323 , 0.07245082],\n",
       "       [0.12567001, 0.17906459, 0.12077821],\n",
       "       [0.08163122, 0.13429844, 0.09645342]])"
      ]
     },
     "execution_count": 6,
     "metadata": {},
     "output_type": "execute_result"
    }
   ],
   "source": [
    "data = normalize(df, axis=0) # [YOUR CODE HERE]\n",
    "data"
   ]
  },
  {
   "cell_type": "markdown",
   "metadata": {
    "id": "evCdby_Ryh_d"
   },
   "source": [
    "2. Look at the first 5 rows of `data`. What does it look like? Note that we now have a NumPy array rather than a Pandas DataFrame. Are you able to interpret these values? Probably not! We have sacrificed human readability to make the machine learning models work better."
   ]
  },
  {
   "cell_type": "code",
   "execution_count": null,
   "metadata": {
    "id": "6mWobVOAymvR"
   },
   "outputs": [],
   "source": [
    "data[:5, :]"
   ]
  },
  {
   "cell_type": "markdown",
   "metadata": {
    "id": "-BYea-NKzhMb"
   },
   "source": [
    "3. Let's verify that the `normalize()` function did its job properly by finding the L2 norm of each column. The value should be 1. Is it?\n",
    "\n",
    "    Note that Python doesn't have perfect precision, so you might get a value that's very close to 1 (e.g. `1.0000000000000002`)"
   ]
  },
  {
   "cell_type": "code",
   "execution_count": 9,
   "metadata": {
    "id": "LUjFamH_zsaN"
   },
   "outputs": [
    {
     "name": "stdout",
     "output_type": "stream",
     "text": [
      "Square footage column 1.0000000000000002\n",
      "Number bedrooms column 1.0\n",
      "Price column 1.0\n"
     ]
    }
   ],
   "source": [
    "print(\"Square footage column\", np.sum(np.square(data[:, 0])))\n",
    "print(\"Number bedrooms column\", np.sum(np.square(data[:, 1])))\n",
    "print(\"Price column\", np.sum(np.square(data[:, 2])))"
   ]
  },
  {
   "cell_type": "markdown",
   "metadata": {
    "id": "8rMv-L53odN5"
   },
   "source": [
    "4. Create a matrix `X` with the two features (square footage and number of bedrooms).\n",
    "\n",
    "    Look at the output of `X.shape` to verify that you have the right matrix (should be `(47, 2)`)"
   ]
  },
  {
   "cell_type": "code",
   "execution_count": 11,
   "metadata": {
    "id": "uop_AFQSolHl"
   },
   "outputs": [
    {
     "name": "stdout",
     "output_type": "stream",
     "text": [
      "(47, 2)\n"
     ]
    }
   ],
   "source": [
    "X = data[:, :2] # [YOUR CODE HERE]\n",
    "print(X.shape)"
   ]
  },
  {
   "cell_type": "markdown",
   "metadata": {
    "id": "s3MWrGUvZ2v3"
   },
   "source": [
    "5. Create an array `y` with just the target (house price).\n",
    "\n",
    "    Look at the output of `y.shape` to verify that you have the right matrix (should be `(47,)`)"
   ]
  },
  {
   "cell_type": "code",
   "execution_count": 12,
   "metadata": {
    "id": "nPeC7d4rZ2v3"
   },
   "outputs": [
    {
     "name": "stdout",
     "output_type": "stream",
     "text": [
      "(47,)\n"
     ]
    }
   ],
   "source": [
    "y =  data[:, -1] # [YOUR CODE HERE]\n",
    "print(y.shape)"
   ]
  },
  {
   "cell_type": "markdown",
   "metadata": {
    "id": "wPSTKDAXpLAN"
   },
   "source": [
    "### Part 3: Visualize the Data\n",
    "\n",
    "1. We'll use a plot to visualize the data. The x-axis will be square footage, the y-axis will be number of bedrooms and the z-axis will be our target, housing price."
   ]
  },
  {
   "cell_type": "code",
   "execution_count": 13,
   "metadata": {
    "id": "eqSVKtKBWv9-"
   },
   "outputs": [
    {
     "data": {
      "text/plain": [
       "Text(0.5, 0, 'Price')"
      ]
     },
     "execution_count": 13,
     "metadata": {},
     "output_type": "execute_result"
    },
    {
     "data": {
      "image/png": "[encoded data removed]",
      "text/plain": [
       "<Figure size 576x576 with 1 Axes>"
      ]
     },
     "metadata": {
      "needs_background": "light"
     },
     "output_type": "display_data"
    }
   ],
   "source": [
    "fig = plt.figure(figsize=(8, 8))\n",
    "ax = plt.axes(projection='3d')\n",
    "\n",
    "xs = X[:, 0]\n",
    "ys = X[:, 1]\n",
    "zs = y\n",
    "ax.scatter(xs, ys, zs)\n",
    "\n",
    "ax.set_xlabel('Square footage')\n",
    "ax.set_ylabel('Number of bedrooms')\n",
    "ax.set_zlabel('Price')"
   ]
  },
  {
   "cell_type": "markdown",
   "metadata": {
    "id": "1qEiGCpL1iae"
   },
   "source": [
    "It appears that our data points are distributed closely to a 2D plane, though it can be hard to see on a 3D plot. Let's look at each feature individually vs. the target."
   ]
  },
  {
   "cell_type": "markdown",
   "metadata": {
    "id": "B-NLNjFTZ2v4"
   },
   "source": [
    "2. Make a plot of the square footage (first column of the `X` matrix) vs. the housing price (`y`)."
   ]
  },
  {
   "cell_type": "code",
   "execution_count": 17,
   "metadata": {},
   "outputs": [
    {
     "data": {
      "text/plain": [
       "array([0.14276982, 0.10857021, 0.16285531, 0.09608463, 0.20356914,\n",
       "       0.13469491, 0.10409169, 0.09683105, 0.0936418 , 0.10137743,\n",
       "       0.13164137, 0.13571276, 0.12824856, 0.30386086, 0.08604189,\n",
       "       0.15606967, 0.08957042, 0.08387048, 0.17703729, 0.20567268,\n",
       "       0.11990222, 0.12811284, 0.10884163, 0.13313422, 0.26396131,\n",
       "       0.07464202, 0.0989346 , 0.17140521, 0.14928403, 0.17893727,\n",
       "       0.12478788, 0.06785638, 0.13842701, 0.21286546, 0.1228879 ,\n",
       "       0.09750962, 0.08407405, 0.1446698 , 0.28601464, 0.14670549,\n",
       "       0.11291301, 0.15186258, 0.17418732, 0.08142765, 0.05781363,\n",
       "       0.12567001, 0.08163122])"
      ]
     },
     "execution_count": 17,
     "metadata": {},
     "output_type": "execute_result"
    }
   ],
   "source": [
    "X[:, 0]"
   ]
  },
  {
   "cell_type": "code",
   "execution_count": 18,
   "metadata": {
    "id": "OsKU8-SLZ2v4"
   },
   "outputs": [
    {
     "data": {
      "text/plain": [
       "<matplotlib.collections.PathCollection at 0x13a6557c0>"
      ]
     },
     "execution_count": 18,
     "metadata": {},
     "output_type": "execute_result"
    },
    {
     "data": {
      "image/png": "[encoded data removed]",
      "text/plain": [
       "<Figure size 432x288 with 1 Axes>"
      ]
     },
     "metadata": {
      "needs_background": "light"
     },
     "output_type": "display_data"
    }
   ],
   "source": [
    "# [YOUR CODE HERE]\n",
    "plt.scatter(X[:, 0], y)"
   ]
  },
  {
   "cell_type": "markdown",
   "metadata": {
    "id": "3VKL7d52Z2v4"
   },
   "source": [
    "3. Make a plot of the number of bedrooms (second column of the `X` matrix) vs. the housing price (`y`)."
   ]
  },
  {
   "cell_type": "code",
   "execution_count": 19,
   "metadata": {
    "id": "tRB-ynVZZ2v4"
   },
   "outputs": [
    {
     "data": {
      "text/plain": [
       "<matplotlib.collections.PathCollection at 0x13a6b1af0>"
      ]
     },
     "execution_count": 19,
     "metadata": {},
     "output_type": "execute_result"
    },
    {
     "data": {
      "image/png": "[encoded data removed]",
      "text/plain": [
       "<Figure size 432x288 with 1 Axes>"
      ]
     },
     "metadata": {
      "needs_background": "light"
     },
     "output_type": "display_data"
    }
   ],
   "source": [
    "# [YOUR CODE HERE]\n",
    "plt.scatter(X[:, 1], y)"
   ]
  },
  {
   "cell_type": "markdown",
   "metadata": {
    "id": "pf38YSVrIMaQ"
   },
   "source": [
    "Since the data appears to be in a linear plane in the 3D plot, and in a line on the 2D plots, multivariate linear regression should be a good model."
   ]
  },
  {
   "cell_type": "markdown",
   "metadata": {
    "id": "Yrjucdifq_mt"
   },
   "source": [
    "### Part 4: Gradient Descent Setup\n",
    "\n",
    "#### Hyperparameters\n",
    "\n",
    "We will be using gradient descent to find the optimal plane of best fit for the data. Gradient descent is an interative algorithm for finding the solution which minimizes a loss function. We need to supply it with some hyper parameters that will determine how much we modify values at each iteration and how many iterations we allow.\n",
    "\n",
    "The hyperparameters aren't tuned by the model but will determine how quickly it lands on the optimal solution.\n",
    "\n",
    "The three most common methods for updating the loss function gradients and learned parameters are: \n",
    "\n",
    "1. Batch gradient descent - Each update uses the entire dataset\n",
    "2. Stochastic gradient descent - The gradients and parameters are updated after every training example\n",
    "3. Mini-batch gradient descent - Something in between batch and stochastic gradient descent: The model reads in a subset of the full dataset before updating the gradients and parameters. Mini-batch sizes in powers of 2 are preferable.\n",
    "\n",
    "We supply below the hyperparameters that we'll be using for the different variants of gradient descent."
   ]
  },
  {
   "cell_type": "code",
   "execution_count": 33,
   "metadata": {
    "id": "OwVfkk3RrC_I"
   },
   "outputs": [],
   "source": [
    "# Batch gradient descent\n",
    "learning_rate = 0.09\n",
    "max_iteration = 500"
   ]
  },
  {
   "cell_type": "code",
   "execution_count": 34,
   "metadata": {
    "id": "RSXPA9L25UGl"
   },
   "outputs": [],
   "source": [
    "# Stochastic gradient descent\n",
    "s_learning_rate = 0.06\n",
    "s_max_iteration = 500"
   ]
  },
  {
   "cell_type": "code",
   "execution_count": 35,
   "metadata": {
    "id": "IeY-_RqF5V5v"
   },
   "outputs": [],
   "source": [
    "# Mini-Batch gradient descent\n",
    "mb_learning_rate = 0.09\n",
    "mb_max_iteration = 500\n",
    "batch_size = 16"
   ]
  },
  {
   "cell_type": "markdown",
   "metadata": {
    "id": "EzXaG70OrZtn"
   },
   "source": [
    "#### Parameters\n",
    "\n",
    "1. Initialize the arrays of theta parameters (one for each of the gradient descent methods above) to be an array of zeros. Each value should correspond to a feature (column of `X`) besides the first which will be for the bias term. So the length of each theta array will be one more than the number of features in `X`.\n",
    "\n",
    "    Hint: Look at the [np.zeros()](https://numpy.org/doc/stable/reference/generated/numpy.zeros.html) function."
   ]
  },
  {
   "cell_type": "code",
   "execution_count": 24,
   "metadata": {},
   "outputs": [
    {
     "data": {
      "text/plain": [
       "array([[0., 0., 0.]])"
      ]
     },
     "execution_count": 24,
     "metadata": {},
     "output_type": "execute_result"
    }
   ],
   "source": [
    "np.zeros((1, 3))"
   ]
  },
  {
   "cell_type": "code",
   "execution_count": 37,
   "metadata": {
    "id": "2INJM9AIrcBu"
   },
   "outputs": [],
   "source": [
    "theta = np.zeros((1, 2))  # [YOUR CODE HERE]\n",
    "s_theta = np.zeros((1, 2))  # [YOUR CODE HERE]\n",
    "mb_theta = np.zeros((1, 2))  # [YOUR CODE HERE]"
   ]
  },
  {
   "cell_type": "markdown",
   "metadata": {
    "id": "FPt2eKjBr1Lx"
   },
   "source": [
    "#### Hypothesis\n",
    "\n",
    "2. Define a function `h` which:\n",
    "\n",
    "    * Creates a new feature matrix `X1` which has a new first column of all 1's. `X1` should still have all the columns of `X` so should have one more column than `X`.\n",
    "\n",
    "    * Computes and returns $\\hat{Y}$, which is the matrix multiplation of `X1` and `theta` (the array of learned parameters). Pay attention to the shapes of the matrices to do the matrix multiplication in the correct order.\n",
    "\n",
    "    Hint: Look at the [np.ones()](https://numpy.org/doc/stable/reference/generated/numpy.ones.html), [np.insert()](https://numpy.org/doc/stable/reference/generated/numpy.insert.html), and [np.dot()](https://numpy.org/doc/stable/reference/generated/numpy.dot.html) functions. Note that you'll need to use `axis=1` with the `np.insert()` function."
   ]
  },
  {
   "cell_type": "code",
   "execution_count": 41,
   "metadata": {
    "id": "enVE4tHWsBBF"
   },
   "outputs": [],
   "source": [
    "def h(theta, X):\n",
    "    # [YOUR CODE HERE]\n",
    "    y_hat = np.dot(X, theta.T)\n",
    "    return y_hat"
   ]
  },
  {
   "cell_type": "markdown",
   "metadata": {
    "id": "IA9I6vaXs7nb"
   },
   "source": [
    "#### Loss Function\n",
    "\n",
    "We'll use the Mean Squared Error (MSE) for our loss function. The MSE is defined as \n",
    "\n",
    "$\n",
    "J = \\textrm{MSE} = \\frac{1}{m} \\sum_{i=1}^m (Y_i - \\hat{Y_i})^2,\n",
    "$\n",
    "\n",
    "where $i$ is a given training example and $m$ is the number of training examples, i.e. rows in our dataset. Recall from above that $\\hat{Y}$ is a function of `theta` and `X` (the matrix multiplication of the two matrices). \n",
    "\n",
    "3. Complete the `loss()` function to calculate the return the Mean Squared Error.\n",
    "\n",
    "    Hint: Look at the [np.sum()](https://numpy.org/doc/stable/reference/generated/numpy.sum.html) and [np.square()](https://numpy.org/doc/stable/reference/generated/numpy.square.html) functions.\n",
    "    \n",
    "    Hint: Use the `h()` function defined above to calculate $\\hat{Y}$."
   ]
  },
  {
   "cell_type": "code",
   "execution_count": 27,
   "metadata": {
    "id": "3KOQVUjBs-Ub"
   },
   "outputs": [],
   "source": [
    "def loss(theta, X, y):\n",
    "    # [YOUR CODE HERE]\n",
    "    number_of_samples = len(y)\n",
    "    y_hat = h(theta, X)\n",
    "    temp = np.square(y - y_hat)\n",
    "    mse = np.sum(temp)/number_of_samples\n",
    "    return mse"
   ]
  },
  {
   "cell_type": "markdown",
   "metadata": {
    "id": "7TE79NG-tyLG"
   },
   "source": [
    "#### Calculate Gradients\n",
    "\n",
    "In gradient descent, we use the gradient of the loss function to determine how to adjust the values of theta at each iteration.\n",
    "\n",
    "Here is the gradient of our loss function:\n",
    "$\n",
    "\\frac{\\partial J}{\\partial \\theta} = - \\frac{1}{m} X^T \\cdot (Y - \\hat{Y}).\n",
    "$\n",
    "\n",
    "For clarity, $m$ is the number of training examples, the superscript $T$ denotes a matrix transposition, and $\\cdot$ denotes a matrix inner product (dot product). \n",
    "\n",
    "In code, $\\frac{\\partial J}{\\partial \\theta}$ is typically denoted `d_theta`.\n",
    "\n",
    "4. Complete the `gradient()` function below to calculate the gradient of the loss function as defined above.\n",
    "\n",
    "    Note that the $X$ in the equation above is $X1$, the $X$ matrix with the column of ones added at the beginning.\n",
    "    \n",
    "    Hint: Use `.T` or `.transpose` to transpose a numpy array ([transpose](https://numpy.org/doc/stable/reference/generated/numpy.ndarray.T.html))."
   ]
  },
  {
   "cell_type": "code",
   "execution_count": 43,
   "metadata": {
    "id": "yy9yxye4t0BJ"
   },
   "outputs": [],
   "source": [
    "def gradient(theta, X, y):\n",
    "    X1 = np.insert(X, 0, np.ones(X.shape[0]), axis=1)\n",
    "    m = len(y)\n",
    "    y_hat = h(theta, X)\n",
    "    d_theta = -1/m * np.dot(X1, (y -y_hat))\n",
    "    # [YOUR CODE HERE]\n",
    "    return d_theta"
   ]
  },
  {
   "cell_type": "markdown",
   "metadata": {
    "id": "zLd-RcZ0qh0N"
   },
   "source": [
    "### Part 5: Gradient descent methods\n",
    "\n",
    "In general, we update our array of parameters $\\theta$ (theta) with the formula \n",
    "\n",
    "$\n",
    "\\theta := \\theta - \\alpha \\frac{\\partial J}{\\partial \\theta}, \n",
    "$\n",
    "\n",
    "or in code, \n",
    "\n",
    "`theta = theta - learning_rate * d_theta`.\n",
    "\n",
    "Gradient descent will iterate some number of times doing these updates until we minimize the loss function."
   ]
  },
  {
   "cell_type": "markdown",
   "metadata": {
    "id": "jVo5TbKyu9KL"
   },
   "source": [
    "#### Batch Gradient Descent\n",
    "\n",
    "Batch Gradient Descent (often just called Gradient Descent) uses the full dataset to update `d_theta` at each iteration.\n",
    "\n",
    "1. Complete the `gradient_descent()` function below. Use your `gradient()` function from above to get the value for `d_theta`."
   ]
  },
  {
   "cell_type": "code",
   "execution_count": 29,
   "metadata": {
    "id": "fprg4-tcu-4v"
   },
   "outputs": [],
   "source": [
    "def gradient_descent(theta, X, y, learning_rate, max_iteration, gap):\n",
    "    cost = np.zeros(max_iteration)\n",
    "    for i in range(max_iteration):\n",
    "        d_theta = gradient(theta, X, y) # [YOUR CODE HERE]\n",
    "        theta = theta - learning_rate * d_theta\n",
    "        cost[i] = loss(theta, X, y)\n",
    "        if i % gap == 0:\n",
    "            print ('iteration : ', i, ' loss : ', loss(theta, X, y)) \n",
    "    return theta, cost"
   ]
  },
  {
   "cell_type": "markdown",
   "metadata": {
    "id": "Si5f2m-9-krz"
   },
   "source": [
    "#### Mini-Batch Gradient Descent\n",
    "\n",
    "Mini-Batch Gradient Descent uses a subset of the data of size `batch_size` to update `d_theta`.\n",
    "\n",
    "2. Complete the `minibath_gradient_descent()` function below. To get the value for `d_theta`, you will call the `gradient()` function like you did above, but this time you pass it a subset of the data (rows from `j` to `j + batch_size - 1`)."
   ]
  },
  {
   "cell_type": "code",
   "execution_count": 30,
   "metadata": {
    "id": "kCGUklWXyov-"
   },
   "outputs": [],
   "source": [
    "def minibatch_gradient_descent(theta, X, y, learning_rate, max_iteration, batch_size, gap):\n",
    "    cost = np.zeros(max_iteration)\n",
    "    for i in range(max_iteration) :\n",
    "        for j in range(0, X.shape[0], batch_size):\n",
    "            d_theta = gradient(theta, X, y) # [YOUR CODE HERE]\n",
    "            theta = theta - learning_rate * d_theta\n",
    "    cost[i] = loss(theta, X, y)\n",
    "    if i % gap == 0:\n",
    "        print ('iteration : ', i, ' loss : ', loss(theta, X, y)) \n",
    "    return theta, cost"
   ]
  },
  {
   "cell_type": "markdown",
   "metadata": {
    "id": "epWfjT9R-sk3"
   },
   "source": [
    "#### Stochastic Gradient Descent\n",
    "\n",
    "In Stochastic Gradient Descent, `d_theta` is updated with a single training example. It is equivalent to Mini-Batch Gradient Descent with a batch size of 1.\n",
    "\n",
    "3. Complete the `stochastic_gradient_descent()` function below. To get the value fo `d_theta`, call the `gradient()` function using just a single row from `X`."
   ]
  },
  {
   "cell_type": "code",
   "execution_count": 31,
   "metadata": {
    "id": "cWDNv4BkvpvQ"
   },
   "outputs": [],
   "source": [
    "def stochastic_gradient_descent(theta, X, y, learning_rate, max_iteration, gap):\n",
    "    cost = np.zeros(max_iteration)\n",
    "    for i in range(max_iteration) :\n",
    "        for j in range(X.shape[0]):\n",
    "            d_theta = gradient(theta, X, y) # [YOUR CODE HERE]\n",
    "            theta = theta - learning_rate * d_theta\n",
    "        cost[i] = loss(theta, X, y)\n",
    "        if i % gap == 0 :\n",
    "            print ('iteration : ', i, ' loss : ', loss(theta, X, y)) \n",
    "    return theta, cost"
   ]
  },
  {
   "cell_type": "markdown",
   "metadata": {
    "id": "uMIZFxUhwQZO"
   },
   "source": [
    "### Part 6: Train Model\n",
    "\n",
    "Now that we've implemented all the steps, we're ready to run the three different gradient descent functions.\n",
    "\n",
    "1. Run the code below and observe the convergence of the loss function."
   ]
  },
  {
   "cell_type": "code",
   "execution_count": 44,
   "metadata": {
    "id": "-0okDGSCwUC7"
   },
   "outputs": [
    {
     "ename": "ValueError",
     "evalue": "operands could not be broadcast together with shapes (1,2) (3,47) ",
     "output_type": "error",
     "traceback": [
      "\u001b[0;31m---------------------------------------------------------------------------\u001b[0m",
      "\u001b[0;31mValueError\u001b[0m                                Traceback (most recent call last)",
      "Input \u001b[0;32mIn [44]\u001b[0m, in \u001b[0;36m<module>\u001b[0;34m\u001b[0m\n\u001b[0;32m----> 1\u001b[0m theta, cost \u001b[38;5;241m=\u001b[39m \u001b[43mgradient_descent\u001b[49m\u001b[43m(\u001b[49m\u001b[43mtheta\u001b[49m\u001b[43m,\u001b[49m\u001b[43m \u001b[49m\u001b[43mX\u001b[49m\u001b[43m,\u001b[49m\u001b[43m \u001b[49m\u001b[43my\u001b[49m\u001b[43m,\u001b[49m\u001b[43m \u001b[49m\u001b[43mlearning_rate\u001b[49m\u001b[43m,\u001b[49m\u001b[43m \u001b[49m\u001b[43mmax_iteration\u001b[49m\u001b[43m,\u001b[49m\u001b[43m \u001b[49m\u001b[38;5;241;43m100\u001b[39;49m\u001b[43m)\u001b[49m\n",
      "Input \u001b[0;32mIn [29]\u001b[0m, in \u001b[0;36mgradient_descent\u001b[0;34m(theta, X, y, learning_rate, max_iteration, gap)\u001b[0m\n\u001b[1;32m      3\u001b[0m \u001b[38;5;28;01mfor\u001b[39;00m i \u001b[38;5;129;01min\u001b[39;00m \u001b[38;5;28mrange\u001b[39m(max_iteration):\n\u001b[1;32m      4\u001b[0m     d_theta \u001b[38;5;241m=\u001b[39m gradient(theta, X, y) \u001b[38;5;66;03m# [YOUR CODE HERE]\u001b[39;00m\n\u001b[0;32m----> 5\u001b[0m     theta \u001b[38;5;241m=\u001b[39m \u001b[43mtheta\u001b[49m\u001b[43m \u001b[49m\u001b[38;5;241;43m-\u001b[39;49m\u001b[43m \u001b[49m\u001b[43mlearning_rate\u001b[49m\u001b[43m \u001b[49m\u001b[38;5;241;43m*\u001b[39;49m\u001b[43m \u001b[49m\u001b[43md_theta\u001b[49m\n\u001b[1;32m      6\u001b[0m     cost[i] \u001b[38;5;241m=\u001b[39m loss(theta, X, y)\n\u001b[1;32m      7\u001b[0m     \u001b[38;5;28;01mif\u001b[39;00m i \u001b[38;5;241m%\u001b[39m gap \u001b[38;5;241m==\u001b[39m \u001b[38;5;241m0\u001b[39m:\n",
      "\u001b[0;31mValueError\u001b[0m: operands could not be broadcast together with shapes (1,2) (3,47) "
     ]
    }
   ],
   "source": [
    "theta, cost = gradient_descent(theta, X, y, learning_rate, max_iteration, 100)"
   ]
  },
  {
   "cell_type": "code",
   "execution_count": 58,
   "metadata": {},
   "outputs": [
    {
     "data": {
      "text/plain": [
       "array([[0., 0., 0., 0., 0., 0., 0., 0., 0., 0., 0., 0., 0., 0., 0., 0.,\n",
       "        0., 0., 0., 0., 0., 0., 0., 0., 0., 0., 0., 0., 0., 0., 0., 0.,\n",
       "        0., 0., 0., 0., 0., 0., 0., 0., 0., 0., 0., 0., 0., 0., 0.]])"
      ]
     },
     "execution_count": 58,
     "metadata": {},
     "output_type": "execute_result"
    }
   ],
   "source": [
    "np.dot(s_theta,X.T)"
   ]
  },
  {
   "cell_type": "code",
   "execution_count": null,
   "metadata": {
    "id": "YBJreRDKwtvI"
   },
   "outputs": [],
   "source": [
    "s_theta, s_cost = stochastic_gradient_descent(s_theta, X, y, s_learning_rate, s_max_iteration, 100)"
   ]
  },
  {
   "cell_type": "code",
   "execution_count": null,
   "metadata": {
    "id": "viSuvODWza-1"
   },
   "outputs": [],
   "source": [
    "mb_theta, mb_cost = minibatch_gradient_descent(mb_theta, X, y, mb_learning_rate, mb_max_iteration, batch_size, 100)"
   ]
  },
  {
   "cell_type": "markdown",
   "metadata": {
    "id": "MFp2MUlexVd5"
   },
   "source": [
    "#### Optimal values of Parameters using Trained Model\n",
    "\n",
    "Let's look at the optimal values found by each version of Gradient Descent.\n",
    "\n",
    "2. Compare the values for theta found by the three different versions of gradient descent."
   ]
  },
  {
   "cell_type": "code",
   "execution_count": null,
   "metadata": {
    "id": "tcMQWkuvwYu7"
   },
   "outputs": [],
   "source": [
    "theta"
   ]
  },
  {
   "cell_type": "code",
   "execution_count": null,
   "metadata": {
    "id": "Orub1Wgdx0yc"
   },
   "outputs": [],
   "source": [
    "s_theta"
   ]
  },
  {
   "cell_type": "code",
   "execution_count": null,
   "metadata": {
    "id": "TBrs3crW55Ka"
   },
   "outputs": [],
   "source": [
    "mb_theta"
   ]
  },
  {
   "cell_type": "markdown",
   "metadata": {
    "id": "Pi99RMws736c"
   },
   "source": [
    "#### Cost vs Iteration Plots\n",
    "\n",
    "We see that the final values are different, but let's see how the cost looks between the three versions by plotting the cost vs. number of iterations.\n",
    "\n",
    "3. Run the code to plot and take note of the convergence of the three versions of Gradient Descent."
   ]
  },
  {
   "cell_type": "code",
   "execution_count": null,
   "metadata": {
    "id": "SvzRaqIQ78Pl"
   },
   "outputs": [],
   "source": [
    "plt.figure(figsize=(10, 12))\n",
    "plt.plot(np.arange(max_iteration), cost, 'r')  \n",
    "plt.plot(np.arange(max_iteration), s_cost, 'b')  \n",
    "plt.plot(np.arange(max_iteration), mb_cost, 'g')  \n",
    "plt.legend(loc='upper right', labels=['batch gradient descent', 'stochastic gradient descent', 'mini-batch gradient descent'])\n",
    "plt.xlabel('Iterations')  \n",
    "plt.ylabel('Cost')  \n",
    "plt.title('Error vs. Training Epoch')  "
   ]
  },
  {
   "cell_type": "markdown",
   "metadata": {
    "id": "hhAbezOZZ2v-"
   },
   "source": [
    "4. Based on the losses and plots after 500 iterations through the dataset, which gradient descent method appears to yield the best predictions for this particular problem?"
   ]
  },
  {
   "cell_type": "markdown",
   "metadata": {
    "id": "CVUXQbvsZ2v-"
   },
   "source": [
    "*[YOUR ANSWER HERE]*"
   ]
  },
  {
   "cell_type": "markdown",
   "metadata": {
    "id": "Dh6PmQOwxcKk"
   },
   "source": [
    "#### Visualize the Data\n",
    "\n",
    "Our solution corresponds to a plane that splits the data. Let's go back to our original plot of the data and draw on the plane.\n",
    "\n",
    "5. Run the code below and look at the resulting graph."
   ]
  },
  {
   "cell_type": "code",
   "execution_count": null,
   "metadata": {
    "id": "B0h7MJE0xcKo"
   },
   "outputs": [],
   "source": [
    "fig = plt.figure(figsize=(8, 8))\n",
    "ax = plt.axes(projection='3d')\n",
    "\n",
    "xs = X[:, 0]\n",
    "ys = X[:, 1]\n",
    "zs = y\n",
    "ax.scatter(xs, ys, zs)\n",
    "\n",
    "ax.set_xlabel('Square footage')\n",
    "ax.set_ylabel('Number of bedrooms')\n",
    "ax.set_zlabel('Price')\n",
    "\n",
    "xp, yp = np.meshgrid(np.arange(0, 0.3, 0.05), np.arange(0, 0.3, 0.05))\n",
    "z = np.array([h(theta, np.array([[i, j]]))[0] for i, j in zip(np.ravel(xp), np.ravel(yp))])\n",
    "zp = z.reshape(xp.shape)\n",
    "\n",
    "ax.plot_surface(xp, yp, zp, alpha=0.7, color='orange')"
   ]
  },
  {
   "cell_type": "markdown",
   "metadata": {
    "id": "2LzbLDofZ2v_"
   },
   "source": [
    "6. Modify the code above to draw the plane for the result of the mini-batch gradient descent."
   ]
  },
  {
   "cell_type": "code",
   "execution_count": null,
   "metadata": {
    "id": "81P-V6wJZ2v_"
   },
   "outputs": [],
   "source": [
    "# [YOUR CODE HERE]"
   ]
  },
  {
   "cell_type": "markdown",
   "metadata": {
    "id": "TBShF4MbZ2v_"
   },
   "source": [
    "7. Modify the code above to draw the plane for the result of the stochastic gradient descent."
   ]
  },
  {
   "cell_type": "code",
   "execution_count": null,
   "metadata": {
    "id": "sLL09sZVZ2v_"
   },
   "outputs": [],
   "source": [
    "# [YOUR CODE HERE]"
   ]
  }
 ],
 "metadata": {
  "accelerator": "GPU",
  "colab": {
   "collapsed_sections": [],
   "name": "Week 1 Offline_MulitVariate Linear Regression with Housing Prices.ipynb",
   "provenance": []
  },
  "kernelspec": {
   "display_name": "Python 3 (ipykernel)",
   "language": "python",
   "name": "python3"
  },
  "language_info": {
   "codemirror_mode": {
    "name": "ipython",
    "version": 3
   },
   "file_extension": ".py",
   "mimetype": "text/x-python",
   "name": "python",
   "nbconvert_exporter": "python",
   "pygments_lexer": "ipython3",
   "version": "3.9.7"
  }
 },
 "nbformat": 4,
 "nbformat_minor": 4
}
